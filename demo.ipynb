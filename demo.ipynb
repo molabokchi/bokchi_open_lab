{
  "nbformat": 4,
  "nbformat_minor": 0,
  "metadata": {
    "colab": {
      "provenance": [],
      "include_colab_link": true
    },
    "kernelspec": {
      "name": "python3",
      "display_name": "Python 3"
    },
    "language_info": {
      "name": "python"
    }
  },
  "cells": [
    {
      "cell_type": "markdown",
      "metadata": {
        "id": "view-in-github",
        "colab_type": "text"
      },
      "source": [
        "<a href=\"https://colab.research.google.com/github/molabokchi/bokchi_open_lab/blob/main/demo.ipynb\" target=\"_parent\"><img src=\"https://colab.research.google.com/assets/colab-badge.svg\" alt=\"Open In Colab\"/></a>"
      ]
    },
    {
      "cell_type": "markdown",
      "source": [
        "# ![다운로드.png](data:image/png;base64,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) deepdriver quickstart!"
      ],
      "metadata": {
        "id": "ccBiuOu0rtin"
      }
    },
    {
      "cell_type": "markdown",
      "source": [
        "welecome to deepdriver! 😀"
      ],
      "metadata": {
        "id": "ZGV9WnWBrvb_"
      }
    },
    {
      "cell_type": "markdown",
      "source": [
        "You can refer to the guide document.\n",
        "https://bokchi.gitbook.io/deepdriver-ce/"
      ],
      "metadata": {
        "id": "RuepMN3Yyuu9"
      }
    },
    {
      "cell_type": "markdown",
      "source": [
        "# 0. 💻 install deepdriver & requirement package for train"
      ],
      "metadata": {
        "id": "HBGoGa3yQ1TO"
      }
    },
    {
      "cell_type": "code",
      "source": [
        "pip install deepdriver==0.0.49"
      ],
      "metadata": {
        "id": "ep81qe8Cs3oZ",
        "outputId": "e81673d5-8e97-46ea-88b3-adafc5bc6ece",
        "colab": {
          "base_uri": "https://localhost:8080/"
        }
      },
      "execution_count": 2,
      "outputs": [
        {
          "output_type": "stream",
          "name": "stdout",
          "text": [
            "Looking in indexes: https://pypi.org/simple, https://us-python.pkg.dev/colab-wheels/public/simple/\n",
            "Requirement already satisfied: deepdriver==0.0.49 in /usr/local/lib/python3.8/dist-packages (0.0.49)\n",
            "Requirement already satisfied: assertpy in /usr/local/lib/python3.8/dist-packages (from deepdriver==0.0.49) (1.1)\n",
            "Requirement already satisfied: grpcio-tools in /usr/local/lib/python3.8/dist-packages (from deepdriver==0.0.49) (1.51.1)\n",
            "Requirement already satisfied: pynvml in /usr/local/lib/python3.8/dist-packages (from deepdriver==0.0.49) (11.4.1)\n",
            "Requirement already satisfied: grpcio in /usr/local/lib/python3.8/dist-packages (from deepdriver==0.0.49) (1.51.1)\n",
            "Requirement already satisfied: pandas in /usr/local/lib/python3.8/dist-packages (from deepdriver==0.0.49) (1.3.5)\n",
            "Requirement already satisfied: Pillow in /usr/local/lib/python3.8/dist-packages (from deepdriver==0.0.49) (7.1.2)\n",
            "Requirement already satisfied: requests in /usr/local/lib/python3.8/dist-packages (from deepdriver==0.0.49) (2.23.0)\n",
            "Requirement already satisfied: wheel in /usr/local/lib/python3.8/dist-packages (from deepdriver==0.0.49) (0.38.4)\n",
            "Requirement already satisfied: plotly in /usr/local/lib/python3.8/dist-packages (from deepdriver==0.0.49) (5.5.0)\n",
            "Requirement already satisfied: numpy in /usr/local/lib/python3.8/dist-packages (from deepdriver==0.0.49) (1.21.6)\n",
            "Requirement already satisfied: psutil in /usr/local/lib/python3.8/dist-packages (from deepdriver==0.0.49) (5.4.8)\n",
            "Requirement already satisfied: setuptools in /usr/local/lib/python3.8/dist-packages (from grpcio-tools->deepdriver==0.0.49) (57.4.0)\n",
            "Collecting protobuf<5.0dev,>=4.21.6\n",
            "  Using cached protobuf-4.21.11-cp37-abi3-manylinux2014_x86_64.whl (409 kB)\n",
            "Requirement already satisfied: python-dateutil>=2.7.3 in /usr/local/lib/python3.8/dist-packages (from pandas->deepdriver==0.0.49) (2.8.2)\n",
            "Requirement already satisfied: pytz>=2017.3 in /usr/local/lib/python3.8/dist-packages (from pandas->deepdriver==0.0.49) (2022.6)\n",
            "Requirement already satisfied: six>=1.5 in /usr/local/lib/python3.8/dist-packages (from python-dateutil>=2.7.3->pandas->deepdriver==0.0.49) (1.15.0)\n",
            "Requirement already satisfied: tenacity>=6.2.0 in /usr/local/lib/python3.8/dist-packages (from plotly->deepdriver==0.0.49) (8.1.0)\n",
            "Requirement already satisfied: chardet<4,>=3.0.2 in /usr/local/lib/python3.8/dist-packages (from requests->deepdriver==0.0.49) (3.0.4)\n",
            "Requirement already satisfied: urllib3!=1.25.0,!=1.25.1,<1.26,>=1.21.1 in /usr/local/lib/python3.8/dist-packages (from requests->deepdriver==0.0.49) (1.24.3)\n",
            "Requirement already satisfied: idna<3,>=2.5 in /usr/local/lib/python3.8/dist-packages (from requests->deepdriver==0.0.49) (2.10)\n",
            "Requirement already satisfied: certifi>=2017.4.17 in /usr/local/lib/python3.8/dist-packages (from requests->deepdriver==0.0.49) (2022.9.24)\n",
            "Installing collected packages: protobuf\n",
            "  Attempting uninstall: protobuf\n",
            "    Found existing installation: protobuf 3.20.0\n",
            "    Uninstalling protobuf-3.20.0:\n",
            "      Successfully uninstalled protobuf-3.20.0\n",
            "\u001b[31mERROR: pip's dependency resolver does not currently take into account all the packages that are installed. This behaviour is the source of the following dependency conflicts.\n",
            "tensorflow 2.9.2 requires protobuf<3.20,>=3.9.2, but you have protobuf 4.21.11 which is incompatible.\n",
            "tensorflow-metadata 1.11.0 requires protobuf<4,>=3.13, but you have protobuf 4.21.11 which is incompatible.\n",
            "tensorboard 2.9.1 requires protobuf<3.20,>=3.9.2, but you have protobuf 4.21.11 which is incompatible.\u001b[0m\n",
            "Successfully installed protobuf-4.21.11\n"
          ]
        }
      ]
    },
    {
      "cell_type": "code",
      "source": [
        "pip install tensorflow"
      ],
      "metadata": {
        "id": "IQnFbnHdSWLN",
        "outputId": "08ff2a1e-b875-497e-853c-bf97520551d0",
        "colab": {
          "base_uri": "https://localhost:8080/"
        }
      },
      "execution_count": 1,
      "outputs": [
        {
          "output_type": "stream",
          "name": "stdout",
          "text": [
            "Looking in indexes: https://pypi.org/simple, https://us-python.pkg.dev/colab-wheels/public/simple/\n",
            "Requirement already satisfied: tensorflow in /usr/local/lib/python3.8/dist-packages (2.9.2)\n",
            "Requirement already satisfied: libclang>=13.0.0 in /usr/local/lib/python3.8/dist-packages (from tensorflow) (14.0.6)\n",
            "Requirement already satisfied: packaging in /usr/local/lib/python3.8/dist-packages (from tensorflow) (21.3)\n",
            "Requirement already satisfied: astunparse>=1.6.0 in /usr/local/lib/python3.8/dist-packages (from tensorflow) (1.6.3)\n",
            "Requirement already satisfied: absl-py>=1.0.0 in /usr/local/lib/python3.8/dist-packages (from tensorflow) (1.3.0)\n",
            "Requirement already satisfied: tensorflow-io-gcs-filesystem>=0.23.1 in /usr/local/lib/python3.8/dist-packages (from tensorflow) (0.28.0)\n",
            "Requirement already satisfied: h5py>=2.9.0 in /usr/local/lib/python3.8/dist-packages (from tensorflow) (3.1.0)\n",
            "Requirement already satisfied: numpy>=1.20 in /usr/local/lib/python3.8/dist-packages (from tensorflow) (1.21.6)\n",
            "Requirement already satisfied: keras<2.10.0,>=2.9.0rc0 in /usr/local/lib/python3.8/dist-packages (from tensorflow) (2.9.0)\n",
            "Requirement already satisfied: typing-extensions>=3.6.6 in /usr/local/lib/python3.8/dist-packages (from tensorflow) (4.4.0)\n",
            "Requirement already satisfied: gast<=0.4.0,>=0.2.1 in /usr/local/lib/python3.8/dist-packages (from tensorflow) (0.4.0)\n",
            "Requirement already satisfied: six>=1.12.0 in /usr/local/lib/python3.8/dist-packages (from tensorflow) (1.15.0)\n",
            "Requirement already satisfied: wrapt>=1.11.0 in /usr/local/lib/python3.8/dist-packages (from tensorflow) (1.14.1)\n",
            "Requirement already satisfied: tensorflow-estimator<2.10.0,>=2.9.0rc0 in /usr/local/lib/python3.8/dist-packages (from tensorflow) (2.9.0)\n",
            "Requirement already satisfied: flatbuffers<2,>=1.12 in /usr/local/lib/python3.8/dist-packages (from tensorflow) (1.12)\n",
            "Requirement already satisfied: keras-preprocessing>=1.1.1 in /usr/local/lib/python3.8/dist-packages (from tensorflow) (1.1.2)\n",
            "Requirement already satisfied: opt-einsum>=2.3.2 in /usr/local/lib/python3.8/dist-packages (from tensorflow) (3.3.0)\n",
            "Requirement already satisfied: grpcio<2.0,>=1.24.3 in /usr/local/lib/python3.8/dist-packages (from tensorflow) (1.51.1)\n",
            "Requirement already satisfied: setuptools in /usr/local/lib/python3.8/dist-packages (from tensorflow) (57.4.0)\n",
            "Requirement already satisfied: termcolor>=1.1.0 in /usr/local/lib/python3.8/dist-packages (from tensorflow) (2.1.1)\n",
            "Requirement already satisfied: tensorboard<2.10,>=2.9 in /usr/local/lib/python3.8/dist-packages (from tensorflow) (2.9.1)\n",
            "Requirement already satisfied: protobuf<3.20,>=3.9.2 in /usr/local/lib/python3.8/dist-packages (from tensorflow) (3.19.6)\n",
            "Requirement already satisfied: google-pasta>=0.1.1 in /usr/local/lib/python3.8/dist-packages (from tensorflow) (0.2.0)\n",
            "Requirement already satisfied: wheel<1.0,>=0.23.0 in /usr/local/lib/python3.8/dist-packages (from astunparse>=1.6.0->tensorflow) (0.38.4)\n",
            "Requirement already satisfied: tensorboard-plugin-wit>=1.6.0 in /usr/local/lib/python3.8/dist-packages (from tensorboard<2.10,>=2.9->tensorflow) (1.8.1)\n",
            "Requirement already satisfied: werkzeug>=1.0.1 in /usr/local/lib/python3.8/dist-packages (from tensorboard<2.10,>=2.9->tensorflow) (1.0.1)\n",
            "Requirement already satisfied: tensorboard-data-server<0.7.0,>=0.6.0 in /usr/local/lib/python3.8/dist-packages (from tensorboard<2.10,>=2.9->tensorflow) (0.6.1)\n",
            "Requirement already satisfied: requests<3,>=2.21.0 in /usr/local/lib/python3.8/dist-packages (from tensorboard<2.10,>=2.9->tensorflow) (2.23.0)\n",
            "Requirement already satisfied: markdown>=2.6.8 in /usr/local/lib/python3.8/dist-packages (from tensorboard<2.10,>=2.9->tensorflow) (3.4.1)\n",
            "Requirement already satisfied: google-auth-oauthlib<0.5,>=0.4.1 in /usr/local/lib/python3.8/dist-packages (from tensorboard<2.10,>=2.9->tensorflow) (0.4.6)\n",
            "Requirement already satisfied: google-auth<3,>=1.6.3 in /usr/local/lib/python3.8/dist-packages (from tensorboard<2.10,>=2.9->tensorflow) (2.15.0)\n",
            "Requirement already satisfied: rsa<5,>=3.1.4 in /usr/local/lib/python3.8/dist-packages (from google-auth<3,>=1.6.3->tensorboard<2.10,>=2.9->tensorflow) (4.9)\n",
            "Requirement already satisfied: cachetools<6.0,>=2.0.0 in /usr/local/lib/python3.8/dist-packages (from google-auth<3,>=1.6.3->tensorboard<2.10,>=2.9->tensorflow) (5.2.0)\n",
            "Requirement already satisfied: pyasn1-modules>=0.2.1 in /usr/local/lib/python3.8/dist-packages (from google-auth<3,>=1.6.3->tensorboard<2.10,>=2.9->tensorflow) (0.2.8)\n",
            "Requirement already satisfied: requests-oauthlib>=0.7.0 in /usr/local/lib/python3.8/dist-packages (from google-auth-oauthlib<0.5,>=0.4.1->tensorboard<2.10,>=2.9->tensorflow) (1.3.1)\n",
            "Requirement already satisfied: importlib-metadata>=4.4 in /usr/local/lib/python3.8/dist-packages (from markdown>=2.6.8->tensorboard<2.10,>=2.9->tensorflow) (4.13.0)\n",
            "Requirement already satisfied: zipp>=0.5 in /usr/local/lib/python3.8/dist-packages (from importlib-metadata>=4.4->markdown>=2.6.8->tensorboard<2.10,>=2.9->tensorflow) (3.11.0)\n",
            "Requirement already satisfied: pyasn1<0.5.0,>=0.4.6 in /usr/local/lib/python3.8/dist-packages (from pyasn1-modules>=0.2.1->google-auth<3,>=1.6.3->tensorboard<2.10,>=2.9->tensorflow) (0.4.8)\n",
            "Requirement already satisfied: chardet<4,>=3.0.2 in /usr/local/lib/python3.8/dist-packages (from requests<3,>=2.21.0->tensorboard<2.10,>=2.9->tensorflow) (3.0.4)\n",
            "Requirement already satisfied: urllib3!=1.25.0,!=1.25.1,<1.26,>=1.21.1 in /usr/local/lib/python3.8/dist-packages (from requests<3,>=2.21.0->tensorboard<2.10,>=2.9->tensorflow) (1.24.3)\n",
            "Requirement already satisfied: certifi>=2017.4.17 in /usr/local/lib/python3.8/dist-packages (from requests<3,>=2.21.0->tensorboard<2.10,>=2.9->tensorflow) (2022.9.24)\n",
            "Requirement already satisfied: idna<3,>=2.5 in /usr/local/lib/python3.8/dist-packages (from requests<3,>=2.21.0->tensorboard<2.10,>=2.9->tensorflow) (2.10)\n",
            "Requirement already satisfied: oauthlib>=3.0.0 in /usr/local/lib/python3.8/dist-packages (from requests-oauthlib>=0.7.0->google-auth-oauthlib<0.5,>=0.4.1->tensorboard<2.10,>=2.9->tensorflow) (3.2.2)\n",
            "Requirement already satisfied: pyparsing!=3.0.5,>=2.0.2 in /usr/local/lib/python3.8/dist-packages (from packaging->tensorflow) (3.0.9)\n"
          ]
        }
      ]
    },
    {
      "cell_type": "code",
      "source": [
        "pip install protobuf==3.20.0"
      ],
      "metadata": {
        "id": "zPlF7uZyT6LN",
        "outputId": "bb4dfa35-5ed9-4fd1-9c99-0253329dee20",
        "colab": {
          "base_uri": "https://localhost:8080/"
        }
      },
      "execution_count": 1,
      "outputs": [
        {
          "output_type": "stream",
          "name": "stdout",
          "text": [
            "Looking in indexes: https://pypi.org/simple, https://us-python.pkg.dev/colab-wheels/public/simple/\n",
            "Requirement already satisfied: protobuf==3.20.0 in /usr/local/lib/python3.8/dist-packages (3.20.0)\n"
          ]
        }
      ]
    },
    {
      "cell_type": "markdown",
      "source": [
        "#1. ➕ import deepdriver\n",
        "\n"
      ],
      "metadata": {
        "id": "XHyfUGRdRGJC"
      }
    },
    {
      "cell_type": "code",
      "source": [
        "import deepdriver"
      ],
      "metadata": {
        "id": "nMIZhc0aye6k"
      },
      "execution_count": 2,
      "outputs": []
    },
    {
      "cell_type": "markdown",
      "source": [
        "#2. ⚙ deepdriver server setting"
      ],
      "metadata": {
        "id": "FG0DGtb2VhXU"
      }
    },
    {
      "cell_type": "code",
      "source": [
        "deepdriver.setting(http_host=\"quick-experience.bokchi.com:9011\" ,grpc_host=\"quick-experience.bokchi.com:19051\")"
      ],
      "metadata": {
        "id": "XDfF___IVcC2"
      },
      "execution_count": 3,
      "outputs": []
    },
    {
      "cell_type": "markdown",
      "source": [
        "#3. 🔌 log in to deepdriver"
      ],
      "metadata": {
        "id": "36Y_KWmfRYwQ"
      }
    },
    {
      "cell_type": "code",
      "source": [
        "deepdriver.login(key=\"MGY2ZWY5NjY0NjE3YjVkODBhNGRkYjBkZDAzYzQ5MGMxMzVhZWRhNzkyYTdiNDI4ZGZmYjZmZDhmYzdkY2I3ZQ==\")"
      ],
      "metadata": {
        "id": "hF3GenoNsaBQ",
        "outputId": "c547659a-4b0c-43d4-a9a7-80868c312b1d",
        "colab": {
          "base_uri": "https://localhost:8080/"
        }
      },
      "execution_count": 4,
      "outputs": [
        {
          "output_type": "execute_result",
          "data": {
            "text/plain": [
              "True"
            ]
          },
          "metadata": {},
          "execution_count": 4
        }
      ]
    },
    {
      "cell_type": "markdown",
      "source": [
        "#4. 🥼 create experiment and run"
      ],
      "metadata": {
        "id": "gWafO8QnRpc1"
      }
    },
    {
      "cell_type": "code",
      "source": [
        "# experiment init & config hyperparam\n",
        "deepdriver.init(exp_name= \"exper_cat_dog_cnn\", \n",
        "                config={ 'architecture':\"CNN\", 'epoch': 100, 'batch_size': 32, 'hidden_layer':512})"
      ],
      "metadata": {
        "id": "z93NrRBUsvDm",
        "outputId": "0552fa77-3fb7-461a-c6f6-a16be6d1c45d",
        "colab": {
          "base_uri": "https://localhost:8080/"
        }
      },
      "execution_count": 5,
      "outputs": [
        {
          "output_type": "stream",
          "name": "stdout",
          "text": [
            "2022-12-14 04:50:17,064 INFO [deepdriver] [experiment.py:21] - DeepDriver initialized\n",
            "Team Name=molamola.babo\n",
            "Exp Name=exper_cat_dog_cnn\n",
            "Run Name=run-9\n",
            "Run URL=http://quick-experience.bokchi.com:9111/experi/molamola.babo/exper_cat_dog_cnn/run-9/run/chart\n"
          ]
        },
        {
          "output_type": "stream",
          "name": "stderr",
          "text": [
            "INFO:deepdriver:DeepDriver initialized\n",
            "Team Name=molamola.babo\n",
            "Exp Name=exper_cat_dog_cnn\n",
            "Run Name=run-9\n",
            "Run URL=http://quick-experience.bokchi.com:9111/experi/molamola.babo/exper_cat_dog_cnn/run-9/run/chart\n"
          ]
        },
        {
          "output_type": "execute_result",
          "data": {
            "text/plain": [
              "<deepdriver.sdk.data_types.run.Run at 0x7f4182237280>"
            ]
          },
          "metadata": {},
          "execution_count": 5
        }
      ]
    },
    {
      "cell_type": "markdown",
      "source": [
        "데이터 준비"
      ],
      "metadata": {
        "id": "bW1624UeFQS_"
      }
    },
    {
      "cell_type": "code",
      "source": [
        "!wget --no-check-certificate \\\n",
        "https://storage.googleapis.com/mledu-datasets/cats_and_dogs_filtered.zip \\\n",
        "-O /tmp/cats_and_dogs_filtered.zip"
      ],
      "metadata": {
        "colab": {
          "base_uri": "https://localhost:8080/"
        },
        "id": "1p64rEhWJI01",
        "outputId": "b5b4a736-f12b-48e1-f8b0-2938d7b06e25"
      },
      "execution_count": 6,
      "outputs": [
        {
          "output_type": "stream",
          "name": "stdout",
          "text": [
            "--2022-12-14 04:50:18--  https://storage.googleapis.com/mledu-datasets/cats_and_dogs_filtered.zip\n",
            "Resolving storage.googleapis.com (storage.googleapis.com)... 64.233.183.128, 173.194.193.128, 173.194.194.128, ...\n",
            "Connecting to storage.googleapis.com (storage.googleapis.com)|64.233.183.128|:443... connected.\n",
            "HTTP request sent, awaiting response... 200 OK\n",
            "Length: 68606236 (65M) [application/zip]\n",
            "Saving to: ‘/tmp/cats_and_dogs_filtered.zip’\n",
            "\n",
            "/tmp/cats_and_dogs_ 100%[===================>]  65.43M   123MB/s    in 0.5s    \n",
            "\n",
            "2022-12-14 04:50:19 (123 MB/s) - ‘/tmp/cats_and_dogs_filtered.zip’ saved [68606236/68606236]\n",
            "\n"
          ]
        }
      ]
    },
    {
      "cell_type": "code",
      "source": [
        "import os\n",
        "import zipfile\n",
        "\n",
        "train_dir = '/content/cat_dog3/'\n",
        "os.mkdir(train_dir)\n",
        "local_zip = '/tmp/cats_and_dogs_filtered.zip'\n",
        "data_dir ='/tmp/cats_and_dogs_filtered/train'\n",
        "data_doc_dir='/tmp/cats_and_dogs_filtered/train/dogs'\n",
        "data_cat_dir='/tmp/cats_and_dogs_filtered/train/cats'\n",
        "valid_dir ='/tmp/cats_and_dogs_filtered/validation'\n",
        "zip_ref = zipfile.ZipFile(local_zip, 'r')\n",
        "\n",
        "zip_ref.extractall('/tmp')\n",
        "zip_ref.close()"
      ],
      "metadata": {
        "id": "zhLshy2aFOtU"
      },
      "execution_count": 9,
      "outputs": []
    },
    {
      "cell_type": "code",
      "source": [
        "# train용 폴더 생성\n",
        "train_set_dir = os.path.join(train_dir, 'train_set')\n",
        "os.mkdir(train_set_dir)\n",
        "train_dog_dir = os.path.join(train_set_dir, 'dog')\n",
        "os.mkdir(train_dog_dir)\n",
        "train_cat_dir = os.path.join(train_set_dir, 'cat')\n",
        "os.mkdir(train_cat_dir)\n",
        "# valid용 폴더 생성\n",
        "valid_set_dir = os.path.join(train_dir, 'valid_set')\n",
        "os.mkdir(valid_set_dir)\n",
        "valid_dog_dir = os.path.join(valid_set_dir, 'dog')\n",
        "os.mkdir(valid_dog_dir)\n",
        "valid_cat_dir = os.path.join(valid_set_dir, 'cat')\n",
        "os.mkdir(valid_cat_dir)\n",
        "# test용 폴더 생성\n",
        "test_set_dir = os.path.join(train_dir, 'test_set')\n",
        "os.mkdir(test_set_dir)\n",
        "test_dog_dir = os.path.join(test_set_dir, 'dog')\n",
        "os.mkdir(test_dog_dir)\n",
        "test_cat_dir = os.path.join(test_set_dir, 'cat')\n",
        "os.mkdir(test_cat_dir)"
      ],
      "metadata": {
        "id": "v2zaZn9DJXgL"
      },
      "execution_count": 10,
      "outputs": []
    },
    {
      "cell_type": "code",
      "source": [
        "# image file name list 생성\n",
        "import shutil\n",
        "total_data_count =150\n",
        "train_data_count =100\n",
        "test_data_count = 30\n",
        "valid_data_count =20\n",
        "dog_files = [f'dog.{i}.jpg' for i in range(total_data_count)]\n",
        "cat_files = [f'cat.{i}.jpg' for i in range(total_data_count)]\n",
        "\n",
        " \n",
        "# 각 폴더로 image 이동\n",
        "for file in dog_files[:train_data_count]:\n",
        "    src = os.path.join(data_doc_dir, file)\n",
        "    dst = os.path.join(train_dog_dir, file)\n",
        "    shutil.move(src, dst)\n",
        "    \n",
        "for file in dog_files[train_data_count:train_data_count+test_data_count]:\n",
        "    src = os.path.join(data_doc_dir, file)\n",
        "    dst = os.path.join(valid_dog_dir, file)\n",
        "    shutil.move(src, dst)\n",
        " \n",
        "for file in dog_files[train_data_count+test_data_count:total_data_count]:\n",
        "    src = os.path.join(data_doc_dir, file)\n",
        "    dst = os.path.join(test_dog_dir, file)\n",
        "    shutil.move(src, dst)\n",
        " \n",
        "for file in cat_files[:train_data_count]:\n",
        "    src = os.path.join(data_cat_dir, file)\n",
        "    dst = os.path.join(train_cat_dir, file)\n",
        "    shutil.move(src, dst)\n",
        "    \n",
        "for file in cat_files[train_data_count:train_data_count+test_data_count]:\n",
        "    src = os.path.join(data_cat_dir, file)\n",
        "    dst = os.path.join(valid_cat_dir, file)\n",
        "    shutil.move(src, dst)\n",
        " \n",
        "for file in cat_files[train_data_count+test_data_count:total_data_count]:\n",
        "    src = os.path.join(data_cat_dir, file)\n",
        "    dst = os.path.join(test_cat_dir, file)\n",
        "    shutil.move(src, dst)"
      ],
      "metadata": {
        "id": "jtZQt0odOq_U"
      },
      "execution_count": 11,
      "outputs": []
    },
    {
      "cell_type": "code",
      "source": [
        "train_cat_fnames = os.listdir( train_cat_dir )\n",
        "train_dog_fnames = os.listdir( train_dog_dir )"
      ],
      "metadata": {
        "id": "zwuVLt8dRf4q"
      },
      "execution_count": 12,
      "outputs": []
    },
    {
      "cell_type": "code",
      "source": [
        "print('Total training cat images :', len(os.listdir(train_cat_dir)))\n",
        "print('Total training dog images :', len(os.listdir(train_dog_dir)))\n",
        "\n",
        "print('Total validation cat images :', len(os.listdir(valid_cat_dir)))\n",
        "print('Total validation dog images :', len(os.listdir(valid_dog_dir)))\n",
        "\n",
        "\n",
        "print('Total test cat images :', len(os.listdir(test_cat_dir)))\n",
        "print('Total test dog images :', len(os.listdir(test_dog_dir)))"
      ],
      "metadata": {
        "id": "cWtzjLavRlLj",
        "outputId": "10430035-dfe7-4c28-a8b3-6a18033a398b",
        "colab": {
          "base_uri": "https://localhost:8080/"
        }
      },
      "execution_count": 13,
      "outputs": [
        {
          "output_type": "stream",
          "name": "stdout",
          "text": [
            "Total training cat images : 100\n",
            "Total training dog images : 100\n",
            "Total validation cat images : 30\n",
            "Total validation dog images : 30\n",
            "Total test cat images : 20\n",
            "Total test dog images : 20\n"
          ]
        }
      ]
    },
    {
      "cell_type": "code",
      "source": [
        "import tensorflow as tf"
      ],
      "metadata": {
        "id": "9fVTjaYjSDHd"
      },
      "execution_count": 14,
      "outputs": []
    },
    {
      "cell_type": "code",
      "source": [
        "import tensorflow as tf\n",
        "\n",
        "\n",
        "model = tf.keras.models.Sequential([\n",
        "  tf.keras.layers.Conv2D(16, (3,3), activation='relu', input_shape=(150, 150, 3)),\n",
        "  tf.keras.layers.MaxPooling2D(2,2),\n",
        "  tf.keras.layers.Conv2D(32, (3,3), activation='relu'),\n",
        "  tf.keras.layers.MaxPooling2D(2,2),\n",
        "  tf.keras.layers.Conv2D(64, (3,3), activation='relu'),\n",
        "  tf.keras.layers.MaxPooling2D(2,2),\n",
        "  tf.keras.layers.Flatten(),\n",
        "  tf.keras.layers.Dense(deepdriver.config.hidden_layer, activation='relu'),\n",
        "  tf.keras.layers.Dense(1, activation='sigmoid')\n",
        "])\n",
        "\n",
        "model.summary()"
      ],
      "metadata": {
        "id": "qga-dT4iRyR6",
        "outputId": "c0f379a4-2d87-456a-eb3a-2e9026ea6f88",
        "colab": {
          "base_uri": "https://localhost:8080/"
        }
      },
      "execution_count": 15,
      "outputs": [
        {
          "output_type": "stream",
          "name": "stdout",
          "text": [
            "Model: \"sequential\"\n",
            "_________________________________________________________________\n",
            " Layer (type)                Output Shape              Param #   \n",
            "=================================================================\n",
            " conv2d (Conv2D)             (None, 148, 148, 16)      448       \n",
            "                                                                 \n",
            " max_pooling2d (MaxPooling2D  (None, 74, 74, 16)       0         \n",
            " )                                                               \n",
            "                                                                 \n",
            " conv2d_1 (Conv2D)           (None, 72, 72, 32)        4640      \n",
            "                                                                 \n",
            " max_pooling2d_1 (MaxPooling  (None, 36, 36, 32)       0         \n",
            " 2D)                                                             \n",
            "                                                                 \n",
            " conv2d_2 (Conv2D)           (None, 34, 34, 64)        18496     \n",
            "                                                                 \n",
            " max_pooling2d_2 (MaxPooling  (None, 17, 17, 64)       0         \n",
            " 2D)                                                             \n",
            "                                                                 \n",
            " flatten (Flatten)           (None, 18496)             0         \n",
            "                                                                 \n",
            " dense (Dense)               (None, 512)               9470464   \n",
            "                                                                 \n",
            " dense_1 (Dense)             (None, 1)                 513       \n",
            "                                                                 \n",
            "=================================================================\n",
            "Total params: 9,494,561\n",
            "Trainable params: 9,494,561\n",
            "Non-trainable params: 0\n",
            "_________________________________________________________________\n"
          ]
        }
      ]
    },
    {
      "cell_type": "code",
      "source": [
        "deepdriver.config.learning_rate=0.001"
      ],
      "metadata": {
        "id": "KD4w6J7KU2sC"
      },
      "execution_count": 16,
      "outputs": []
    },
    {
      "cell_type": "code",
      "source": [
        "deepdriver.config.update()"
      ],
      "metadata": {
        "id": "ky8vNs2nU6HV",
        "outputId": "21f62312-dc25-478c-e018-61770d8b859f",
        "colab": {
          "base_uri": "https://localhost:8080/"
        }
      },
      "execution_count": 17,
      "outputs": [
        {
          "output_type": "execute_result",
          "data": {
            "text/plain": [
              "True"
            ]
          },
          "metadata": {},
          "execution_count": 17
        }
      ]
    },
    {
      "cell_type": "code",
      "source": [
        "from tensorflow.keras.optimizers import RMSprop\n",
        "\n",
        "model.compile(optimizer=RMSprop(lr=deepdriver.config.learning_rate),\n",
        "            loss='binary_crossentropy',\n",
        "            metrics = ['accuracy'])"
      ],
      "metadata": {
        "id": "dHinKbNnRyUv",
        "outputId": "dd33a230-f3bf-4236-94c0-e5ced6c23fc0",
        "colab": {
          "base_uri": "https://localhost:8080/"
        }
      },
      "execution_count": 18,
      "outputs": [
        {
          "output_type": "stream",
          "name": "stderr",
          "text": [
            "/usr/local/lib/python3.8/dist-packages/keras/optimizers/optimizer_v2/rmsprop.py:135: UserWarning: The `lr` argument is deprecated, use `learning_rate` instead.\n",
            "  super(RMSprop, self).__init__(name, **kwargs)\n"
          ]
        }
      ]
    },
    {
      "cell_type": "code",
      "source": [
        "from tensorflow.keras.preprocessing.image import ImageDataGenerator\n",
        "\n",
        "\n",
        "train_datagen = ImageDataGenerator( rescale = 1.0/255. )\n",
        "test_datagen  = ImageDataGenerator( rescale = 1.0/255. )\n",
        "valid_datagen  = ImageDataGenerator( rescale = 1.0/255. )\n",
        "\n",
        "train_generator = train_datagen.flow_from_directory(train_set_dir,\n",
        "                                                  batch_size=deepdriver.config.batch_size,\n",
        "                                                  class_mode='binary',\n",
        "                                                  target_size=(150, 150))\n",
        "validation_generator =  valid_datagen.flow_from_directory(valid_set_dir,\n",
        "                                                       batch_size=deepdriver.config.batch_size,\n",
        "                                                       class_mode  = 'binary',\n",
        "                                                       target_size = (150, 150))\n",
        "\n",
        "test_generator =  test_datagen.flow_from_directory(test_set_dir,\n",
        "                                                       batch_size=deepdriver.config.batch_size,\n",
        "                                                       class_mode  = 'binary',\n",
        "                                                       target_size = (150, 150))"
      ],
      "metadata": {
        "id": "G3x9kB6MVClP",
        "outputId": "7b11eb9a-c011-4551-a472-8fa167b8d3aa",
        "colab": {
          "base_uri": "https://localhost:8080/"
        }
      },
      "execution_count": 19,
      "outputs": [
        {
          "output_type": "stream",
          "name": "stdout",
          "text": [
            "Found 200 images belonging to 2 classes.\n",
            "Found 60 images belonging to 2 classes.\n",
            "Found 40 images belonging to 2 classes.\n"
          ]
        }
      ]
    },
    {
      "cell_type": "code",
      "source": [
        "class CustomCallback(tf.keras.callbacks.Callback):\n",
        "    def on_train_begin(self, logs=None):\n",
        "        keys = list(logs.keys())\n",
        "        print(\"Starting training; got log keys: {}\".format(keys))\n",
        "\n",
        "    def on_train_end(self, logs=None):\n",
        "        keys = list(logs.keys())\n",
        "        print(\"Stop training; got log keys: {}\".format(keys))\n",
        "\n",
        "    def on_epoch_begin(self, epoch, logs=None):\n",
        "        keys = list(logs.keys())\n",
        "        print(\"Start epoch {} of training; got log keys: {}\".format(epoch, keys))\n",
        "\n",
        "    def on_epoch_end(self, epoch, logs=None):\n",
        "        keys = list(logs.keys())\n",
        "        print(logs.get(\"acc\"))\n",
        "        print(\"End epoch {} of training; got log keys: {}\".format(epoch, keys))\n",
        "\n",
        "    def on_test_begin(self, logs=None):\n",
        "        keys = list(logs.keys())\n",
        "        print(\"Start testing; got log keys: {}\".format(keys))\n",
        "\n",
        "    def on_test_end(self, logs=None):\n",
        "        keys = list(logs.keys())\n",
        "        print(\"Stop testing; got log keys: {}\".format(keys))\n",
        "\n",
        "    def on_predict_begin(self, logs=None):\n",
        "        keys = list(logs.keys())\n",
        "        print(\"Start predicting; got log keys: {}\".format(keys))\n",
        "\n",
        "    def on_predict_end(self, logs=None):\n",
        "        keys = list(logs.keys())\n",
        "        print(\"Stop predicting; got log keys: {}\".format(keys))\n",
        "\n",
        "    def on_train_batch_begin(self, batch, logs=None):\n",
        "        keys = list(logs.keys())\n",
        "        print(\"...Training: start of batch {}; got log keys: {}\".format(batch, keys))\n",
        "\n",
        "    def on_train_batch_end(self, batch, logs=None):\n",
        "        keys = list(logs.keys())\n",
        "        print(\"...Training: end of batch {}; got log keys: {}\".format(batch, keys))\n",
        "\n",
        "    def on_test_batch_begin(self, batch, logs=None):\n",
        "        keys = list(logs.keys())\n",
        "        print(\"...Evaluating: start of batch {}; got log keys: {}\".format(batch, keys))\n",
        "\n",
        "    def on_test_batch_end(self, batch, logs=None):\n",
        "        keys = list(logs.keys())\n",
        "        print(\"...Evaluating: end of batch {}; got log keys: {}\".format(batch, keys))\n",
        "\n",
        "    def on_predict_batch_begin(self, batch, logs=None):\n",
        "        keys = list(logs.keys())\n",
        "        print(\"...Predicting: start of batch {}; got log keys: {}\".format(batch, keys))\n",
        "\n",
        "    def on_predict_batch_end(self, batch, logs=None):\n",
        "        keys = list(logs.keys())\n",
        "        print(\"...Predicting: end of batch {}; got log keys: {}\".format(batch, keys))"
      ],
      "metadata": {
        "id": "O9oUAVd0X8qS"
      },
      "execution_count": 24,
      "outputs": []
    },
    {
      "cell_type": "code",
      "source": [
        "steps_per_epoch = train_generator.n//deepdriver.config.batch_size"
      ],
      "metadata": {
        "id": "2zXQzAUUZP1C"
      },
      "execution_count": 25,
      "outputs": []
    },
    {
      "cell_type": "code",
      "source": [
        "validation_steps = validation_generator.n//deepdriver.config.batch_size"
      ],
      "metadata": {
        "id": "rI4UVyABZQcy"
      },
      "execution_count": 26,
      "outputs": []
    },
    {
      "cell_type": "code",
      "source": [
        "history = model.fit(train_generator,\n",
        "                    validation_data=validation_generator,\n",
        "                    steps_per_epoch=steps_per_epoch,\n",
        "                    epochs=deepdriver.config.epoch,\n",
        "                    validation_steps=validation_steps ,\n",
        "                    callbacks=[CustomCallback()],\n",
        "                    verbose=2)"
      ],
      "metadata": {
        "id": "MF8hsCeJXcIt",
        "outputId": "7d3de06e-5989-471c-ac9a-966ae68fb3e5",
        "colab": {
          "base_uri": "https://localhost:8080/",
          "height": 1000
        }
      },
      "execution_count": 27,
      "outputs": [
        {
          "output_type": "stream",
          "name": "stdout",
          "text": [
            "Starting training; got log keys: []\n",
            "Start epoch 0 of training; got log keys: []\n",
            "Epoch 1/100\n",
            "...Training: start of batch 0; got log keys: []\n",
            "...Training: end of batch 0; got log keys: ['loss', 'accuracy']\n",
            "...Training: start of batch 1; got log keys: []\n",
            "...Training: end of batch 1; got log keys: ['loss', 'accuracy']\n",
            "...Training: start of batch 2; got log keys: []\n",
            "...Training: end of batch 2; got log keys: ['loss', 'accuracy']\n",
            "...Training: start of batch 3; got log keys: []\n",
            "...Training: end of batch 3; got log keys: ['loss', 'accuracy']\n",
            "...Training: start of batch 4; got log keys: []\n",
            "...Training: end of batch 4; got log keys: ['loss', 'accuracy']\n",
            "...Training: start of batch 5; got log keys: []\n",
            "...Training: end of batch 5; got log keys: ['loss', 'accuracy']\n",
            "Start testing; got log keys: []\n",
            "...Evaluating: start of batch 0; got log keys: []\n",
            "...Evaluating: end of batch 0; got log keys: ['loss', 'accuracy']\n",
            "Stop testing; got log keys: ['loss', 'accuracy']\n",
            "None\n",
            "End epoch 0 of training; got log keys: ['loss', 'accuracy', 'val_loss', 'val_accuracy']\n",
            "6/6 - 5s - loss: 0.7276 - accuracy: 0.5357 - val_loss: 0.7569 - val_accuracy: 0.4688 - 5s/epoch - 843ms/step\n",
            "Start epoch 1 of training; got log keys: []\n",
            "Epoch 2/100\n",
            "...Training: start of batch 0; got log keys: []\n",
            "...Training: end of batch 0; got log keys: ['loss', 'accuracy']\n",
            "...Training: start of batch 1; got log keys: []\n",
            "...Training: end of batch 1; got log keys: ['loss', 'accuracy']\n",
            "...Training: start of batch 2; got log keys: []\n",
            "...Training: end of batch 2; got log keys: ['loss', 'accuracy']\n",
            "...Training: start of batch 3; got log keys: []\n",
            "...Training: end of batch 3; got log keys: ['loss', 'accuracy']\n",
            "...Training: start of batch 4; got log keys: []\n",
            "...Training: end of batch 4; got log keys: ['loss', 'accuracy']\n",
            "...Training: start of batch 5; got log keys: []\n",
            "...Training: end of batch 5; got log keys: ['loss', 'accuracy']\n",
            "Start testing; got log keys: []\n",
            "...Evaluating: start of batch 0; got log keys: []\n",
            "...Evaluating: end of batch 0; got log keys: ['loss', 'accuracy']\n",
            "Stop testing; got log keys: ['loss', 'accuracy']\n",
            "None\n",
            "End epoch 1 of training; got log keys: ['loss', 'accuracy', 'val_loss', 'val_accuracy']\n",
            "6/6 - 5s - loss: 0.6739 - accuracy: 0.5774 - val_loss: 0.8739 - val_accuracy: 0.5000 - 5s/epoch - 807ms/step\n",
            "Start epoch 2 of training; got log keys: []\n",
            "Epoch 3/100\n",
            "...Training: start of batch 0; got log keys: []\n",
            "...Training: end of batch 0; got log keys: ['loss', 'accuracy']\n",
            "...Training: start of batch 1; got log keys: []\n",
            "...Training: end of batch 1; got log keys: ['loss', 'accuracy']\n",
            "...Training: start of batch 2; got log keys: []\n",
            "...Training: end of batch 2; got log keys: ['loss', 'accuracy']\n",
            "...Training: start of batch 3; got log keys: []\n",
            "...Training: end of batch 3; got log keys: ['loss', 'accuracy']\n",
            "...Training: start of batch 4; got log keys: []\n",
            "...Training: end of batch 4; got log keys: ['loss', 'accuracy']\n",
            "...Training: start of batch 5; got log keys: []\n",
            "...Training: end of batch 5; got log keys: ['loss', 'accuracy']\n",
            "Start testing; got log keys: []\n",
            "...Evaluating: start of batch 0; got log keys: []\n",
            "...Evaluating: end of batch 0; got log keys: ['loss', 'accuracy']\n",
            "Stop testing; got log keys: ['loss', 'accuracy']\n",
            "None\n",
            "End epoch 2 of training; got log keys: ['loss', 'accuracy', 'val_loss', 'val_accuracy']\n",
            "6/6 - 5s - loss: 0.5992 - accuracy: 0.6823 - val_loss: 1.1111 - val_accuracy: 0.4688 - 5s/epoch - 882ms/step\n",
            "Start epoch 3 of training; got log keys: []\n",
            "Epoch 4/100\n",
            "...Training: start of batch 0; got log keys: []\n",
            "...Training: end of batch 0; got log keys: ['loss', 'accuracy']\n",
            "...Training: start of batch 1; got log keys: []\n",
            "...Training: end of batch 1; got log keys: ['loss', 'accuracy']\n",
            "...Training: start of batch 2; got log keys: []\n",
            "...Training: end of batch 2; got log keys: ['loss', 'accuracy']\n",
            "...Training: start of batch 3; got log keys: []\n",
            "...Training: end of batch 3; got log keys: ['loss', 'accuracy']\n",
            "...Training: start of batch 4; got log keys: []\n",
            "...Training: end of batch 4; got log keys: ['loss', 'accuracy']\n",
            "...Training: start of batch 5; got log keys: []\n",
            "...Training: end of batch 5; got log keys: ['loss', 'accuracy']\n",
            "Start testing; got log keys: []\n",
            "...Evaluating: start of batch 0; got log keys: []\n",
            "...Evaluating: end of batch 0; got log keys: ['loss', 'accuracy']\n",
            "Stop testing; got log keys: ['loss', 'accuracy']\n",
            "None\n",
            "End epoch 3 of training; got log keys: ['loss', 'accuracy', 'val_loss', 'val_accuracy']\n",
            "6/6 - 5s - loss: 0.5979 - accuracy: 0.6964 - val_loss: 0.7327 - val_accuracy: 0.5625 - 5s/epoch - 800ms/step\n",
            "Start epoch 4 of training; got log keys: []\n",
            "Epoch 5/100\n",
            "...Training: start of batch 0; got log keys: []\n",
            "...Training: end of batch 0; got log keys: ['loss', 'accuracy']\n",
            "...Training: start of batch 1; got log keys: []\n",
            "...Training: end of batch 1; got log keys: ['loss', 'accuracy']\n",
            "...Training: start of batch 2; got log keys: []\n",
            "...Training: end of batch 2; got log keys: ['loss', 'accuracy']\n",
            "...Training: start of batch 3; got log keys: []\n",
            "...Training: end of batch 3; got log keys: ['loss', 'accuracy']\n",
            "...Training: start of batch 4; got log keys: []\n",
            "...Training: end of batch 4; got log keys: ['loss', 'accuracy']\n",
            "...Training: start of batch 5; got log keys: []\n",
            "...Training: end of batch 5; got log keys: ['loss', 'accuracy']\n",
            "Start testing; got log keys: []\n",
            "...Evaluating: start of batch 0; got log keys: []\n",
            "...Evaluating: end of batch 0; got log keys: ['loss', 'accuracy']\n",
            "Stop testing; got log keys: ['loss', 'accuracy']\n",
            "None\n",
            "End epoch 4 of training; got log keys: ['loss', 'accuracy', 'val_loss', 'val_accuracy']\n",
            "6/6 - 5s - loss: 0.5480 - accuracy: 0.7024 - val_loss: 0.7222 - val_accuracy: 0.5000 - 5s/epoch - 802ms/step\n",
            "Start epoch 5 of training; got log keys: []\n",
            "Epoch 6/100\n",
            "...Training: start of batch 0; got log keys: []\n",
            "...Training: end of batch 0; got log keys: ['loss', 'accuracy']\n",
            "...Training: start of batch 1; got log keys: []\n",
            "...Training: end of batch 1; got log keys: ['loss', 'accuracy']\n",
            "...Training: start of batch 2; got log keys: []\n",
            "...Training: end of batch 2; got log keys: ['loss', 'accuracy']\n",
            "...Training: start of batch 3; got log keys: []\n",
            "...Training: end of batch 3; got log keys: ['loss', 'accuracy']\n",
            "...Training: start of batch 4; got log keys: []\n",
            "...Training: end of batch 4; got log keys: ['loss', 'accuracy']\n",
            "...Training: start of batch 5; got log keys: []\n",
            "...Training: end of batch 5; got log keys: ['loss', 'accuracy']\n",
            "Start testing; got log keys: []\n",
            "...Evaluating: start of batch 0; got log keys: []\n",
            "...Evaluating: end of batch 0; got log keys: ['loss', 'accuracy']\n",
            "Stop testing; got log keys: ['loss', 'accuracy']\n",
            "None\n",
            "End epoch 5 of training; got log keys: ['loss', 'accuracy', 'val_loss', 'val_accuracy']\n",
            "6/6 - 5s - loss: 0.4424 - accuracy: 0.8274 - val_loss: 0.7608 - val_accuracy: 0.6250 - 5s/epoch - 810ms/step\n",
            "Start epoch 6 of training; got log keys: []\n",
            "Epoch 7/100\n",
            "...Training: start of batch 0; got log keys: []\n",
            "...Training: end of batch 0; got log keys: ['loss', 'accuracy']\n",
            "...Training: start of batch 1; got log keys: []\n",
            "...Training: end of batch 1; got log keys: ['loss', 'accuracy']\n",
            "...Training: start of batch 2; got log keys: []\n",
            "...Training: end of batch 2; got log keys: ['loss', 'accuracy']\n",
            "...Training: start of batch 3; got log keys: []\n",
            "...Training: end of batch 3; got log keys: ['loss', 'accuracy']\n",
            "...Training: start of batch 4; got log keys: []\n",
            "...Training: end of batch 4; got log keys: ['loss', 'accuracy']\n",
            "...Training: start of batch 5; got log keys: []\n",
            "...Training: end of batch 5; got log keys: ['loss', 'accuracy']\n",
            "Start testing; got log keys: []\n",
            "...Evaluating: start of batch 0; got log keys: []\n",
            "...Evaluating: end of batch 0; got log keys: ['loss', 'accuracy']\n",
            "Stop testing; got log keys: ['loss', 'accuracy']\n",
            "None\n",
            "End epoch 6 of training; got log keys: ['loss', 'accuracy', 'val_loss', 'val_accuracy']\n",
            "6/6 - 5s - loss: 0.8394 - accuracy: 0.7500 - val_loss: 0.6562 - val_accuracy: 0.6562 - 5s/epoch - 806ms/step\n",
            "Start epoch 7 of training; got log keys: []\n",
            "Epoch 8/100\n",
            "...Training: start of batch 0; got log keys: []\n",
            "...Training: end of batch 0; got log keys: ['loss', 'accuracy']\n",
            "...Training: start of batch 1; got log keys: []\n",
            "...Training: end of batch 1; got log keys: ['loss', 'accuracy']\n",
            "...Training: start of batch 2; got log keys: []\n",
            "...Training: end of batch 2; got log keys: ['loss', 'accuracy']\n",
            "...Training: start of batch 3; got log keys: []\n",
            "...Training: end of batch 3; got log keys: ['loss', 'accuracy']\n",
            "...Training: start of batch 4; got log keys: []\n",
            "...Training: end of batch 4; got log keys: ['loss', 'accuracy']\n",
            "...Training: start of batch 5; got log keys: []\n",
            "...Training: end of batch 5; got log keys: ['loss', 'accuracy']\n",
            "Start testing; got log keys: []\n",
            "...Evaluating: start of batch 0; got log keys: []\n",
            "...Evaluating: end of batch 0; got log keys: ['loss', 'accuracy']\n",
            "Stop testing; got log keys: ['loss', 'accuracy']\n",
            "None\n",
            "End epoch 7 of training; got log keys: ['loss', 'accuracy', 'val_loss', 'val_accuracy']\n",
            "6/6 - 5s - loss: 0.3782 - accuracy: 0.8750 - val_loss: 1.0462 - val_accuracy: 0.4688 - 5s/epoch - 884ms/step\n",
            "Start epoch 8 of training; got log keys: []\n",
            "Epoch 9/100\n",
            "...Training: start of batch 0; got log keys: []\n",
            "...Training: end of batch 0; got log keys: ['loss', 'accuracy']\n",
            "...Training: start of batch 1; got log keys: []\n",
            "...Training: end of batch 1; got log keys: ['loss', 'accuracy']\n",
            "...Training: start of batch 2; got log keys: []\n",
            "...Training: end of batch 2; got log keys: ['loss', 'accuracy']\n",
            "...Training: start of batch 3; got log keys: []\n",
            "...Training: end of batch 3; got log keys: ['loss', 'accuracy']\n",
            "...Training: start of batch 4; got log keys: []\n",
            "...Training: end of batch 4; got log keys: ['loss', 'accuracy']\n",
            "...Training: start of batch 5; got log keys: []\n",
            "...Training: end of batch 5; got log keys: ['loss', 'accuracy']\n",
            "Start testing; got log keys: []\n",
            "...Evaluating: start of batch 0; got log keys: []\n",
            "...Evaluating: end of batch 0; got log keys: ['loss', 'accuracy']\n",
            "Stop testing; got log keys: ['loss', 'accuracy']\n",
            "None\n",
            "End epoch 8 of training; got log keys: ['loss', 'accuracy', 'val_loss', 'val_accuracy']\n",
            "6/6 - 5s - loss: 0.2935 - accuracy: 0.9062 - val_loss: 1.2447 - val_accuracy: 0.4688 - 5s/epoch - 883ms/step\n",
            "Start epoch 9 of training; got log keys: []\n",
            "Epoch 10/100\n",
            "...Training: start of batch 0; got log keys: []\n",
            "...Training: end of batch 0; got log keys: ['loss', 'accuracy']\n",
            "...Training: start of batch 1; got log keys: []\n",
            "...Training: end of batch 1; got log keys: ['loss', 'accuracy']\n",
            "...Training: start of batch 2; got log keys: []\n",
            "...Training: end of batch 2; got log keys: ['loss', 'accuracy']\n",
            "...Training: start of batch 3; got log keys: []\n",
            "...Training: end of batch 3; got log keys: ['loss', 'accuracy']\n",
            "...Training: start of batch 4; got log keys: []\n",
            "...Training: end of batch 4; got log keys: ['loss', 'accuracy']\n",
            "...Training: start of batch 5; got log keys: []\n",
            "...Training: end of batch 5; got log keys: ['loss', 'accuracy']\n",
            "Start testing; got log keys: []\n",
            "...Evaluating: start of batch 0; got log keys: []\n",
            "...Evaluating: end of batch 0; got log keys: ['loss', 'accuracy']\n",
            "Stop testing; got log keys: ['loss', 'accuracy']\n",
            "None\n",
            "End epoch 9 of training; got log keys: ['loss', 'accuracy', 'val_loss', 'val_accuracy']\n",
            "6/6 - 5s - loss: 0.3927 - accuracy: 0.7738 - val_loss: 0.8971 - val_accuracy: 0.5312 - 5s/epoch - 809ms/step\n",
            "Start epoch 10 of training; got log keys: []\n",
            "Epoch 11/100\n",
            "...Training: start of batch 0; got log keys: []\n",
            "...Training: end of batch 0; got log keys: ['loss', 'accuracy']\n",
            "...Training: start of batch 1; got log keys: []\n",
            "...Training: end of batch 1; got log keys: ['loss', 'accuracy']\n",
            "...Training: start of batch 2; got log keys: []\n",
            "...Training: end of batch 2; got log keys: ['loss', 'accuracy']\n",
            "...Training: start of batch 3; got log keys: []\n",
            "...Training: end of batch 3; got log keys: ['loss', 'accuracy']\n",
            "...Training: start of batch 4; got log keys: []\n",
            "...Training: end of batch 4; got log keys: ['loss', 'accuracy']\n",
            "...Training: start of batch 5; got log keys: []\n",
            "...Training: end of batch 5; got log keys: ['loss', 'accuracy']\n",
            "Start testing; got log keys: []\n",
            "...Evaluating: start of batch 0; got log keys: []\n",
            "...Evaluating: end of batch 0; got log keys: ['loss', 'accuracy']\n",
            "Stop testing; got log keys: ['loss', 'accuracy']\n",
            "None\n",
            "End epoch 10 of training; got log keys: ['loss', 'accuracy', 'val_loss', 'val_accuracy']\n",
            "6/6 - 5s - loss: 0.2694 - accuracy: 0.8929 - val_loss: 1.1662 - val_accuracy: 0.5000 - 5s/epoch - 806ms/step\n",
            "Start epoch 11 of training; got log keys: []\n",
            "Epoch 12/100\n",
            "...Training: start of batch 0; got log keys: []\n",
            "...Training: end of batch 0; got log keys: ['loss', 'accuracy']\n",
            "...Training: start of batch 1; got log keys: []\n",
            "...Training: end of batch 1; got log keys: ['loss', 'accuracy']\n",
            "...Training: start of batch 2; got log keys: []\n",
            "...Training: end of batch 2; got log keys: ['loss', 'accuracy']\n",
            "...Training: start of batch 3; got log keys: []\n",
            "...Training: end of batch 3; got log keys: ['loss', 'accuracy']\n",
            "...Training: start of batch 4; got log keys: []\n",
            "...Training: end of batch 4; got log keys: ['loss', 'accuracy']\n",
            "...Training: start of batch 5; got log keys: []\n",
            "...Training: end of batch 5; got log keys: ['loss', 'accuracy']\n",
            "Start testing; got log keys: []\n",
            "...Evaluating: start of batch 0; got log keys: []\n",
            "...Evaluating: end of batch 0; got log keys: ['loss', 'accuracy']\n",
            "Stop testing; got log keys: ['loss', 'accuracy']\n",
            "None\n",
            "End epoch 11 of training; got log keys: ['loss', 'accuracy', 'val_loss', 'val_accuracy']\n",
            "6/6 - 5s - loss: 0.1817 - accuracy: 0.9524 - val_loss: 1.2667 - val_accuracy: 0.5000 - 5s/epoch - 806ms/step\n",
            "Start epoch 12 of training; got log keys: []\n",
            "Epoch 13/100\n",
            "...Training: start of batch 0; got log keys: []\n",
            "...Training: end of batch 0; got log keys: ['loss', 'accuracy']\n",
            "...Training: start of batch 1; got log keys: []\n",
            "...Training: end of batch 1; got log keys: ['loss', 'accuracy']\n",
            "...Training: start of batch 2; got log keys: []\n",
            "...Training: end of batch 2; got log keys: ['loss', 'accuracy']\n",
            "...Training: start of batch 3; got log keys: []\n",
            "...Training: end of batch 3; got log keys: ['loss', 'accuracy']\n",
            "...Training: start of batch 4; got log keys: []\n",
            "...Training: end of batch 4; got log keys: ['loss', 'accuracy']\n",
            "...Training: start of batch 5; got log keys: []\n",
            "...Training: end of batch 5; got log keys: ['loss', 'accuracy']\n",
            "Start testing; got log keys: []\n",
            "...Evaluating: start of batch 0; got log keys: []\n",
            "...Evaluating: end of batch 0; got log keys: ['loss', 'accuracy']\n",
            "Stop testing; got log keys: ['loss', 'accuracy']\n",
            "None\n",
            "End epoch 12 of training; got log keys: ['loss', 'accuracy', 'val_loss', 'val_accuracy']\n",
            "6/6 - 5s - loss: 0.4524 - accuracy: 0.8810 - val_loss: 1.2048 - val_accuracy: 0.4688 - 5s/epoch - 808ms/step\n",
            "Start epoch 13 of training; got log keys: []\n",
            "Epoch 14/100\n",
            "...Training: start of batch 0; got log keys: []\n",
            "...Training: end of batch 0; got log keys: ['loss', 'accuracy']\n",
            "...Training: start of batch 1; got log keys: []\n",
            "...Training: end of batch 1; got log keys: ['loss', 'accuracy']\n",
            "...Training: start of batch 2; got log keys: []\n",
            "...Training: end of batch 2; got log keys: ['loss', 'accuracy']\n",
            "...Training: start of batch 3; got log keys: []\n",
            "...Training: end of batch 3; got log keys: ['loss', 'accuracy']\n",
            "...Training: start of batch 4; got log keys: []\n",
            "...Training: end of batch 4; got log keys: ['loss', 'accuracy']\n",
            "...Training: start of batch 5; got log keys: []\n",
            "...Training: end of batch 5; got log keys: ['loss', 'accuracy']\n",
            "Start testing; got log keys: []\n",
            "...Evaluating: start of batch 0; got log keys: []\n",
            "...Evaluating: end of batch 0; got log keys: ['loss', 'accuracy']\n",
            "Stop testing; got log keys: ['loss', 'accuracy']\n",
            "None\n",
            "End epoch 13 of training; got log keys: ['loss', 'accuracy', 'val_loss', 'val_accuracy']\n",
            "6/6 - 5s - loss: 0.1754 - accuracy: 0.9405 - val_loss: 1.6558 - val_accuracy: 0.5312 - 5s/epoch - 820ms/step\n",
            "Start epoch 14 of training; got log keys: []\n",
            "Epoch 15/100\n",
            "...Training: start of batch 0; got log keys: []\n",
            "...Training: end of batch 0; got log keys: ['loss', 'accuracy']\n",
            "...Training: start of batch 1; got log keys: []\n",
            "...Training: end of batch 1; got log keys: ['loss', 'accuracy']\n",
            "...Training: start of batch 2; got log keys: []\n",
            "...Training: end of batch 2; got log keys: ['loss', 'accuracy']\n",
            "...Training: start of batch 3; got log keys: []\n",
            "...Training: end of batch 3; got log keys: ['loss', 'accuracy']\n",
            "...Training: start of batch 4; got log keys: []\n",
            "...Training: end of batch 4; got log keys: ['loss', 'accuracy']\n",
            "...Training: start of batch 5; got log keys: []\n",
            "...Training: end of batch 5; got log keys: ['loss', 'accuracy']\n",
            "Start testing; got log keys: []\n",
            "...Evaluating: start of batch 0; got log keys: []\n",
            "...Evaluating: end of batch 0; got log keys: ['loss', 'accuracy']\n",
            "Stop testing; got log keys: ['loss', 'accuracy']\n",
            "None\n",
            "End epoch 14 of training; got log keys: ['loss', 'accuracy', 'val_loss', 'val_accuracy']\n",
            "6/6 - 5s - loss: 0.2109 - accuracy: 0.9226 - val_loss: 1.8078 - val_accuracy: 0.5938 - 5s/epoch - 885ms/step\n",
            "Start epoch 15 of training; got log keys: []\n",
            "Epoch 16/100\n",
            "...Training: start of batch 0; got log keys: []\n",
            "...Training: end of batch 0; got log keys: ['loss', 'accuracy']\n",
            "...Training: start of batch 1; got log keys: []\n",
            "...Training: end of batch 1; got log keys: ['loss', 'accuracy']\n",
            "...Training: start of batch 2; got log keys: []\n",
            "...Training: end of batch 2; got log keys: ['loss', 'accuracy']\n",
            "...Training: start of batch 3; got log keys: []\n",
            "...Training: end of batch 3; got log keys: ['loss', 'accuracy']\n",
            "...Training: start of batch 4; got log keys: []\n",
            "...Training: end of batch 4; got log keys: ['loss', 'accuracy']\n",
            "...Training: start of batch 5; got log keys: []\n",
            "...Training: end of batch 5; got log keys: ['loss', 'accuracy']\n",
            "Start testing; got log keys: []\n",
            "...Evaluating: start of batch 0; got log keys: []\n",
            "...Evaluating: end of batch 0; got log keys: ['loss', 'accuracy']\n",
            "Stop testing; got log keys: ['loss', 'accuracy']\n",
            "None\n",
            "End epoch 15 of training; got log keys: ['loss', 'accuracy', 'val_loss', 'val_accuracy']\n",
            "6/6 - 5s - loss: 0.1061 - accuracy: 0.9583 - val_loss: 0.8104 - val_accuracy: 0.6875 - 5s/epoch - 801ms/step\n",
            "Start epoch 16 of training; got log keys: []\n",
            "Epoch 17/100\n",
            "...Training: start of batch 0; got log keys: []\n",
            "...Training: end of batch 0; got log keys: ['loss', 'accuracy']\n",
            "...Training: start of batch 1; got log keys: []\n",
            "...Training: end of batch 1; got log keys: ['loss', 'accuracy']\n",
            "...Training: start of batch 2; got log keys: []\n",
            "...Training: end of batch 2; got log keys: ['loss', 'accuracy']\n",
            "...Training: start of batch 3; got log keys: []\n",
            "...Training: end of batch 3; got log keys: ['loss', 'accuracy']\n",
            "...Training: start of batch 4; got log keys: []\n",
            "...Training: end of batch 4; got log keys: ['loss', 'accuracy']\n",
            "...Training: start of batch 5; got log keys: []\n",
            "...Training: end of batch 5; got log keys: ['loss', 'accuracy']\n",
            "Start testing; got log keys: []\n",
            "...Evaluating: start of batch 0; got log keys: []\n",
            "...Evaluating: end of batch 0; got log keys: ['loss', 'accuracy']\n",
            "Stop testing; got log keys: ['loss', 'accuracy']\n",
            "None\n",
            "End epoch 16 of training; got log keys: ['loss', 'accuracy', 'val_loss', 'val_accuracy']\n",
            "6/6 - 5s - loss: 0.0295 - accuracy: 0.9940 - val_loss: 2.0083 - val_accuracy: 0.5312 - 5s/epoch - 806ms/step\n",
            "Start epoch 17 of training; got log keys: []\n",
            "Epoch 18/100\n",
            "...Training: start of batch 0; got log keys: []\n",
            "...Training: end of batch 0; got log keys: ['loss', 'accuracy']\n",
            "...Training: start of batch 1; got log keys: []\n",
            "...Training: end of batch 1; got log keys: ['loss', 'accuracy']\n",
            "...Training: start of batch 2; got log keys: []\n",
            "...Training: end of batch 2; got log keys: ['loss', 'accuracy']\n",
            "...Training: start of batch 3; got log keys: []\n",
            "...Training: end of batch 3; got log keys: ['loss', 'accuracy']\n",
            "...Training: start of batch 4; got log keys: []\n",
            "...Training: end of batch 4; got log keys: ['loss', 'accuracy']\n",
            "...Training: start of batch 5; got log keys: []\n",
            "...Training: end of batch 5; got log keys: ['loss', 'accuracy']\n",
            "Start testing; got log keys: []\n",
            "...Evaluating: start of batch 0; got log keys: []\n",
            "...Evaluating: end of batch 0; got log keys: ['loss', 'accuracy']\n",
            "Stop testing; got log keys: ['loss', 'accuracy']\n",
            "None\n",
            "End epoch 17 of training; got log keys: ['loss', 'accuracy', 'val_loss', 'val_accuracy']\n",
            "6/6 - 5s - loss: 0.0466 - accuracy: 0.9940 - val_loss: 1.7847 - val_accuracy: 0.4375 - 5s/epoch - 813ms/step\n",
            "Start epoch 18 of training; got log keys: []\n",
            "Epoch 19/100\n",
            "...Training: start of batch 0; got log keys: []\n",
            "...Training: end of batch 0; got log keys: ['loss', 'accuracy']\n",
            "...Training: start of batch 1; got log keys: []\n",
            "...Training: end of batch 1; got log keys: ['loss', 'accuracy']\n",
            "...Training: start of batch 2; got log keys: []\n",
            "...Training: end of batch 2; got log keys: ['loss', 'accuracy']\n",
            "...Training: start of batch 3; got log keys: []\n",
            "...Training: end of batch 3; got log keys: ['loss', 'accuracy']\n",
            "...Training: start of batch 4; got log keys: []\n",
            "...Training: end of batch 4; got log keys: ['loss', 'accuracy']\n",
            "...Training: start of batch 5; got log keys: []\n",
            "...Training: end of batch 5; got log keys: ['loss', 'accuracy']\n",
            "Start testing; got log keys: []\n",
            "...Evaluating: start of batch 0; got log keys: []\n",
            "...Evaluating: end of batch 0; got log keys: ['loss', 'accuracy']\n",
            "Stop testing; got log keys: ['loss', 'accuracy']\n",
            "None\n",
            "End epoch 18 of training; got log keys: ['loss', 'accuracy', 'val_loss', 'val_accuracy']\n",
            "6/6 - 5s - loss: 0.0089 - accuracy: 1.0000 - val_loss: 1.9619 - val_accuracy: 0.5000 - 5s/epoch - 814ms/step\n",
            "Start epoch 19 of training; got log keys: []\n",
            "Epoch 20/100\n",
            "...Training: start of batch 0; got log keys: []\n",
            "...Training: end of batch 0; got log keys: ['loss', 'accuracy']\n",
            "...Training: start of batch 1; got log keys: []\n",
            "...Training: end of batch 1; got log keys: ['loss', 'accuracy']\n",
            "...Training: start of batch 2; got log keys: []\n",
            "...Training: end of batch 2; got log keys: ['loss', 'accuracy']\n",
            "...Training: start of batch 3; got log keys: []\n",
            "...Training: end of batch 3; got log keys: ['loss', 'accuracy']\n",
            "...Training: start of batch 4; got log keys: []\n",
            "...Training: end of batch 4; got log keys: ['loss', 'accuracy']\n",
            "...Training: start of batch 5; got log keys: []\n",
            "...Training: end of batch 5; got log keys: ['loss', 'accuracy']\n",
            "Start testing; got log keys: []\n",
            "...Evaluating: start of batch 0; got log keys: []\n",
            "...Evaluating: end of batch 0; got log keys: ['loss', 'accuracy']\n",
            "Stop testing; got log keys: ['loss', 'accuracy']\n",
            "None\n",
            "End epoch 19 of training; got log keys: ['loss', 'accuracy', 'val_loss', 'val_accuracy']\n",
            "6/6 - 5s - loss: 0.4704 - accuracy: 0.8810 - val_loss: 0.9081 - val_accuracy: 0.5938 - 5s/epoch - 810ms/step\n",
            "Start epoch 20 of training; got log keys: []\n",
            "Epoch 21/100\n",
            "...Training: start of batch 0; got log keys: []\n",
            "...Training: end of batch 0; got log keys: ['loss', 'accuracy']\n",
            "...Training: start of batch 1; got log keys: []\n",
            "...Training: end of batch 1; got log keys: ['loss', 'accuracy']\n",
            "...Training: start of batch 2; got log keys: []\n",
            "...Training: end of batch 2; got log keys: ['loss', 'accuracy']\n",
            "...Training: start of batch 3; got log keys: []\n",
            "...Training: end of batch 3; got log keys: ['loss', 'accuracy']\n",
            "...Training: start of batch 4; got log keys: []\n",
            "...Training: end of batch 4; got log keys: ['loss', 'accuracy']\n",
            "...Training: start of batch 5; got log keys: []\n",
            "...Training: end of batch 5; got log keys: ['loss', 'accuracy']\n",
            "Start testing; got log keys: []\n",
            "...Evaluating: start of batch 0; got log keys: []\n",
            "...Evaluating: end of batch 0; got log keys: ['loss', 'accuracy']\n",
            "Stop testing; got log keys: ['loss', 'accuracy']\n",
            "None\n",
            "End epoch 20 of training; got log keys: ['loss', 'accuracy', 'val_loss', 'val_accuracy']\n",
            "6/6 - 5s - loss: 0.2444 - accuracy: 0.9010 - val_loss: 1.0486 - val_accuracy: 0.5312 - 5s/epoch - 882ms/step\n",
            "Start epoch 21 of training; got log keys: []\n",
            "Epoch 22/100\n",
            "...Training: start of batch 0; got log keys: []\n",
            "...Training: end of batch 0; got log keys: ['loss', 'accuracy']\n",
            "...Training: start of batch 1; got log keys: []\n",
            "...Training: end of batch 1; got log keys: ['loss', 'accuracy']\n",
            "...Training: start of batch 2; got log keys: []\n"
          ]
        },
        {
          "output_type": "error",
          "ename": "KeyboardInterrupt",
          "evalue": "ignored",
          "traceback": [
            "\u001b[0;31m---------------------------------------------------------------------------\u001b[0m",
            "\u001b[0;31mKeyboardInterrupt\u001b[0m                         Traceback (most recent call last)",
            "\u001b[0;32m<ipython-input-27-b3fe201a45b7>\u001b[0m in \u001b[0;36m<module>\u001b[0;34m\u001b[0m\n\u001b[0;32m----> 1\u001b[0;31m history = model.fit(train_generator,\n\u001b[0m\u001b[1;32m      2\u001b[0m                     \u001b[0mvalidation_data\u001b[0m\u001b[0;34m=\u001b[0m\u001b[0mvalidation_generator\u001b[0m\u001b[0;34m,\u001b[0m\u001b[0;34m\u001b[0m\u001b[0;34m\u001b[0m\u001b[0m\n\u001b[1;32m      3\u001b[0m                     \u001b[0msteps_per_epoch\u001b[0m\u001b[0;34m=\u001b[0m\u001b[0msteps_per_epoch\u001b[0m\u001b[0;34m,\u001b[0m\u001b[0;34m\u001b[0m\u001b[0;34m\u001b[0m\u001b[0m\n\u001b[1;32m      4\u001b[0m                     \u001b[0mepochs\u001b[0m\u001b[0;34m=\u001b[0m\u001b[0mdeepdriver\u001b[0m\u001b[0;34m.\u001b[0m\u001b[0mconfig\u001b[0m\u001b[0;34m.\u001b[0m\u001b[0mepoch\u001b[0m\u001b[0;34m,\u001b[0m\u001b[0;34m\u001b[0m\u001b[0;34m\u001b[0m\u001b[0m\n\u001b[1;32m      5\u001b[0m                     \u001b[0mvalidation_steps\u001b[0m\u001b[0;34m=\u001b[0m\u001b[0mvalidation_steps\u001b[0m \u001b[0;34m,\u001b[0m\u001b[0;34m\u001b[0m\u001b[0;34m\u001b[0m\u001b[0m\n",
            "\u001b[0;32m/usr/local/lib/python3.8/dist-packages/keras/utils/traceback_utils.py\u001b[0m in \u001b[0;36merror_handler\u001b[0;34m(*args, **kwargs)\u001b[0m\n\u001b[1;32m     62\u001b[0m     \u001b[0mfiltered_tb\u001b[0m \u001b[0;34m=\u001b[0m \u001b[0;32mNone\u001b[0m\u001b[0;34m\u001b[0m\u001b[0;34m\u001b[0m\u001b[0m\n\u001b[1;32m     63\u001b[0m     \u001b[0;32mtry\u001b[0m\u001b[0;34m:\u001b[0m\u001b[0;34m\u001b[0m\u001b[0;34m\u001b[0m\u001b[0m\n\u001b[0;32m---> 64\u001b[0;31m       \u001b[0;32mreturn\u001b[0m \u001b[0mfn\u001b[0m\u001b[0;34m(\u001b[0m\u001b[0;34m*\u001b[0m\u001b[0margs\u001b[0m\u001b[0;34m,\u001b[0m \u001b[0;34m**\u001b[0m\u001b[0mkwargs\u001b[0m\u001b[0;34m)\u001b[0m\u001b[0;34m\u001b[0m\u001b[0;34m\u001b[0m\u001b[0m\n\u001b[0m\u001b[1;32m     65\u001b[0m     \u001b[0;32mexcept\u001b[0m \u001b[0mException\u001b[0m \u001b[0;32mas\u001b[0m \u001b[0me\u001b[0m\u001b[0;34m:\u001b[0m  \u001b[0;31m# pylint: disable=broad-except\u001b[0m\u001b[0;34m\u001b[0m\u001b[0;34m\u001b[0m\u001b[0m\n\u001b[1;32m     66\u001b[0m       \u001b[0mfiltered_tb\u001b[0m \u001b[0;34m=\u001b[0m \u001b[0m_process_traceback_frames\u001b[0m\u001b[0;34m(\u001b[0m\u001b[0me\u001b[0m\u001b[0;34m.\u001b[0m\u001b[0m__traceback__\u001b[0m\u001b[0;34m)\u001b[0m\u001b[0;34m\u001b[0m\u001b[0;34m\u001b[0m\u001b[0m\n",
            "\u001b[0;32m/usr/local/lib/python3.8/dist-packages/keras/engine/training.py\u001b[0m in \u001b[0;36mfit\u001b[0;34m(self, x, y, batch_size, epochs, verbose, callbacks, validation_split, validation_data, shuffle, class_weight, sample_weight, initial_epoch, steps_per_epoch, validation_steps, validation_batch_size, validation_freq, max_queue_size, workers, use_multiprocessing)\u001b[0m\n\u001b[1;32m   1407\u001b[0m                 _r=1):\n\u001b[1;32m   1408\u001b[0m               \u001b[0mcallbacks\u001b[0m\u001b[0;34m.\u001b[0m\u001b[0mon_train_batch_begin\u001b[0m\u001b[0;34m(\u001b[0m\u001b[0mstep\u001b[0m\u001b[0;34m)\u001b[0m\u001b[0;34m\u001b[0m\u001b[0;34m\u001b[0m\u001b[0m\n\u001b[0;32m-> 1409\u001b[0;31m               \u001b[0mtmp_logs\u001b[0m \u001b[0;34m=\u001b[0m \u001b[0mself\u001b[0m\u001b[0;34m.\u001b[0m\u001b[0mtrain_function\u001b[0m\u001b[0;34m(\u001b[0m\u001b[0miterator\u001b[0m\u001b[0;34m)\u001b[0m\u001b[0;34m\u001b[0m\u001b[0;34m\u001b[0m\u001b[0m\n\u001b[0m\u001b[1;32m   1410\u001b[0m               \u001b[0;32mif\u001b[0m \u001b[0mdata_handler\u001b[0m\u001b[0;34m.\u001b[0m\u001b[0mshould_sync\u001b[0m\u001b[0;34m:\u001b[0m\u001b[0;34m\u001b[0m\u001b[0;34m\u001b[0m\u001b[0m\n\u001b[1;32m   1411\u001b[0m                 \u001b[0mcontext\u001b[0m\u001b[0;34m.\u001b[0m\u001b[0masync_wait\u001b[0m\u001b[0;34m(\u001b[0m\u001b[0;34m)\u001b[0m\u001b[0;34m\u001b[0m\u001b[0;34m\u001b[0m\u001b[0m\n",
            "\u001b[0;32m/usr/local/lib/python3.8/dist-packages/tensorflow/python/util/traceback_utils.py\u001b[0m in \u001b[0;36merror_handler\u001b[0;34m(*args, **kwargs)\u001b[0m\n\u001b[1;32m    148\u001b[0m     \u001b[0mfiltered_tb\u001b[0m \u001b[0;34m=\u001b[0m \u001b[0;32mNone\u001b[0m\u001b[0;34m\u001b[0m\u001b[0;34m\u001b[0m\u001b[0m\n\u001b[1;32m    149\u001b[0m     \u001b[0;32mtry\u001b[0m\u001b[0;34m:\u001b[0m\u001b[0;34m\u001b[0m\u001b[0;34m\u001b[0m\u001b[0m\n\u001b[0;32m--> 150\u001b[0;31m       \u001b[0;32mreturn\u001b[0m \u001b[0mfn\u001b[0m\u001b[0;34m(\u001b[0m\u001b[0;34m*\u001b[0m\u001b[0margs\u001b[0m\u001b[0;34m,\u001b[0m \u001b[0;34m**\u001b[0m\u001b[0mkwargs\u001b[0m\u001b[0;34m)\u001b[0m\u001b[0;34m\u001b[0m\u001b[0;34m\u001b[0m\u001b[0m\n\u001b[0m\u001b[1;32m    151\u001b[0m     \u001b[0;32mexcept\u001b[0m \u001b[0mException\u001b[0m \u001b[0;32mas\u001b[0m \u001b[0me\u001b[0m\u001b[0;34m:\u001b[0m\u001b[0;34m\u001b[0m\u001b[0;34m\u001b[0m\u001b[0m\n\u001b[1;32m    152\u001b[0m       \u001b[0mfiltered_tb\u001b[0m \u001b[0;34m=\u001b[0m \u001b[0m_process_traceback_frames\u001b[0m\u001b[0;34m(\u001b[0m\u001b[0me\u001b[0m\u001b[0;34m.\u001b[0m\u001b[0m__traceback__\u001b[0m\u001b[0;34m)\u001b[0m\u001b[0;34m\u001b[0m\u001b[0;34m\u001b[0m\u001b[0m\n",
            "\u001b[0;32m/usr/local/lib/python3.8/dist-packages/tensorflow/python/eager/def_function.py\u001b[0m in \u001b[0;36m__call__\u001b[0;34m(self, *args, **kwds)\u001b[0m\n\u001b[1;32m    913\u001b[0m \u001b[0;34m\u001b[0m\u001b[0m\n\u001b[1;32m    914\u001b[0m       \u001b[0;32mwith\u001b[0m \u001b[0mOptionalXlaContext\u001b[0m\u001b[0;34m(\u001b[0m\u001b[0mself\u001b[0m\u001b[0;34m.\u001b[0m\u001b[0m_jit_compile\u001b[0m\u001b[0;34m)\u001b[0m\u001b[0;34m:\u001b[0m\u001b[0;34m\u001b[0m\u001b[0;34m\u001b[0m\u001b[0m\n\u001b[0;32m--> 915\u001b[0;31m         \u001b[0mresult\u001b[0m \u001b[0;34m=\u001b[0m \u001b[0mself\u001b[0m\u001b[0;34m.\u001b[0m\u001b[0m_call\u001b[0m\u001b[0;34m(\u001b[0m\u001b[0;34m*\u001b[0m\u001b[0margs\u001b[0m\u001b[0;34m,\u001b[0m \u001b[0;34m**\u001b[0m\u001b[0mkwds\u001b[0m\u001b[0;34m)\u001b[0m\u001b[0;34m\u001b[0m\u001b[0;34m\u001b[0m\u001b[0m\n\u001b[0m\u001b[1;32m    916\u001b[0m \u001b[0;34m\u001b[0m\u001b[0m\n\u001b[1;32m    917\u001b[0m       \u001b[0mnew_tracing_count\u001b[0m \u001b[0;34m=\u001b[0m \u001b[0mself\u001b[0m\u001b[0;34m.\u001b[0m\u001b[0mexperimental_get_tracing_count\u001b[0m\u001b[0;34m(\u001b[0m\u001b[0;34m)\u001b[0m\u001b[0;34m\u001b[0m\u001b[0;34m\u001b[0m\u001b[0m\n",
            "\u001b[0;32m/usr/local/lib/python3.8/dist-packages/tensorflow/python/eager/def_function.py\u001b[0m in \u001b[0;36m_call\u001b[0;34m(self, *args, **kwds)\u001b[0m\n\u001b[1;32m    945\u001b[0m       \u001b[0;31m# In this case we have created variables on the first call, so we run the\u001b[0m\u001b[0;34m\u001b[0m\u001b[0;34m\u001b[0m\u001b[0;34m\u001b[0m\u001b[0m\n\u001b[1;32m    946\u001b[0m       \u001b[0;31m# defunned version which is guaranteed to never create variables.\u001b[0m\u001b[0;34m\u001b[0m\u001b[0;34m\u001b[0m\u001b[0;34m\u001b[0m\u001b[0m\n\u001b[0;32m--> 947\u001b[0;31m       \u001b[0;32mreturn\u001b[0m \u001b[0mself\u001b[0m\u001b[0;34m.\u001b[0m\u001b[0m_stateless_fn\u001b[0m\u001b[0;34m(\u001b[0m\u001b[0;34m*\u001b[0m\u001b[0margs\u001b[0m\u001b[0;34m,\u001b[0m \u001b[0;34m**\u001b[0m\u001b[0mkwds\u001b[0m\u001b[0;34m)\u001b[0m  \u001b[0;31m# pylint: disable=not-callable\u001b[0m\u001b[0;34m\u001b[0m\u001b[0;34m\u001b[0m\u001b[0m\n\u001b[0m\u001b[1;32m    948\u001b[0m     \u001b[0;32melif\u001b[0m \u001b[0mself\u001b[0m\u001b[0;34m.\u001b[0m\u001b[0m_stateful_fn\u001b[0m \u001b[0;32mis\u001b[0m \u001b[0;32mnot\u001b[0m \u001b[0;32mNone\u001b[0m\u001b[0;34m:\u001b[0m\u001b[0;34m\u001b[0m\u001b[0;34m\u001b[0m\u001b[0m\n\u001b[1;32m    949\u001b[0m       \u001b[0;31m# Release the lock early so that multiple threads can perform the call\u001b[0m\u001b[0;34m\u001b[0m\u001b[0;34m\u001b[0m\u001b[0;34m\u001b[0m\u001b[0m\n",
            "\u001b[0;32m/usr/local/lib/python3.8/dist-packages/tensorflow/python/eager/function.py\u001b[0m in \u001b[0;36m__call__\u001b[0;34m(self, *args, **kwargs)\u001b[0m\n\u001b[1;32m   2451\u001b[0m       (graph_function,\n\u001b[1;32m   2452\u001b[0m        filtered_flat_args) = self._maybe_define_function(args, kwargs)\n\u001b[0;32m-> 2453\u001b[0;31m     return graph_function._call_flat(\n\u001b[0m\u001b[1;32m   2454\u001b[0m         filtered_flat_args, captured_inputs=graph_function.captured_inputs)  # pylint: disable=protected-access\n\u001b[1;32m   2455\u001b[0m \u001b[0;34m\u001b[0m\u001b[0m\n",
            "\u001b[0;32m/usr/local/lib/python3.8/dist-packages/tensorflow/python/eager/function.py\u001b[0m in \u001b[0;36m_call_flat\u001b[0;34m(self, args, captured_inputs, cancellation_manager)\u001b[0m\n\u001b[1;32m   1858\u001b[0m         and executing_eagerly):\n\u001b[1;32m   1859\u001b[0m       \u001b[0;31m# No tape is watching; skip to running the function.\u001b[0m\u001b[0;34m\u001b[0m\u001b[0;34m\u001b[0m\u001b[0;34m\u001b[0m\u001b[0m\n\u001b[0;32m-> 1860\u001b[0;31m       return self._build_call_outputs(self._inference_function.call(\n\u001b[0m\u001b[1;32m   1861\u001b[0m           ctx, args, cancellation_manager=cancellation_manager))\n\u001b[1;32m   1862\u001b[0m     forward_backward = self._select_forward_and_backward_functions(\n",
            "\u001b[0;32m/usr/local/lib/python3.8/dist-packages/tensorflow/python/eager/function.py\u001b[0m in \u001b[0;36mcall\u001b[0;34m(self, ctx, args, cancellation_manager)\u001b[0m\n\u001b[1;32m    495\u001b[0m       \u001b[0;32mwith\u001b[0m \u001b[0m_InterpolateFunctionError\u001b[0m\u001b[0;34m(\u001b[0m\u001b[0mself\u001b[0m\u001b[0;34m)\u001b[0m\u001b[0;34m:\u001b[0m\u001b[0;34m\u001b[0m\u001b[0;34m\u001b[0m\u001b[0m\n\u001b[1;32m    496\u001b[0m         \u001b[0;32mif\u001b[0m \u001b[0mcancellation_manager\u001b[0m \u001b[0;32mis\u001b[0m \u001b[0;32mNone\u001b[0m\u001b[0;34m:\u001b[0m\u001b[0;34m\u001b[0m\u001b[0;34m\u001b[0m\u001b[0m\n\u001b[0;32m--> 497\u001b[0;31m           outputs = execute.execute(\n\u001b[0m\u001b[1;32m    498\u001b[0m               \u001b[0mstr\u001b[0m\u001b[0;34m(\u001b[0m\u001b[0mself\u001b[0m\u001b[0;34m.\u001b[0m\u001b[0msignature\u001b[0m\u001b[0;34m.\u001b[0m\u001b[0mname\u001b[0m\u001b[0;34m)\u001b[0m\u001b[0;34m,\u001b[0m\u001b[0;34m\u001b[0m\u001b[0;34m\u001b[0m\u001b[0m\n\u001b[1;32m    499\u001b[0m               \u001b[0mnum_outputs\u001b[0m\u001b[0;34m=\u001b[0m\u001b[0mself\u001b[0m\u001b[0;34m.\u001b[0m\u001b[0m_num_outputs\u001b[0m\u001b[0;34m,\u001b[0m\u001b[0;34m\u001b[0m\u001b[0;34m\u001b[0m\u001b[0m\n",
            "\u001b[0;32m/usr/local/lib/python3.8/dist-packages/tensorflow/python/eager/execute.py\u001b[0m in \u001b[0;36mquick_execute\u001b[0;34m(op_name, num_outputs, inputs, attrs, ctx, name)\u001b[0m\n\u001b[1;32m     52\u001b[0m   \u001b[0;32mtry\u001b[0m\u001b[0;34m:\u001b[0m\u001b[0;34m\u001b[0m\u001b[0;34m\u001b[0m\u001b[0m\n\u001b[1;32m     53\u001b[0m     \u001b[0mctx\u001b[0m\u001b[0;34m.\u001b[0m\u001b[0mensure_initialized\u001b[0m\u001b[0;34m(\u001b[0m\u001b[0;34m)\u001b[0m\u001b[0;34m\u001b[0m\u001b[0;34m\u001b[0m\u001b[0m\n\u001b[0;32m---> 54\u001b[0;31m     tensors = pywrap_tfe.TFE_Py_Execute(ctx._handle, device_name, op_name,\n\u001b[0m\u001b[1;32m     55\u001b[0m                                         inputs, attrs, num_outputs)\n\u001b[1;32m     56\u001b[0m   \u001b[0;32mexcept\u001b[0m \u001b[0mcore\u001b[0m\u001b[0;34m.\u001b[0m\u001b[0m_NotOkStatusException\u001b[0m \u001b[0;32mas\u001b[0m \u001b[0me\u001b[0m\u001b[0;34m:\u001b[0m\u001b[0;34m\u001b[0m\u001b[0;34m\u001b[0m\u001b[0m\n",
            "\u001b[0;31mKeyboardInterrupt\u001b[0m: "
          ]
        }
      ]
    },
    {
      "cell_type": "markdown",
      "source": [
        "#5. 📚 train your code and send log"
      ],
      "metadata": {
        "id": "CNDciDDURuZ6"
      }
    },
    {
      "cell_type": "code",
      "source": [
        "import random\n",
        "accuracy = [ random.uniform(0.7+0.02*i, 1)  for i in range(epoch)]\n",
        "train_loss = [ random.uniform(0.1,  0.2-0.01*i)  for i in range(epoch)]\n",
        "val_accuracy =[ random.uniform(0.7+0.02*i, 1)  for i in range(epoch)]\n",
        "val_loss = [ random.uniform(0.2,  0.3-0.01*i)  for i in range(epoch)]"
      ],
      "metadata": {
        "id": "enU-EYKxFvSd"
      },
      "execution_count": null,
      "outputs": []
    },
    {
      "cell_type": "code",
      "source": [
        "for i in range(epoch):\n",
        "    # send train log\n",
        "    deepdriver.log({'acc': accuracy[i], 'loss': train_loss[i], 'val_acc': val_accuracy[i],'val_loss': val_loss[i]})"
      ],
      "metadata": {
        "id": "xu0cqS5JsyUb"
      },
      "execution_count": null,
      "outputs": []
    },
    {
      "cell_type": "markdown",
      "source": [
        "#6. ⬆ upload artifact(data)"
      ],
      "metadata": {
        "id": "b4SVJ4HcKugj"
      }
    },
    {
      "cell_type": "code",
      "source": [
        "arti = deepdriver.Artifacts(name=\"cat_dog\",type=\"dataset\")"
      ],
      "metadata": {
        "id": "TxgovR2JKt4y"
      },
      "execution_count": 13,
      "outputs": []
    },
    {
      "cell_type": "code",
      "source": [
        "arti.add(\"/tmp/cats_and_dogs_filtered\")"
      ],
      "metadata": {
        "id": "hhsY3_lVLR6T"
      },
      "execution_count": 14,
      "outputs": []
    },
    {
      "cell_type": "code",
      "source": [
        "[ent.path for ent  in arti.entry_list]"
      ],
      "metadata": {
        "id": "rJ0sHNYM0oOP",
        "outputId": "b9841f6c-22e1-4898-8428-72eae7aa7f59",
        "colab": {
          "base_uri": "https://localhost:8080/"
        }
      },
      "execution_count": 15,
      "outputs": [
        {
          "output_type": "execute_result",
          "data": {
            "text/plain": [
              "['train/cats/cat.250.jpg',\n",
              " 'train/cats/cat.726.jpg',\n",
              " 'train/cats/cat.793.jpg',\n",
              " 'train/cats/cat.521.jpg',\n",
              " 'train/cats/cat.928.jpg',\n",
              " 'train/cats/cat.251.jpg',\n",
              " 'train/cats/cat.185.jpg',\n",
              " 'train/cats/cat.866.jpg',\n",
              " 'train/cats/cat.875.jpg',\n",
              " 'train/cats/cat.485.jpg',\n",
              " 'train/cats/cat.550.jpg',\n",
              " 'train/cats/cat.748.jpg',\n",
              " 'train/cats/cat.791.jpg',\n",
              " 'train/cats/cat.292.jpg',\n",
              " 'train/cats/cat.31.jpg',\n",
              " 'train/cats/cat.262.jpg',\n",
              " 'train/cats/cat.429.jpg',\n",
              " 'train/cats/cat.665.jpg',\n",
              " 'train/cats/cat.901.jpg',\n",
              " 'train/cats/cat.142.jpg',\n",
              " 'train/cats/cat.422.jpg',\n",
              " 'train/cats/cat.518.jpg',\n",
              " 'train/cats/cat.684.jpg',\n",
              " 'train/cats/cat.488.jpg',\n",
              " 'train/cats/cat.641.jpg',\n",
              " 'train/cats/cat.539.jpg',\n",
              " 'train/cats/cat.63.jpg',\n",
              " 'train/cats/cat.718.jpg',\n",
              " 'train/cats/cat.138.jpg',\n",
              " 'train/cats/cat.658.jpg',\n",
              " 'train/cats/cat.527.jpg',\n",
              " 'train/cats/cat.136.jpg',\n",
              " 'train/cats/cat.405.jpg',\n",
              " 'train/cats/cat.975.jpg',\n",
              " 'train/cats/cat.919.jpg',\n",
              " 'train/cats/cat.574.jpg',\n",
              " 'train/cats/cat.410.jpg',\n",
              " 'train/cats/cat.356.jpg',\n",
              " 'train/cats/cat.528.jpg',\n",
              " 'train/cats/cat.655.jpg',\n",
              " 'train/cats/cat.538.jpg',\n",
              " 'train/cats/cat.374.jpg',\n",
              " 'train/cats/cat.966.jpg',\n",
              " 'train/cats/cat.361.jpg',\n",
              " 'train/cats/cat.996.jpg',\n",
              " 'train/cats/cat.295.jpg',\n",
              " 'train/cats/cat.498.jpg',\n",
              " 'train/cats/cat.942.jpg',\n",
              " 'train/cats/cat.191.jpg',\n",
              " 'train/cats/cat.368.jpg',\n",
              " 'train/cats/cat.175.jpg',\n",
              " 'train/cats/cat.677.jpg',\n",
              " 'train/cats/cat.156.jpg',\n",
              " 'train/cats/cat.246.jpg',\n",
              " 'train/cats/cat.343.jpg',\n",
              " 'train/cats/cat.283.jpg',\n",
              " 'train/cats/cat.418.jpg',\n",
              " 'train/cats/cat.393.jpg',\n",
              " 'train/cats/cat.916.jpg',\n",
              " 'train/cats/cat.769.jpg',\n",
              " 'train/cats/cat.851.jpg',\n",
              " 'train/cats/cat.652.jpg',\n",
              " 'train/cats/cat.858.jpg',\n",
              " 'train/cats/cat.598.jpg',\n",
              " 'train/cats/cat.821.jpg',\n",
              " 'train/cats/cat.88.jpg',\n",
              " 'train/cats/cat.486.jpg',\n",
              " 'train/cats/cat.165.jpg',\n",
              " 'train/cats/cat.321.jpg',\n",
              " 'train/cats/cat.441.jpg',\n",
              " 'train/cats/cat.240.jpg',\n",
              " 'train/cats/cat.103.jpg',\n",
              " 'train/cats/cat.409.jpg',\n",
              " 'train/cats/cat.214.jpg',\n",
              " 'train/cats/cat.678.jpg',\n",
              " 'train/cats/cat.69.jpg',\n",
              " 'train/cats/cat.73.jpg',\n",
              " 'train/cats/cat.865.jpg',\n",
              " 'train/cats/cat.754.jpg',\n",
              " 'train/cats/cat.125.jpg',\n",
              " 'train/cats/cat.206.jpg',\n",
              " 'train/cats/cat.80.jpg',\n",
              " 'train/cats/cat.118.jpg',\n",
              " 'train/cats/cat.39.jpg',\n",
              " 'train/cats/cat.867.jpg',\n",
              " 'train/cats/cat.623.jpg',\n",
              " 'train/cats/cat.503.jpg',\n",
              " 'train/cats/cat.198.jpg',\n",
              " 'train/cats/cat.651.jpg',\n",
              " 'train/cats/cat.264.jpg',\n",
              " 'train/cats/cat.804.jpg',\n",
              " 'train/cats/cat.970.jpg',\n",
              " 'train/cats/cat.105.jpg',\n",
              " 'train/cats/cat.157.jpg',\n",
              " 'train/cats/cat.725.jpg',\n",
              " 'train/cats/cat.990.jpg',\n",
              " 'train/cats/cat.845.jpg',\n",
              " 'train/cats/cat.681.jpg',\n",
              " 'train/cats/cat.868.jpg',\n",
              " 'train/cats/cat.531.jpg',\n",
              " 'train/cats/cat.325.jpg',\n",
              " 'train/cats/cat.84.jpg',\n",
              " 'train/cats/cat.880.jpg',\n",
              " 'train/cats/cat.242.jpg',\n",
              " 'train/cats/cat.642.jpg',\n",
              " 'train/cats/cat.963.jpg',\n",
              " 'train/cats/cat.79.jpg',\n",
              " 'train/cats/cat.713.jpg',\n",
              " 'train/cats/cat.707.jpg',\n",
              " 'train/cats/cat.74.jpg',\n",
              " 'train/cats/cat.569.jpg',\n",
              " 'train/cats/cat.540.jpg',\n",
              " 'train/cats/cat.194.jpg',\n",
              " 'train/cats/cat.957.jpg',\n",
              " 'train/cats/cat.605.jpg',\n",
              " 'train/cats/cat.18.jpg',\n",
              " 'train/cats/cat.144.jpg',\n",
              " 'train/cats/cat.747.jpg',\n",
              " 'train/cats/cat.234.jpg',\n",
              " 'train/cats/cat.849.jpg',\n",
              " 'train/cats/cat.378.jpg',\n",
              " 'train/cats/cat.723.jpg',\n",
              " 'train/cats/cat.628.jpg',\n",
              " 'train/cats/cat.70.jpg',\n",
              " 'train/cats/cat.571.jpg',\n",
              " 'train/cats/cat.21.jpg',\n",
              " 'train/cats/cat.497.jpg',\n",
              " 'train/cats/cat.517.jpg',\n",
              " 'train/cats/cat.776.jpg',\n",
              " 'train/cats/cat.679.jpg',\n",
              " 'train/cats/cat.635.jpg',\n",
              " 'train/cats/cat.350.jpg',\n",
              " 'train/cats/cat.906.jpg',\n",
              " 'train/cats/cat.701.jpg',\n",
              " 'train/cats/cat.576.jpg',\n",
              " 'train/cats/cat.703.jpg',\n",
              " 'train/cats/cat.506.jpg',\n",
              " 'train/cats/cat.771.jpg',\n",
              " 'train/cats/cat.719.jpg',\n",
              " 'train/cats/cat.196.jpg',\n",
              " 'train/cats/cat.202.jpg',\n",
              " 'train/cats/cat.231.jpg',\n",
              " 'train/cats/cat.646.jpg',\n",
              " 'train/cats/cat.106.jpg',\n",
              " 'train/cats/cat.827.jpg',\n",
              " 'train/cats/cat.244.jpg',\n",
              " 'train/cats/cat.548.jpg',\n",
              " 'train/cats/cat.775.jpg',\n",
              " 'train/cats/cat.200.jpg',\n",
              " 'train/cats/cat.649.jpg',\n",
              " 'train/cats/cat.345.jpg',\n",
              " 'train/cats/cat.353.jpg',\n",
              " 'train/cats/cat.131.jpg',\n",
              " 'train/cats/cat.288.jpg',\n",
              " 'train/cats/cat.648.jpg',\n",
              " 'train/cats/cat.342.jpg',\n",
              " 'train/cats/cat.364.jpg',\n",
              " 'train/cats/cat.765.jpg',\n",
              " 'train/cats/cat.560.jpg',\n",
              " 'train/cats/cat.907.jpg',\n",
              " 'train/cats/cat.593.jpg',\n",
              " 'train/cats/cat.836.jpg',\n",
              " 'train/cats/cat.799.jpg',\n",
              " 'train/cats/cat.633.jpg',\n",
              " 'train/cats/cat.473.jpg',\n",
              " 'train/cats/cat.417.jpg',\n",
              " 'train/cats/cat.114.jpg',\n",
              " 'train/cats/cat.38.jpg',\n",
              " 'train/cats/cat.282.jpg',\n",
              " 'train/cats/cat.337.jpg',\n",
              " 'train/cats/cat.545.jpg',\n",
              " 'train/cats/cat.502.jpg',\n",
              " 'train/cats/cat.13.jpg',\n",
              " 'train/cats/cat.722.jpg',\n",
              " 'train/cats/cat.899.jpg',\n",
              " 'train/cats/cat.133.jpg',\n",
              " 'train/cats/cat.653.jpg',\n",
              " 'train/cats/cat.323.jpg',\n",
              " 'train/cats/cat.781.jpg',\n",
              " 'train/cats/cat.181.jpg',\n",
              " 'train/cats/cat.98.jpg',\n",
              " 'train/cats/cat.779.jpg',\n",
              " 'train/cats/cat.113.jpg',\n",
              " 'train/cats/cat.435.jpg',\n",
              " 'train/cats/cat.490.jpg',\n",
              " 'train/cats/cat.864.jpg',\n",
              " 'train/cats/cat.359.jpg',\n",
              " 'train/cats/cat.222.jpg',\n",
              " 'train/cats/cat.797.jpg',\n",
              " 'train/cats/cat.857.jpg',\n",
              " 'train/cats/cat.247.jpg',\n",
              " 'train/cats/cat.424.jpg',\n",
              " 'train/cats/cat.7.jpg',\n",
              " 'train/cats/cat.261.jpg',\n",
              " 'train/cats/cat.173.jpg',\n",
              " 'train/cats/cat.979.jpg',\n",
              " 'train/cats/cat.416.jpg',\n",
              " 'train/cats/cat.977.jpg',\n",
              " 'train/cats/cat.346.jpg',\n",
              " 'train/cats/cat.277.jpg',\n",
              " 'train/cats/cat.334.jpg',\n",
              " 'train/cats/cat.739.jpg',\n",
              " 'train/cats/cat.154.jpg',\n",
              " 'train/cats/cat.436.jpg',\n",
              " 'train/cats/cat.471.jpg',\n",
              " 'train/cats/cat.688.jpg',\n",
              " 'train/cats/cat.600.jpg',\n",
              " 'train/cats/cat.259.jpg',\n",
              " 'train/cats/cat.466.jpg',\n",
              " 'train/cats/cat.933.jpg',\n",
              " 'train/cats/cat.509.jpg',\n",
              " 'train/cats/cat.705.jpg',\n",
              " 'train/cats/cat.443.jpg',\n",
              " 'train/cats/cat.423.jpg',\n",
              " 'train/cats/cat.967.jpg',\n",
              " 'train/cats/cat.430.jpg',\n",
              " 'train/cats/cat.972.jpg',\n",
              " 'train/cats/cat.235.jpg',\n",
              " 'train/cats/cat.309.jpg',\n",
              " 'train/cats/cat.335.jpg',\n",
              " 'train/cats/cat.897.jpg',\n",
              " 'train/cats/cat.302.jpg',\n",
              " 'train/cats/cat.983.jpg',\n",
              " 'train/cats/cat.327.jpg',\n",
              " 'train/cats/cat.706.jpg',\n",
              " 'train/cats/cat.354.jpg',\n",
              " 'train/cats/cat.454.jpg',\n",
              " 'train/cats/cat.546.jpg',\n",
              " 'train/cats/cat.104.jpg',\n",
              " 'train/cats/cat.132.jpg',\n",
              " 'train/cats/cat.461.jpg',\n",
              " 'train/cats/cat.997.jpg',\n",
              " 'train/cats/cat.205.jpg',\n",
              " 'train/cats/cat.427.jpg',\n",
              " 'train/cats/cat.12.jpg',\n",
              " 'train/cats/cat.201.jpg',\n",
              " 'train/cats/cat.801.jpg',\n",
              " 'train/cats/cat.640.jpg',\n",
              " 'train/cats/cat.737.jpg',\n",
              " 'train/cats/cat.895.jpg',\n",
              " 'train/cats/cat.735.jpg',\n",
              " 'train/cats/cat.389.jpg',\n",
              " 'train/cats/cat.0.jpg',\n",
              " 'train/cats/cat.689.jpg',\n",
              " 'train/cats/cat.380.jpg',\n",
              " 'train/cats/cat.879.jpg',\n",
              " 'train/cats/cat.294.jpg',\n",
              " 'train/cats/cat.669.jpg',\n",
              " 'train/cats/cat.66.jpg',\n",
              " 'train/cats/cat.45.jpg',\n",
              " 'train/cats/cat.64.jpg',\n",
              " 'train/cats/cat.16.jpg',\n",
              " 'train/cats/cat.980.jpg',\n",
              " 'train/cats/cat.752.jpg',\n",
              " 'train/cats/cat.731.jpg',\n",
              " 'train/cats/cat.854.jpg',\n",
              " 'train/cats/cat.533.jpg',\n",
              " 'train/cats/cat.734.jpg',\n",
              " 'train/cats/cat.910.jpg',\n",
              " 'train/cats/cat.783.jpg',\n",
              " 'train/cats/cat.30.jpg',\n",
              " 'train/cats/cat.124.jpg',\n",
              " 'train/cats/cat.573.jpg',\n",
              " 'train/cats/cat.988.jpg',\n",
              " 'train/cats/cat.271.jpg',\n",
              " 'train/cats/cat.76.jpg',\n",
              " 'train/cats/cat.772.jpg',\n",
              " 'train/cats/cat.391.jpg',\n",
              " 'train/cats/cat.847.jpg',\n",
              " 'train/cats/cat.145.jpg',\n",
              " 'train/cats/cat.83.jpg',\n",
              " 'train/cats/cat.140.jpg',\n",
              " 'train/cats/cat.608.jpg',\n",
              " 'train/cats/cat.543.jpg',\n",
              " 'train/cats/cat.382.jpg',\n",
              " 'train/cats/cat.263.jpg',\n",
              " 'train/cats/cat.937.jpg',\n",
              " 'train/cats/cat.874.jpg',\n",
              " 'train/cats/cat.23.jpg',\n",
              " 'train/cats/cat.143.jpg',\n",
              " 'train/cats/cat.770.jpg',\n",
              " 'train/cats/cat.319.jpg',\n",
              " 'train/cats/cat.275.jpg',\n",
              " 'train/cats/cat.567.jpg',\n",
              " 'train/cats/cat.908.jpg',\n",
              " 'train/cats/cat.399.jpg',\n",
              " 'train/cats/cat.331.jpg',\n",
              " 'train/cats/cat.4.jpg',\n",
              " 'train/cats/cat.795.jpg',\n",
              " 'train/cats/cat.516.jpg',\n",
              " 'train/cats/cat.127.jpg',\n",
              " 'train/cats/cat.72.jpg',\n",
              " 'train/cats/cat.256.jpg',\n",
              " 'train/cats/cat.49.jpg',\n",
              " 'train/cats/cat.36.jpg',\n",
              " 'train/cats/cat.396.jpg',\n",
              " 'train/cats/cat.81.jpg',\n",
              " 'train/cats/cat.241.jpg',\n",
              " 'train/cats/cat.24.jpg',\n",
              " 'train/cats/cat.950.jpg',\n",
              " 'train/cats/cat.767.jpg',\n",
              " 'train/cats/cat.744.jpg',\n",
              " 'train/cats/cat.120.jpg',\n",
              " 'train/cats/cat.122.jpg',\n",
              " 'train/cats/cat.902.jpg',\n",
              " 'train/cats/cat.926.jpg',\n",
              " 'train/cats/cat.377.jpg',\n",
              " 'train/cats/cat.301.jpg',\n",
              " 'train/cats/cat.890.jpg',\n",
              " 'train/cats/cat.981.jpg',\n",
              " 'train/cats/cat.110.jpg',\n",
              " 'train/cats/cat.236.jpg',\n",
              " 'train/cats/cat.304.jpg',\n",
              " 'train/cats/cat.97.jpg',\n",
              " 'train/cats/cat.852.jpg',\n",
              " 'train/cats/cat.227.jpg',\n",
              " 'train/cats/cat.903.jpg',\n",
              " 'train/cats/cat.786.jpg',\n",
              " 'train/cats/cat.3.jpg',\n",
              " 'train/cats/cat.178.jpg',\n",
              " 'train/cats/cat.894.jpg',\n",
              " 'train/cats/cat.944.jpg',\n",
              " 'train/cats/cat.453.jpg',\n",
              " 'train/cats/cat.831.jpg',\n",
              " 'train/cats/cat.457.jpg',\n",
              " 'train/cats/cat.370.jpg',\n",
              " 'train/cats/cat.446.jpg',\n",
              " 'train/cats/cat.357.jpg',\n",
              " 'train/cats/cat.515.jpg',\n",
              " 'train/cats/cat.172.jpg',\n",
              " 'train/cats/cat.217.jpg',\n",
              " 'train/cats/cat.458.jpg',\n",
              " 'train/cats/cat.284.jpg',\n",
              " 'train/cats/cat.500.jpg',\n",
              " 'train/cats/cat.794.jpg',\n",
              " 'train/cats/cat.676.jpg',\n",
              " 'train/cats/cat.514.jpg',\n",
              " 'train/cats/cat.216.jpg',\n",
              " 'train/cats/cat.562.jpg',\n",
              " 'train/cats/cat.348.jpg',\n",
              " 'train/cats/cat.987.jpg',\n",
              " 'train/cats/cat.551.jpg',\n",
              " 'train/cats/cat.904.jpg',\n",
              " 'train/cats/cat.92.jpg',\n",
              " 'train/cats/cat.218.jpg',\n",
              " 'train/cats/cat.946.jpg',\n",
              " 'train/cats/cat.668.jpg',\n",
              " 'train/cats/cat.947.jpg',\n",
              " 'train/cats/cat.119.jpg',\n",
              " 'train/cats/cat.806.jpg',\n",
              " 'train/cats/cat.670.jpg',\n",
              " 'train/cats/cat.905.jpg',\n",
              " 'train/cats/cat.536.jpg',\n",
              " 'train/cats/cat.475.jpg',\n",
              " 'train/cats/cat.861.jpg',\n",
              " 'train/cats/cat.525.jpg',\n",
              " 'train/cats/cat.808.jpg',\n",
              " 'train/cats/cat.855.jpg',\n",
              " 'train/cats/cat.915.jpg',\n",
              " 'train/cats/cat.58.jpg',\n",
              " 'train/cats/cat.751.jpg',\n",
              " 'train/cats/cat.817.jpg',\n",
              " 'train/cats/cat.439.jpg',\n",
              " 'train/cats/cat.636.jpg',\n",
              " 'train/cats/cat.108.jpg',\n",
              " 'train/cats/cat.616.jpg',\n",
              " 'train/cats/cat.305.jpg',\n",
              " 'train/cats/cat.311.jpg',\n",
              " 'train/cats/cat.213.jpg',\n",
              " 'train/cats/cat.618.jpg',\n",
              " 'train/cats/cat.330.jpg',\n",
              " 'train/cats/cat.592.jpg',\n",
              " 'train/cats/cat.818.jpg',\n",
              " 'train/cats/cat.413.jpg',\n",
              " 'train/cats/cat.613.jpg',\n",
              " 'train/cats/cat.33.jpg',\n",
              " 'train/cats/cat.714.jpg',\n",
              " 'train/cats/cat.842.jpg',\n",
              " 'train/cats/cat.432.jpg',\n",
              " 'train/cats/cat.934.jpg',\n",
              " 'train/cats/cat.229.jpg',\n",
              " 'train/cats/cat.300.jpg',\n",
              " 'train/cats/cat.411.jpg',\n",
              " 'train/cats/cat.315.jpg',\n",
              " 'train/cats/cat.932.jpg',\n",
              " 'train/cats/cat.697.jpg',\n",
              " 'train/cats/cat.460.jpg',\n",
              " 'train/cats/cat.384.jpg',\n",
              " 'train/cats/cat.385.jpg',\n",
              " 'train/cats/cat.397.jpg',\n",
              " 'train/cats/cat.51.jpg',\n",
              " 'train/cats/cat.491.jpg',\n",
              " 'train/cats/cat.299.jpg',\n",
              " 'train/cats/cat.15.jpg',\n",
              " 'train/cats/cat.978.jpg',\n",
              " 'train/cats/cat.494.jpg',\n",
              " 'train/cats/cat.420.jpg',\n",
              " 'train/cats/cat.280.jpg',\n",
              " 'train/cats/cat.813.jpg',\n",
              " 'train/cats/cat.279.jpg',\n",
              " 'train/cats/cat.414.jpg',\n",
              " 'train/cats/cat.182.jpg',\n",
              " 'train/cats/cat.962.jpg',\n",
              " 'train/cats/cat.656.jpg',\n",
              " 'train/cats/cat.622.jpg',\n",
              " 'train/cats/cat.360.jpg',\n",
              " 'train/cats/cat.843.jpg',\n",
              " 'train/cats/cat.161.jpg',\n",
              " 'train/cats/cat.829.jpg',\n",
              " 'train/cats/cat.807.jpg',\n",
              " 'train/cats/cat.189.jpg',\n",
              " 'train/cats/cat.513.jpg',\n",
              " 'train/cats/cat.437.jpg',\n",
              " 'train/cats/cat.59.jpg',\n",
              " 'train/cats/cat.869.jpg',\n",
              " 'train/cats/cat.686.jpg',\n",
              " 'train/cats/cat.455.jpg',\n",
              " 'train/cats/cat.29.jpg',\n",
              " 'train/cats/cat.848.jpg',\n",
              " 'train/cats/cat.379.jpg',\n",
              " 'train/cats/cat.788.jpg',\n",
              " 'train/cats/cat.467.jpg',\n",
              " 'train/cats/cat.338.jpg',\n",
              " 'train/cats/cat.564.jpg',\n",
              " 'train/cats/cat.696.jpg',\n",
              " 'train/cats/cat.758.jpg',\n",
              " 'train/cats/cat.100.jpg',\n",
              " 'train/cats/cat.872.jpg',\n",
              " 'train/cats/cat.407.jpg',\n",
              " 'train/cats/cat.351.jpg',\n",
              " 'train/cats/cat.344.jpg',\n",
              " 'train/cats/cat.629.jpg',\n",
              " 'train/cats/cat.109.jpg',\n",
              " 'train/cats/cat.951.jpg',\n",
              " 'train/cats/cat.17.jpg',\n",
              " 'train/cats/cat.750.jpg',\n",
              " 'train/cats/cat.601.jpg',\n",
              " 'train/cats/cat.878.jpg',\n",
              " 'train/cats/cat.479.jpg',\n",
              " 'train/cats/cat.505.jpg',\n",
              " 'train/cats/cat.764.jpg',\n",
              " 'train/cats/cat.447.jpg',\n",
              " 'train/cats/cat.375.jpg',\n",
              " 'train/cats/cat.464.jpg',\n",
              " 'train/cats/cat.56.jpg',\n",
              " 'train/cats/cat.700.jpg',\n",
              " 'train/cats/cat.680.jpg',\n",
              " 'train/cats/cat.186.jpg',\n",
              " 'train/cats/cat.387.jpg',\n",
              " 'train/cats/cat.341.jpg',\n",
              " 'train/cats/cat.255.jpg',\n",
              " 'train/cats/cat.673.jpg',\n",
              " 'train/cats/cat.819.jpg',\n",
              " 'train/cats/cat.406.jpg',\n",
              " 'train/cats/cat.859.jpg',\n",
              " 'train/cats/cat.803.jpg',\n",
              " 'train/cats/cat.37.jpg',\n",
              " 'train/cats/cat.507.jpg',\n",
              " 'train/cats/cat.736.jpg',\n",
              " 'train/cats/cat.936.jpg',\n",
              " 'train/cats/cat.853.jpg',\n",
              " 'train/cats/cat.177.jpg',\n",
              " 'train/cats/cat.961.jpg',\n",
              " 'train/cats/cat.215.jpg',\n",
              " 'train/cats/cat.654.jpg',\n",
              " 'train/cats/cat.333.jpg',\n",
              " 'train/cats/cat.577.jpg',\n",
              " 'train/cats/cat.768.jpg',\n",
              " 'train/cats/cat.212.jpg',\n",
              " 'train/cats/cat.128.jpg',\n",
              " 'train/cats/cat.805.jpg',\n",
              " 'train/cats/cat.798.jpg',\n",
              " 'train/cats/cat.607.jpg',\n",
              " 'train/cats/cat.480.jpg',\n",
              " 'train/cats/cat.838.jpg',\n",
              " 'train/cats/cat.139.jpg',\n",
              " 'train/cats/cat.289.jpg',\n",
              " 'train/cats/cat.228.jpg',\n",
              " 'train/cats/cat.556.jpg',\n",
              " 'train/cats/cat.727.jpg',\n",
              " 'train/cats/cat.26.jpg',\n",
              " 'train/cats/cat.716.jpg',\n",
              " 'train/cats/cat.203.jpg',\n",
              " 'train/cats/cat.877.jpg',\n",
              " 'train/cats/cat.828.jpg',\n",
              " 'train/cats/cat.367.jpg',\n",
              " 'train/cats/cat.6.jpg',\n",
              " 'train/cats/cat.404.jpg',\n",
              " 'train/cats/cat.984.jpg',\n",
              " 'train/cats/cat.802.jpg',\n",
              " 'train/cats/cat.412.jpg',\n",
              " 'train/cats/cat.483.jpg',\n",
              " 'train/cats/cat.756.jpg',\n",
              " 'train/cats/cat.372.jpg',\n",
              " 'train/cats/cat.924.jpg',\n",
              " 'train/cats/cat.111.jpg',\n",
              " 'train/cats/cat.137.jpg',\n",
              " 'train/cats/cat.421.jpg',\n",
              " 'train/cats/cat.742.jpg',\n",
              " 'train/cats/cat.939.jpg',\n",
              " 'train/cats/cat.740.jpg',\n",
              " 'train/cats/cat.365.jpg',\n",
              " 'train/cats/cat.674.jpg',\n",
              " 'train/cats/cat.153.jpg',\n",
              " 'train/cats/cat.882.jpg',\n",
              " 'train/cats/cat.555.jpg',\n",
              " 'train/cats/cat.253.jpg',\n",
              " 'train/cats/cat.733.jpg',\n",
              " 'train/cats/cat.355.jpg',\n",
              " 'train/cats/cat.314.jpg',\n",
              " 'train/cats/cat.958.jpg',\n",
              " 'train/cats/cat.57.jpg',\n",
              " 'train/cats/cat.643.jpg',\n",
              " 'train/cats/cat.221.jpg',\n",
              " 'train/cats/cat.11.jpg',\n",
              " 'train/cats/cat.115.jpg',\n",
              " 'train/cats/cat.612.jpg',\n",
              " 'train/cats/cat.470.jpg',\n",
              " 'train/cats/cat.184.jpg',\n",
              " 'train/cats/cat.959.jpg',\n",
              " 'train/cats/cat.415.jpg',\n",
              " 'train/cats/cat.445.jpg',\n",
              " 'train/cats/cat.954.jpg',\n",
              " 'train/cats/cat.711.jpg',\n",
              " 'train/cats/cat.209.jpg',\n",
              " 'train/cats/cat.146.jpg',\n",
              " 'train/cats/cat.657.jpg',\n",
              " 'train/cats/cat.661.jpg',\n",
              " 'train/cats/cat.522.jpg',\n",
              " 'train/cats/cat.433.jpg',\n",
              " 'train/cats/cat.912.jpg',\n",
              " 'train/cats/cat.594.jpg',\n",
              " 'train/cats/cat.306.jpg',\n",
              " 'train/cats/cat.578.jpg',\n",
              " 'train/cats/cat.526.jpg',\n",
              " 'train/cats/cat.96.jpg',\n",
              " 'train/cats/cat.724.jpg',\n",
              " 'train/cats/cat.442.jpg',\n",
              " 'train/cats/cat.708.jpg',\n",
              " 'train/cats/cat.322.jpg',\n",
              " 'train/cats/cat.647.jpg',\n",
              " 'train/cats/cat.134.jpg',\n",
              " 'train/cats/cat.296.jpg',\n",
              " 'train/cats/cat.40.jpg',\n",
              " 'train/cats/cat.820.jpg',\n",
              " 'train/cats/cat.630.jpg',\n",
              " 'train/cats/cat.591.jpg',\n",
              " 'train/cats/cat.390.jpg',\n",
              " 'train/cats/cat.822.jpg',\n",
              " 'train/cats/cat.812.jpg',\n",
              " 'train/cats/cat.952.jpg',\n",
              " 'train/cats/cat.566.jpg',\n",
              " 'train/cats/cat.964.jpg',\n",
              " 'train/cats/cat.660.jpg',\n",
              " 'train/cats/cat.183.jpg',\n",
              " 'train/cats/cat.19.jpg',\n",
              " 'train/cats/cat.766.jpg',\n",
              " 'train/cats/cat.158.jpg',\n",
              " 'train/cats/cat.248.jpg',\n",
              " 'train/cats/cat.147.jpg',\n",
              " 'train/cats/cat.293.jpg',\n",
              " 'train/cats/cat.272.jpg',\n",
              " 'train/cats/cat.477.jpg',\n",
              " 'train/cats/cat.47.jpg',\n",
              " 'train/cats/cat.699.jpg',\n",
              " 'train/cats/cat.123.jpg',\n",
              " 'train/cats/cat.41.jpg',\n",
              " 'train/cats/cat.32.jpg',\n",
              " 'train/cats/cat.687.jpg',\n",
              " 'train/cats/cat.308.jpg',\n",
              " 'train/cats/cat.197.jpg',\n",
              " 'train/cats/cat.728.jpg',\n",
              " 'train/cats/cat.876.jpg',\n",
              " 'train/cats/cat.597.jpg',\n",
              " 'train/cats/cat.5.jpg',\n",
              " 'train/cats/cat.568.jpg',\n",
              " 'train/cats/cat.425.jpg',\n",
              " 'train/cats/cat.281.jpg',\n",
              " 'train/cats/cat.207.jpg',\n",
              " 'train/cats/cat.989.jpg',\n",
              " 'train/cats/cat.224.jpg',\n",
              " 'train/cats/cat.149.jpg',\n",
              " 'train/cats/cat.243.jpg',\n",
              " 'train/cats/cat.287.jpg',\n",
              " 'train/cats/cat.310.jpg',\n",
              " 'train/cats/cat.559.jpg',\n",
              " 'train/cats/cat.625.jpg',\n",
              " 'train/cats/cat.745.jpg',\n",
              " 'train/cats/cat.347.jpg',\n",
              " 'train/cats/cat.712.jpg',\n",
              " 'train/cats/cat.785.jpg',\n",
              " 'train/cats/cat.10.jpg',\n",
              " 'train/cats/cat.403.jpg',\n",
              " 'train/cats/cat.101.jpg',\n",
              " 'train/cats/cat.476.jpg',\n",
              " 'train/cats/cat.973.jpg',\n",
              " 'train/cats/cat.87.jpg',\n",
              " 'train/cats/cat.922.jpg',\n",
              " 'train/cats/cat.530.jpg',\n",
              " 'train/cats/cat.107.jpg',\n",
              " 'train/cats/cat.565.jpg',\n",
              " 'train/cats/cat.93.jpg',\n",
              " 'train/cats/cat.303.jpg',\n",
              " 'train/cats/cat.392.jpg',\n",
              " 'train/cats/cat.492.jpg',\n",
              " 'train/cats/cat.167.jpg',\n",
              " 'train/cats/cat.917.jpg',\n",
              " 'train/cats/cat.968.jpg',\n",
              " 'train/cats/cat.166.jpg',\n",
              " 'train/cats/cat.694.jpg',\n",
              " 'train/cats/cat.230.jpg',\n",
              " 'train/cats/cat.998.jpg',\n",
              " 'train/cats/cat.759.jpg',\n",
              " 'train/cats/cat.918.jpg',\n",
              " 'train/cats/cat.969.jpg',\n",
              " 'train/cats/cat.667.jpg',\n",
              " 'train/cats/cat.892.jpg',\n",
              " 'train/cats/cat.561.jpg',\n",
              " 'train/cats/cat.883.jpg',\n",
              " 'train/cats/cat.860.jpg',\n",
              " 'train/cats/cat.332.jpg',\n",
              " 'train/cats/cat.401.jpg',\n",
              " 'train/cats/cat.112.jpg',\n",
              " 'train/cats/cat.20.jpg',\n",
              " 'train/cats/cat.800.jpg',\n",
              " 'train/cats/cat.176.jpg',\n",
              " 'train/cats/cat.811.jpg',\n",
              " 'train/cats/cat.675.jpg',\n",
              " 'train/cats/cat.709.jpg',\n",
              " 'train/cats/cat.881.jpg',\n",
              " 'train/cats/cat.943.jpg',\n",
              " 'train/cats/cat.839.jpg',\n",
              " 'train/cats/cat.935.jpg',\n",
              " 'train/cats/cat.749.jpg',\n",
              " 'train/cats/cat.558.jpg',\n",
              " 'train/cats/cat.326.jpg',\n",
              " 'train/cats/cat.329.jpg',\n",
              " 'train/cats/cat.683.jpg',\n",
              " 'train/cats/cat.171.jpg',\n",
              " 'train/cats/cat.583.jpg',\n",
              " 'train/cats/cat.501.jpg',\n",
              " 'train/cats/cat.99.jpg',\n",
              " 'train/cats/cat.358.jpg',\n",
              " 'train/cats/cat.438.jpg',\n",
              " 'train/cats/cat.925.jpg',\n",
              " 'train/cats/cat.366.jpg',\n",
              " 'train/cats/cat.481.jpg',\n",
              " 'train/cats/cat.825.jpg',\n",
              " 'train/cats/cat.14.jpg',\n",
              " 'train/cats/cat.948.jpg',\n",
              " 'train/cats/cat.141.jpg',\n",
              " 'train/cats/cat.599.jpg',\n",
              " 'train/cats/cat.297.jpg',\n",
              " 'train/cats/cat.617.jpg',\n",
              " 'train/cats/cat.339.jpg',\n",
              " 'train/cats/cat.130.jpg',\n",
              " 'train/cats/cat.383.jpg',\n",
              " 'train/cats/cat.746.jpg',\n",
              " 'train/cats/cat.270.jpg',\n",
              " 'train/cats/cat.532.jpg',\n",
              " 'train/cats/cat.520.jpg',\n",
              " 'train/cats/cat.884.jpg',\n",
              " 'train/cats/cat.469.jpg',\n",
              " 'train/cats/cat.2.jpg',\n",
              " 'train/cats/cat.572.jpg',\n",
              " 'train/cats/cat.495.jpg',\n",
              " 'train/cats/cat.52.jpg',\n",
              " 'train/cats/cat.55.jpg',\n",
              " 'train/cats/cat.732.jpg',\n",
              " 'train/cats/cat.208.jpg',\n",
              " 'train/cats/cat.603.jpg',\n",
              " 'train/cats/cat.911.jpg',\n",
              " 'train/cats/cat.586.jpg',\n",
              " 'train/cats/cat.627.jpg',\n",
              " 'train/cats/cat.493.jpg',\n",
              " 'train/cats/cat.610.jpg',\n",
              " 'train/cats/cat.316.jpg',\n",
              " 'train/cats/cat.774.jpg',\n",
              " 'train/cats/cat.451.jpg',\n",
              " 'train/cats/cat.42.jpg',\n",
              " 'train/cats/cat.53.jpg',\n",
              " 'train/cats/cat.268.jpg',\n",
              " 'train/cats/cat.260.jpg',\n",
              " 'train/cats/cat.991.jpg',\n",
              " 'train/cats/cat.580.jpg',\n",
              " 'train/cats/cat.155.jpg',\n",
              " 'train/cats/cat.914.jpg',\n",
              " 'train/cats/cat.965.jpg',\n",
              " 'train/cats/cat.830.jpg',\n",
              " 'train/cats/cat.730.jpg',\n",
              " 'train/cats/cat.496.jpg',\n",
              " 'train/cats/cat.544.jpg',\n",
              " 'train/cats/cat.265.jpg',\n",
              " 'train/cats/cat.257.jpg',\n",
              " 'train/cats/cat.508.jpg',\n",
              " 'train/cats/cat.239.jpg',\n",
              " 'train/cats/cat.920.jpg',\n",
              " 'train/cats/cat.682.jpg',\n",
              " 'train/cats/cat.955.jpg',\n",
              " 'train/cats/cat.174.jpg',\n",
              " 'train/cats/cat.223.jpg',\n",
              " 'train/cats/cat.547.jpg',\n",
              " 'train/cats/cat.151.jpg',\n",
              " 'train/cats/cat.757.jpg',\n",
              " 'train/cats/cat.312.jpg',\n",
              " 'train/cats/cat.777.jpg',\n",
              " 'train/cats/cat.9.jpg',\n",
              " 'train/cats/cat.778.jpg',\n",
              " 'train/cats/cat.43.jpg',\n",
              " 'train/cats/cat.620.jpg',\n",
              " 'train/cats/cat.164.jpg',\n",
              " 'train/cats/cat.826.jpg',\n",
              " 'train/cats/cat.615.jpg',\n",
              " 'train/cats/cat.187.jpg',\n",
              " 'train/cats/cat.35.jpg',\n",
              " 'train/cats/cat.585.jpg',\n",
              " 'train/cats/cat.258.jpg',\n",
              " 'train/cats/cat.938.jpg',\n",
              " 'train/cats/cat.504.jpg',\n",
              " 'train/cats/cat.999.jpg',\n",
              " 'train/cats/cat.352.jpg',\n",
              " 'train/cats/cat.219.jpg',\n",
              " 'train/cats/cat.796.jpg',\n",
              " 'train/cats/cat.376.jpg',\n",
              " 'train/cats/cat.659.jpg',\n",
              " 'train/cats/cat.152.jpg',\n",
              " 'train/cats/cat.170.jpg',\n",
              " 'train/cats/cat.238.jpg',\n",
              " 'train/cats/cat.121.jpg',\n",
              " 'train/cats/cat.953.jpg',\n",
              " 'train/cats/cat.590.jpg',\n",
              " 'train/cats/cat.762.jpg',\n",
              " 'train/cats/cat.369.jpg',\n",
              " 'train/cats/cat.611.jpg',\n",
              " 'train/cats/cat.46.jpg',\n",
              " 'train/cats/cat.484.jpg',\n",
              " 'train/cats/cat.982.jpg',\n",
              " 'train/cats/cat.449.jpg',\n",
              " 'train/cats/cat.320.jpg',\n",
              " 'train/cats/cat.408.jpg',\n",
              " 'train/cats/cat.523.jpg',\n",
              " 'train/cats/cat.755.jpg',\n",
              " 'train/cats/cat.940.jpg',\n",
              " 'train/cats/cat.336.jpg',\n",
              " 'train/cats/cat.102.jpg',\n",
              " 'train/cats/cat.698.jpg',\n",
              " 'train/cats/cat.994.jpg',\n",
              " 'train/cats/cat.524.jpg',\n",
              " 'train/cats/cat.710.jpg',\n",
              " 'train/cats/cat.28.jpg',\n",
              " 'train/cats/cat.541.jpg',\n",
              " 'train/cats/cat.850.jpg',\n",
              " 'train/cats/cat.784.jpg',\n",
              " 'train/cats/cat.900.jpg',\n",
              " 'train/cats/cat.269.jpg',\n",
              " 'train/cats/cat.930.jpg',\n",
              " 'train/cats/cat.448.jpg',\n",
              " 'train/cats/cat.862.jpg',\n",
              " 'train/cats/cat.463.jpg',\n",
              " 'train/cats/cat.809.jpg',\n",
              " 'train/cats/cat.489.jpg',\n",
              " 'train/cats/cat.444.jpg',\n",
              " 'train/cats/cat.75.jpg',\n",
              " 'train/cats/cat.760.jpg',\n",
              " 'train/cats/cat.927.jpg',\n",
              " 'train/cats/cat.913.jpg',\n",
              " 'train/cats/cat.150.jpg',\n",
              " 'train/cats/cat.210.jpg',\n",
              " 'train/cats/cat.570.jpg',\n",
              " 'train/cats/cat.440.jpg',\n",
              " 'train/cats/cat.340.jpg',\n",
              " 'train/cats/cat.721.jpg',\n",
              " 'train/cats/cat.468.jpg',\n",
              " 'train/cats/cat.542.jpg',\n",
              " 'train/cats/cat.782.jpg',\n",
              " 'train/cats/cat.837.jpg',\n",
              " 'train/cats/cat.579.jpg',\n",
              " 'train/cats/cat.168.jpg',\n",
              " 'train/cats/cat.993.jpg',\n",
              " 'train/cats/cat.835.jpg',\n",
              " 'train/cats/cat.276.jpg',\n",
              " 'train/cats/cat.581.jpg',\n",
              " 'train/cats/cat.557.jpg',\n",
              " 'train/cats/cat.71.jpg',\n",
              " 'train/cats/cat.575.jpg',\n",
              " 'train/cats/cat.720.jpg',\n",
              " 'train/cats/cat.487.jpg',\n",
              " 'train/cats/cat.85.jpg',\n",
              " 'train/cats/cat.220.jpg',\n",
              " 'train/cats/cat.971.jpg',\n",
              " 'train/cats/cat.90.jpg',\n",
              " 'train/cats/cat.833.jpg',\n",
              " 'train/cats/cat.286.jpg',\n",
              " 'train/cats/cat.452.jpg',\n",
              " 'train/cats/cat.790.jpg',\n",
              " 'train/cats/cat.626.jpg',\n",
              " 'train/cats/cat.68.jpg',\n",
              " 'train/cats/cat.666.jpg',\n",
              " 'train/cats/cat.729.jpg',\n",
              " 'train/cats/cat.195.jpg',\n",
              " 'train/cats/cat.94.jpg',\n",
              " 'train/cats/cat.582.jpg',\n",
              " 'train/cats/cat.511.jpg',\n",
              " 'train/cats/cat.985.jpg',\n",
              " 'train/cats/cat.535.jpg',\n",
              " 'train/cats/cat.761.jpg',\n",
              " 'train/cats/cat.898.jpg',\n",
              " 'train/cats/cat.60.jpg',\n",
              " 'train/cats/cat.717.jpg',\n",
              " 'train/cats/cat.595.jpg',\n",
              " 'train/cats/cat.773.jpg',\n",
              " 'train/cats/cat.873.jpg',\n",
              " 'train/cats/cat.285.jpg',\n",
              " 'train/cats/cat.587.jpg',\n",
              " 'train/cats/cat.588.jpg',\n",
              " 'train/cats/cat.692.jpg',\n",
              " 'train/cats/cat.298.jpg',\n",
              " 'train/cats/cat.394.jpg',\n",
              " 'train/cats/cat.638.jpg',\n",
              " 'train/cats/cat.702.jpg',\n",
              " 'train/cats/cat.956.jpg',\n",
              " 'train/cats/cat.388.jpg',\n",
              " 'train/cats/cat.891.jpg',\n",
              " 'train/cats/cat.428.jpg',\n",
              " 'train/cats/cat.606.jpg',\n",
              " 'train/cats/cat.974.jpg',\n",
              " 'train/cats/cat.841.jpg',\n",
              " 'train/cats/cat.637.jpg',\n",
              " 'train/cats/cat.1.jpg',\n",
              " 'train/cats/cat.190.jpg',\n",
              " 'train/cats/cat.62.jpg',\n",
              " 'train/cats/cat.553.jpg',\n",
              " 'train/cats/cat.169.jpg',\n",
              " 'train/cats/cat.252.jpg',\n",
              " 'train/cats/cat.549.jpg',\n",
              " 'train/cats/cat.986.jpg',\n",
              " 'train/cats/cat.117.jpg',\n",
              " 'train/cats/cat.254.jpg',\n",
              " 'train/cats/cat.328.jpg',\n",
              " 'train/cats/cat.431.jpg',\n",
              " 'train/cats/cat.671.jpg',\n",
              " 'train/cats/cat.48.jpg',\n",
              " 'train/cats/cat.780.jpg',\n",
              " 'train/cats/cat.893.jpg',\n",
              " 'train/cats/cat.362.jpg',\n",
              " 'train/cats/cat.373.jpg',\n",
              " 'train/cats/cat.645.jpg',\n",
              " 'train/cats/cat.82.jpg',\n",
              " 'train/cats/cat.650.jpg',\n",
              " 'train/cats/cat.945.jpg',\n",
              " 'train/cats/cat.307.jpg',\n",
              " 'train/cats/cat.743.jpg',\n",
              " 'train/cats/cat.715.jpg',\n",
              " 'train/cats/cat.349.jpg',\n",
              " 'train/cats/cat.459.jpg',\n",
              " 'train/cats/cat.116.jpg',\n",
              " 'train/cats/cat.89.jpg',\n",
              " 'train/cats/cat.510.jpg',\n",
              " 'train/cats/cat.738.jpg',\n",
              " 'train/cats/cat.465.jpg',\n",
              " 'train/cats/cat.960.jpg',\n",
              " 'train/cats/cat.609.jpg',\n",
              " 'train/cats/cat.478.jpg',\n",
              " 'train/cats/cat.278.jpg',\n",
              " 'train/cats/cat.77.jpg',\n",
              " 'train/cats/cat.753.jpg',\n",
              " 'train/cats/cat.888.jpg',\n",
              " 'train/cats/cat.65.jpg',\n",
              " 'train/cats/cat.135.jpg',\n",
              " 'train/cats/cat.402.jpg',\n",
              " 'train/cats/cat.159.jpg',\n",
              " 'train/cats/cat.816.jpg',\n",
              " 'train/cats/cat.870.jpg',\n",
              " 'train/cats/cat.126.jpg',\n",
              " 'train/cats/cat.631.jpg',\n",
              " 'train/cats/cat.313.jpg',\n",
              " 'train/cats/cat.823.jpg',\n",
              " 'train/cats/cat.204.jpg',\n",
              " 'train/cats/cat.621.jpg',\n",
              " 'train/cats/cat.685.jpg',\n",
              " 'train/cats/cat.931.jpg',\n",
              " 'train/cats/cat.371.jpg',\n",
              " 'train/cats/cat.499.jpg',\n",
              " 'train/cats/cat.672.jpg',\n",
              " 'train/cats/cat.426.jpg',\n",
              " 'train/cats/cat.995.jpg',\n",
              " 'train/cats/cat.129.jpg',\n",
              " 'train/cats/cat.50.jpg',\n",
              " 'train/cats/cat.54.jpg',\n",
              " 'train/cats/cat.921.jpg',\n",
              " 'train/cats/cat.44.jpg',\n",
              " 'train/cats/cat.789.jpg',\n",
              " 'train/cats/cat.474.jpg',\n",
              " 'train/cats/cat.318.jpg',\n",
              " 'train/cats/cat.554.jpg',\n",
              " 'train/cats/cat.644.jpg',\n",
              " 'train/cats/cat.596.jpg',\n",
              " 'train/cats/cat.419.jpg',\n",
              " 'train/cats/cat.67.jpg',\n",
              " 'train/cats/cat.639.jpg',\n",
              " 'train/cats/cat.693.jpg',\n",
              " 'train/cats/cat.889.jpg',\n",
              " 'train/cats/cat.22.jpg',\n",
              " 'train/cats/cat.245.jpg',\n",
              " 'train/cats/cat.317.jpg',\n",
              " 'train/cats/cat.381.jpg',\n",
              " 'train/cats/cat.456.jpg',\n",
              " 'train/cats/cat.179.jpg',\n",
              " 'train/cats/cat.266.jpg',\n",
              " 'train/cats/cat.787.jpg',\n",
              " 'train/cats/cat.529.jpg',\n",
              " 'train/cats/cat.664.jpg',\n",
              " 'train/cats/cat.91.jpg',\n",
              " 'train/cats/cat.563.jpg',\n",
              " 'train/cats/cat.386.jpg',\n",
              " 'train/cats/cat.886.jpg',\n",
              " 'train/cats/cat.840.jpg',\n",
              " 'train/cats/cat.199.jpg',\n",
              " 'train/cats/cat.695.jpg',\n",
              " 'train/cats/cat.211.jpg',\n",
              " 'train/cats/cat.273.jpg',\n",
              " 'train/cats/cat.792.jpg',\n",
              " 'train/cats/cat.632.jpg',\n",
              " 'train/cats/cat.602.jpg',\n",
              " 'train/cats/cat.226.jpg',\n",
              " 'train/cats/cat.832.jpg',\n",
              " 'train/cats/cat.512.jpg',\n",
              " 'train/cats/cat.472.jpg',\n",
              " 'train/cats/cat.450.jpg',\n",
              " 'train/cats/cat.663.jpg',\n",
              " 'train/cats/cat.614.jpg',\n",
              " 'train/cats/cat.824.jpg',\n",
              " 'train/cats/cat.976.jpg',\n",
              " 'train/cats/cat.233.jpg',\n",
              " 'train/cats/cat.624.jpg',\n",
              " 'train/cats/cat.188.jpg',\n",
              " 'train/cats/cat.193.jpg',\n",
              " 'train/cats/cat.395.jpg',\n",
              " 'train/cats/cat.896.jpg',\n",
              " 'train/cats/cat.949.jpg',\n",
              " 'train/cats/cat.552.jpg',\n",
              " 'train/cats/cat.86.jpg',\n",
              " 'train/cats/cat.741.jpg',\n",
              " 'train/cats/cat.192.jpg',\n",
              " 'train/cats/cat.291.jpg',\n",
              " 'train/cats/cat.398.jpg',\n",
              " 'train/cats/cat.519.jpg',\n",
              " 'train/cats/cat.25.jpg',\n",
              " 'train/cats/cat.225.jpg',\n",
              " 'train/cats/cat.763.jpg',\n",
              " 'train/cats/cat.941.jpg',\n",
              " 'train/cats/cat.400.jpg',\n",
              " 'train/cats/cat.691.jpg',\n",
              " 'train/cats/cat.929.jpg',\n",
              " 'train/cats/cat.95.jpg',\n",
              " 'train/cats/cat.267.jpg',\n",
              " 'train/cats/cat.462.jpg',\n",
              " 'train/cats/cat.534.jpg',\n",
              " 'train/cats/cat.834.jpg',\n",
              " 'train/cats/cat.163.jpg',\n",
              " 'train/cats/cat.634.jpg',\n",
              " 'train/cats/cat.537.jpg',\n",
              " 'train/cats/cat.846.jpg',\n",
              " 'train/cats/cat.662.jpg',\n",
              " 'train/cats/cat.324.jpg',\n",
              " 'train/cats/cat.290.jpg',\n",
              " 'train/cats/cat.856.jpg',\n",
              " 'train/cats/cat.923.jpg',\n",
              " 'train/cats/cat.992.jpg',\n",
              " 'train/cats/cat.909.jpg',\n",
              " 'train/cats/cat.704.jpg',\n",
              " 'train/cats/cat.237.jpg',\n",
              " 'train/cats/cat.249.jpg',\n",
              " 'train/cats/cat.690.jpg',\n",
              " 'train/cats/cat.160.jpg',\n",
              " 'train/cats/cat.274.jpg',\n",
              " 'train/cats/cat.584.jpg',\n",
              " 'train/cats/cat.27.jpg',\n",
              " 'train/cats/cat.363.jpg',\n",
              " 'train/cats/cat.8.jpg',\n",
              " 'train/cats/cat.814.jpg',\n",
              " 'train/cats/cat.482.jpg',\n",
              " 'train/cats/cat.34.jpg',\n",
              " 'train/cats/cat.162.jpg',\n",
              " 'train/cats/cat.180.jpg',\n",
              " 'train/cats/cat.863.jpg',\n",
              " 'train/cats/cat.871.jpg',\n",
              " 'train/cats/cat.61.jpg',\n",
              " 'train/cats/cat.78.jpg',\n",
              " 'train/cats/cat.810.jpg',\n",
              " 'train/cats/cat.885.jpg',\n",
              " 'train/cats/cat.619.jpg',\n",
              " 'train/cats/cat.434.jpg',\n",
              " 'train/cats/cat.589.jpg',\n",
              " 'train/cats/cat.844.jpg',\n",
              " 'train/cats/cat.887.jpg',\n",
              " 'train/cats/cat.232.jpg',\n",
              " 'train/cats/cat.604.jpg',\n",
              " 'train/cats/cat.148.jpg',\n",
              " 'train/cats/cat.815.jpg',\n",
              " ...]"
            ]
          },
          "metadata": {},
          "execution_count": 15
        }
      ]
    },
    {
      "cell_type": "code",
      "source": [
        "deepdriver.upload_artifact(arti)"
      ],
      "metadata": {
        "id": "2TN3RVr6LMmc",
        "outputId": "0d2a62b2-9b7c-41e4-f1b1-8896c06413db",
        "colab": {
          "base_uri": "https://localhost:8080/",
          "height": 174
        }
      },
      "execution_count": 14,
      "outputs": [
        {
          "output_type": "error",
          "ename": "NameError",
          "evalue": "ignored",
          "traceback": [
            "\u001b[0;31m---------------------------------------------------------------------------\u001b[0m",
            "\u001b[0;31mNameError\u001b[0m                                 Traceback (most recent call last)",
            "\u001b[0;32m<ipython-input-14-e30235ac0321>\u001b[0m in \u001b[0;36m<module>\u001b[0;34m\u001b[0m\n\u001b[0;32m----> 1\u001b[0;31m \u001b[0mdeepdriver\u001b[0m\u001b[0;34m.\u001b[0m\u001b[0mupload_artifact\u001b[0m\u001b[0;34m(\u001b[0m\u001b[0marti\u001b[0m\u001b[0;34m)\u001b[0m\u001b[0;34m\u001b[0m\u001b[0;34m\u001b[0m\u001b[0m\n\u001b[0m",
            "\u001b[0;31mNameError\u001b[0m: name 'arti' is not defined"
          ]
        }
      ]
    },
    {
      "cell_type": "markdown",
      "source": [
        "#7. ⬇ download artifact(data)"
      ],
      "metadata": {
        "id": "Ls72Ap0WLywJ"
      }
    },
    {
      "cell_type": "code",
      "source": [
        "arti2 = deepdriver.get_artifact(name=\"sample\",type=\"dataset\")"
      ],
      "metadata": {
        "id": "b3e58_uUL5gu",
        "colab": {
          "base_uri": "https://localhost:8080/"
        },
        "outputId": "a9e72b18-db56-441e-dbc2-7c628e42742b"
      },
      "execution_count": null,
      "outputs": [
        {
          "output_type": "stream",
          "name": "stdout",
          "text": [
            "2022-12-09 07:57:08,959 INFO [deepdriver] [run.py:38] - artifact is got! \n",
            " artifact id :{1}\n"
          ]
        },
        {
          "output_type": "stream",
          "name": "stderr",
          "text": [
            "INFO:deepdriver:artifact is got! \n",
            " artifact id :{1}\n"
          ]
        }
      ]
    },
    {
      "cell_type": "code",
      "source": [
        "arti2.download()"
      ],
      "metadata": {
        "id": "7gSoGrP9MNls",
        "outputId": "5e618c31-efc4-42e0-d529-fd37edbfe1d6",
        "colab": {
          "base_uri": "https://localhost:8080/"
        }
      },
      "execution_count": null,
      "outputs": [
        {
          "output_type": "stream",
          "name": "stdout",
          "text": [
            "Downloading: [./deepdriver/artifact/1/mnist_train_small.csv] |██████████████████████████████| [100.0%] [6/6]"
          ]
        },
        {
          "output_type": "execute_result",
          "data": {
            "text/plain": [
              "'./deepdriver/artifact/1'"
            ],
            "application/vnd.google.colaboratory.intrinsic+json": {
              "type": "string"
            }
          },
          "metadata": {},
          "execution_count": 47
        }
      ]
    },
    {
      "cell_type": "markdown",
      "source": [
        "#8. 📊 visualize train result"
      ],
      "metadata": {
        "id": "UCmYNLCNMv8m"
      }
    },
    {
      "cell_type": "code",
      "source": [
        "df =deepdriver.DataFrame(columns=[\"step\",\"acc\"], data=[ [idx, acc] for idx, acc in enumerate(accuracy)])"
      ],
      "metadata": {
        "id": "JIqpCcrFMvR8"
      },
      "execution_count": null,
      "outputs": []
    },
    {
      "cell_type": "code",
      "source": [
        "line =deepdriver.line(df,\"step\",\"acc\")"
      ],
      "metadata": {
        "id": "pEJ8AjwbNyEZ"
      },
      "execution_count": null,
      "outputs": []
    },
    {
      "cell_type": "code",
      "source": [
        "deepdriver.visualize(line)"
      ],
      "metadata": {
        "id": "0JyWD1ERNgg9",
        "outputId": "9e42410f-8ce2-4389-a52a-918557bc2e75",
        "colab": {
          "base_uri": "https://localhost:8080/"
        }
      },
      "execution_count": null,
      "outputs": [
        {
          "output_type": "display_data",
          "data": {
            "text/html": [
              "<html>\n",
              "<head><meta charset=\"utf-8\" /></head>\n",
              "<body>\n",
              "    <div>            <script src=\"https://cdnjs.cloudflare.com/ajax/libs/mathjax/2.7.5/MathJax.js?config=TeX-AMS-MML_SVG\"></script><script type=\"text/javascript\">if (window.MathJax) {MathJax.Hub.Config({SVG: {font: \"STIX-Web\"}});}</script>                <script type=\"text/javascript\">window.PlotlyConfig = {MathJaxConfig: 'local'};</script>\n",
              "        <script src=\"https://cdn.plot.ly/plotly-2.8.3.min.js\"></script>                <div id=\"537ccf1d-acad-443f-bc1c-2f9c7f2adb89\" class=\"plotly-graph-div\" style=\"height:525px; width:100%;\"></div>            <script type=\"text/javascript\">                                    window.PLOTLYENV=window.PLOTLYENV || {};                                    if (document.getElementById(\"537ccf1d-acad-443f-bc1c-2f9c7f2adb89\")) {                    Plotly.newPlot(                        \"537ccf1d-acad-443f-bc1c-2f9c7f2adb89\",                        [{\"hovertemplate\":\"step=%{x}<br>acc=%{y}<extra></extra>\",\"legendgroup\":\"\",\"line\":{\"color\":\"#636efa\",\"dash\":\"solid\"},\"marker\":{\"symbol\":\"circle\"},\"mode\":\"lines\",\"name\":\"\",\"orientation\":\"v\",\"showlegend\":false,\"x\":[0,1,2,3,4,5,6,7,8,9],\"xaxis\":\"x\",\"y\":[0.9347855593723267,0.9501102541563891,0.9948180921403273,0.852002695665684,0.9992796481198516,0.8247691343989634,0.8201582492811135,0.8564450937641692,0.9848465290304723,0.9392001052922492],\"yaxis\":\"y\",\"type\":\"scatter\"}],                        {\"template\":{\"data\":{\"bar\":[{\"error_x\":{\"color\":\"#2a3f5f\"},\"error_y\":{\"color\":\"#2a3f5f\"},\"marker\":{\"line\":{\"color\":\"#E5ECF6\",\"width\":0.5},\"pattern\":{\"fillmode\":\"overlay\",\"size\":10,\"solidity\":0.2}},\"type\":\"bar\"}],\"barpolar\":[{\"marker\":{\"line\":{\"color\":\"#E5ECF6\",\"width\":0.5},\"pattern\":{\"fillmode\":\"overlay\",\"size\":10,\"solidity\":0.2}},\"type\":\"barpolar\"}],\"carpet\":[{\"aaxis\":{\"endlinecolor\":\"#2a3f5f\",\"gridcolor\":\"white\",\"linecolor\":\"white\",\"minorgridcolor\":\"white\",\"startlinecolor\":\"#2a3f5f\"},\"baxis\":{\"endlinecolor\":\"#2a3f5f\",\"gridcolor\":\"white\",\"linecolor\":\"white\",\"minorgridcolor\":\"white\",\"startlinecolor\":\"#2a3f5f\"},\"type\":\"carpet\"}],\"choropleth\":[{\"colorbar\":{\"outlinewidth\":0,\"ticks\":\"\"},\"type\":\"choropleth\"}],\"contour\":[{\"colorbar\":{\"outlinewidth\":0,\"ticks\":\"\"},\"colorscale\":[[0.0,\"#0d0887\"],[0.1111111111111111,\"#46039f\"],[0.2222222222222222,\"#7201a8\"],[0.3333333333333333,\"#9c179e\"],[0.4444444444444444,\"#bd3786\"],[0.5555555555555556,\"#d8576b\"],[0.6666666666666666,\"#ed7953\"],[0.7777777777777778,\"#fb9f3a\"],[0.8888888888888888,\"#fdca26\"],[1.0,\"#f0f921\"]],\"type\":\"contour\"}],\"contourcarpet\":[{\"colorbar\":{\"outlinewidth\":0,\"ticks\":\"\"},\"type\":\"contourcarpet\"}],\"heatmap\":[{\"colorbar\":{\"outlinewidth\":0,\"ticks\":\"\"},\"colorscale\":[[0.0,\"#0d0887\"],[0.1111111111111111,\"#46039f\"],[0.2222222222222222,\"#7201a8\"],[0.3333333333333333,\"#9c179e\"],[0.4444444444444444,\"#bd3786\"],[0.5555555555555556,\"#d8576b\"],[0.6666666666666666,\"#ed7953\"],[0.7777777777777778,\"#fb9f3a\"],[0.8888888888888888,\"#fdca26\"],[1.0,\"#f0f921\"]],\"type\":\"heatmap\"}],\"heatmapgl\":[{\"colorbar\":{\"outlinewidth\":0,\"ticks\":\"\"},\"colorscale\":[[0.0,\"#0d0887\"],[0.1111111111111111,\"#46039f\"],[0.2222222222222222,\"#7201a8\"],[0.3333333333333333,\"#9c179e\"],[0.4444444444444444,\"#bd3786\"],[0.5555555555555556,\"#d8576b\"],[0.6666666666666666,\"#ed7953\"],[0.7777777777777778,\"#fb9f3a\"],[0.8888888888888888,\"#fdca26\"],[1.0,\"#f0f921\"]],\"type\":\"heatmapgl\"}],\"histogram\":[{\"marker\":{\"pattern\":{\"fillmode\":\"overlay\",\"size\":10,\"solidity\":0.2}},\"type\":\"histogram\"}],\"histogram2d\":[{\"colorbar\":{\"outlinewidth\":0,\"ticks\":\"\"},\"colorscale\":[[0.0,\"#0d0887\"],[0.1111111111111111,\"#46039f\"],[0.2222222222222222,\"#7201a8\"],[0.3333333333333333,\"#9c179e\"],[0.4444444444444444,\"#bd3786\"],[0.5555555555555556,\"#d8576b\"],[0.6666666666666666,\"#ed7953\"],[0.7777777777777778,\"#fb9f3a\"],[0.8888888888888888,\"#fdca26\"],[1.0,\"#f0f921\"]],\"type\":\"histogram2d\"}],\"histogram2dcontour\":[{\"colorbar\":{\"outlinewidth\":0,\"ticks\":\"\"},\"colorscale\":[[0.0,\"#0d0887\"],[0.1111111111111111,\"#46039f\"],[0.2222222222222222,\"#7201a8\"],[0.3333333333333333,\"#9c179e\"],[0.4444444444444444,\"#bd3786\"],[0.5555555555555556,\"#d8576b\"],[0.6666666666666666,\"#ed7953\"],[0.7777777777777778,\"#fb9f3a\"],[0.8888888888888888,\"#fdca26\"],[1.0,\"#f0f921\"]],\"type\":\"histogram2dcontour\"}],\"mesh3d\":[{\"colorbar\":{\"outlinewidth\":0,\"ticks\":\"\"},\"type\":\"mesh3d\"}],\"parcoords\":[{\"line\":{\"colorbar\":{\"outlinewidth\":0,\"ticks\":\"\"}},\"type\":\"parcoords\"}],\"pie\":[{\"automargin\":true,\"type\":\"pie\"}],\"scatter\":[{\"marker\":{\"colorbar\":{\"outlinewidth\":0,\"ticks\":\"\"}},\"type\":\"scatter\"}],\"scatter3d\":[{\"line\":{\"colorbar\":{\"outlinewidth\":0,\"ticks\":\"\"}},\"marker\":{\"colorbar\":{\"outlinewidth\":0,\"ticks\":\"\"}},\"type\":\"scatter3d\"}],\"scattercarpet\":[{\"marker\":{\"colorbar\":{\"outlinewidth\":0,\"ticks\":\"\"}},\"type\":\"scattercarpet\"}],\"scattergeo\":[{\"marker\":{\"colorbar\":{\"outlinewidth\":0,\"ticks\":\"\"}},\"type\":\"scattergeo\"}],\"scattergl\":[{\"marker\":{\"colorbar\":{\"outlinewidth\":0,\"ticks\":\"\"}},\"type\":\"scattergl\"}],\"scattermapbox\":[{\"marker\":{\"colorbar\":{\"outlinewidth\":0,\"ticks\":\"\"}},\"type\":\"scattermapbox\"}],\"scatterpolar\":[{\"marker\":{\"colorbar\":{\"outlinewidth\":0,\"ticks\":\"\"}},\"type\":\"scatterpolar\"}],\"scatterpolargl\":[{\"marker\":{\"colorbar\":{\"outlinewidth\":0,\"ticks\":\"\"}},\"type\":\"scatterpolargl\"}],\"scatterternary\":[{\"marker\":{\"colorbar\":{\"outlinewidth\":0,\"ticks\":\"\"}},\"type\":\"scatterternary\"}],\"surface\":[{\"colorbar\":{\"outlinewidth\":0,\"ticks\":\"\"},\"colorscale\":[[0.0,\"#0d0887\"],[0.1111111111111111,\"#46039f\"],[0.2222222222222222,\"#7201a8\"],[0.3333333333333333,\"#9c179e\"],[0.4444444444444444,\"#bd3786\"],[0.5555555555555556,\"#d8576b\"],[0.6666666666666666,\"#ed7953\"],[0.7777777777777778,\"#fb9f3a\"],[0.8888888888888888,\"#fdca26\"],[1.0,\"#f0f921\"]],\"type\":\"surface\"}],\"table\":[{\"cells\":{\"fill\":{\"color\":\"#EBF0F8\"},\"line\":{\"color\":\"white\"}},\"header\":{\"fill\":{\"color\":\"#C8D4E3\"},\"line\":{\"color\":\"white\"}},\"type\":\"table\"}]},\"layout\":{\"annotationdefaults\":{\"arrowcolor\":\"#2a3f5f\",\"arrowhead\":0,\"arrowwidth\":1},\"autotypenumbers\":\"strict\",\"coloraxis\":{\"colorbar\":{\"outlinewidth\":0,\"ticks\":\"\"}},\"colorscale\":{\"diverging\":[[0,\"#8e0152\"],[0.1,\"#c51b7d\"],[0.2,\"#de77ae\"],[0.3,\"#f1b6da\"],[0.4,\"#fde0ef\"],[0.5,\"#f7f7f7\"],[0.6,\"#e6f5d0\"],[0.7,\"#b8e186\"],[0.8,\"#7fbc41\"],[0.9,\"#4d9221\"],[1,\"#276419\"]],\"sequential\":[[0.0,\"#0d0887\"],[0.1111111111111111,\"#46039f\"],[0.2222222222222222,\"#7201a8\"],[0.3333333333333333,\"#9c179e\"],[0.4444444444444444,\"#bd3786\"],[0.5555555555555556,\"#d8576b\"],[0.6666666666666666,\"#ed7953\"],[0.7777777777777778,\"#fb9f3a\"],[0.8888888888888888,\"#fdca26\"],[1.0,\"#f0f921\"]],\"sequentialminus\":[[0.0,\"#0d0887\"],[0.1111111111111111,\"#46039f\"],[0.2222222222222222,\"#7201a8\"],[0.3333333333333333,\"#9c179e\"],[0.4444444444444444,\"#bd3786\"],[0.5555555555555556,\"#d8576b\"],[0.6666666666666666,\"#ed7953\"],[0.7777777777777778,\"#fb9f3a\"],[0.8888888888888888,\"#fdca26\"],[1.0,\"#f0f921\"]]},\"colorway\":[\"#636efa\",\"#EF553B\",\"#00cc96\",\"#ab63fa\",\"#FFA15A\",\"#19d3f3\",\"#FF6692\",\"#B6E880\",\"#FF97FF\",\"#FECB52\"],\"font\":{\"color\":\"#2a3f5f\"},\"geo\":{\"bgcolor\":\"white\",\"lakecolor\":\"white\",\"landcolor\":\"#E5ECF6\",\"showlakes\":true,\"showland\":true,\"subunitcolor\":\"white\"},\"hoverlabel\":{\"align\":\"left\"},\"hovermode\":\"closest\",\"mapbox\":{\"style\":\"light\"},\"paper_bgcolor\":\"white\",\"plot_bgcolor\":\"#E5ECF6\",\"polar\":{\"angularaxis\":{\"gridcolor\":\"white\",\"linecolor\":\"white\",\"ticks\":\"\"},\"bgcolor\":\"#E5ECF6\",\"radialaxis\":{\"gridcolor\":\"white\",\"linecolor\":\"white\",\"ticks\":\"\"}},\"scene\":{\"xaxis\":{\"backgroundcolor\":\"#E5ECF6\",\"gridcolor\":\"white\",\"gridwidth\":2,\"linecolor\":\"white\",\"showbackground\":true,\"ticks\":\"\",\"zerolinecolor\":\"white\"},\"yaxis\":{\"backgroundcolor\":\"#E5ECF6\",\"gridcolor\":\"white\",\"gridwidth\":2,\"linecolor\":\"white\",\"showbackground\":true,\"ticks\":\"\",\"zerolinecolor\":\"white\"},\"zaxis\":{\"backgroundcolor\":\"#E5ECF6\",\"gridcolor\":\"white\",\"gridwidth\":2,\"linecolor\":\"white\",\"showbackground\":true,\"ticks\":\"\",\"zerolinecolor\":\"white\"}},\"shapedefaults\":{\"line\":{\"color\":\"#2a3f5f\"}},\"ternary\":{\"aaxis\":{\"gridcolor\":\"white\",\"linecolor\":\"white\",\"ticks\":\"\"},\"baxis\":{\"gridcolor\":\"white\",\"linecolor\":\"white\",\"ticks\":\"\"},\"bgcolor\":\"#E5ECF6\",\"caxis\":{\"gridcolor\":\"white\",\"linecolor\":\"white\",\"ticks\":\"\"}},\"title\":{\"x\":0.05},\"xaxis\":{\"automargin\":true,\"gridcolor\":\"white\",\"linecolor\":\"white\",\"ticks\":\"\",\"title\":{\"standoff\":15},\"zerolinecolor\":\"white\",\"zerolinewidth\":2},\"yaxis\":{\"automargin\":true,\"gridcolor\":\"white\",\"linecolor\":\"white\",\"ticks\":\"\",\"title\":{\"standoff\":15},\"zerolinecolor\":\"white\",\"zerolinewidth\":2}}},\"xaxis\":{\"anchor\":\"y\",\"domain\":[0.0,1.0],\"title\":{\"text\":\"step\"}},\"yaxis\":{\"anchor\":\"x\",\"domain\":[0.0,1.0],\"title\":{\"text\":\"acc\"}},\"legend\":{\"tracegroupgap\":0},\"margin\":{\"t\":60}},                        {\"responsive\": true}                    ).then(function(){\n",
              "                            \n",
              "var gd = document.getElementById('537ccf1d-acad-443f-bc1c-2f9c7f2adb89');\n",
              "var x = new MutationObserver(function (mutations, observer) {{\n",
              "        var display = window.getComputedStyle(gd).display;\n",
              "        if (!display || display === 'none') {{\n",
              "            console.log([gd, 'removed!']);\n",
              "            Plotly.purge(gd);\n",
              "            observer.disconnect();\n",
              "        }}\n",
              "}});\n",
              "\n",
              "// Listen for the removal of the full notebook cells\n",
              "var notebookContainer = gd.closest('#notebook-container');\n",
              "if (notebookContainer) {{\n",
              "    x.observe(notebookContainer, {childList: true});\n",
              "}}\n",
              "\n",
              "// Listen for the clearing of the current output cell\n",
              "var outputEl = gd.closest('.output');\n",
              "if (outputEl) {{\n",
              "    x.observe(outputEl, {childList: true});\n",
              "}}\n",
              "\n",
              "                        })                };                            </script>        </div>\n",
              "</body>\n",
              "</html>"
            ]
          },
          "metadata": {}
        }
      ]
    },
    {
      "cell_type": "code",
      "source": [
        "df =deepdriver.DataFrame(columns=[\"step\",\"loss\"], data=[ [idx, loss] for idx, loss in enumerate(train_loss)])"
      ],
      "metadata": {
        "id": "Ra8OrrynpSp_"
      },
      "execution_count": null,
      "outputs": []
    },
    {
      "cell_type": "code",
      "source": [
        "line =deepdriver.line(df,\"step\",\"loss\")"
      ],
      "metadata": {
        "id": "GYjqzZZdn9a3"
      },
      "execution_count": null,
      "outputs": []
    },
    {
      "cell_type": "code",
      "source": [
        "deepdriver.visualize(line)"
      ],
      "metadata": {
        "id": "juUxt1qOn9K4",
        "outputId": "22664831-1af7-4809-e597-0e16c5543805",
        "colab": {
          "base_uri": "https://localhost:8080/"
        }
      },
      "execution_count": null,
      "outputs": [
        {
          "output_type": "display_data",
          "data": {
            "text/html": [
              "<html>\n",
              "<head><meta charset=\"utf-8\" /></head>\n",
              "<body>\n",
              "    <div>            <script src=\"https://cdnjs.cloudflare.com/ajax/libs/mathjax/2.7.5/MathJax.js?config=TeX-AMS-MML_SVG\"></script><script type=\"text/javascript\">if (window.MathJax) {MathJax.Hub.Config({SVG: {font: \"STIX-Web\"}});}</script>                <script type=\"text/javascript\">window.PlotlyConfig = {MathJaxConfig: 'local'};</script>\n",
              "        <script src=\"https://cdn.plot.ly/plotly-2.8.3.min.js\"></script>                <div id=\"27fd36ed-48f3-4d3d-9d7e-2ceedce3ac38\" class=\"plotly-graph-div\" style=\"height:525px; width:100%;\"></div>            <script type=\"text/javascript\">                                    window.PLOTLYENV=window.PLOTLYENV || {};                                    if (document.getElementById(\"27fd36ed-48f3-4d3d-9d7e-2ceedce3ac38\")) {                    Plotly.newPlot(                        \"27fd36ed-48f3-4d3d-9d7e-2ceedce3ac38\",                        [{\"hovertemplate\":\"step=%{x}<br>loss=%{y}<extra></extra>\",\"legendgroup\":\"\",\"line\":{\"color\":\"#636efa\",\"dash\":\"solid\"},\"marker\":{\"symbol\":\"circle\"},\"mode\":\"lines\",\"name\":\"\",\"orientation\":\"v\",\"showlegend\":false,\"x\":[0,1,2,3,4,5,6,7,8,9],\"xaxis\":\"x\",\"y\":[0.1485602604721751,0.17126438098145164,0.17280395297191062,0.12942075382987114,0.14223195576092845,0.13597808287818508,0.12349016423498177,0.12057542419792605,0.11699056478682697,0.10223114769927441],\"yaxis\":\"y\",\"type\":\"scatter\"}],                        {\"template\":{\"data\":{\"bar\":[{\"error_x\":{\"color\":\"#2a3f5f\"},\"error_y\":{\"color\":\"#2a3f5f\"},\"marker\":{\"line\":{\"color\":\"#E5ECF6\",\"width\":0.5},\"pattern\":{\"fillmode\":\"overlay\",\"size\":10,\"solidity\":0.2}},\"type\":\"bar\"}],\"barpolar\":[{\"marker\":{\"line\":{\"color\":\"#E5ECF6\",\"width\":0.5},\"pattern\":{\"fillmode\":\"overlay\",\"size\":10,\"solidity\":0.2}},\"type\":\"barpolar\"}],\"carpet\":[{\"aaxis\":{\"endlinecolor\":\"#2a3f5f\",\"gridcolor\":\"white\",\"linecolor\":\"white\",\"minorgridcolor\":\"white\",\"startlinecolor\":\"#2a3f5f\"},\"baxis\":{\"endlinecolor\":\"#2a3f5f\",\"gridcolor\":\"white\",\"linecolor\":\"white\",\"minorgridcolor\":\"white\",\"startlinecolor\":\"#2a3f5f\"},\"type\":\"carpet\"}],\"choropleth\":[{\"colorbar\":{\"outlinewidth\":0,\"ticks\":\"\"},\"type\":\"choropleth\"}],\"contour\":[{\"colorbar\":{\"outlinewidth\":0,\"ticks\":\"\"},\"colorscale\":[[0.0,\"#0d0887\"],[0.1111111111111111,\"#46039f\"],[0.2222222222222222,\"#7201a8\"],[0.3333333333333333,\"#9c179e\"],[0.4444444444444444,\"#bd3786\"],[0.5555555555555556,\"#d8576b\"],[0.6666666666666666,\"#ed7953\"],[0.7777777777777778,\"#fb9f3a\"],[0.8888888888888888,\"#fdca26\"],[1.0,\"#f0f921\"]],\"type\":\"contour\"}],\"contourcarpet\":[{\"colorbar\":{\"outlinewidth\":0,\"ticks\":\"\"},\"type\":\"contourcarpet\"}],\"heatmap\":[{\"colorbar\":{\"outlinewidth\":0,\"ticks\":\"\"},\"colorscale\":[[0.0,\"#0d0887\"],[0.1111111111111111,\"#46039f\"],[0.2222222222222222,\"#7201a8\"],[0.3333333333333333,\"#9c179e\"],[0.4444444444444444,\"#bd3786\"],[0.5555555555555556,\"#d8576b\"],[0.6666666666666666,\"#ed7953\"],[0.7777777777777778,\"#fb9f3a\"],[0.8888888888888888,\"#fdca26\"],[1.0,\"#f0f921\"]],\"type\":\"heatmap\"}],\"heatmapgl\":[{\"colorbar\":{\"outlinewidth\":0,\"ticks\":\"\"},\"colorscale\":[[0.0,\"#0d0887\"],[0.1111111111111111,\"#46039f\"],[0.2222222222222222,\"#7201a8\"],[0.3333333333333333,\"#9c179e\"],[0.4444444444444444,\"#bd3786\"],[0.5555555555555556,\"#d8576b\"],[0.6666666666666666,\"#ed7953\"],[0.7777777777777778,\"#fb9f3a\"],[0.8888888888888888,\"#fdca26\"],[1.0,\"#f0f921\"]],\"type\":\"heatmapgl\"}],\"histogram\":[{\"marker\":{\"pattern\":{\"fillmode\":\"overlay\",\"size\":10,\"solidity\":0.2}},\"type\":\"histogram\"}],\"histogram2d\":[{\"colorbar\":{\"outlinewidth\":0,\"ticks\":\"\"},\"colorscale\":[[0.0,\"#0d0887\"],[0.1111111111111111,\"#46039f\"],[0.2222222222222222,\"#7201a8\"],[0.3333333333333333,\"#9c179e\"],[0.4444444444444444,\"#bd3786\"],[0.5555555555555556,\"#d8576b\"],[0.6666666666666666,\"#ed7953\"],[0.7777777777777778,\"#fb9f3a\"],[0.8888888888888888,\"#fdca26\"],[1.0,\"#f0f921\"]],\"type\":\"histogram2d\"}],\"histogram2dcontour\":[{\"colorbar\":{\"outlinewidth\":0,\"ticks\":\"\"},\"colorscale\":[[0.0,\"#0d0887\"],[0.1111111111111111,\"#46039f\"],[0.2222222222222222,\"#7201a8\"],[0.3333333333333333,\"#9c179e\"],[0.4444444444444444,\"#bd3786\"],[0.5555555555555556,\"#d8576b\"],[0.6666666666666666,\"#ed7953\"],[0.7777777777777778,\"#fb9f3a\"],[0.8888888888888888,\"#fdca26\"],[1.0,\"#f0f921\"]],\"type\":\"histogram2dcontour\"}],\"mesh3d\":[{\"colorbar\":{\"outlinewidth\":0,\"ticks\":\"\"},\"type\":\"mesh3d\"}],\"parcoords\":[{\"line\":{\"colorbar\":{\"outlinewidth\":0,\"ticks\":\"\"}},\"type\":\"parcoords\"}],\"pie\":[{\"automargin\":true,\"type\":\"pie\"}],\"scatter\":[{\"marker\":{\"colorbar\":{\"outlinewidth\":0,\"ticks\":\"\"}},\"type\":\"scatter\"}],\"scatter3d\":[{\"line\":{\"colorbar\":{\"outlinewidth\":0,\"ticks\":\"\"}},\"marker\":{\"colorbar\":{\"outlinewidth\":0,\"ticks\":\"\"}},\"type\":\"scatter3d\"}],\"scattercarpet\":[{\"marker\":{\"colorbar\":{\"outlinewidth\":0,\"ticks\":\"\"}},\"type\":\"scattercarpet\"}],\"scattergeo\":[{\"marker\":{\"colorbar\":{\"outlinewidth\":0,\"ticks\":\"\"}},\"type\":\"scattergeo\"}],\"scattergl\":[{\"marker\":{\"colorbar\":{\"outlinewidth\":0,\"ticks\":\"\"}},\"type\":\"scattergl\"}],\"scattermapbox\":[{\"marker\":{\"colorbar\":{\"outlinewidth\":0,\"ticks\":\"\"}},\"type\":\"scattermapbox\"}],\"scatterpolar\":[{\"marker\":{\"colorbar\":{\"outlinewidth\":0,\"ticks\":\"\"}},\"type\":\"scatterpolar\"}],\"scatterpolargl\":[{\"marker\":{\"colorbar\":{\"outlinewidth\":0,\"ticks\":\"\"}},\"type\":\"scatterpolargl\"}],\"scatterternary\":[{\"marker\":{\"colorbar\":{\"outlinewidth\":0,\"ticks\":\"\"}},\"type\":\"scatterternary\"}],\"surface\":[{\"colorbar\":{\"outlinewidth\":0,\"ticks\":\"\"},\"colorscale\":[[0.0,\"#0d0887\"],[0.1111111111111111,\"#46039f\"],[0.2222222222222222,\"#7201a8\"],[0.3333333333333333,\"#9c179e\"],[0.4444444444444444,\"#bd3786\"],[0.5555555555555556,\"#d8576b\"],[0.6666666666666666,\"#ed7953\"],[0.7777777777777778,\"#fb9f3a\"],[0.8888888888888888,\"#fdca26\"],[1.0,\"#f0f921\"]],\"type\":\"surface\"}],\"table\":[{\"cells\":{\"fill\":{\"color\":\"#EBF0F8\"},\"line\":{\"color\":\"white\"}},\"header\":{\"fill\":{\"color\":\"#C8D4E3\"},\"line\":{\"color\":\"white\"}},\"type\":\"table\"}]},\"layout\":{\"annotationdefaults\":{\"arrowcolor\":\"#2a3f5f\",\"arrowhead\":0,\"arrowwidth\":1},\"autotypenumbers\":\"strict\",\"coloraxis\":{\"colorbar\":{\"outlinewidth\":0,\"ticks\":\"\"}},\"colorscale\":{\"diverging\":[[0,\"#8e0152\"],[0.1,\"#c51b7d\"],[0.2,\"#de77ae\"],[0.3,\"#f1b6da\"],[0.4,\"#fde0ef\"],[0.5,\"#f7f7f7\"],[0.6,\"#e6f5d0\"],[0.7,\"#b8e186\"],[0.8,\"#7fbc41\"],[0.9,\"#4d9221\"],[1,\"#276419\"]],\"sequential\":[[0.0,\"#0d0887\"],[0.1111111111111111,\"#46039f\"],[0.2222222222222222,\"#7201a8\"],[0.3333333333333333,\"#9c179e\"],[0.4444444444444444,\"#bd3786\"],[0.5555555555555556,\"#d8576b\"],[0.6666666666666666,\"#ed7953\"],[0.7777777777777778,\"#fb9f3a\"],[0.8888888888888888,\"#fdca26\"],[1.0,\"#f0f921\"]],\"sequentialminus\":[[0.0,\"#0d0887\"],[0.1111111111111111,\"#46039f\"],[0.2222222222222222,\"#7201a8\"],[0.3333333333333333,\"#9c179e\"],[0.4444444444444444,\"#bd3786\"],[0.5555555555555556,\"#d8576b\"],[0.6666666666666666,\"#ed7953\"],[0.7777777777777778,\"#fb9f3a\"],[0.8888888888888888,\"#fdca26\"],[1.0,\"#f0f921\"]]},\"colorway\":[\"#636efa\",\"#EF553B\",\"#00cc96\",\"#ab63fa\",\"#FFA15A\",\"#19d3f3\",\"#FF6692\",\"#B6E880\",\"#FF97FF\",\"#FECB52\"],\"font\":{\"color\":\"#2a3f5f\"},\"geo\":{\"bgcolor\":\"white\",\"lakecolor\":\"white\",\"landcolor\":\"#E5ECF6\",\"showlakes\":true,\"showland\":true,\"subunitcolor\":\"white\"},\"hoverlabel\":{\"align\":\"left\"},\"hovermode\":\"closest\",\"mapbox\":{\"style\":\"light\"},\"paper_bgcolor\":\"white\",\"plot_bgcolor\":\"#E5ECF6\",\"polar\":{\"angularaxis\":{\"gridcolor\":\"white\",\"linecolor\":\"white\",\"ticks\":\"\"},\"bgcolor\":\"#E5ECF6\",\"radialaxis\":{\"gridcolor\":\"white\",\"linecolor\":\"white\",\"ticks\":\"\"}},\"scene\":{\"xaxis\":{\"backgroundcolor\":\"#E5ECF6\",\"gridcolor\":\"white\",\"gridwidth\":2,\"linecolor\":\"white\",\"showbackground\":true,\"ticks\":\"\",\"zerolinecolor\":\"white\"},\"yaxis\":{\"backgroundcolor\":\"#E5ECF6\",\"gridcolor\":\"white\",\"gridwidth\":2,\"linecolor\":\"white\",\"showbackground\":true,\"ticks\":\"\",\"zerolinecolor\":\"white\"},\"zaxis\":{\"backgroundcolor\":\"#E5ECF6\",\"gridcolor\":\"white\",\"gridwidth\":2,\"linecolor\":\"white\",\"showbackground\":true,\"ticks\":\"\",\"zerolinecolor\":\"white\"}},\"shapedefaults\":{\"line\":{\"color\":\"#2a3f5f\"}},\"ternary\":{\"aaxis\":{\"gridcolor\":\"white\",\"linecolor\":\"white\",\"ticks\":\"\"},\"baxis\":{\"gridcolor\":\"white\",\"linecolor\":\"white\",\"ticks\":\"\"},\"bgcolor\":\"#E5ECF6\",\"caxis\":{\"gridcolor\":\"white\",\"linecolor\":\"white\",\"ticks\":\"\"}},\"title\":{\"x\":0.05},\"xaxis\":{\"automargin\":true,\"gridcolor\":\"white\",\"linecolor\":\"white\",\"ticks\":\"\",\"title\":{\"standoff\":15},\"zerolinecolor\":\"white\",\"zerolinewidth\":2},\"yaxis\":{\"automargin\":true,\"gridcolor\":\"white\",\"linecolor\":\"white\",\"ticks\":\"\",\"title\":{\"standoff\":15},\"zerolinecolor\":\"white\",\"zerolinewidth\":2}}},\"xaxis\":{\"anchor\":\"y\",\"domain\":[0.0,1.0],\"title\":{\"text\":\"step\"}},\"yaxis\":{\"anchor\":\"x\",\"domain\":[0.0,1.0],\"title\":{\"text\":\"loss\"}},\"legend\":{\"tracegroupgap\":0},\"margin\":{\"t\":60}},                        {\"responsive\": true}                    ).then(function(){\n",
              "                            \n",
              "var gd = document.getElementById('27fd36ed-48f3-4d3d-9d7e-2ceedce3ac38');\n",
              "var x = new MutationObserver(function (mutations, observer) {{\n",
              "        var display = window.getComputedStyle(gd).display;\n",
              "        if (!display || display === 'none') {{\n",
              "            console.log([gd, 'removed!']);\n",
              "            Plotly.purge(gd);\n",
              "            observer.disconnect();\n",
              "        }}\n",
              "}});\n",
              "\n",
              "// Listen for the removal of the full notebook cells\n",
              "var notebookContainer = gd.closest('#notebook-container');\n",
              "if (notebookContainer) {{\n",
              "    x.observe(notebookContainer, {childList: true});\n",
              "}}\n",
              "\n",
              "// Listen for the clearing of the current output cell\n",
              "var outputEl = gd.closest('.output');\n",
              "if (outputEl) {{\n",
              "    x.observe(outputEl, {childList: true});\n",
              "}}\n",
              "\n",
              "                        })                };                            </script>        </div>\n",
              "</body>\n",
              "</html>"
            ]
          },
          "metadata": {}
        }
      ]
    },
    {
      "cell_type": "code",
      "source": [
        "df =deepdriver.DataFrame(columns=[\"step\",\"acc\"], data=[ [idx, acc] for idx, acc in enumerate(accuracy)])"
      ],
      "metadata": {
        "id": "sNOLcvqvpgM-"
      },
      "execution_count": null,
      "outputs": []
    },
    {
      "cell_type": "code",
      "source": [
        "historgram = deepdriver.histogram(df,\"step\",\"acc\")"
      ],
      "metadata": {
        "id": "zWMgBuS9Oasd"
      },
      "execution_count": null,
      "outputs": []
    },
    {
      "cell_type": "code",
      "source": [
        "deepdriver.visualize(historgram)"
      ],
      "metadata": {
        "id": "twbFind_OjLe",
        "outputId": "4f107acf-d017-4290-f70d-d3ad321a32c9",
        "colab": {
          "base_uri": "https://localhost:8080/"
        }
      },
      "execution_count": null,
      "outputs": [
        {
          "output_type": "display_data",
          "data": {
            "text/html": [
              "<html>\n",
              "<head><meta charset=\"utf-8\" /></head>\n",
              "<body>\n",
              "    <div>            <script src=\"https://cdnjs.cloudflare.com/ajax/libs/mathjax/2.7.5/MathJax.js?config=TeX-AMS-MML_SVG\"></script><script type=\"text/javascript\">if (window.MathJax) {MathJax.Hub.Config({SVG: {font: \"STIX-Web\"}});}</script>                <script type=\"text/javascript\">window.PlotlyConfig = {MathJaxConfig: 'local'};</script>\n",
              "        <script src=\"https://cdn.plot.ly/plotly-2.8.3.min.js\"></script>                <div id=\"fb715620-a40d-4e8a-8176-b38b865ff088\" class=\"plotly-graph-div\" style=\"height:525px; width:100%;\"></div>            <script type=\"text/javascript\">                                    window.PLOTLYENV=window.PLOTLYENV || {};                                    if (document.getElementById(\"fb715620-a40d-4e8a-8176-b38b865ff088\")) {                    Plotly.newPlot(                        \"fb715620-a40d-4e8a-8176-b38b865ff088\",                        [{\"alignmentgroup\":\"True\",\"bingroup\":\"x\",\"histfunc\":\"sum\",\"hovertemplate\":\"step=%{x}<br>sum of acc=%{y}<extra></extra>\",\"legendgroup\":\"\",\"marker\":{\"color\":\"#636efa\",\"pattern\":{\"shape\":\"\"}},\"name\":\"\",\"offsetgroup\":\"\",\"orientation\":\"v\",\"showlegend\":false,\"x\":[0,1,2,3,4,5,6,7,8,9],\"xaxis\":\"x\",\"y\":[0.9347855593723267,0.9501102541563891,0.9948180921403273,0.852002695665684,0.9992796481198516,0.8247691343989634,0.8201582492811135,0.8564450937641692,0.9848465290304723,0.9392001052922492],\"yaxis\":\"y\",\"type\":\"histogram\"}],                        {\"template\":{\"data\":{\"bar\":[{\"error_x\":{\"color\":\"#2a3f5f\"},\"error_y\":{\"color\":\"#2a3f5f\"},\"marker\":{\"line\":{\"color\":\"#E5ECF6\",\"width\":0.5},\"pattern\":{\"fillmode\":\"overlay\",\"size\":10,\"solidity\":0.2}},\"type\":\"bar\"}],\"barpolar\":[{\"marker\":{\"line\":{\"color\":\"#E5ECF6\",\"width\":0.5},\"pattern\":{\"fillmode\":\"overlay\",\"size\":10,\"solidity\":0.2}},\"type\":\"barpolar\"}],\"carpet\":[{\"aaxis\":{\"endlinecolor\":\"#2a3f5f\",\"gridcolor\":\"white\",\"linecolor\":\"white\",\"minorgridcolor\":\"white\",\"startlinecolor\":\"#2a3f5f\"},\"baxis\":{\"endlinecolor\":\"#2a3f5f\",\"gridcolor\":\"white\",\"linecolor\":\"white\",\"minorgridcolor\":\"white\",\"startlinecolor\":\"#2a3f5f\"},\"type\":\"carpet\"}],\"choropleth\":[{\"colorbar\":{\"outlinewidth\":0,\"ticks\":\"\"},\"type\":\"choropleth\"}],\"contour\":[{\"colorbar\":{\"outlinewidth\":0,\"ticks\":\"\"},\"colorscale\":[[0.0,\"#0d0887\"],[0.1111111111111111,\"#46039f\"],[0.2222222222222222,\"#7201a8\"],[0.3333333333333333,\"#9c179e\"],[0.4444444444444444,\"#bd3786\"],[0.5555555555555556,\"#d8576b\"],[0.6666666666666666,\"#ed7953\"],[0.7777777777777778,\"#fb9f3a\"],[0.8888888888888888,\"#fdca26\"],[1.0,\"#f0f921\"]],\"type\":\"contour\"}],\"contourcarpet\":[{\"colorbar\":{\"outlinewidth\":0,\"ticks\":\"\"},\"type\":\"contourcarpet\"}],\"heatmap\":[{\"colorbar\":{\"outlinewidth\":0,\"ticks\":\"\"},\"colorscale\":[[0.0,\"#0d0887\"],[0.1111111111111111,\"#46039f\"],[0.2222222222222222,\"#7201a8\"],[0.3333333333333333,\"#9c179e\"],[0.4444444444444444,\"#bd3786\"],[0.5555555555555556,\"#d8576b\"],[0.6666666666666666,\"#ed7953\"],[0.7777777777777778,\"#fb9f3a\"],[0.8888888888888888,\"#fdca26\"],[1.0,\"#f0f921\"]],\"type\":\"heatmap\"}],\"heatmapgl\":[{\"colorbar\":{\"outlinewidth\":0,\"ticks\":\"\"},\"colorscale\":[[0.0,\"#0d0887\"],[0.1111111111111111,\"#46039f\"],[0.2222222222222222,\"#7201a8\"],[0.3333333333333333,\"#9c179e\"],[0.4444444444444444,\"#bd3786\"],[0.5555555555555556,\"#d8576b\"],[0.6666666666666666,\"#ed7953\"],[0.7777777777777778,\"#fb9f3a\"],[0.8888888888888888,\"#fdca26\"],[1.0,\"#f0f921\"]],\"type\":\"heatmapgl\"}],\"histogram\":[{\"marker\":{\"pattern\":{\"fillmode\":\"overlay\",\"size\":10,\"solidity\":0.2}},\"type\":\"histogram\"}],\"histogram2d\":[{\"colorbar\":{\"outlinewidth\":0,\"ticks\":\"\"},\"colorscale\":[[0.0,\"#0d0887\"],[0.1111111111111111,\"#46039f\"],[0.2222222222222222,\"#7201a8\"],[0.3333333333333333,\"#9c179e\"],[0.4444444444444444,\"#bd3786\"],[0.5555555555555556,\"#d8576b\"],[0.6666666666666666,\"#ed7953\"],[0.7777777777777778,\"#fb9f3a\"],[0.8888888888888888,\"#fdca26\"],[1.0,\"#f0f921\"]],\"type\":\"histogram2d\"}],\"histogram2dcontour\":[{\"colorbar\":{\"outlinewidth\":0,\"ticks\":\"\"},\"colorscale\":[[0.0,\"#0d0887\"],[0.1111111111111111,\"#46039f\"],[0.2222222222222222,\"#7201a8\"],[0.3333333333333333,\"#9c179e\"],[0.4444444444444444,\"#bd3786\"],[0.5555555555555556,\"#d8576b\"],[0.6666666666666666,\"#ed7953\"],[0.7777777777777778,\"#fb9f3a\"],[0.8888888888888888,\"#fdca26\"],[1.0,\"#f0f921\"]],\"type\":\"histogram2dcontour\"}],\"mesh3d\":[{\"colorbar\":{\"outlinewidth\":0,\"ticks\":\"\"},\"type\":\"mesh3d\"}],\"parcoords\":[{\"line\":{\"colorbar\":{\"outlinewidth\":0,\"ticks\":\"\"}},\"type\":\"parcoords\"}],\"pie\":[{\"automargin\":true,\"type\":\"pie\"}],\"scatter\":[{\"marker\":{\"colorbar\":{\"outlinewidth\":0,\"ticks\":\"\"}},\"type\":\"scatter\"}],\"scatter3d\":[{\"line\":{\"colorbar\":{\"outlinewidth\":0,\"ticks\":\"\"}},\"marker\":{\"colorbar\":{\"outlinewidth\":0,\"ticks\":\"\"}},\"type\":\"scatter3d\"}],\"scattercarpet\":[{\"marker\":{\"colorbar\":{\"outlinewidth\":0,\"ticks\":\"\"}},\"type\":\"scattercarpet\"}],\"scattergeo\":[{\"marker\":{\"colorbar\":{\"outlinewidth\":0,\"ticks\":\"\"}},\"type\":\"scattergeo\"}],\"scattergl\":[{\"marker\":{\"colorbar\":{\"outlinewidth\":0,\"ticks\":\"\"}},\"type\":\"scattergl\"}],\"scattermapbox\":[{\"marker\":{\"colorbar\":{\"outlinewidth\":0,\"ticks\":\"\"}},\"type\":\"scattermapbox\"}],\"scatterpolar\":[{\"marker\":{\"colorbar\":{\"outlinewidth\":0,\"ticks\":\"\"}},\"type\":\"scatterpolar\"}],\"scatterpolargl\":[{\"marker\":{\"colorbar\":{\"outlinewidth\":0,\"ticks\":\"\"}},\"type\":\"scatterpolargl\"}],\"scatterternary\":[{\"marker\":{\"colorbar\":{\"outlinewidth\":0,\"ticks\":\"\"}},\"type\":\"scatterternary\"}],\"surface\":[{\"colorbar\":{\"outlinewidth\":0,\"ticks\":\"\"},\"colorscale\":[[0.0,\"#0d0887\"],[0.1111111111111111,\"#46039f\"],[0.2222222222222222,\"#7201a8\"],[0.3333333333333333,\"#9c179e\"],[0.4444444444444444,\"#bd3786\"],[0.5555555555555556,\"#d8576b\"],[0.6666666666666666,\"#ed7953\"],[0.7777777777777778,\"#fb9f3a\"],[0.8888888888888888,\"#fdca26\"],[1.0,\"#f0f921\"]],\"type\":\"surface\"}],\"table\":[{\"cells\":{\"fill\":{\"color\":\"#EBF0F8\"},\"line\":{\"color\":\"white\"}},\"header\":{\"fill\":{\"color\":\"#C8D4E3\"},\"line\":{\"color\":\"white\"}},\"type\":\"table\"}]},\"layout\":{\"annotationdefaults\":{\"arrowcolor\":\"#2a3f5f\",\"arrowhead\":0,\"arrowwidth\":1},\"autotypenumbers\":\"strict\",\"coloraxis\":{\"colorbar\":{\"outlinewidth\":0,\"ticks\":\"\"}},\"colorscale\":{\"diverging\":[[0,\"#8e0152\"],[0.1,\"#c51b7d\"],[0.2,\"#de77ae\"],[0.3,\"#f1b6da\"],[0.4,\"#fde0ef\"],[0.5,\"#f7f7f7\"],[0.6,\"#e6f5d0\"],[0.7,\"#b8e186\"],[0.8,\"#7fbc41\"],[0.9,\"#4d9221\"],[1,\"#276419\"]],\"sequential\":[[0.0,\"#0d0887\"],[0.1111111111111111,\"#46039f\"],[0.2222222222222222,\"#7201a8\"],[0.3333333333333333,\"#9c179e\"],[0.4444444444444444,\"#bd3786\"],[0.5555555555555556,\"#d8576b\"],[0.6666666666666666,\"#ed7953\"],[0.7777777777777778,\"#fb9f3a\"],[0.8888888888888888,\"#fdca26\"],[1.0,\"#f0f921\"]],\"sequentialminus\":[[0.0,\"#0d0887\"],[0.1111111111111111,\"#46039f\"],[0.2222222222222222,\"#7201a8\"],[0.3333333333333333,\"#9c179e\"],[0.4444444444444444,\"#bd3786\"],[0.5555555555555556,\"#d8576b\"],[0.6666666666666666,\"#ed7953\"],[0.7777777777777778,\"#fb9f3a\"],[0.8888888888888888,\"#fdca26\"],[1.0,\"#f0f921\"]]},\"colorway\":[\"#636efa\",\"#EF553B\",\"#00cc96\",\"#ab63fa\",\"#FFA15A\",\"#19d3f3\",\"#FF6692\",\"#B6E880\",\"#FF97FF\",\"#FECB52\"],\"font\":{\"color\":\"#2a3f5f\"},\"geo\":{\"bgcolor\":\"white\",\"lakecolor\":\"white\",\"landcolor\":\"#E5ECF6\",\"showlakes\":true,\"showland\":true,\"subunitcolor\":\"white\"},\"hoverlabel\":{\"align\":\"left\"},\"hovermode\":\"closest\",\"mapbox\":{\"style\":\"light\"},\"paper_bgcolor\":\"white\",\"plot_bgcolor\":\"#E5ECF6\",\"polar\":{\"angularaxis\":{\"gridcolor\":\"white\",\"linecolor\":\"white\",\"ticks\":\"\"},\"bgcolor\":\"#E5ECF6\",\"radialaxis\":{\"gridcolor\":\"white\",\"linecolor\":\"white\",\"ticks\":\"\"}},\"scene\":{\"xaxis\":{\"backgroundcolor\":\"#E5ECF6\",\"gridcolor\":\"white\",\"gridwidth\":2,\"linecolor\":\"white\",\"showbackground\":true,\"ticks\":\"\",\"zerolinecolor\":\"white\"},\"yaxis\":{\"backgroundcolor\":\"#E5ECF6\",\"gridcolor\":\"white\",\"gridwidth\":2,\"linecolor\":\"white\",\"showbackground\":true,\"ticks\":\"\",\"zerolinecolor\":\"white\"},\"zaxis\":{\"backgroundcolor\":\"#E5ECF6\",\"gridcolor\":\"white\",\"gridwidth\":2,\"linecolor\":\"white\",\"showbackground\":true,\"ticks\":\"\",\"zerolinecolor\":\"white\"}},\"shapedefaults\":{\"line\":{\"color\":\"#2a3f5f\"}},\"ternary\":{\"aaxis\":{\"gridcolor\":\"white\",\"linecolor\":\"white\",\"ticks\":\"\"},\"baxis\":{\"gridcolor\":\"white\",\"linecolor\":\"white\",\"ticks\":\"\"},\"bgcolor\":\"#E5ECF6\",\"caxis\":{\"gridcolor\":\"white\",\"linecolor\":\"white\",\"ticks\":\"\"}},\"title\":{\"x\":0.05},\"xaxis\":{\"automargin\":true,\"gridcolor\":\"white\",\"linecolor\":\"white\",\"ticks\":\"\",\"title\":{\"standoff\":15},\"zerolinecolor\":\"white\",\"zerolinewidth\":2},\"yaxis\":{\"automargin\":true,\"gridcolor\":\"white\",\"linecolor\":\"white\",\"ticks\":\"\",\"title\":{\"standoff\":15},\"zerolinecolor\":\"white\",\"zerolinewidth\":2}}},\"xaxis\":{\"anchor\":\"y\",\"domain\":[0.0,1.0],\"title\":{\"text\":\"step\"}},\"yaxis\":{\"anchor\":\"x\",\"domain\":[0.0,1.0],\"title\":{\"text\":\"sum of acc\"}},\"legend\":{\"tracegroupgap\":0},\"margin\":{\"t\":60},\"barmode\":\"relative\"},                        {\"responsive\": true}                    ).then(function(){\n",
              "                            \n",
              "var gd = document.getElementById('fb715620-a40d-4e8a-8176-b38b865ff088');\n",
              "var x = new MutationObserver(function (mutations, observer) {{\n",
              "        var display = window.getComputedStyle(gd).display;\n",
              "        if (!display || display === 'none') {{\n",
              "            console.log([gd, 'removed!']);\n",
              "            Plotly.purge(gd);\n",
              "            observer.disconnect();\n",
              "        }}\n",
              "}});\n",
              "\n",
              "// Listen for the removal of the full notebook cells\n",
              "var notebookContainer = gd.closest('#notebook-container');\n",
              "if (notebookContainer) {{\n",
              "    x.observe(notebookContainer, {childList: true});\n",
              "}}\n",
              "\n",
              "// Listen for the clearing of the current output cell\n",
              "var outputEl = gd.closest('.output');\n",
              "if (outputEl) {{\n",
              "    x.observe(outputEl, {childList: true});\n",
              "}}\n",
              "\n",
              "                        })                };                            </script>        </div>\n",
              "</body>\n",
              "</html>"
            ]
          },
          "metadata": {}
        }
      ]
    },
    {
      "cell_type": "code",
      "source": [
        "scatter = deepdriver.scatter(df,\"step\",\"acc\")"
      ],
      "metadata": {
        "id": "NLiHuvyDOpaN"
      },
      "execution_count": null,
      "outputs": []
    },
    {
      "cell_type": "code",
      "source": [
        "deepdriver.visualize(scatter)"
      ],
      "metadata": {
        "id": "KO-QuvIOOpyI",
        "outputId": "4a1cb368-ed9d-4328-d649-cca61cdbca2b",
        "colab": {
          "base_uri": "https://localhost:8080/"
        }
      },
      "execution_count": null,
      "outputs": [
        {
          "output_type": "display_data",
          "data": {
            "text/html": [
              "<html>\n",
              "<head><meta charset=\"utf-8\" /></head>\n",
              "<body>\n",
              "    <div>            <script src=\"https://cdnjs.cloudflare.com/ajax/libs/mathjax/2.7.5/MathJax.js?config=TeX-AMS-MML_SVG\"></script><script type=\"text/javascript\">if (window.MathJax) {MathJax.Hub.Config({SVG: {font: \"STIX-Web\"}});}</script>                <script type=\"text/javascript\">window.PlotlyConfig = {MathJaxConfig: 'local'};</script>\n",
              "        <script src=\"https://cdn.plot.ly/plotly-2.8.3.min.js\"></script>                <div id=\"0692c63a-910e-4270-9af6-ecd08a55f742\" class=\"plotly-graph-div\" style=\"height:525px; width:100%;\"></div>            <script type=\"text/javascript\">                                    window.PLOTLYENV=window.PLOTLYENV || {};                                    if (document.getElementById(\"0692c63a-910e-4270-9af6-ecd08a55f742\")) {                    Plotly.newPlot(                        \"0692c63a-910e-4270-9af6-ecd08a55f742\",                        [{\"hovertemplate\":\"step=%{x}<br>acc=%{y}<extra></extra>\",\"legendgroup\":\"\",\"marker\":{\"color\":\"#636efa\",\"symbol\":\"circle\"},\"mode\":\"markers\",\"name\":\"\",\"orientation\":\"v\",\"showlegend\":false,\"x\":[0,1,2,3,4,5,6,7,8,9],\"xaxis\":\"x\",\"y\":[0.9347855593723267,0.9501102541563891,0.9948180921403273,0.852002695665684,0.9992796481198516,0.8247691343989634,0.8201582492811135,0.8564450937641692,0.9848465290304723,0.9392001052922492],\"yaxis\":\"y\",\"type\":\"scatter\"}],                        {\"template\":{\"data\":{\"bar\":[{\"error_x\":{\"color\":\"#2a3f5f\"},\"error_y\":{\"color\":\"#2a3f5f\"},\"marker\":{\"line\":{\"color\":\"#E5ECF6\",\"width\":0.5},\"pattern\":{\"fillmode\":\"overlay\",\"size\":10,\"solidity\":0.2}},\"type\":\"bar\"}],\"barpolar\":[{\"marker\":{\"line\":{\"color\":\"#E5ECF6\",\"width\":0.5},\"pattern\":{\"fillmode\":\"overlay\",\"size\":10,\"solidity\":0.2}},\"type\":\"barpolar\"}],\"carpet\":[{\"aaxis\":{\"endlinecolor\":\"#2a3f5f\",\"gridcolor\":\"white\",\"linecolor\":\"white\",\"minorgridcolor\":\"white\",\"startlinecolor\":\"#2a3f5f\"},\"baxis\":{\"endlinecolor\":\"#2a3f5f\",\"gridcolor\":\"white\",\"linecolor\":\"white\",\"minorgridcolor\":\"white\",\"startlinecolor\":\"#2a3f5f\"},\"type\":\"carpet\"}],\"choropleth\":[{\"colorbar\":{\"outlinewidth\":0,\"ticks\":\"\"},\"type\":\"choropleth\"}],\"contour\":[{\"colorbar\":{\"outlinewidth\":0,\"ticks\":\"\"},\"colorscale\":[[0.0,\"#0d0887\"],[0.1111111111111111,\"#46039f\"],[0.2222222222222222,\"#7201a8\"],[0.3333333333333333,\"#9c179e\"],[0.4444444444444444,\"#bd3786\"],[0.5555555555555556,\"#d8576b\"],[0.6666666666666666,\"#ed7953\"],[0.7777777777777778,\"#fb9f3a\"],[0.8888888888888888,\"#fdca26\"],[1.0,\"#f0f921\"]],\"type\":\"contour\"}],\"contourcarpet\":[{\"colorbar\":{\"outlinewidth\":0,\"ticks\":\"\"},\"type\":\"contourcarpet\"}],\"heatmap\":[{\"colorbar\":{\"outlinewidth\":0,\"ticks\":\"\"},\"colorscale\":[[0.0,\"#0d0887\"],[0.1111111111111111,\"#46039f\"],[0.2222222222222222,\"#7201a8\"],[0.3333333333333333,\"#9c179e\"],[0.4444444444444444,\"#bd3786\"],[0.5555555555555556,\"#d8576b\"],[0.6666666666666666,\"#ed7953\"],[0.7777777777777778,\"#fb9f3a\"],[0.8888888888888888,\"#fdca26\"],[1.0,\"#f0f921\"]],\"type\":\"heatmap\"}],\"heatmapgl\":[{\"colorbar\":{\"outlinewidth\":0,\"ticks\":\"\"},\"colorscale\":[[0.0,\"#0d0887\"],[0.1111111111111111,\"#46039f\"],[0.2222222222222222,\"#7201a8\"],[0.3333333333333333,\"#9c179e\"],[0.4444444444444444,\"#bd3786\"],[0.5555555555555556,\"#d8576b\"],[0.6666666666666666,\"#ed7953\"],[0.7777777777777778,\"#fb9f3a\"],[0.8888888888888888,\"#fdca26\"],[1.0,\"#f0f921\"]],\"type\":\"heatmapgl\"}],\"histogram\":[{\"marker\":{\"pattern\":{\"fillmode\":\"overlay\",\"size\":10,\"solidity\":0.2}},\"type\":\"histogram\"}],\"histogram2d\":[{\"colorbar\":{\"outlinewidth\":0,\"ticks\":\"\"},\"colorscale\":[[0.0,\"#0d0887\"],[0.1111111111111111,\"#46039f\"],[0.2222222222222222,\"#7201a8\"],[0.3333333333333333,\"#9c179e\"],[0.4444444444444444,\"#bd3786\"],[0.5555555555555556,\"#d8576b\"],[0.6666666666666666,\"#ed7953\"],[0.7777777777777778,\"#fb9f3a\"],[0.8888888888888888,\"#fdca26\"],[1.0,\"#f0f921\"]],\"type\":\"histogram2d\"}],\"histogram2dcontour\":[{\"colorbar\":{\"outlinewidth\":0,\"ticks\":\"\"},\"colorscale\":[[0.0,\"#0d0887\"],[0.1111111111111111,\"#46039f\"],[0.2222222222222222,\"#7201a8\"],[0.3333333333333333,\"#9c179e\"],[0.4444444444444444,\"#bd3786\"],[0.5555555555555556,\"#d8576b\"],[0.6666666666666666,\"#ed7953\"],[0.7777777777777778,\"#fb9f3a\"],[0.8888888888888888,\"#fdca26\"],[1.0,\"#f0f921\"]],\"type\":\"histogram2dcontour\"}],\"mesh3d\":[{\"colorbar\":{\"outlinewidth\":0,\"ticks\":\"\"},\"type\":\"mesh3d\"}],\"parcoords\":[{\"line\":{\"colorbar\":{\"outlinewidth\":0,\"ticks\":\"\"}},\"type\":\"parcoords\"}],\"pie\":[{\"automargin\":true,\"type\":\"pie\"}],\"scatter\":[{\"marker\":{\"colorbar\":{\"outlinewidth\":0,\"ticks\":\"\"}},\"type\":\"scatter\"}],\"scatter3d\":[{\"line\":{\"colorbar\":{\"outlinewidth\":0,\"ticks\":\"\"}},\"marker\":{\"colorbar\":{\"outlinewidth\":0,\"ticks\":\"\"}},\"type\":\"scatter3d\"}],\"scattercarpet\":[{\"marker\":{\"colorbar\":{\"outlinewidth\":0,\"ticks\":\"\"}},\"type\":\"scattercarpet\"}],\"scattergeo\":[{\"marker\":{\"colorbar\":{\"outlinewidth\":0,\"ticks\":\"\"}},\"type\":\"scattergeo\"}],\"scattergl\":[{\"marker\":{\"colorbar\":{\"outlinewidth\":0,\"ticks\":\"\"}},\"type\":\"scattergl\"}],\"scattermapbox\":[{\"marker\":{\"colorbar\":{\"outlinewidth\":0,\"ticks\":\"\"}},\"type\":\"scattermapbox\"}],\"scatterpolar\":[{\"marker\":{\"colorbar\":{\"outlinewidth\":0,\"ticks\":\"\"}},\"type\":\"scatterpolar\"}],\"scatterpolargl\":[{\"marker\":{\"colorbar\":{\"outlinewidth\":0,\"ticks\":\"\"}},\"type\":\"scatterpolargl\"}],\"scatterternary\":[{\"marker\":{\"colorbar\":{\"outlinewidth\":0,\"ticks\":\"\"}},\"type\":\"scatterternary\"}],\"surface\":[{\"colorbar\":{\"outlinewidth\":0,\"ticks\":\"\"},\"colorscale\":[[0.0,\"#0d0887\"],[0.1111111111111111,\"#46039f\"],[0.2222222222222222,\"#7201a8\"],[0.3333333333333333,\"#9c179e\"],[0.4444444444444444,\"#bd3786\"],[0.5555555555555556,\"#d8576b\"],[0.6666666666666666,\"#ed7953\"],[0.7777777777777778,\"#fb9f3a\"],[0.8888888888888888,\"#fdca26\"],[1.0,\"#f0f921\"]],\"type\":\"surface\"}],\"table\":[{\"cells\":{\"fill\":{\"color\":\"#EBF0F8\"},\"line\":{\"color\":\"white\"}},\"header\":{\"fill\":{\"color\":\"#C8D4E3\"},\"line\":{\"color\":\"white\"}},\"type\":\"table\"}]},\"layout\":{\"annotationdefaults\":{\"arrowcolor\":\"#2a3f5f\",\"arrowhead\":0,\"arrowwidth\":1},\"autotypenumbers\":\"strict\",\"coloraxis\":{\"colorbar\":{\"outlinewidth\":0,\"ticks\":\"\"}},\"colorscale\":{\"diverging\":[[0,\"#8e0152\"],[0.1,\"#c51b7d\"],[0.2,\"#de77ae\"],[0.3,\"#f1b6da\"],[0.4,\"#fde0ef\"],[0.5,\"#f7f7f7\"],[0.6,\"#e6f5d0\"],[0.7,\"#b8e186\"],[0.8,\"#7fbc41\"],[0.9,\"#4d9221\"],[1,\"#276419\"]],\"sequential\":[[0.0,\"#0d0887\"],[0.1111111111111111,\"#46039f\"],[0.2222222222222222,\"#7201a8\"],[0.3333333333333333,\"#9c179e\"],[0.4444444444444444,\"#bd3786\"],[0.5555555555555556,\"#d8576b\"],[0.6666666666666666,\"#ed7953\"],[0.7777777777777778,\"#fb9f3a\"],[0.8888888888888888,\"#fdca26\"],[1.0,\"#f0f921\"]],\"sequentialminus\":[[0.0,\"#0d0887\"],[0.1111111111111111,\"#46039f\"],[0.2222222222222222,\"#7201a8\"],[0.3333333333333333,\"#9c179e\"],[0.4444444444444444,\"#bd3786\"],[0.5555555555555556,\"#d8576b\"],[0.6666666666666666,\"#ed7953\"],[0.7777777777777778,\"#fb9f3a\"],[0.8888888888888888,\"#fdca26\"],[1.0,\"#f0f921\"]]},\"colorway\":[\"#636efa\",\"#EF553B\",\"#00cc96\",\"#ab63fa\",\"#FFA15A\",\"#19d3f3\",\"#FF6692\",\"#B6E880\",\"#FF97FF\",\"#FECB52\"],\"font\":{\"color\":\"#2a3f5f\"},\"geo\":{\"bgcolor\":\"white\",\"lakecolor\":\"white\",\"landcolor\":\"#E5ECF6\",\"showlakes\":true,\"showland\":true,\"subunitcolor\":\"white\"},\"hoverlabel\":{\"align\":\"left\"},\"hovermode\":\"closest\",\"mapbox\":{\"style\":\"light\"},\"paper_bgcolor\":\"white\",\"plot_bgcolor\":\"#E5ECF6\",\"polar\":{\"angularaxis\":{\"gridcolor\":\"white\",\"linecolor\":\"white\",\"ticks\":\"\"},\"bgcolor\":\"#E5ECF6\",\"radialaxis\":{\"gridcolor\":\"white\",\"linecolor\":\"white\",\"ticks\":\"\"}},\"scene\":{\"xaxis\":{\"backgroundcolor\":\"#E5ECF6\",\"gridcolor\":\"white\",\"gridwidth\":2,\"linecolor\":\"white\",\"showbackground\":true,\"ticks\":\"\",\"zerolinecolor\":\"white\"},\"yaxis\":{\"backgroundcolor\":\"#E5ECF6\",\"gridcolor\":\"white\",\"gridwidth\":2,\"linecolor\":\"white\",\"showbackground\":true,\"ticks\":\"\",\"zerolinecolor\":\"white\"},\"zaxis\":{\"backgroundcolor\":\"#E5ECF6\",\"gridcolor\":\"white\",\"gridwidth\":2,\"linecolor\":\"white\",\"showbackground\":true,\"ticks\":\"\",\"zerolinecolor\":\"white\"}},\"shapedefaults\":{\"line\":{\"color\":\"#2a3f5f\"}},\"ternary\":{\"aaxis\":{\"gridcolor\":\"white\",\"linecolor\":\"white\",\"ticks\":\"\"},\"baxis\":{\"gridcolor\":\"white\",\"linecolor\":\"white\",\"ticks\":\"\"},\"bgcolor\":\"#E5ECF6\",\"caxis\":{\"gridcolor\":\"white\",\"linecolor\":\"white\",\"ticks\":\"\"}},\"title\":{\"x\":0.05},\"xaxis\":{\"automargin\":true,\"gridcolor\":\"white\",\"linecolor\":\"white\",\"ticks\":\"\",\"title\":{\"standoff\":15},\"zerolinecolor\":\"white\",\"zerolinewidth\":2},\"yaxis\":{\"automargin\":true,\"gridcolor\":\"white\",\"linecolor\":\"white\",\"ticks\":\"\",\"title\":{\"standoff\":15},\"zerolinecolor\":\"white\",\"zerolinewidth\":2}}},\"xaxis\":{\"anchor\":\"y\",\"domain\":[0.0,1.0],\"title\":{\"text\":\"step\"}},\"yaxis\":{\"anchor\":\"x\",\"domain\":[0.0,1.0],\"title\":{\"text\":\"acc\"}},\"legend\":{\"tracegroupgap\":0},\"margin\":{\"t\":60}},                        {\"responsive\": true}                    ).then(function(){\n",
              "                            \n",
              "var gd = document.getElementById('0692c63a-910e-4270-9af6-ecd08a55f742');\n",
              "var x = new MutationObserver(function (mutations, observer) {{\n",
              "        var display = window.getComputedStyle(gd).display;\n",
              "        if (!display || display === 'none') {{\n",
              "            console.log([gd, 'removed!']);\n",
              "            Plotly.purge(gd);\n",
              "            observer.disconnect();\n",
              "        }}\n",
              "}});\n",
              "\n",
              "// Listen for the removal of the full notebook cells\n",
              "var notebookContainer = gd.closest('#notebook-container');\n",
              "if (notebookContainer) {{\n",
              "    x.observe(notebookContainer, {childList: true});\n",
              "}}\n",
              "\n",
              "// Listen for the clearing of the current output cell\n",
              "var outputEl = gd.closest('.output');\n",
              "if (outputEl) {{\n",
              "    x.observe(outputEl, {childList: true});\n",
              "}}\n",
              "\n",
              "                        })                };                            </script>        </div>\n",
              "</body>\n",
              "</html>"
            ]
          },
          "metadata": {}
        }
      ]
    },
    {
      "cell_type": "markdown",
      "source": [
        "#9. 📈 send log for chart & table"
      ],
      "metadata": {
        "id": "Bt14nGlofIP_"
      }
    },
    {
      "cell_type": "code",
      "source": [
        "df =deepdriver.DataFrame(columns=[\"step\",\"loss\"], data=[ [idx, loss] for idx, loss in enumerate(train_loss)])\n",
        "line =deepdriver.line(df,\"step\",\"loss\")\n",
        "deepdriver.log({\"my_line_chart\":line})"
      ],
      "metadata": {
        "id": "XzVJH3-dfIv_",
        "outputId": "c39cd615-08b8-4530-e45c-28fd71a1440f",
        "colab": {
          "base_uri": "https://localhost:8080/"
        }
      },
      "execution_count": null,
      "outputs": [
        {
          "output_type": "stream",
          "name": "stdout",
          "text": [
            "Uploading: [./deepdriver/run/1/chart/my_line_chart.CHART.json] |██████████████████████████████| [100.0%] [1/1]"
          ]
        },
        {
          "output_type": "execute_result",
          "data": {
            "text/plain": [
              "True"
            ]
          },
          "metadata": {},
          "execution_count": 59
        }
      ]
    },
    {
      "cell_type": "code",
      "source": [
        "df =deepdriver.DataFrame(columns=[\"step\",\"acc\"], data=[ [idx, acc] for idx, acc in enumerate(accuracy)])\n",
        "historgram = deepdriver.histogram(df,\"step\",\"acc\")\n",
        "deepdriver.log({\"my_histogram_chart\":historgram})"
      ],
      "metadata": {
        "id": "XjbhxkZhgttT",
        "outputId": "13771192-6051-4528-c531-1502fa44533d",
        "colab": {
          "base_uri": "https://localhost:8080/"
        }
      },
      "execution_count": null,
      "outputs": [
        {
          "output_type": "stream",
          "name": "stdout",
          "text": [
            "Uploading: [./deepdriver/run/1/chart/my_histogram_chart.CHART.json] |██████████████████████████████| [100.0%] [1/1]"
          ]
        },
        {
          "output_type": "execute_result",
          "data": {
            "text/plain": [
              "True"
            ]
          },
          "metadata": {},
          "execution_count": 60
        }
      ]
    },
    {
      "cell_type": "code",
      "source": [
        "df =deepdriver.DataFrame(columns=[\"step\",\"acc\"], data=[ [idx, acc] for idx, acc in enumerate(accuracy)])\n",
        "scatter = deepdriver.scatter(df,\"step\",\"acc\")\n",
        "deepdriver.log({\"my_scatter_chart\":scatter})"
      ],
      "metadata": {
        "id": "kDqJp1ArgwXq",
        "outputId": "28f7c559-7fc1-4a3d-b12f-e298de84c9c6",
        "colab": {
          "base_uri": "https://localhost:8080/"
        }
      },
      "execution_count": null,
      "outputs": [
        {
          "output_type": "stream",
          "name": "stdout",
          "text": [
            "Uploading: [./deepdriver/run/1/chart/my_scatter_chart.CHART.json] |██████████████████████████████| [100.0%] [1/1]"
          ]
        },
        {
          "output_type": "execute_result",
          "data": {
            "text/plain": [
              "True"
            ]
          },
          "metadata": {},
          "execution_count": 61
        }
      ]
    },
    {
      "cell_type": "markdown",
      "source": [
        "#10. 🔚 finish run"
      ],
      "metadata": {
        "id": "EJ0akeCJR-Ym"
      }
    },
    {
      "cell_type": "code",
      "source": [
        "# finish experiment\n",
        "deepdriver.finish()"
      ],
      "metadata": {
        "id": "EM3BKiqzs1TX",
        "outputId": "a83cd782-18c1-4946-fe2a-9011abd2491b",
        "colab": {
          "base_uri": "https://localhost:8080/"
        }
      },
      "execution_count": null,
      "outputs": [
        {
          "output_type": "execute_result",
          "data": {
            "text/plain": [
              "True"
            ]
          },
          "metadata": {},
          "execution_count": 62
        }
      ]
    },
    {
      "cell_type": "code",
      "source": [],
      "metadata": {
        "id": "sog_PjbhMJui"
      },
      "execution_count": null,
      "outputs": []
    }
  ]
}