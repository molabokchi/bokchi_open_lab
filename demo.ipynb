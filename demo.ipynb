{
  "nbformat": 4,
  "nbformat_minor": 0,
  "metadata": {
    "colab": {
      "provenance": [],
      "include_colab_link": true
    },
    "kernelspec": {
      "name": "python3",
      "display_name": "Python 3"
    },
    "language_info": {
      "name": "python"
    },
    "accelerator": "GPU",
    "gpuClass": "standard"
  },
  "cells": [
    {
      "cell_type": "markdown",
      "metadata": {
        "id": "view-in-github",
        "colab_type": "text"
      },
      "source": [
        "<a href=\"https://colab.research.google.com/github/molabokchi/bokchi_open_lab/blob/main/demo.ipynb\" target=\"_parent\"><img src=\"https://colab.research.google.com/assets/colab-badge.svg\" alt=\"Open In Colab\"/></a>"
      ]
    },
    {
      "cell_type": "markdown",
      "source": [
        "# ![다운로드.png](data:image/png;base64,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) deepdriver quickstart!"
      ],
      "metadata": {
        "id": "ccBiuOu0rtin"
      }
    },
    {
      "cell_type": "markdown",
      "source": [
        "welecome to deepdriver! 😀"
      ],
      "metadata": {
        "id": "ZGV9WnWBrvb_"
      }
    },
    {
      "cell_type": "markdown",
      "source": [
        "You can refer to the guide document.\n",
        "https://bokchi.gitbook.io/deepdriver-ce/"
      ],
      "metadata": {
        "id": "RuepMN3Yyuu9"
      }
    },
    {
      "cell_type": "markdown",
      "source": [
        "# 0. 💻 install deepdriver & requirement package for train"
      ],
      "metadata": {
        "id": "HBGoGa3yQ1TO"
      }
    },
    {
      "cell_type": "code",
      "source": [
        "pip install tensorflow"
      ],
      "metadata": {
        "colab": {
          "base_uri": "https://localhost:8080/"
        },
        "id": "IQnFbnHdSWLN",
        "outputId": "30154ea5-f1da-4057-95a4-071c71198666"
      },
      "execution_count": 3,
      "outputs": [
        {
          "output_type": "stream",
          "name": "stdout",
          "text": [
            "Looking in indexes: https://pypi.org/simple, https://us-python.pkg.dev/colab-wheels/public/simple/\n",
            "Requirement already satisfied: tensorflow in /usr/local/lib/python3.8/dist-packages (2.9.2)\n",
            "Requirement already satisfied: keras<2.10.0,>=2.9.0rc0 in /usr/local/lib/python3.8/dist-packages (from tensorflow) (2.9.0)\n",
            "Requirement already satisfied: keras-preprocessing>=1.1.1 in /usr/local/lib/python3.8/dist-packages (from tensorflow) (1.1.2)\n",
            "Requirement already satisfied: numpy>=1.20 in /usr/local/lib/python3.8/dist-packages (from tensorflow) (1.21.6)\n",
            "Requirement already satisfied: tensorflow-io-gcs-filesystem>=0.23.1 in /usr/local/lib/python3.8/dist-packages (from tensorflow) (0.28.0)\n",
            "Requirement already satisfied: wrapt>=1.11.0 in /usr/local/lib/python3.8/dist-packages (from tensorflow) (1.14.1)\n",
            "Requirement already satisfied: packaging in /usr/local/lib/python3.8/dist-packages (from tensorflow) (21.3)\n",
            "Requirement already satisfied: six>=1.12.0 in /usr/local/lib/python3.8/dist-packages (from tensorflow) (1.15.0)\n",
            "Requirement already satisfied: termcolor>=1.1.0 in /usr/local/lib/python3.8/dist-packages (from tensorflow) (2.1.1)\n",
            "Requirement already satisfied: h5py>=2.9.0 in /usr/local/lib/python3.8/dist-packages (from tensorflow) (3.1.0)\n",
            "Requirement already satisfied: tensorboard<2.10,>=2.9 in /usr/local/lib/python3.8/dist-packages (from tensorflow) (2.9.1)\n",
            "Requirement already satisfied: flatbuffers<2,>=1.12 in /usr/local/lib/python3.8/dist-packages (from tensorflow) (1.12)\n",
            "Requirement already satisfied: gast<=0.4.0,>=0.2.1 in /usr/local/lib/python3.8/dist-packages (from tensorflow) (0.4.0)\n",
            "Requirement already satisfied: protobuf<3.20,>=3.9.2 in /usr/local/lib/python3.8/dist-packages (from tensorflow) (3.19.6)\n",
            "Requirement already satisfied: grpcio<2.0,>=1.24.3 in /usr/local/lib/python3.8/dist-packages (from tensorflow) (1.51.1)\n",
            "Requirement already satisfied: tensorflow-estimator<2.10.0,>=2.9.0rc0 in /usr/local/lib/python3.8/dist-packages (from tensorflow) (2.9.0)\n",
            "Requirement already satisfied: setuptools in /usr/local/lib/python3.8/dist-packages (from tensorflow) (57.4.0)\n",
            "Requirement already satisfied: absl-py>=1.0.0 in /usr/local/lib/python3.8/dist-packages (from tensorflow) (1.3.0)\n",
            "Requirement already satisfied: google-pasta>=0.1.1 in /usr/local/lib/python3.8/dist-packages (from tensorflow) (0.2.0)\n",
            "Requirement already satisfied: astunparse>=1.6.0 in /usr/local/lib/python3.8/dist-packages (from tensorflow) (1.6.3)\n",
            "Requirement already satisfied: opt-einsum>=2.3.2 in /usr/local/lib/python3.8/dist-packages (from tensorflow) (3.3.0)\n",
            "Requirement already satisfied: libclang>=13.0.0 in /usr/local/lib/python3.8/dist-packages (from tensorflow) (14.0.6)\n",
            "Requirement already satisfied: typing-extensions>=3.6.6 in /usr/local/lib/python3.8/dist-packages (from tensorflow) (4.4.0)\n",
            "Requirement already satisfied: wheel<1.0,>=0.23.0 in /usr/local/lib/python3.8/dist-packages (from astunparse>=1.6.0->tensorflow) (0.38.4)\n",
            "Requirement already satisfied: werkzeug>=1.0.1 in /usr/local/lib/python3.8/dist-packages (from tensorboard<2.10,>=2.9->tensorflow) (1.0.1)\n",
            "Requirement already satisfied: google-auth-oauthlib<0.5,>=0.4.1 in /usr/local/lib/python3.8/dist-packages (from tensorboard<2.10,>=2.9->tensorflow) (0.4.6)\n",
            "Requirement already satisfied: requests<3,>=2.21.0 in /usr/local/lib/python3.8/dist-packages (from tensorboard<2.10,>=2.9->tensorflow) (2.23.0)\n",
            "Requirement already satisfied: tensorboard-data-server<0.7.0,>=0.6.0 in /usr/local/lib/python3.8/dist-packages (from tensorboard<2.10,>=2.9->tensorflow) (0.6.1)\n",
            "Requirement already satisfied: markdown>=2.6.8 in /usr/local/lib/python3.8/dist-packages (from tensorboard<2.10,>=2.9->tensorflow) (3.4.1)\n",
            "Requirement already satisfied: google-auth<3,>=1.6.3 in /usr/local/lib/python3.8/dist-packages (from tensorboard<2.10,>=2.9->tensorflow) (2.15.0)\n",
            "Requirement already satisfied: tensorboard-plugin-wit>=1.6.0 in /usr/local/lib/python3.8/dist-packages (from tensorboard<2.10,>=2.9->tensorflow) (1.8.1)\n",
            "Requirement already satisfied: rsa<5,>=3.1.4 in /usr/local/lib/python3.8/dist-packages (from google-auth<3,>=1.6.3->tensorboard<2.10,>=2.9->tensorflow) (4.9)\n",
            "Requirement already satisfied: pyasn1-modules>=0.2.1 in /usr/local/lib/python3.8/dist-packages (from google-auth<3,>=1.6.3->tensorboard<2.10,>=2.9->tensorflow) (0.2.8)\n",
            "Requirement already satisfied: cachetools<6.0,>=2.0.0 in /usr/local/lib/python3.8/dist-packages (from google-auth<3,>=1.6.3->tensorboard<2.10,>=2.9->tensorflow) (5.2.0)\n",
            "Requirement already satisfied: requests-oauthlib>=0.7.0 in /usr/local/lib/python3.8/dist-packages (from google-auth-oauthlib<0.5,>=0.4.1->tensorboard<2.10,>=2.9->tensorflow) (1.3.1)\n",
            "Requirement already satisfied: importlib-metadata>=4.4 in /usr/local/lib/python3.8/dist-packages (from markdown>=2.6.8->tensorboard<2.10,>=2.9->tensorflow) (4.13.0)\n",
            "Requirement already satisfied: zipp>=0.5 in /usr/local/lib/python3.8/dist-packages (from importlib-metadata>=4.4->markdown>=2.6.8->tensorboard<2.10,>=2.9->tensorflow) (3.11.0)\n",
            "Requirement already satisfied: pyasn1<0.5.0,>=0.4.6 in /usr/local/lib/python3.8/dist-packages (from pyasn1-modules>=0.2.1->google-auth<3,>=1.6.3->tensorboard<2.10,>=2.9->tensorflow) (0.4.8)\n",
            "Requirement already satisfied: chardet<4,>=3.0.2 in /usr/local/lib/python3.8/dist-packages (from requests<3,>=2.21.0->tensorboard<2.10,>=2.9->tensorflow) (3.0.4)\n",
            "Requirement already satisfied: certifi>=2017.4.17 in /usr/local/lib/python3.8/dist-packages (from requests<3,>=2.21.0->tensorboard<2.10,>=2.9->tensorflow) (2022.9.24)\n",
            "Requirement already satisfied: idna<3,>=2.5 in /usr/local/lib/python3.8/dist-packages (from requests<3,>=2.21.0->tensorboard<2.10,>=2.9->tensorflow) (2.10)\n",
            "Requirement already satisfied: urllib3!=1.25.0,!=1.25.1,<1.26,>=1.21.1 in /usr/local/lib/python3.8/dist-packages (from requests<3,>=2.21.0->tensorboard<2.10,>=2.9->tensorflow) (1.24.3)\n",
            "Requirement already satisfied: oauthlib>=3.0.0 in /usr/local/lib/python3.8/dist-packages (from requests-oauthlib>=0.7.0->google-auth-oauthlib<0.5,>=0.4.1->tensorboard<2.10,>=2.9->tensorflow) (3.2.2)\n",
            "Requirement already satisfied: pyparsing!=3.0.5,>=2.0.2 in /usr/local/lib/python3.8/dist-packages (from packaging->tensorflow) (3.0.9)\n"
          ]
        }
      ]
    },
    {
      "cell_type": "code",
      "source": [
        "#pip install protobuf==3.20.0"
      ],
      "metadata": {
        "colab": {
          "base_uri": "https://localhost:8080/"
        },
        "id": "zPlF7uZyT6LN",
        "outputId": "ea6f4aa7-e0e4-4868-dbaa-4d8ba641367c"
      },
      "execution_count": null,
      "outputs": [
        {
          "output_type": "stream",
          "name": "stdout",
          "text": [
            "Looking in indexes: https://pypi.org/simple, https://us-python.pkg.dev/colab-wheels/public/simple/\n",
            "Requirement already satisfied: protobuf==3.20.0 in /usr/local/lib/python3.8/dist-packages (3.20.0)\n"
          ]
        }
      ]
    },
    {
      "cell_type": "code",
      "source": [
        "pip install deepdriver==0.0.51"
      ],
      "metadata": {
        "id": "ep81qe8Cs3oZ",
        "outputId": "8d85012e-c42d-4557-8125-5cc897e42ded",
        "colab": {
          "base_uri": "https://localhost:8080/"
        }
      },
      "execution_count": 5,
      "outputs": [
        {
          "output_type": "stream",
          "name": "stdout",
          "text": [
            "Looking in indexes: https://pypi.org/simple, https://us-python.pkg.dev/colab-wheels/public/simple/\n",
            "Collecting deepdriver==0.0.51\n",
            "  Downloading deepdriver-0.0.51-py3-none-any.whl (30 kB)\n",
            "Collecting assertpy\n",
            "  Downloading assertpy-1.1.tar.gz (25 kB)\n",
            "Requirement already satisfied: requests in /usr/local/lib/python3.8/dist-packages (from deepdriver==0.0.51) (2.23.0)\n",
            "Requirement already satisfied: numpy in /usr/local/lib/python3.8/dist-packages (from deepdriver==0.0.51) (1.21.6)\n",
            "Requirement already satisfied: plotly in /usr/local/lib/python3.8/dist-packages (from deepdriver==0.0.51) (5.5.0)\n",
            "Requirement already satisfied: Pillow in /usr/local/lib/python3.8/dist-packages (from deepdriver==0.0.51) (7.1.2)\n",
            "Collecting grpcio-tools\n",
            "  Downloading grpcio_tools-1.51.1-cp38-cp38-manylinux_2_17_x86_64.manylinux2014_x86_64.whl (2.4 MB)\n",
            "\u001b[K     |████████████████████████████████| 2.4 MB 28.1 MB/s \n",
            "\u001b[?25hCollecting pynvml\n",
            "  Downloading pynvml-11.4.1-py3-none-any.whl (46 kB)\n",
            "\u001b[K     |████████████████████████████████| 46 kB 5.8 MB/s \n",
            "\u001b[?25hRequirement already satisfied: psutil in /usr/local/lib/python3.8/dist-packages (from deepdriver==0.0.51) (5.4.8)\n",
            "Requirement already satisfied: wheel in /usr/local/lib/python3.8/dist-packages (from deepdriver==0.0.51) (0.38.4)\n",
            "Requirement already satisfied: grpcio in /usr/local/lib/python3.8/dist-packages (from deepdriver==0.0.51) (1.51.1)\n",
            "Requirement already satisfied: pandas in /usr/local/lib/python3.8/dist-packages (from deepdriver==0.0.51) (1.3.5)\n",
            "Requirement already satisfied: setuptools in /usr/local/lib/python3.8/dist-packages (from grpcio-tools->deepdriver==0.0.51) (57.4.0)\n",
            "Collecting protobuf<5.0dev,>=4.21.6\n",
            "  Downloading protobuf-4.21.11-cp37-abi3-manylinux2014_x86_64.whl (409 kB)\n",
            "\u001b[K     |████████████████████████████████| 409 kB 71.6 MB/s \n",
            "\u001b[?25hRequirement already satisfied: pytz>=2017.3 in /usr/local/lib/python3.8/dist-packages (from pandas->deepdriver==0.0.51) (2022.6)\n",
            "Requirement already satisfied: python-dateutil>=2.7.3 in /usr/local/lib/python3.8/dist-packages (from pandas->deepdriver==0.0.51) (2.8.2)\n",
            "Requirement already satisfied: six>=1.5 in /usr/local/lib/python3.8/dist-packages (from python-dateutil>=2.7.3->pandas->deepdriver==0.0.51) (1.15.0)\n",
            "Requirement already satisfied: tenacity>=6.2.0 in /usr/local/lib/python3.8/dist-packages (from plotly->deepdriver==0.0.51) (8.1.0)\n",
            "Requirement already satisfied: chardet<4,>=3.0.2 in /usr/local/lib/python3.8/dist-packages (from requests->deepdriver==0.0.51) (3.0.4)\n",
            "Requirement already satisfied: urllib3!=1.25.0,!=1.25.1,<1.26,>=1.21.1 in /usr/local/lib/python3.8/dist-packages (from requests->deepdriver==0.0.51) (1.24.3)\n",
            "Requirement already satisfied: idna<3,>=2.5 in /usr/local/lib/python3.8/dist-packages (from requests->deepdriver==0.0.51) (2.10)\n",
            "Requirement already satisfied: certifi>=2017.4.17 in /usr/local/lib/python3.8/dist-packages (from requests->deepdriver==0.0.51) (2022.9.24)\n",
            "Building wheels for collected packages: assertpy\n",
            "  Building wheel for assertpy (setup.py) ... \u001b[?25l\u001b[?25hdone\n",
            "  Created wheel for assertpy: filename=assertpy-1.1-py3-none-any.whl size=42917 sha256=8ee6c629f0e0c8daaee44d07eef75f8400a5a1f6ff37e7bcd84cf3bbfb823118\n",
            "  Stored in directory: /root/.cache/pip/wheels/57/86/c9/1310be6ddfb540daa0bf1ac204526837aa0a8b0e79f32855ff\n",
            "Successfully built assertpy\n",
            "Installing collected packages: protobuf, pynvml, grpcio-tools, assertpy, deepdriver\n",
            "  Attempting uninstall: protobuf\n",
            "    Found existing installation: protobuf 3.19.6\n",
            "    Uninstalling protobuf-3.19.6:\n",
            "      Successfully uninstalled protobuf-3.19.6\n",
            "\u001b[31mERROR: pip's dependency resolver does not currently take into account all the packages that are installed. This behaviour is the source of the following dependency conflicts.\n",
            "tensorflow 2.9.2 requires protobuf<3.20,>=3.9.2, but you have protobuf 4.21.11 which is incompatible.\n",
            "tensorflow-metadata 1.11.0 requires protobuf<4,>=3.13, but you have protobuf 4.21.11 which is incompatible.\n",
            "tensorboard 2.9.1 requires protobuf<3.20,>=3.9.2, but you have protobuf 4.21.11 which is incompatible.\u001b[0m\n",
            "Successfully installed assertpy-1.1 deepdriver-0.0.51 grpcio-tools-1.51.1 protobuf-4.21.11 pynvml-11.4.1\n"
          ]
        }
      ]
    },
    {
      "cell_type": "markdown",
      "source": [
        "#1. ➕ import deepdriver & deeplearnig framework\n",
        "\n"
      ],
      "metadata": {
        "id": "XHyfUGRdRGJC"
      }
    },
    {
      "cell_type": "code",
      "source": [
        "import tensorflow as tf"
      ],
      "metadata": {
        "id": "t2G8rFYSMxe8"
      },
      "execution_count": 6,
      "outputs": []
    },
    {
      "cell_type": "code",
      "source": [
        "import deepdriver"
      ],
      "metadata": {
        "id": "nMIZhc0aye6k"
      },
      "execution_count": 7,
      "outputs": []
    },
    {
      "cell_type": "markdown",
      "source": [
        "#2. ⚙ deepdriver server setting"
      ],
      "metadata": {
        "id": "FG0DGtb2VhXU"
      }
    },
    {
      "cell_type": "code",
      "source": [
        "deepdriver.setting(http_host=\"quick-experience.bokchi.com:9011\" ,grpc_host=\"quick-experience.bokchi.com:19051\")"
      ],
      "metadata": {
        "id": "XDfF___IVcC2"
      },
      "execution_count": 8,
      "outputs": []
    },
    {
      "cell_type": "markdown",
      "source": [
        "#3. 🔌 log in to deepdriver"
      ],
      "metadata": {
        "id": "36Y_KWmfRYwQ"
      }
    },
    {
      "cell_type": "code",
      "source": [
        "deepdriver.login(key=\"MGY2ZWY5NjY0NjE3YjVkODBhNGRkYjBkZDAzYzQ5MGMxMzVhZWRhNzkyYTdiNDI4ZGZmYjZmZDhmYzdkY2I3ZQ==\")"
      ],
      "metadata": {
        "id": "hF3GenoNsaBQ",
        "outputId": "61020737-12d0-4153-f3f8-1dc2c2a97aa2",
        "colab": {
          "base_uri": "https://localhost:8080/"
        }
      },
      "execution_count": 9,
      "outputs": [
        {
          "output_type": "execute_result",
          "data": {
            "text/plain": [
              "True"
            ]
          },
          "metadata": {},
          "execution_count": 9
        }
      ]
    },
    {
      "cell_type": "markdown",
      "source": [
        "#4. 🥼 create experiment and run"
      ],
      "metadata": {
        "id": "gWafO8QnRpc1"
      }
    },
    {
      "cell_type": "code",
      "source": [
        "# experiment init & config hyperparam\n",
        "deepdriver.init(exp_name= \"exper3_cat_dog_cnn\", \n",
        "                config={ 'architecture':\"CNN\", 'epoch': 30, 'batch_size': 32, 'hidden_layer':512, 'learning_rate': 0.001})"
      ],
      "metadata": {
        "id": "z93NrRBUsvDm",
        "outputId": "52b0f6ec-b463-4007-c89f-12f3f7502adf",
        "colab": {
          "base_uri": "https://localhost:8080/"
        }
      },
      "execution_count": 20,
      "outputs": [
        {
          "output_type": "stream",
          "name": "stdout",
          "text": [
            "2022-12-14 05:59:04,616 INFO [deepdriver] [experiment.py:21] - DeepDriver initialized\n",
            "Team Name=molamola.babo\n",
            "Exp Name=exper3_cat_dog_cnn\n",
            "Run Name=run-2\n",
            "Run URL=http://quick-experience.bokchi.com:9111/experi/molamola.babo/exper3_cat_dog_cnn/run-2/run/chart\n"
          ]
        },
        {
          "output_type": "stream",
          "name": "stderr",
          "text": [
            "INFO:deepdriver:DeepDriver initialized\n",
            "Team Name=molamola.babo\n",
            "Exp Name=exper3_cat_dog_cnn\n",
            "Run Name=run-2\n",
            "Run URL=http://quick-experience.bokchi.com:9111/experi/molamola.babo/exper3_cat_dog_cnn/run-2/run/chart\n"
          ]
        },
        {
          "output_type": "execute_result",
          "data": {
            "text/plain": [
              "<deepdriver.sdk.data_types.run.Run at 0x7f75263bbdf0>"
            ]
          },
          "metadata": {},
          "execution_count": 20
        }
      ]
    },
    {
      "cell_type": "markdown",
      "source": [
        "데이터 준비"
      ],
      "metadata": {
        "id": "bW1624UeFQS_"
      }
    },
    {
      "cell_type": "code",
      "source": [
        "!wget --no-check-certificate \\\n",
        "https://storage.googleapis.com/mledu-datasets/cats_and_dogs_filtered.zip \\\n",
        "-O /tmp/cats_and_dogs_filtered.zip"
      ],
      "metadata": {
        "colab": {
          "base_uri": "https://localhost:8080/"
        },
        "id": "1p64rEhWJI01",
        "outputId": "d93020b6-46f3-4d41-d720-dbf4c86f396a"
      },
      "execution_count": 13,
      "outputs": [
        {
          "output_type": "stream",
          "name": "stdout",
          "text": [
            "--2022-12-14 05:58:16--  https://storage.googleapis.com/mledu-datasets/cats_and_dogs_filtered.zip\n",
            "Resolving storage.googleapis.com (storage.googleapis.com)... 108.177.126.128, 108.177.127.128, 142.251.31.128, ...\n",
            "Connecting to storage.googleapis.com (storage.googleapis.com)|108.177.126.128|:443... connected.\n",
            "HTTP request sent, awaiting response... 200 OK\n",
            "Length: 68606236 (65M) [application/zip]\n",
            "Saving to: ‘/tmp/cats_and_dogs_filtered.zip’\n",
            "\n",
            "/tmp/cats_and_dogs_ 100%[===================>]  65.43M  27.7MB/s    in 2.4s    \n",
            "\n",
            "2022-12-14 05:58:18 (27.7 MB/s) - ‘/tmp/cats_and_dogs_filtered.zip’ saved [68606236/68606236]\n",
            "\n"
          ]
        }
      ]
    },
    {
      "cell_type": "code",
      "source": [
        "import os\n",
        "import zipfile\n",
        "\n",
        "train_dir = '/content/cat_dog5/'\n",
        "os.mkdir(train_dir)\n",
        "local_zip = '/tmp/cats_and_dogs_filtered.zip'\n",
        "data_dir ='/tmp/cats_and_dogs_filtered/train'\n",
        "data_doc_dir='/tmp/cats_and_dogs_filtered/train/dogs'\n",
        "data_cat_dir='/tmp/cats_and_dogs_filtered/train/cats'\n",
        "valid_dir ='/tmp/cats_and_dogs_filtered/validation'\n",
        "zip_ref = zipfile.ZipFile(local_zip, 'r')\n",
        "\n",
        "zip_ref.extractall('/tmp')\n",
        "zip_ref.close()"
      ],
      "metadata": {
        "id": "zhLshy2aFOtU"
      },
      "execution_count": 14,
      "outputs": []
    },
    {
      "cell_type": "code",
      "source": [
        "# train용 폴더 생성\n",
        "train_set_dir = os.path.join(train_dir, 'train_set')\n",
        "os.mkdir(train_set_dir)\n",
        "train_dog_dir = os.path.join(train_set_dir, 'dog')\n",
        "os.mkdir(train_dog_dir)\n",
        "train_cat_dir = os.path.join(train_set_dir, 'cat')\n",
        "os.mkdir(train_cat_dir)\n",
        "# valid용 폴더 생성\n",
        "valid_set_dir = os.path.join(train_dir, 'valid_set')\n",
        "os.mkdir(valid_set_dir)\n",
        "valid_dog_dir = os.path.join(valid_set_dir, 'dog')\n",
        "os.mkdir(valid_dog_dir)\n",
        "valid_cat_dir = os.path.join(valid_set_dir, 'cat')\n",
        "os.mkdir(valid_cat_dir)\n",
        "# test용 폴더 생성\n",
        "test_set_dir = os.path.join(train_dir, 'test_set')\n",
        "os.mkdir(test_set_dir)\n",
        "test_dog_dir = os.path.join(test_set_dir, 'dog')\n",
        "os.mkdir(test_dog_dir)\n",
        "test_cat_dir = os.path.join(test_set_dir, 'cat')\n",
        "os.mkdir(test_cat_dir)"
      ],
      "metadata": {
        "id": "v2zaZn9DJXgL"
      },
      "execution_count": 15,
      "outputs": []
    },
    {
      "cell_type": "code",
      "source": [
        "# image file name list 생성\n",
        "import shutil\n",
        "total_data_count =150\n",
        "train_data_count =100\n",
        "test_data_count = 30\n",
        "valid_data_count =20\n",
        "dog_files = [f'dog.{i}.jpg' for i in range(total_data_count)]\n",
        "cat_files = [f'cat.{i}.jpg' for i in range(total_data_count)]\n",
        "\n",
        " \n",
        "# 각 폴더로 image 이동\n",
        "for file in dog_files[:train_data_count]:\n",
        "    src = os.path.join(data_doc_dir, file)\n",
        "    dst = os.path.join(train_dog_dir, file)\n",
        "    shutil.move(src, dst)\n",
        "    \n",
        "for file in dog_files[train_data_count:train_data_count+test_data_count]:\n",
        "    src = os.path.join(data_doc_dir, file)\n",
        "    dst = os.path.join(valid_dog_dir, file)\n",
        "    shutil.move(src, dst)\n",
        " \n",
        "for file in dog_files[train_data_count+test_data_count:total_data_count]:\n",
        "    src = os.path.join(data_doc_dir, file)\n",
        "    dst = os.path.join(test_dog_dir, file)\n",
        "    shutil.move(src, dst)\n",
        " \n",
        "for file in cat_files[:train_data_count]:\n",
        "    src = os.path.join(data_cat_dir, file)\n",
        "    dst = os.path.join(train_cat_dir, file)\n",
        "    shutil.move(src, dst)\n",
        "    \n",
        "for file in cat_files[train_data_count:train_data_count+test_data_count]:\n",
        "    src = os.path.join(data_cat_dir, file)\n",
        "    dst = os.path.join(valid_cat_dir, file)\n",
        "    shutil.move(src, dst)\n",
        " \n",
        "for file in cat_files[train_data_count+test_data_count:total_data_count]:\n",
        "    src = os.path.join(data_cat_dir, file)\n",
        "    dst = os.path.join(test_cat_dir, file)\n",
        "    shutil.move(src, dst)"
      ],
      "metadata": {
        "id": "jtZQt0odOq_U"
      },
      "execution_count": 16,
      "outputs": []
    },
    {
      "cell_type": "code",
      "source": [
        "train_cat_fnames = os.listdir( train_cat_dir )\n",
        "train_dog_fnames = os.listdir( train_dog_dir )"
      ],
      "metadata": {
        "id": "zwuVLt8dRf4q"
      },
      "execution_count": 17,
      "outputs": []
    },
    {
      "cell_type": "code",
      "source": [
        "print('Total training cat images :', len(os.listdir(train_cat_dir)))\n",
        "print('Total training dog images :', len(os.listdir(train_dog_dir)))\n",
        "\n",
        "print('Total validation cat images :', len(os.listdir(valid_cat_dir)))\n",
        "print('Total validation dog images :', len(os.listdir(valid_dog_dir)))\n",
        "\n",
        "\n",
        "print('Total test cat images :', len(os.listdir(test_cat_dir)))\n",
        "print('Total test dog images :', len(os.listdir(test_dog_dir)))"
      ],
      "metadata": {
        "colab": {
          "base_uri": "https://localhost:8080/"
        },
        "id": "cWtzjLavRlLj",
        "outputId": "8bcfeb33-9245-4d33-d1c8-053844a4a536"
      },
      "execution_count": 18,
      "outputs": [
        {
          "output_type": "stream",
          "name": "stdout",
          "text": [
            "Total training cat images : 100\n",
            "Total training dog images : 100\n",
            "Total validation cat images : 30\n",
            "Total validation dog images : 30\n",
            "Total test cat images : 20\n",
            "Total test dog images : 20\n"
          ]
        }
      ]
    },
    {
      "cell_type": "markdown",
      "source": [
        "#6. 📚 train your code and send log"
      ],
      "metadata": {
        "id": "CNDciDDURuZ6"
      }
    },
    {
      "cell_type": "code",
      "source": [
        "import tensorflow as tf\n",
        "\n",
        "\n",
        "model = tf.keras.models.Sequential([\n",
        "  tf.keras.layers.Conv2D(16, (3,3), activation='relu', input_shape=(150, 150, 3)),\n",
        "  tf.keras.layers.MaxPooling2D(2,2),\n",
        "  tf.keras.layers.Conv2D(32, (3,3), activation='relu'),\n",
        "  tf.keras.layers.MaxPooling2D(2,2),\n",
        "  tf.keras.layers.Conv2D(64, (3,3), activation='relu'),\n",
        "  tf.keras.layers.MaxPooling2D(2,2),\n",
        "  tf.keras.layers.Flatten(),\n",
        "  tf.keras.layers.Dense(deepdriver.config.hidden_layer, activation='relu'),\n",
        "  tf.keras.layers.Dense(1, activation='sigmoid')\n",
        "])\n",
        "\n",
        "model.summary()"
      ],
      "metadata": {
        "colab": {
          "base_uri": "https://localhost:8080/"
        },
        "id": "qga-dT4iRyR6",
        "outputId": "62b17491-e444-4fc0-c9dd-7b600f861e11"
      },
      "execution_count": 19,
      "outputs": [
        {
          "output_type": "stream",
          "name": "stdout",
          "text": [
            "Model: \"sequential\"\n",
            "_________________________________________________________________\n",
            " Layer (type)                Output Shape              Param #   \n",
            "=================================================================\n",
            " conv2d (Conv2D)             (None, 148, 148, 16)      448       \n",
            "                                                                 \n",
            " max_pooling2d (MaxPooling2D  (None, 74, 74, 16)       0         \n",
            " )                                                               \n",
            "                                                                 \n",
            " conv2d_1 (Conv2D)           (None, 72, 72, 32)        4640      \n",
            "                                                                 \n",
            " max_pooling2d_1 (MaxPooling  (None, 36, 36, 32)       0         \n",
            " 2D)                                                             \n",
            "                                                                 \n",
            " conv2d_2 (Conv2D)           (None, 34, 34, 64)        18496     \n",
            "                                                                 \n",
            " max_pooling2d_2 (MaxPooling  (None, 17, 17, 64)       0         \n",
            " 2D)                                                             \n",
            "                                                                 \n",
            " flatten (Flatten)           (None, 18496)             0         \n",
            "                                                                 \n",
            " dense (Dense)               (None, 512)               9470464   \n",
            "                                                                 \n",
            " dense_1 (Dense)             (None, 1)                 513       \n",
            "                                                                 \n",
            "=================================================================\n",
            "Total params: 9,494,561\n",
            "Trainable params: 9,494,561\n",
            "Non-trainable params: 0\n",
            "_________________________________________________________________\n"
          ]
        }
      ]
    },
    {
      "cell_type": "code",
      "source": [
        "from tensorflow.keras.optimizers import RMSprop\n",
        "\n",
        "model.compile(optimizer=RMSprop(lr=deepdriver.config.learning_rate),\n",
        "            loss='binary_crossentropy',\n",
        "            metrics = ['accuracy'])"
      ],
      "metadata": {
        "colab": {
          "base_uri": "https://localhost:8080/"
        },
        "id": "dHinKbNnRyUv",
        "outputId": "3eb85e79-263e-41ac-d34d-63efcb454eb2"
      },
      "execution_count": 21,
      "outputs": [
        {
          "output_type": "stream",
          "name": "stderr",
          "text": [
            "/usr/local/lib/python3.8/dist-packages/keras/optimizers/optimizer_v2/rmsprop.py:135: UserWarning: The `lr` argument is deprecated, use `learning_rate` instead.\n",
            "  super(RMSprop, self).__init__(name, **kwargs)\n"
          ]
        }
      ]
    },
    {
      "cell_type": "code",
      "source": [
        "from tensorflow.keras.preprocessing.image import ImageDataGenerator\n",
        "\n",
        "\n",
        "train_datagen = ImageDataGenerator( rescale = 1.0/255. )\n",
        "test_datagen  = ImageDataGenerator( rescale = 1.0/255. )\n",
        "valid_datagen  = ImageDataGenerator( rescale = 1.0/255. )\n",
        "\n",
        "train_generator = train_datagen.flow_from_directory(train_set_dir,\n",
        "                                                  batch_size=deepdriver.config.batch_size,\n",
        "                                                  class_mode='binary',\n",
        "                                                  target_size=(150, 150))\n",
        "validation_generator =  valid_datagen.flow_from_directory(valid_set_dir,\n",
        "                                                       batch_size=deepdriver.config.batch_size,\n",
        "                                                       class_mode  = 'binary',\n",
        "                                                       target_size = (150, 150))\n",
        "\n",
        "test_generator =  test_datagen.flow_from_directory(test_set_dir,\n",
        "                                                       batch_size=deepdriver.config.batch_size,\n",
        "                                                       class_mode  = 'binary',\n",
        "                                                       target_size = (150, 150))"
      ],
      "metadata": {
        "colab": {
          "base_uri": "https://localhost:8080/"
        },
        "id": "G3x9kB6MVClP",
        "outputId": "ae8071d1-acc4-4424-eb06-2fe58b27e9f9"
      },
      "execution_count": 22,
      "outputs": [
        {
          "output_type": "stream",
          "name": "stdout",
          "text": [
            "Found 200 images belonging to 2 classes.\n",
            "Found 60 images belonging to 2 classes.\n",
            "Found 40 images belonging to 2 classes.\n"
          ]
        }
      ]
    },
    {
      "cell_type": "code",
      "source": [
        "class CustomCallback(tf.keras.callbacks.Callback):\n",
        "\n",
        "    def on_train_end(self, logs=None):\n",
        "        keys = list(logs.keys())\n",
        "        deepdriver.finish()\n",
        "\n",
        "    def on_epoch_end(self, epoch, logs=None):\n",
        "        keys = list(logs.keys())\n",
        "        deepdriver.log({\"acc\": logs[\"accuracy\"], \"loss\": logs[\"loss\"], \"val_acc\": logs[\"val_accuracy\"], \"val_loss\": logs[\"val_loss\"]})\n",
        "        #deepdriver.log(logs)\n"
      ],
      "metadata": {
        "id": "O9oUAVd0X8qS"
      },
      "execution_count": 23,
      "outputs": []
    },
    {
      "cell_type": "code",
      "source": [
        "steps_per_epoch = train_generator.n//deepdriver.config.batch_size"
      ],
      "metadata": {
        "id": "2zXQzAUUZP1C"
      },
      "execution_count": 24,
      "outputs": []
    },
    {
      "cell_type": "code",
      "source": [
        "validation_steps = validation_generator.n//deepdriver.config.batch_size"
      ],
      "metadata": {
        "id": "rI4UVyABZQcy"
      },
      "execution_count": 25,
      "outputs": []
    },
    {
      "cell_type": "code",
      "source": [
        "history = model.fit(train_generator,\n",
        "                    validation_data=validation_generator,\n",
        "                    steps_per_epoch=steps_per_epoch,\n",
        "                    epochs=deepdriver.config.epoch,\n",
        "                    validation_steps=validation_steps ,\n",
        "                    callbacks=[CustomCallback()])#,\n",
        "                    #verbose=2)"
      ],
      "metadata": {
        "colab": {
          "base_uri": "https://localhost:8080/"
        },
        "id": "MF8hsCeJXcIt",
        "outputId": "d574cf03-1077-412a-db85-3f19555eb2c0"
      },
      "execution_count": 26,
      "outputs": [
        {
          "output_type": "stream",
          "name": "stdout",
          "text": [
            "Epoch 1/30\n",
            "6/6 [==============================] - 10s 224ms/step - loss: 4.8082 - accuracy: 0.5119 - val_loss: 0.6863 - val_accuracy: 0.5312\n",
            "Epoch 2/30\n",
            "6/6 [==============================] - 1s 175ms/step - loss: 0.7136 - accuracy: 0.5774 - val_loss: 0.7011 - val_accuracy: 0.4375\n",
            "Epoch 3/30\n",
            "6/6 [==============================] - 1s 183ms/step - loss: 0.6961 - accuracy: 0.5573 - val_loss: 0.7000 - val_accuracy: 0.5000\n",
            "Epoch 4/30\n",
            "6/6 [==============================] - 1s 175ms/step - loss: 0.6356 - accuracy: 0.6429 - val_loss: 0.6658 - val_accuracy: 0.5625\n",
            "Epoch 5/30\n",
            "6/6 [==============================] - 1s 179ms/step - loss: 0.6365 - accuracy: 0.7024 - val_loss: 0.7452 - val_accuracy: 0.3750\n",
            "Epoch 6/30\n",
            "6/6 [==============================] - 1s 178ms/step - loss: 0.5136 - accuracy: 0.7917 - val_loss: 0.7114 - val_accuracy: 0.5938\n",
            "Epoch 7/30\n",
            "6/6 [==============================] - 1s 184ms/step - loss: 0.9189 - accuracy: 0.7344 - val_loss: 0.7779 - val_accuracy: 0.4062\n",
            "Epoch 8/30\n",
            "6/6 [==============================] - 1s 190ms/step - loss: 0.4692 - accuracy: 0.7560 - val_loss: 0.8869 - val_accuracy: 0.5625\n",
            "Epoch 9/30\n",
            "6/6 [==============================] - 1s 178ms/step - loss: 0.4363 - accuracy: 0.8155 - val_loss: 0.7376 - val_accuracy: 0.6250\n",
            "Epoch 10/30\n",
            "6/6 [==============================] - 1s 176ms/step - loss: 0.6609 - accuracy: 0.7679 - val_loss: 0.7665 - val_accuracy: 0.5625\n",
            "Epoch 11/30\n",
            "6/6 [==============================] - 1s 177ms/step - loss: 0.4538 - accuracy: 0.8155 - val_loss: 0.9860 - val_accuracy: 0.3438\n",
            "Epoch 12/30\n",
            "6/6 [==============================] - 1s 179ms/step - loss: 0.2869 - accuracy: 0.8988 - val_loss: 0.8740 - val_accuracy: 0.5312\n",
            "Epoch 13/30\n",
            "6/6 [==============================] - 1s 178ms/step - loss: 0.2845 - accuracy: 0.9167 - val_loss: 0.8841 - val_accuracy: 0.4688\n",
            "Epoch 14/30\n",
            "6/6 [==============================] - 1s 174ms/step - loss: 0.2171 - accuracy: 0.9405 - val_loss: 0.8848 - val_accuracy: 0.5625\n",
            "Epoch 15/30\n",
            "6/6 [==============================] - 1s 177ms/step - loss: 0.1271 - accuracy: 0.9881 - val_loss: 1.6331 - val_accuracy: 0.4375\n",
            "Epoch 16/30\n",
            "6/6 [==============================] - 1s 182ms/step - loss: 0.2393 - accuracy: 0.9115 - val_loss: 1.2671 - val_accuracy: 0.5000\n",
            "Epoch 17/30\n",
            "6/6 [==============================] - 1s 179ms/step - loss: 0.2135 - accuracy: 0.9226 - val_loss: 0.8664 - val_accuracy: 0.5625\n",
            "Epoch 18/30\n",
            "6/6 [==============================] - 1s 194ms/step - loss: 0.0886 - accuracy: 0.9762 - val_loss: 1.5052 - val_accuracy: 0.5312\n",
            "Epoch 19/30\n",
            "6/6 [==============================] - 1s 196ms/step - loss: 0.4282 - accuracy: 0.8393 - val_loss: 0.9893 - val_accuracy: 0.5625\n",
            "Epoch 20/30\n",
            "6/6 [==============================] - 1s 185ms/step - loss: 0.0924 - accuracy: 0.9821 - val_loss: 1.8528 - val_accuracy: 0.4688\n",
            "Epoch 21/30\n",
            "6/6 [==============================] - 1s 173ms/step - loss: 0.1103 - accuracy: 0.9524 - val_loss: 1.6106 - val_accuracy: 0.5000\n",
            "Epoch 22/30\n",
            "6/6 [==============================] - 1s 181ms/step - loss: 0.0246 - accuracy: 1.0000 - val_loss: 1.7695 - val_accuracy: 0.4688\n",
            "Epoch 23/30\n",
            "6/6 [==============================] - 1s 176ms/step - loss: 0.0157 - accuracy: 1.0000 - val_loss: 2.4187 - val_accuracy: 0.4375\n",
            "Epoch 24/30\n",
            "6/6 [==============================] - 1s 183ms/step - loss: 0.0067 - accuracy: 1.0000 - val_loss: 2.3891 - val_accuracy: 0.4688\n",
            "Epoch 25/30\n",
            "6/6 [==============================] - 1s 191ms/step - loss: 0.0036 - accuracy: 1.0000 - val_loss: 1.4824 - val_accuracy: 0.5625\n",
            "Epoch 26/30\n",
            "6/6 [==============================] - 1s 189ms/step - loss: 0.1504 - accuracy: 0.9345 - val_loss: 1.6119 - val_accuracy: 0.4688\n",
            "Epoch 27/30\n",
            "6/6 [==============================] - 1s 226ms/step - loss: 0.0222 - accuracy: 1.0000 - val_loss: 2.5192 - val_accuracy: 0.4062\n",
            "Epoch 28/30\n",
            "6/6 [==============================] - 1s 194ms/step - loss: 0.5634 - accuracy: 0.8631 - val_loss: 1.1089 - val_accuracy: 0.5625\n",
            "Epoch 29/30\n",
            "6/6 [==============================] - 1s 177ms/step - loss: 0.1387 - accuracy: 0.9643 - val_loss: 0.9173 - val_accuracy: 0.5938\n",
            "Epoch 30/30\n",
            "6/6 [==============================] - 1s 177ms/step - loss: 0.0265 - accuracy: 1.0000 - val_loss: 1.1789 - val_accuracy: 0.5938\n"
          ]
        }
      ]
    },
    {
      "cell_type": "code",
      "source": [
        "import random\n",
        "accuracy = [ random.uniform(0.7+0.02*i, 1)  for i in range(epoch)]\n",
        "train_loss = [ random.uniform(0.1,  0.2-0.01*i)  for i in range(epoch)]\n",
        "val_accuracy =[ random.uniform(0.7+0.02*i, 1)  for i in range(epoch)]\n",
        "val_loss = [ random.uniform(0.2,  0.3-0.01*i)  for i in range(epoch)]"
      ],
      "metadata": {
        "id": "enU-EYKxFvSd"
      },
      "execution_count": null,
      "outputs": []
    },
    {
      "cell_type": "code",
      "source": [
        "for i in range(epoch):\n",
        "    # send train log\n",
        "    deepdriver.log({'acc': accuracy[i], 'loss': train_loss[i], 'val_acc': val_accuracy[i],'val_loss': val_loss[i]})"
      ],
      "metadata": {
        "id": "xu0cqS5JsyUb"
      },
      "execution_count": null,
      "outputs": []
    },
    {
      "cell_type": "markdown",
      "source": [
        "#6. ⬆ upload artifact(data)"
      ],
      "metadata": {
        "id": "b4SVJ4HcKugj"
      }
    },
    {
      "cell_type": "code",
      "source": [
        "arti = deepdriver.Artifacts(name=\"cat_dog\",type=\"dataset\")"
      ],
      "metadata": {
        "id": "TxgovR2JKt4y"
      },
      "execution_count": null,
      "outputs": []
    },
    {
      "cell_type": "code",
      "source": [
        "arti.add(\"/tmp/cats_and_dogs_filtered\")"
      ],
      "metadata": {
        "id": "hhsY3_lVLR6T"
      },
      "execution_count": null,
      "outputs": []
    },
    {
      "cell_type": "code",
      "source": [
        "[ent.path for ent  in arti.entry_list]"
      ],
      "metadata": {
        "id": "rJ0sHNYM0oOP",
        "outputId": "b9841f6c-22e1-4898-8428-72eae7aa7f59",
        "colab": {
          "base_uri": "https://localhost:8080/"
        }
      },
      "execution_count": null,
      "outputs": [
        {
          "output_type": "execute_result",
          "data": {
            "text/plain": [
              "['train/cats/cat.250.jpg',\n",
              " 'train/cats/cat.726.jpg',\n",
              " 'train/cats/cat.793.jpg',\n",
              " 'train/cats/cat.521.jpg',\n",
              " 'train/cats/cat.928.jpg',\n",
              " 'train/cats/cat.251.jpg',\n",
              " 'train/cats/cat.185.jpg',\n",
              " 'train/cats/cat.866.jpg',\n",
              " 'train/cats/cat.875.jpg',\n",
              " 'train/cats/cat.485.jpg',\n",
              " 'train/cats/cat.550.jpg',\n",
              " 'train/cats/cat.748.jpg',\n",
              " 'train/cats/cat.791.jpg',\n",
              " 'train/cats/cat.292.jpg',\n",
              " 'train/cats/cat.31.jpg',\n",
              " 'train/cats/cat.262.jpg',\n",
              " 'train/cats/cat.429.jpg',\n",
              " 'train/cats/cat.665.jpg',\n",
              " 'train/cats/cat.901.jpg',\n",
              " 'train/cats/cat.142.jpg',\n",
              " 'train/cats/cat.422.jpg',\n",
              " 'train/cats/cat.518.jpg',\n",
              " 'train/cats/cat.684.jpg',\n",
              " 'train/cats/cat.488.jpg',\n",
              " 'train/cats/cat.641.jpg',\n",
              " 'train/cats/cat.539.jpg',\n",
              " 'train/cats/cat.63.jpg',\n",
              " 'train/cats/cat.718.jpg',\n",
              " 'train/cats/cat.138.jpg',\n",
              " 'train/cats/cat.658.jpg',\n",
              " 'train/cats/cat.527.jpg',\n",
              " 'train/cats/cat.136.jpg',\n",
              " 'train/cats/cat.405.jpg',\n",
              " 'train/cats/cat.975.jpg',\n",
              " 'train/cats/cat.919.jpg',\n",
              " 'train/cats/cat.574.jpg',\n",
              " 'train/cats/cat.410.jpg',\n",
              " 'train/cats/cat.356.jpg',\n",
              " 'train/cats/cat.528.jpg',\n",
              " 'train/cats/cat.655.jpg',\n",
              " 'train/cats/cat.538.jpg',\n",
              " 'train/cats/cat.374.jpg',\n",
              " 'train/cats/cat.966.jpg',\n",
              " 'train/cats/cat.361.jpg',\n",
              " 'train/cats/cat.996.jpg',\n",
              " 'train/cats/cat.295.jpg',\n",
              " 'train/cats/cat.498.jpg',\n",
              " 'train/cats/cat.942.jpg',\n",
              " 'train/cats/cat.191.jpg',\n",
              " 'train/cats/cat.368.jpg',\n",
              " 'train/cats/cat.175.jpg',\n",
              " 'train/cats/cat.677.jpg',\n",
              " 'train/cats/cat.156.jpg',\n",
              " 'train/cats/cat.246.jpg',\n",
              " 'train/cats/cat.343.jpg',\n",
              " 'train/cats/cat.283.jpg',\n",
              " 'train/cats/cat.418.jpg',\n",
              " 'train/cats/cat.393.jpg',\n",
              " 'train/cats/cat.916.jpg',\n",
              " 'train/cats/cat.769.jpg',\n",
              " 'train/cats/cat.851.jpg',\n",
              " 'train/cats/cat.652.jpg',\n",
              " 'train/cats/cat.858.jpg',\n",
              " 'train/cats/cat.598.jpg',\n",
              " 'train/cats/cat.821.jpg',\n",
              " 'train/cats/cat.88.jpg',\n",
              " 'train/cats/cat.486.jpg',\n",
              " 'train/cats/cat.165.jpg',\n",
              " 'train/cats/cat.321.jpg',\n",
              " 'train/cats/cat.441.jpg',\n",
              " 'train/cats/cat.240.jpg',\n",
              " 'train/cats/cat.103.jpg',\n",
              " 'train/cats/cat.409.jpg',\n",
              " 'train/cats/cat.214.jpg',\n",
              " 'train/cats/cat.678.jpg',\n",
              " 'train/cats/cat.69.jpg',\n",
              " 'train/cats/cat.73.jpg',\n",
              " 'train/cats/cat.865.jpg',\n",
              " 'train/cats/cat.754.jpg',\n",
              " 'train/cats/cat.125.jpg',\n",
              " 'train/cats/cat.206.jpg',\n",
              " 'train/cats/cat.80.jpg',\n",
              " 'train/cats/cat.118.jpg',\n",
              " 'train/cats/cat.39.jpg',\n",
              " 'train/cats/cat.867.jpg',\n",
              " 'train/cats/cat.623.jpg',\n",
              " 'train/cats/cat.503.jpg',\n",
              " 'train/cats/cat.198.jpg',\n",
              " 'train/cats/cat.651.jpg',\n",
              " 'train/cats/cat.264.jpg',\n",
              " 'train/cats/cat.804.jpg',\n",
              " 'train/cats/cat.970.jpg',\n",
              " 'train/cats/cat.105.jpg',\n",
              " 'train/cats/cat.157.jpg',\n",
              " 'train/cats/cat.725.jpg',\n",
              " 'train/cats/cat.990.jpg',\n",
              " 'train/cats/cat.845.jpg',\n",
              " 'train/cats/cat.681.jpg',\n",
              " 'train/cats/cat.868.jpg',\n",
              " 'train/cats/cat.531.jpg',\n",
              " 'train/cats/cat.325.jpg',\n",
              " 'train/cats/cat.84.jpg',\n",
              " 'train/cats/cat.880.jpg',\n",
              " 'train/cats/cat.242.jpg',\n",
              " 'train/cats/cat.642.jpg',\n",
              " 'train/cats/cat.963.jpg',\n",
              " 'train/cats/cat.79.jpg',\n",
              " 'train/cats/cat.713.jpg',\n",
              " 'train/cats/cat.707.jpg',\n",
              " 'train/cats/cat.74.jpg',\n",
              " 'train/cats/cat.569.jpg',\n",
              " 'train/cats/cat.540.jpg',\n",
              " 'train/cats/cat.194.jpg',\n",
              " 'train/cats/cat.957.jpg',\n",
              " 'train/cats/cat.605.jpg',\n",
              " 'train/cats/cat.18.jpg',\n",
              " 'train/cats/cat.144.jpg',\n",
              " 'train/cats/cat.747.jpg',\n",
              " 'train/cats/cat.234.jpg',\n",
              " 'train/cats/cat.849.jpg',\n",
              " 'train/cats/cat.378.jpg',\n",
              " 'train/cats/cat.723.jpg',\n",
              " 'train/cats/cat.628.jpg',\n",
              " 'train/cats/cat.70.jpg',\n",
              " 'train/cats/cat.571.jpg',\n",
              " 'train/cats/cat.21.jpg',\n",
              " 'train/cats/cat.497.jpg',\n",
              " 'train/cats/cat.517.jpg',\n",
              " 'train/cats/cat.776.jpg',\n",
              " 'train/cats/cat.679.jpg',\n",
              " 'train/cats/cat.635.jpg',\n",
              " 'train/cats/cat.350.jpg',\n",
              " 'train/cats/cat.906.jpg',\n",
              " 'train/cats/cat.701.jpg',\n",
              " 'train/cats/cat.576.jpg',\n",
              " 'train/cats/cat.703.jpg',\n",
              " 'train/cats/cat.506.jpg',\n",
              " 'train/cats/cat.771.jpg',\n",
              " 'train/cats/cat.719.jpg',\n",
              " 'train/cats/cat.196.jpg',\n",
              " 'train/cats/cat.202.jpg',\n",
              " 'train/cats/cat.231.jpg',\n",
              " 'train/cats/cat.646.jpg',\n",
              " 'train/cats/cat.106.jpg',\n",
              " 'train/cats/cat.827.jpg',\n",
              " 'train/cats/cat.244.jpg',\n",
              " 'train/cats/cat.548.jpg',\n",
              " 'train/cats/cat.775.jpg',\n",
              " 'train/cats/cat.200.jpg',\n",
              " 'train/cats/cat.649.jpg',\n",
              " 'train/cats/cat.345.jpg',\n",
              " 'train/cats/cat.353.jpg',\n",
              " 'train/cats/cat.131.jpg',\n",
              " 'train/cats/cat.288.jpg',\n",
              " 'train/cats/cat.648.jpg',\n",
              " 'train/cats/cat.342.jpg',\n",
              " 'train/cats/cat.364.jpg',\n",
              " 'train/cats/cat.765.jpg',\n",
              " 'train/cats/cat.560.jpg',\n",
              " 'train/cats/cat.907.jpg',\n",
              " 'train/cats/cat.593.jpg',\n",
              " 'train/cats/cat.836.jpg',\n",
              " 'train/cats/cat.799.jpg',\n",
              " 'train/cats/cat.633.jpg',\n",
              " 'train/cats/cat.473.jpg',\n",
              " 'train/cats/cat.417.jpg',\n",
              " 'train/cats/cat.114.jpg',\n",
              " 'train/cats/cat.38.jpg',\n",
              " 'train/cats/cat.282.jpg',\n",
              " 'train/cats/cat.337.jpg',\n",
              " 'train/cats/cat.545.jpg',\n",
              " 'train/cats/cat.502.jpg',\n",
              " 'train/cats/cat.13.jpg',\n",
              " 'train/cats/cat.722.jpg',\n",
              " 'train/cats/cat.899.jpg',\n",
              " 'train/cats/cat.133.jpg',\n",
              " 'train/cats/cat.653.jpg',\n",
              " 'train/cats/cat.323.jpg',\n",
              " 'train/cats/cat.781.jpg',\n",
              " 'train/cats/cat.181.jpg',\n",
              " 'train/cats/cat.98.jpg',\n",
              " 'train/cats/cat.779.jpg',\n",
              " 'train/cats/cat.113.jpg',\n",
              " 'train/cats/cat.435.jpg',\n",
              " 'train/cats/cat.490.jpg',\n",
              " 'train/cats/cat.864.jpg',\n",
              " 'train/cats/cat.359.jpg',\n",
              " 'train/cats/cat.222.jpg',\n",
              " 'train/cats/cat.797.jpg',\n",
              " 'train/cats/cat.857.jpg',\n",
              " 'train/cats/cat.247.jpg',\n",
              " 'train/cats/cat.424.jpg',\n",
              " 'train/cats/cat.7.jpg',\n",
              " 'train/cats/cat.261.jpg',\n",
              " 'train/cats/cat.173.jpg',\n",
              " 'train/cats/cat.979.jpg',\n",
              " 'train/cats/cat.416.jpg',\n",
              " 'train/cats/cat.977.jpg',\n",
              " 'train/cats/cat.346.jpg',\n",
              " 'train/cats/cat.277.jpg',\n",
              " 'train/cats/cat.334.jpg',\n",
              " 'train/cats/cat.739.jpg',\n",
              " 'train/cats/cat.154.jpg',\n",
              " 'train/cats/cat.436.jpg',\n",
              " 'train/cats/cat.471.jpg',\n",
              " 'train/cats/cat.688.jpg',\n",
              " 'train/cats/cat.600.jpg',\n",
              " 'train/cats/cat.259.jpg',\n",
              " 'train/cats/cat.466.jpg',\n",
              " 'train/cats/cat.933.jpg',\n",
              " 'train/cats/cat.509.jpg',\n",
              " 'train/cats/cat.705.jpg',\n",
              " 'train/cats/cat.443.jpg',\n",
              " 'train/cats/cat.423.jpg',\n",
              " 'train/cats/cat.967.jpg',\n",
              " 'train/cats/cat.430.jpg',\n",
              " 'train/cats/cat.972.jpg',\n",
              " 'train/cats/cat.235.jpg',\n",
              " 'train/cats/cat.309.jpg',\n",
              " 'train/cats/cat.335.jpg',\n",
              " 'train/cats/cat.897.jpg',\n",
              " 'train/cats/cat.302.jpg',\n",
              " 'train/cats/cat.983.jpg',\n",
              " 'train/cats/cat.327.jpg',\n",
              " 'train/cats/cat.706.jpg',\n",
              " 'train/cats/cat.354.jpg',\n",
              " 'train/cats/cat.454.jpg',\n",
              " 'train/cats/cat.546.jpg',\n",
              " 'train/cats/cat.104.jpg',\n",
              " 'train/cats/cat.132.jpg',\n",
              " 'train/cats/cat.461.jpg',\n",
              " 'train/cats/cat.997.jpg',\n",
              " 'train/cats/cat.205.jpg',\n",
              " 'train/cats/cat.427.jpg',\n",
              " 'train/cats/cat.12.jpg',\n",
              " 'train/cats/cat.201.jpg',\n",
              " 'train/cats/cat.801.jpg',\n",
              " 'train/cats/cat.640.jpg',\n",
              " 'train/cats/cat.737.jpg',\n",
              " 'train/cats/cat.895.jpg',\n",
              " 'train/cats/cat.735.jpg',\n",
              " 'train/cats/cat.389.jpg',\n",
              " 'train/cats/cat.0.jpg',\n",
              " 'train/cats/cat.689.jpg',\n",
              " 'train/cats/cat.380.jpg',\n",
              " 'train/cats/cat.879.jpg',\n",
              " 'train/cats/cat.294.jpg',\n",
              " 'train/cats/cat.669.jpg',\n",
              " 'train/cats/cat.66.jpg',\n",
              " 'train/cats/cat.45.jpg',\n",
              " 'train/cats/cat.64.jpg',\n",
              " 'train/cats/cat.16.jpg',\n",
              " 'train/cats/cat.980.jpg',\n",
              " 'train/cats/cat.752.jpg',\n",
              " 'train/cats/cat.731.jpg',\n",
              " 'train/cats/cat.854.jpg',\n",
              " 'train/cats/cat.533.jpg',\n",
              " 'train/cats/cat.734.jpg',\n",
              " 'train/cats/cat.910.jpg',\n",
              " 'train/cats/cat.783.jpg',\n",
              " 'train/cats/cat.30.jpg',\n",
              " 'train/cats/cat.124.jpg',\n",
              " 'train/cats/cat.573.jpg',\n",
              " 'train/cats/cat.988.jpg',\n",
              " 'train/cats/cat.271.jpg',\n",
              " 'train/cats/cat.76.jpg',\n",
              " 'train/cats/cat.772.jpg',\n",
              " 'train/cats/cat.391.jpg',\n",
              " 'train/cats/cat.847.jpg',\n",
              " 'train/cats/cat.145.jpg',\n",
              " 'train/cats/cat.83.jpg',\n",
              " 'train/cats/cat.140.jpg',\n",
              " 'train/cats/cat.608.jpg',\n",
              " 'train/cats/cat.543.jpg',\n",
              " 'train/cats/cat.382.jpg',\n",
              " 'train/cats/cat.263.jpg',\n",
              " 'train/cats/cat.937.jpg',\n",
              " 'train/cats/cat.874.jpg',\n",
              " 'train/cats/cat.23.jpg',\n",
              " 'train/cats/cat.143.jpg',\n",
              " 'train/cats/cat.770.jpg',\n",
              " 'train/cats/cat.319.jpg',\n",
              " 'train/cats/cat.275.jpg',\n",
              " 'train/cats/cat.567.jpg',\n",
              " 'train/cats/cat.908.jpg',\n",
              " 'train/cats/cat.399.jpg',\n",
              " 'train/cats/cat.331.jpg',\n",
              " 'train/cats/cat.4.jpg',\n",
              " 'train/cats/cat.795.jpg',\n",
              " 'train/cats/cat.516.jpg',\n",
              " 'train/cats/cat.127.jpg',\n",
              " 'train/cats/cat.72.jpg',\n",
              " 'train/cats/cat.256.jpg',\n",
              " 'train/cats/cat.49.jpg',\n",
              " 'train/cats/cat.36.jpg',\n",
              " 'train/cats/cat.396.jpg',\n",
              " 'train/cats/cat.81.jpg',\n",
              " 'train/cats/cat.241.jpg',\n",
              " 'train/cats/cat.24.jpg',\n",
              " 'train/cats/cat.950.jpg',\n",
              " 'train/cats/cat.767.jpg',\n",
              " 'train/cats/cat.744.jpg',\n",
              " 'train/cats/cat.120.jpg',\n",
              " 'train/cats/cat.122.jpg',\n",
              " 'train/cats/cat.902.jpg',\n",
              " 'train/cats/cat.926.jpg',\n",
              " 'train/cats/cat.377.jpg',\n",
              " 'train/cats/cat.301.jpg',\n",
              " 'train/cats/cat.890.jpg',\n",
              " 'train/cats/cat.981.jpg',\n",
              " 'train/cats/cat.110.jpg',\n",
              " 'train/cats/cat.236.jpg',\n",
              " 'train/cats/cat.304.jpg',\n",
              " 'train/cats/cat.97.jpg',\n",
              " 'train/cats/cat.852.jpg',\n",
              " 'train/cats/cat.227.jpg',\n",
              " 'train/cats/cat.903.jpg',\n",
              " 'train/cats/cat.786.jpg',\n",
              " 'train/cats/cat.3.jpg',\n",
              " 'train/cats/cat.178.jpg',\n",
              " 'train/cats/cat.894.jpg',\n",
              " 'train/cats/cat.944.jpg',\n",
              " 'train/cats/cat.453.jpg',\n",
              " 'train/cats/cat.831.jpg',\n",
              " 'train/cats/cat.457.jpg',\n",
              " 'train/cats/cat.370.jpg',\n",
              " 'train/cats/cat.446.jpg',\n",
              " 'train/cats/cat.357.jpg',\n",
              " 'train/cats/cat.515.jpg',\n",
              " 'train/cats/cat.172.jpg',\n",
              " 'train/cats/cat.217.jpg',\n",
              " 'train/cats/cat.458.jpg',\n",
              " 'train/cats/cat.284.jpg',\n",
              " 'train/cats/cat.500.jpg',\n",
              " 'train/cats/cat.794.jpg',\n",
              " 'train/cats/cat.676.jpg',\n",
              " 'train/cats/cat.514.jpg',\n",
              " 'train/cats/cat.216.jpg',\n",
              " 'train/cats/cat.562.jpg',\n",
              " 'train/cats/cat.348.jpg',\n",
              " 'train/cats/cat.987.jpg',\n",
              " 'train/cats/cat.551.jpg',\n",
              " 'train/cats/cat.904.jpg',\n",
              " 'train/cats/cat.92.jpg',\n",
              " 'train/cats/cat.218.jpg',\n",
              " 'train/cats/cat.946.jpg',\n",
              " 'train/cats/cat.668.jpg',\n",
              " 'train/cats/cat.947.jpg',\n",
              " 'train/cats/cat.119.jpg',\n",
              " 'train/cats/cat.806.jpg',\n",
              " 'train/cats/cat.670.jpg',\n",
              " 'train/cats/cat.905.jpg',\n",
              " 'train/cats/cat.536.jpg',\n",
              " 'train/cats/cat.475.jpg',\n",
              " 'train/cats/cat.861.jpg',\n",
              " 'train/cats/cat.525.jpg',\n",
              " 'train/cats/cat.808.jpg',\n",
              " 'train/cats/cat.855.jpg',\n",
              " 'train/cats/cat.915.jpg',\n",
              " 'train/cats/cat.58.jpg',\n",
              " 'train/cats/cat.751.jpg',\n",
              " 'train/cats/cat.817.jpg',\n",
              " 'train/cats/cat.439.jpg',\n",
              " 'train/cats/cat.636.jpg',\n",
              " 'train/cats/cat.108.jpg',\n",
              " 'train/cats/cat.616.jpg',\n",
              " 'train/cats/cat.305.jpg',\n",
              " 'train/cats/cat.311.jpg',\n",
              " 'train/cats/cat.213.jpg',\n",
              " 'train/cats/cat.618.jpg',\n",
              " 'train/cats/cat.330.jpg',\n",
              " 'train/cats/cat.592.jpg',\n",
              " 'train/cats/cat.818.jpg',\n",
              " 'train/cats/cat.413.jpg',\n",
              " 'train/cats/cat.613.jpg',\n",
              " 'train/cats/cat.33.jpg',\n",
              " 'train/cats/cat.714.jpg',\n",
              " 'train/cats/cat.842.jpg',\n",
              " 'train/cats/cat.432.jpg',\n",
              " 'train/cats/cat.934.jpg',\n",
              " 'train/cats/cat.229.jpg',\n",
              " 'train/cats/cat.300.jpg',\n",
              " 'train/cats/cat.411.jpg',\n",
              " 'train/cats/cat.315.jpg',\n",
              " 'train/cats/cat.932.jpg',\n",
              " 'train/cats/cat.697.jpg',\n",
              " 'train/cats/cat.460.jpg',\n",
              " 'train/cats/cat.384.jpg',\n",
              " 'train/cats/cat.385.jpg',\n",
              " 'train/cats/cat.397.jpg',\n",
              " 'train/cats/cat.51.jpg',\n",
              " 'train/cats/cat.491.jpg',\n",
              " 'train/cats/cat.299.jpg',\n",
              " 'train/cats/cat.15.jpg',\n",
              " 'train/cats/cat.978.jpg',\n",
              " 'train/cats/cat.494.jpg',\n",
              " 'train/cats/cat.420.jpg',\n",
              " 'train/cats/cat.280.jpg',\n",
              " 'train/cats/cat.813.jpg',\n",
              " 'train/cats/cat.279.jpg',\n",
              " 'train/cats/cat.414.jpg',\n",
              " 'train/cats/cat.182.jpg',\n",
              " 'train/cats/cat.962.jpg',\n",
              " 'train/cats/cat.656.jpg',\n",
              " 'train/cats/cat.622.jpg',\n",
              " 'train/cats/cat.360.jpg',\n",
              " 'train/cats/cat.843.jpg',\n",
              " 'train/cats/cat.161.jpg',\n",
              " 'train/cats/cat.829.jpg',\n",
              " 'train/cats/cat.807.jpg',\n",
              " 'train/cats/cat.189.jpg',\n",
              " 'train/cats/cat.513.jpg',\n",
              " 'train/cats/cat.437.jpg',\n",
              " 'train/cats/cat.59.jpg',\n",
              " 'train/cats/cat.869.jpg',\n",
              " 'train/cats/cat.686.jpg',\n",
              " 'train/cats/cat.455.jpg',\n",
              " 'train/cats/cat.29.jpg',\n",
              " 'train/cats/cat.848.jpg',\n",
              " 'train/cats/cat.379.jpg',\n",
              " 'train/cats/cat.788.jpg',\n",
              " 'train/cats/cat.467.jpg',\n",
              " 'train/cats/cat.338.jpg',\n",
              " 'train/cats/cat.564.jpg',\n",
              " 'train/cats/cat.696.jpg',\n",
              " 'train/cats/cat.758.jpg',\n",
              " 'train/cats/cat.100.jpg',\n",
              " 'train/cats/cat.872.jpg',\n",
              " 'train/cats/cat.407.jpg',\n",
              " 'train/cats/cat.351.jpg',\n",
              " 'train/cats/cat.344.jpg',\n",
              " 'train/cats/cat.629.jpg',\n",
              " 'train/cats/cat.109.jpg',\n",
              " 'train/cats/cat.951.jpg',\n",
              " 'train/cats/cat.17.jpg',\n",
              " 'train/cats/cat.750.jpg',\n",
              " 'train/cats/cat.601.jpg',\n",
              " 'train/cats/cat.878.jpg',\n",
              " 'train/cats/cat.479.jpg',\n",
              " 'train/cats/cat.505.jpg',\n",
              " 'train/cats/cat.764.jpg',\n",
              " 'train/cats/cat.447.jpg',\n",
              " 'train/cats/cat.375.jpg',\n",
              " 'train/cats/cat.464.jpg',\n",
              " 'train/cats/cat.56.jpg',\n",
              " 'train/cats/cat.700.jpg',\n",
              " 'train/cats/cat.680.jpg',\n",
              " 'train/cats/cat.186.jpg',\n",
              " 'train/cats/cat.387.jpg',\n",
              " 'train/cats/cat.341.jpg',\n",
              " 'train/cats/cat.255.jpg',\n",
              " 'train/cats/cat.673.jpg',\n",
              " 'train/cats/cat.819.jpg',\n",
              " 'train/cats/cat.406.jpg',\n",
              " 'train/cats/cat.859.jpg',\n",
              " 'train/cats/cat.803.jpg',\n",
              " 'train/cats/cat.37.jpg',\n",
              " 'train/cats/cat.507.jpg',\n",
              " 'train/cats/cat.736.jpg',\n",
              " 'train/cats/cat.936.jpg',\n",
              " 'train/cats/cat.853.jpg',\n",
              " 'train/cats/cat.177.jpg',\n",
              " 'train/cats/cat.961.jpg',\n",
              " 'train/cats/cat.215.jpg',\n",
              " 'train/cats/cat.654.jpg',\n",
              " 'train/cats/cat.333.jpg',\n",
              " 'train/cats/cat.577.jpg',\n",
              " 'train/cats/cat.768.jpg',\n",
              " 'train/cats/cat.212.jpg',\n",
              " 'train/cats/cat.128.jpg',\n",
              " 'train/cats/cat.805.jpg',\n",
              " 'train/cats/cat.798.jpg',\n",
              " 'train/cats/cat.607.jpg',\n",
              " 'train/cats/cat.480.jpg',\n",
              " 'train/cats/cat.838.jpg',\n",
              " 'train/cats/cat.139.jpg',\n",
              " 'train/cats/cat.289.jpg',\n",
              " 'train/cats/cat.228.jpg',\n",
              " 'train/cats/cat.556.jpg',\n",
              " 'train/cats/cat.727.jpg',\n",
              " 'train/cats/cat.26.jpg',\n",
              " 'train/cats/cat.716.jpg',\n",
              " 'train/cats/cat.203.jpg',\n",
              " 'train/cats/cat.877.jpg',\n",
              " 'train/cats/cat.828.jpg',\n",
              " 'train/cats/cat.367.jpg',\n",
              " 'train/cats/cat.6.jpg',\n",
              " 'train/cats/cat.404.jpg',\n",
              " 'train/cats/cat.984.jpg',\n",
              " 'train/cats/cat.802.jpg',\n",
              " 'train/cats/cat.412.jpg',\n",
              " 'train/cats/cat.483.jpg',\n",
              " 'train/cats/cat.756.jpg',\n",
              " 'train/cats/cat.372.jpg',\n",
              " 'train/cats/cat.924.jpg',\n",
              " 'train/cats/cat.111.jpg',\n",
              " 'train/cats/cat.137.jpg',\n",
              " 'train/cats/cat.421.jpg',\n",
              " 'train/cats/cat.742.jpg',\n",
              " 'train/cats/cat.939.jpg',\n",
              " 'train/cats/cat.740.jpg',\n",
              " 'train/cats/cat.365.jpg',\n",
              " 'train/cats/cat.674.jpg',\n",
              " 'train/cats/cat.153.jpg',\n",
              " 'train/cats/cat.882.jpg',\n",
              " 'train/cats/cat.555.jpg',\n",
              " 'train/cats/cat.253.jpg',\n",
              " 'train/cats/cat.733.jpg',\n",
              " 'train/cats/cat.355.jpg',\n",
              " 'train/cats/cat.314.jpg',\n",
              " 'train/cats/cat.958.jpg',\n",
              " 'train/cats/cat.57.jpg',\n",
              " 'train/cats/cat.643.jpg',\n",
              " 'train/cats/cat.221.jpg',\n",
              " 'train/cats/cat.11.jpg',\n",
              " 'train/cats/cat.115.jpg',\n",
              " 'train/cats/cat.612.jpg',\n",
              " 'train/cats/cat.470.jpg',\n",
              " 'train/cats/cat.184.jpg',\n",
              " 'train/cats/cat.959.jpg',\n",
              " 'train/cats/cat.415.jpg',\n",
              " 'train/cats/cat.445.jpg',\n",
              " 'train/cats/cat.954.jpg',\n",
              " 'train/cats/cat.711.jpg',\n",
              " 'train/cats/cat.209.jpg',\n",
              " 'train/cats/cat.146.jpg',\n",
              " 'train/cats/cat.657.jpg',\n",
              " 'train/cats/cat.661.jpg',\n",
              " 'train/cats/cat.522.jpg',\n",
              " 'train/cats/cat.433.jpg',\n",
              " 'train/cats/cat.912.jpg',\n",
              " 'train/cats/cat.594.jpg',\n",
              " 'train/cats/cat.306.jpg',\n",
              " 'train/cats/cat.578.jpg',\n",
              " 'train/cats/cat.526.jpg',\n",
              " 'train/cats/cat.96.jpg',\n",
              " 'train/cats/cat.724.jpg',\n",
              " 'train/cats/cat.442.jpg',\n",
              " 'train/cats/cat.708.jpg',\n",
              " 'train/cats/cat.322.jpg',\n",
              " 'train/cats/cat.647.jpg',\n",
              " 'train/cats/cat.134.jpg',\n",
              " 'train/cats/cat.296.jpg',\n",
              " 'train/cats/cat.40.jpg',\n",
              " 'train/cats/cat.820.jpg',\n",
              " 'train/cats/cat.630.jpg',\n",
              " 'train/cats/cat.591.jpg',\n",
              " 'train/cats/cat.390.jpg',\n",
              " 'train/cats/cat.822.jpg',\n",
              " 'train/cats/cat.812.jpg',\n",
              " 'train/cats/cat.952.jpg',\n",
              " 'train/cats/cat.566.jpg',\n",
              " 'train/cats/cat.964.jpg',\n",
              " 'train/cats/cat.660.jpg',\n",
              " 'train/cats/cat.183.jpg',\n",
              " 'train/cats/cat.19.jpg',\n",
              " 'train/cats/cat.766.jpg',\n",
              " 'train/cats/cat.158.jpg',\n",
              " 'train/cats/cat.248.jpg',\n",
              " 'train/cats/cat.147.jpg',\n",
              " 'train/cats/cat.293.jpg',\n",
              " 'train/cats/cat.272.jpg',\n",
              " 'train/cats/cat.477.jpg',\n",
              " 'train/cats/cat.47.jpg',\n",
              " 'train/cats/cat.699.jpg',\n",
              " 'train/cats/cat.123.jpg',\n",
              " 'train/cats/cat.41.jpg',\n",
              " 'train/cats/cat.32.jpg',\n",
              " 'train/cats/cat.687.jpg',\n",
              " 'train/cats/cat.308.jpg',\n",
              " 'train/cats/cat.197.jpg',\n",
              " 'train/cats/cat.728.jpg',\n",
              " 'train/cats/cat.876.jpg',\n",
              " 'train/cats/cat.597.jpg',\n",
              " 'train/cats/cat.5.jpg',\n",
              " 'train/cats/cat.568.jpg',\n",
              " 'train/cats/cat.425.jpg',\n",
              " 'train/cats/cat.281.jpg',\n",
              " 'train/cats/cat.207.jpg',\n",
              " 'train/cats/cat.989.jpg',\n",
              " 'train/cats/cat.224.jpg',\n",
              " 'train/cats/cat.149.jpg',\n",
              " 'train/cats/cat.243.jpg',\n",
              " 'train/cats/cat.287.jpg',\n",
              " 'train/cats/cat.310.jpg',\n",
              " 'train/cats/cat.559.jpg',\n",
              " 'train/cats/cat.625.jpg',\n",
              " 'train/cats/cat.745.jpg',\n",
              " 'train/cats/cat.347.jpg',\n",
              " 'train/cats/cat.712.jpg',\n",
              " 'train/cats/cat.785.jpg',\n",
              " 'train/cats/cat.10.jpg',\n",
              " 'train/cats/cat.403.jpg',\n",
              " 'train/cats/cat.101.jpg',\n",
              " 'train/cats/cat.476.jpg',\n",
              " 'train/cats/cat.973.jpg',\n",
              " 'train/cats/cat.87.jpg',\n",
              " 'train/cats/cat.922.jpg',\n",
              " 'train/cats/cat.530.jpg',\n",
              " 'train/cats/cat.107.jpg',\n",
              " 'train/cats/cat.565.jpg',\n",
              " 'train/cats/cat.93.jpg',\n",
              " 'train/cats/cat.303.jpg',\n",
              " 'train/cats/cat.392.jpg',\n",
              " 'train/cats/cat.492.jpg',\n",
              " 'train/cats/cat.167.jpg',\n",
              " 'train/cats/cat.917.jpg',\n",
              " 'train/cats/cat.968.jpg',\n",
              " 'train/cats/cat.166.jpg',\n",
              " 'train/cats/cat.694.jpg',\n",
              " 'train/cats/cat.230.jpg',\n",
              " 'train/cats/cat.998.jpg',\n",
              " 'train/cats/cat.759.jpg',\n",
              " 'train/cats/cat.918.jpg',\n",
              " 'train/cats/cat.969.jpg',\n",
              " 'train/cats/cat.667.jpg',\n",
              " 'train/cats/cat.892.jpg',\n",
              " 'train/cats/cat.561.jpg',\n",
              " 'train/cats/cat.883.jpg',\n",
              " 'train/cats/cat.860.jpg',\n",
              " 'train/cats/cat.332.jpg',\n",
              " 'train/cats/cat.401.jpg',\n",
              " 'train/cats/cat.112.jpg',\n",
              " 'train/cats/cat.20.jpg',\n",
              " 'train/cats/cat.800.jpg',\n",
              " 'train/cats/cat.176.jpg',\n",
              " 'train/cats/cat.811.jpg',\n",
              " 'train/cats/cat.675.jpg',\n",
              " 'train/cats/cat.709.jpg',\n",
              " 'train/cats/cat.881.jpg',\n",
              " 'train/cats/cat.943.jpg',\n",
              " 'train/cats/cat.839.jpg',\n",
              " 'train/cats/cat.935.jpg',\n",
              " 'train/cats/cat.749.jpg',\n",
              " 'train/cats/cat.558.jpg',\n",
              " 'train/cats/cat.326.jpg',\n",
              " 'train/cats/cat.329.jpg',\n",
              " 'train/cats/cat.683.jpg',\n",
              " 'train/cats/cat.171.jpg',\n",
              " 'train/cats/cat.583.jpg',\n",
              " 'train/cats/cat.501.jpg',\n",
              " 'train/cats/cat.99.jpg',\n",
              " 'train/cats/cat.358.jpg',\n",
              " 'train/cats/cat.438.jpg',\n",
              " 'train/cats/cat.925.jpg',\n",
              " 'train/cats/cat.366.jpg',\n",
              " 'train/cats/cat.481.jpg',\n",
              " 'train/cats/cat.825.jpg',\n",
              " 'train/cats/cat.14.jpg',\n",
              " 'train/cats/cat.948.jpg',\n",
              " 'train/cats/cat.141.jpg',\n",
              " 'train/cats/cat.599.jpg',\n",
              " 'train/cats/cat.297.jpg',\n",
              " 'train/cats/cat.617.jpg',\n",
              " 'train/cats/cat.339.jpg',\n",
              " 'train/cats/cat.130.jpg',\n",
              " 'train/cats/cat.383.jpg',\n",
              " 'train/cats/cat.746.jpg',\n",
              " 'train/cats/cat.270.jpg',\n",
              " 'train/cats/cat.532.jpg',\n",
              " 'train/cats/cat.520.jpg',\n",
              " 'train/cats/cat.884.jpg',\n",
              " 'train/cats/cat.469.jpg',\n",
              " 'train/cats/cat.2.jpg',\n",
              " 'train/cats/cat.572.jpg',\n",
              " 'train/cats/cat.495.jpg',\n",
              " 'train/cats/cat.52.jpg',\n",
              " 'train/cats/cat.55.jpg',\n",
              " 'train/cats/cat.732.jpg',\n",
              " 'train/cats/cat.208.jpg',\n",
              " 'train/cats/cat.603.jpg',\n",
              " 'train/cats/cat.911.jpg',\n",
              " 'train/cats/cat.586.jpg',\n",
              " 'train/cats/cat.627.jpg',\n",
              " 'train/cats/cat.493.jpg',\n",
              " 'train/cats/cat.610.jpg',\n",
              " 'train/cats/cat.316.jpg',\n",
              " 'train/cats/cat.774.jpg',\n",
              " 'train/cats/cat.451.jpg',\n",
              " 'train/cats/cat.42.jpg',\n",
              " 'train/cats/cat.53.jpg',\n",
              " 'train/cats/cat.268.jpg',\n",
              " 'train/cats/cat.260.jpg',\n",
              " 'train/cats/cat.991.jpg',\n",
              " 'train/cats/cat.580.jpg',\n",
              " 'train/cats/cat.155.jpg',\n",
              " 'train/cats/cat.914.jpg',\n",
              " 'train/cats/cat.965.jpg',\n",
              " 'train/cats/cat.830.jpg',\n",
              " 'train/cats/cat.730.jpg',\n",
              " 'train/cats/cat.496.jpg',\n",
              " 'train/cats/cat.544.jpg',\n",
              " 'train/cats/cat.265.jpg',\n",
              " 'train/cats/cat.257.jpg',\n",
              " 'train/cats/cat.508.jpg',\n",
              " 'train/cats/cat.239.jpg',\n",
              " 'train/cats/cat.920.jpg',\n",
              " 'train/cats/cat.682.jpg',\n",
              " 'train/cats/cat.955.jpg',\n",
              " 'train/cats/cat.174.jpg',\n",
              " 'train/cats/cat.223.jpg',\n",
              " 'train/cats/cat.547.jpg',\n",
              " 'train/cats/cat.151.jpg',\n",
              " 'train/cats/cat.757.jpg',\n",
              " 'train/cats/cat.312.jpg',\n",
              " 'train/cats/cat.777.jpg',\n",
              " 'train/cats/cat.9.jpg',\n",
              " 'train/cats/cat.778.jpg',\n",
              " 'train/cats/cat.43.jpg',\n",
              " 'train/cats/cat.620.jpg',\n",
              " 'train/cats/cat.164.jpg',\n",
              " 'train/cats/cat.826.jpg',\n",
              " 'train/cats/cat.615.jpg',\n",
              " 'train/cats/cat.187.jpg',\n",
              " 'train/cats/cat.35.jpg',\n",
              " 'train/cats/cat.585.jpg',\n",
              " 'train/cats/cat.258.jpg',\n",
              " 'train/cats/cat.938.jpg',\n",
              " 'train/cats/cat.504.jpg',\n",
              " 'train/cats/cat.999.jpg',\n",
              " 'train/cats/cat.352.jpg',\n",
              " 'train/cats/cat.219.jpg',\n",
              " 'train/cats/cat.796.jpg',\n",
              " 'train/cats/cat.376.jpg',\n",
              " 'train/cats/cat.659.jpg',\n",
              " 'train/cats/cat.152.jpg',\n",
              " 'train/cats/cat.170.jpg',\n",
              " 'train/cats/cat.238.jpg',\n",
              " 'train/cats/cat.121.jpg',\n",
              " 'train/cats/cat.953.jpg',\n",
              " 'train/cats/cat.590.jpg',\n",
              " 'train/cats/cat.762.jpg',\n",
              " 'train/cats/cat.369.jpg',\n",
              " 'train/cats/cat.611.jpg',\n",
              " 'train/cats/cat.46.jpg',\n",
              " 'train/cats/cat.484.jpg',\n",
              " 'train/cats/cat.982.jpg',\n",
              " 'train/cats/cat.449.jpg',\n",
              " 'train/cats/cat.320.jpg',\n",
              " 'train/cats/cat.408.jpg',\n",
              " 'train/cats/cat.523.jpg',\n",
              " 'train/cats/cat.755.jpg',\n",
              " 'train/cats/cat.940.jpg',\n",
              " 'train/cats/cat.336.jpg',\n",
              " 'train/cats/cat.102.jpg',\n",
              " 'train/cats/cat.698.jpg',\n",
              " 'train/cats/cat.994.jpg',\n",
              " 'train/cats/cat.524.jpg',\n",
              " 'train/cats/cat.710.jpg',\n",
              " 'train/cats/cat.28.jpg',\n",
              " 'train/cats/cat.541.jpg',\n",
              " 'train/cats/cat.850.jpg',\n",
              " 'train/cats/cat.784.jpg',\n",
              " 'train/cats/cat.900.jpg',\n",
              " 'train/cats/cat.269.jpg',\n",
              " 'train/cats/cat.930.jpg',\n",
              " 'train/cats/cat.448.jpg',\n",
              " 'train/cats/cat.862.jpg',\n",
              " 'train/cats/cat.463.jpg',\n",
              " 'train/cats/cat.809.jpg',\n",
              " 'train/cats/cat.489.jpg',\n",
              " 'train/cats/cat.444.jpg',\n",
              " 'train/cats/cat.75.jpg',\n",
              " 'train/cats/cat.760.jpg',\n",
              " 'train/cats/cat.927.jpg',\n",
              " 'train/cats/cat.913.jpg',\n",
              " 'train/cats/cat.150.jpg',\n",
              " 'train/cats/cat.210.jpg',\n",
              " 'train/cats/cat.570.jpg',\n",
              " 'train/cats/cat.440.jpg',\n",
              " 'train/cats/cat.340.jpg',\n",
              " 'train/cats/cat.721.jpg',\n",
              " 'train/cats/cat.468.jpg',\n",
              " 'train/cats/cat.542.jpg',\n",
              " 'train/cats/cat.782.jpg',\n",
              " 'train/cats/cat.837.jpg',\n",
              " 'train/cats/cat.579.jpg',\n",
              " 'train/cats/cat.168.jpg',\n",
              " 'train/cats/cat.993.jpg',\n",
              " 'train/cats/cat.835.jpg',\n",
              " 'train/cats/cat.276.jpg',\n",
              " 'train/cats/cat.581.jpg',\n",
              " 'train/cats/cat.557.jpg',\n",
              " 'train/cats/cat.71.jpg',\n",
              " 'train/cats/cat.575.jpg',\n",
              " 'train/cats/cat.720.jpg',\n",
              " 'train/cats/cat.487.jpg',\n",
              " 'train/cats/cat.85.jpg',\n",
              " 'train/cats/cat.220.jpg',\n",
              " 'train/cats/cat.971.jpg',\n",
              " 'train/cats/cat.90.jpg',\n",
              " 'train/cats/cat.833.jpg',\n",
              " 'train/cats/cat.286.jpg',\n",
              " 'train/cats/cat.452.jpg',\n",
              " 'train/cats/cat.790.jpg',\n",
              " 'train/cats/cat.626.jpg',\n",
              " 'train/cats/cat.68.jpg',\n",
              " 'train/cats/cat.666.jpg',\n",
              " 'train/cats/cat.729.jpg',\n",
              " 'train/cats/cat.195.jpg',\n",
              " 'train/cats/cat.94.jpg',\n",
              " 'train/cats/cat.582.jpg',\n",
              " 'train/cats/cat.511.jpg',\n",
              " 'train/cats/cat.985.jpg',\n",
              " 'train/cats/cat.535.jpg',\n",
              " 'train/cats/cat.761.jpg',\n",
              " 'train/cats/cat.898.jpg',\n",
              " 'train/cats/cat.60.jpg',\n",
              " 'train/cats/cat.717.jpg',\n",
              " 'train/cats/cat.595.jpg',\n",
              " 'train/cats/cat.773.jpg',\n",
              " 'train/cats/cat.873.jpg',\n",
              " 'train/cats/cat.285.jpg',\n",
              " 'train/cats/cat.587.jpg',\n",
              " 'train/cats/cat.588.jpg',\n",
              " 'train/cats/cat.692.jpg',\n",
              " 'train/cats/cat.298.jpg',\n",
              " 'train/cats/cat.394.jpg',\n",
              " 'train/cats/cat.638.jpg',\n",
              " 'train/cats/cat.702.jpg',\n",
              " 'train/cats/cat.956.jpg',\n",
              " 'train/cats/cat.388.jpg',\n",
              " 'train/cats/cat.891.jpg',\n",
              " 'train/cats/cat.428.jpg',\n",
              " 'train/cats/cat.606.jpg',\n",
              " 'train/cats/cat.974.jpg',\n",
              " 'train/cats/cat.841.jpg',\n",
              " 'train/cats/cat.637.jpg',\n",
              " 'train/cats/cat.1.jpg',\n",
              " 'train/cats/cat.190.jpg',\n",
              " 'train/cats/cat.62.jpg',\n",
              " 'train/cats/cat.553.jpg',\n",
              " 'train/cats/cat.169.jpg',\n",
              " 'train/cats/cat.252.jpg',\n",
              " 'train/cats/cat.549.jpg',\n",
              " 'train/cats/cat.986.jpg',\n",
              " 'train/cats/cat.117.jpg',\n",
              " 'train/cats/cat.254.jpg',\n",
              " 'train/cats/cat.328.jpg',\n",
              " 'train/cats/cat.431.jpg',\n",
              " 'train/cats/cat.671.jpg',\n",
              " 'train/cats/cat.48.jpg',\n",
              " 'train/cats/cat.780.jpg',\n",
              " 'train/cats/cat.893.jpg',\n",
              " 'train/cats/cat.362.jpg',\n",
              " 'train/cats/cat.373.jpg',\n",
              " 'train/cats/cat.645.jpg',\n",
              " 'train/cats/cat.82.jpg',\n",
              " 'train/cats/cat.650.jpg',\n",
              " 'train/cats/cat.945.jpg',\n",
              " 'train/cats/cat.307.jpg',\n",
              " 'train/cats/cat.743.jpg',\n",
              " 'train/cats/cat.715.jpg',\n",
              " 'train/cats/cat.349.jpg',\n",
              " 'train/cats/cat.459.jpg',\n",
              " 'train/cats/cat.116.jpg',\n",
              " 'train/cats/cat.89.jpg',\n",
              " 'train/cats/cat.510.jpg',\n",
              " 'train/cats/cat.738.jpg',\n",
              " 'train/cats/cat.465.jpg',\n",
              " 'train/cats/cat.960.jpg',\n",
              " 'train/cats/cat.609.jpg',\n",
              " 'train/cats/cat.478.jpg',\n",
              " 'train/cats/cat.278.jpg',\n",
              " 'train/cats/cat.77.jpg',\n",
              " 'train/cats/cat.753.jpg',\n",
              " 'train/cats/cat.888.jpg',\n",
              " 'train/cats/cat.65.jpg',\n",
              " 'train/cats/cat.135.jpg',\n",
              " 'train/cats/cat.402.jpg',\n",
              " 'train/cats/cat.159.jpg',\n",
              " 'train/cats/cat.816.jpg',\n",
              " 'train/cats/cat.870.jpg',\n",
              " 'train/cats/cat.126.jpg',\n",
              " 'train/cats/cat.631.jpg',\n",
              " 'train/cats/cat.313.jpg',\n",
              " 'train/cats/cat.823.jpg',\n",
              " 'train/cats/cat.204.jpg',\n",
              " 'train/cats/cat.621.jpg',\n",
              " 'train/cats/cat.685.jpg',\n",
              " 'train/cats/cat.931.jpg',\n",
              " 'train/cats/cat.371.jpg',\n",
              " 'train/cats/cat.499.jpg',\n",
              " 'train/cats/cat.672.jpg',\n",
              " 'train/cats/cat.426.jpg',\n",
              " 'train/cats/cat.995.jpg',\n",
              " 'train/cats/cat.129.jpg',\n",
              " 'train/cats/cat.50.jpg',\n",
              " 'train/cats/cat.54.jpg',\n",
              " 'train/cats/cat.921.jpg',\n",
              " 'train/cats/cat.44.jpg',\n",
              " 'train/cats/cat.789.jpg',\n",
              " 'train/cats/cat.474.jpg',\n",
              " 'train/cats/cat.318.jpg',\n",
              " 'train/cats/cat.554.jpg',\n",
              " 'train/cats/cat.644.jpg',\n",
              " 'train/cats/cat.596.jpg',\n",
              " 'train/cats/cat.419.jpg',\n",
              " 'train/cats/cat.67.jpg',\n",
              " 'train/cats/cat.639.jpg',\n",
              " 'train/cats/cat.693.jpg',\n",
              " 'train/cats/cat.889.jpg',\n",
              " 'train/cats/cat.22.jpg',\n",
              " 'train/cats/cat.245.jpg',\n",
              " 'train/cats/cat.317.jpg',\n",
              " 'train/cats/cat.381.jpg',\n",
              " 'train/cats/cat.456.jpg',\n",
              " 'train/cats/cat.179.jpg',\n",
              " 'train/cats/cat.266.jpg',\n",
              " 'train/cats/cat.787.jpg',\n",
              " 'train/cats/cat.529.jpg',\n",
              " 'train/cats/cat.664.jpg',\n",
              " 'train/cats/cat.91.jpg',\n",
              " 'train/cats/cat.563.jpg',\n",
              " 'train/cats/cat.386.jpg',\n",
              " 'train/cats/cat.886.jpg',\n",
              " 'train/cats/cat.840.jpg',\n",
              " 'train/cats/cat.199.jpg',\n",
              " 'train/cats/cat.695.jpg',\n",
              " 'train/cats/cat.211.jpg',\n",
              " 'train/cats/cat.273.jpg',\n",
              " 'train/cats/cat.792.jpg',\n",
              " 'train/cats/cat.632.jpg',\n",
              " 'train/cats/cat.602.jpg',\n",
              " 'train/cats/cat.226.jpg',\n",
              " 'train/cats/cat.832.jpg',\n",
              " 'train/cats/cat.512.jpg',\n",
              " 'train/cats/cat.472.jpg',\n",
              " 'train/cats/cat.450.jpg',\n",
              " 'train/cats/cat.663.jpg',\n",
              " 'train/cats/cat.614.jpg',\n",
              " 'train/cats/cat.824.jpg',\n",
              " 'train/cats/cat.976.jpg',\n",
              " 'train/cats/cat.233.jpg',\n",
              " 'train/cats/cat.624.jpg',\n",
              " 'train/cats/cat.188.jpg',\n",
              " 'train/cats/cat.193.jpg',\n",
              " 'train/cats/cat.395.jpg',\n",
              " 'train/cats/cat.896.jpg',\n",
              " 'train/cats/cat.949.jpg',\n",
              " 'train/cats/cat.552.jpg',\n",
              " 'train/cats/cat.86.jpg',\n",
              " 'train/cats/cat.741.jpg',\n",
              " 'train/cats/cat.192.jpg',\n",
              " 'train/cats/cat.291.jpg',\n",
              " 'train/cats/cat.398.jpg',\n",
              " 'train/cats/cat.519.jpg',\n",
              " 'train/cats/cat.25.jpg',\n",
              " 'train/cats/cat.225.jpg',\n",
              " 'train/cats/cat.763.jpg',\n",
              " 'train/cats/cat.941.jpg',\n",
              " 'train/cats/cat.400.jpg',\n",
              " 'train/cats/cat.691.jpg',\n",
              " 'train/cats/cat.929.jpg',\n",
              " 'train/cats/cat.95.jpg',\n",
              " 'train/cats/cat.267.jpg',\n",
              " 'train/cats/cat.462.jpg',\n",
              " 'train/cats/cat.534.jpg',\n",
              " 'train/cats/cat.834.jpg',\n",
              " 'train/cats/cat.163.jpg',\n",
              " 'train/cats/cat.634.jpg',\n",
              " 'train/cats/cat.537.jpg',\n",
              " 'train/cats/cat.846.jpg',\n",
              " 'train/cats/cat.662.jpg',\n",
              " 'train/cats/cat.324.jpg',\n",
              " 'train/cats/cat.290.jpg',\n",
              " 'train/cats/cat.856.jpg',\n",
              " 'train/cats/cat.923.jpg',\n",
              " 'train/cats/cat.992.jpg',\n",
              " 'train/cats/cat.909.jpg',\n",
              " 'train/cats/cat.704.jpg',\n",
              " 'train/cats/cat.237.jpg',\n",
              " 'train/cats/cat.249.jpg',\n",
              " 'train/cats/cat.690.jpg',\n",
              " 'train/cats/cat.160.jpg',\n",
              " 'train/cats/cat.274.jpg',\n",
              " 'train/cats/cat.584.jpg',\n",
              " 'train/cats/cat.27.jpg',\n",
              " 'train/cats/cat.363.jpg',\n",
              " 'train/cats/cat.8.jpg',\n",
              " 'train/cats/cat.814.jpg',\n",
              " 'train/cats/cat.482.jpg',\n",
              " 'train/cats/cat.34.jpg',\n",
              " 'train/cats/cat.162.jpg',\n",
              " 'train/cats/cat.180.jpg',\n",
              " 'train/cats/cat.863.jpg',\n",
              " 'train/cats/cat.871.jpg',\n",
              " 'train/cats/cat.61.jpg',\n",
              " 'train/cats/cat.78.jpg',\n",
              " 'train/cats/cat.810.jpg',\n",
              " 'train/cats/cat.885.jpg',\n",
              " 'train/cats/cat.619.jpg',\n",
              " 'train/cats/cat.434.jpg',\n",
              " 'train/cats/cat.589.jpg',\n",
              " 'train/cats/cat.844.jpg',\n",
              " 'train/cats/cat.887.jpg',\n",
              " 'train/cats/cat.232.jpg',\n",
              " 'train/cats/cat.604.jpg',\n",
              " 'train/cats/cat.148.jpg',\n",
              " 'train/cats/cat.815.jpg',\n",
              " ...]"
            ]
          },
          "metadata": {},
          "execution_count": 15
        }
      ]
    },
    {
      "cell_type": "code",
      "source": [
        "deepdriver.upload_artifact(arti)"
      ],
      "metadata": {
        "id": "2TN3RVr6LMmc",
        "outputId": "0d2a62b2-9b7c-41e4-f1b1-8896c06413db",
        "colab": {
          "base_uri": "https://localhost:8080/",
          "height": 174
        }
      },
      "execution_count": null,
      "outputs": [
        {
          "output_type": "error",
          "ename": "NameError",
          "evalue": "ignored",
          "traceback": [
            "\u001b[0;31m---------------------------------------------------------------------------\u001b[0m",
            "\u001b[0;31mNameError\u001b[0m                                 Traceback (most recent call last)",
            "\u001b[0;32m<ipython-input-14-e30235ac0321>\u001b[0m in \u001b[0;36m<module>\u001b[0;34m\u001b[0m\n\u001b[0;32m----> 1\u001b[0;31m \u001b[0mdeepdriver\u001b[0m\u001b[0;34m.\u001b[0m\u001b[0mupload_artifact\u001b[0m\u001b[0;34m(\u001b[0m\u001b[0marti\u001b[0m\u001b[0;34m)\u001b[0m\u001b[0;34m\u001b[0m\u001b[0;34m\u001b[0m\u001b[0m\n\u001b[0m",
            "\u001b[0;31mNameError\u001b[0m: name 'arti' is not defined"
          ]
        }
      ]
    },
    {
      "cell_type": "markdown",
      "source": [
        "#7. ⬇ download artifact(data)"
      ],
      "metadata": {
        "id": "Ls72Ap0WLywJ"
      }
    },
    {
      "cell_type": "code",
      "source": [
        "arti2 = deepdriver.get_artifact(name=\"sample\",type=\"dataset\")"
      ],
      "metadata": {
        "id": "b3e58_uUL5gu",
        "colab": {
          "base_uri": "https://localhost:8080/"
        },
        "outputId": "a9e72b18-db56-441e-dbc2-7c628e42742b"
      },
      "execution_count": null,
      "outputs": [
        {
          "output_type": "stream",
          "name": "stdout",
          "text": [
            "2022-12-09 07:57:08,959 INFO [deepdriver] [run.py:38] - artifact is got! \n",
            " artifact id :{1}\n"
          ]
        },
        {
          "output_type": "stream",
          "name": "stderr",
          "text": [
            "INFO:deepdriver:artifact is got! \n",
            " artifact id :{1}\n"
          ]
        }
      ]
    },
    {
      "cell_type": "code",
      "source": [
        "arti2.download()"
      ],
      "metadata": {
        "id": "7gSoGrP9MNls",
        "outputId": "5e618c31-efc4-42e0-d529-fd37edbfe1d6",
        "colab": {
          "base_uri": "https://localhost:8080/"
        }
      },
      "execution_count": null,
      "outputs": [
        {
          "output_type": "stream",
          "name": "stdout",
          "text": [
            "Downloading: [./deepdriver/artifact/1/mnist_train_small.csv] |██████████████████████████████| [100.0%] [6/6]"
          ]
        },
        {
          "output_type": "execute_result",
          "data": {
            "text/plain": [
              "'./deepdriver/artifact/1'"
            ],
            "application/vnd.google.colaboratory.intrinsic+json": {
              "type": "string"
            }
          },
          "metadata": {},
          "execution_count": 47
        }
      ]
    },
    {
      "cell_type": "markdown",
      "source": [
        "#8. 📊 visualize train result"
      ],
      "metadata": {
        "id": "UCmYNLCNMv8m"
      }
    },
    {
      "cell_type": "code",
      "source": [
        "df =deepdriver.DataFrame(columns=[\"step\",\"acc\"], data=[ [idx, acc] for idx, acc in enumerate(accuracy)])"
      ],
      "metadata": {
        "id": "JIqpCcrFMvR8"
      },
      "execution_count": null,
      "outputs": []
    },
    {
      "cell_type": "code",
      "source": [
        "line =deepdriver.line(df,\"step\",\"acc\")"
      ],
      "metadata": {
        "id": "pEJ8AjwbNyEZ"
      },
      "execution_count": null,
      "outputs": []
    },
    {
      "cell_type": "code",
      "source": [
        "deepdriver.visualize(line)"
      ],
      "metadata": {
        "id": "0JyWD1ERNgg9",
        "outputId": "9e42410f-8ce2-4389-a52a-918557bc2e75",
        "colab": {
          "base_uri": "https://localhost:8080/"
        }
      },
      "execution_count": null,
      "outputs": [
        {
          "output_type": "display_data",
          "data": {
            "text/html": [
              "<html>\n",
              "<head><meta charset=\"utf-8\" /></head>\n",
              "<body>\n",
              "    <div>            <script src=\"https://cdnjs.cloudflare.com/ajax/libs/mathjax/2.7.5/MathJax.js?config=TeX-AMS-MML_SVG\"></script><script type=\"text/javascript\">if (window.MathJax) {MathJax.Hub.Config({SVG: {font: \"STIX-Web\"}});}</script>                <script type=\"text/javascript\">window.PlotlyConfig = {MathJaxConfig: 'local'};</script>\n",
              "        <script src=\"https://cdn.plot.ly/plotly-2.8.3.min.js\"></script>                <div id=\"537ccf1d-acad-443f-bc1c-2f9c7f2adb89\" class=\"plotly-graph-div\" style=\"height:525px; width:100%;\"></div>            <script type=\"text/javascript\">                                    window.PLOTLYENV=window.PLOTLYENV || {};                                    if (document.getElementById(\"537ccf1d-acad-443f-bc1c-2f9c7f2adb89\")) {                    Plotly.newPlot(                        \"537ccf1d-acad-443f-bc1c-2f9c7f2adb89\",                        [{\"hovertemplate\":\"step=%{x}<br>acc=%{y}<extra></extra>\",\"legendgroup\":\"\",\"line\":{\"color\":\"#636efa\",\"dash\":\"solid\"},\"marker\":{\"symbol\":\"circle\"},\"mode\":\"lines\",\"name\":\"\",\"orientation\":\"v\",\"showlegend\":false,\"x\":[0,1,2,3,4,5,6,7,8,9],\"xaxis\":\"x\",\"y\":[0.9347855593723267,0.9501102541563891,0.9948180921403273,0.852002695665684,0.9992796481198516,0.8247691343989634,0.8201582492811135,0.8564450937641692,0.9848465290304723,0.9392001052922492],\"yaxis\":\"y\",\"type\":\"scatter\"}],                        {\"template\":{\"data\":{\"bar\":[{\"error_x\":{\"color\":\"#2a3f5f\"},\"error_y\":{\"color\":\"#2a3f5f\"},\"marker\":{\"line\":{\"color\":\"#E5ECF6\",\"width\":0.5},\"pattern\":{\"fillmode\":\"overlay\",\"size\":10,\"solidity\":0.2}},\"type\":\"bar\"}],\"barpolar\":[{\"marker\":{\"line\":{\"color\":\"#E5ECF6\",\"width\":0.5},\"pattern\":{\"fillmode\":\"overlay\",\"size\":10,\"solidity\":0.2}},\"type\":\"barpolar\"}],\"carpet\":[{\"aaxis\":{\"endlinecolor\":\"#2a3f5f\",\"gridcolor\":\"white\",\"linecolor\":\"white\",\"minorgridcolor\":\"white\",\"startlinecolor\":\"#2a3f5f\"},\"baxis\":{\"endlinecolor\":\"#2a3f5f\",\"gridcolor\":\"white\",\"linecolor\":\"white\",\"minorgridcolor\":\"white\",\"startlinecolor\":\"#2a3f5f\"},\"type\":\"carpet\"}],\"choropleth\":[{\"colorbar\":{\"outlinewidth\":0,\"ticks\":\"\"},\"type\":\"choropleth\"}],\"contour\":[{\"colorbar\":{\"outlinewidth\":0,\"ticks\":\"\"},\"colorscale\":[[0.0,\"#0d0887\"],[0.1111111111111111,\"#46039f\"],[0.2222222222222222,\"#7201a8\"],[0.3333333333333333,\"#9c179e\"],[0.4444444444444444,\"#bd3786\"],[0.5555555555555556,\"#d8576b\"],[0.6666666666666666,\"#ed7953\"],[0.7777777777777778,\"#fb9f3a\"],[0.8888888888888888,\"#fdca26\"],[1.0,\"#f0f921\"]],\"type\":\"contour\"}],\"contourcarpet\":[{\"colorbar\":{\"outlinewidth\":0,\"ticks\":\"\"},\"type\":\"contourcarpet\"}],\"heatmap\":[{\"colorbar\":{\"outlinewidth\":0,\"ticks\":\"\"},\"colorscale\":[[0.0,\"#0d0887\"],[0.1111111111111111,\"#46039f\"],[0.2222222222222222,\"#7201a8\"],[0.3333333333333333,\"#9c179e\"],[0.4444444444444444,\"#bd3786\"],[0.5555555555555556,\"#d8576b\"],[0.6666666666666666,\"#ed7953\"],[0.7777777777777778,\"#fb9f3a\"],[0.8888888888888888,\"#fdca26\"],[1.0,\"#f0f921\"]],\"type\":\"heatmap\"}],\"heatmapgl\":[{\"colorbar\":{\"outlinewidth\":0,\"ticks\":\"\"},\"colorscale\":[[0.0,\"#0d0887\"],[0.1111111111111111,\"#46039f\"],[0.2222222222222222,\"#7201a8\"],[0.3333333333333333,\"#9c179e\"],[0.4444444444444444,\"#bd3786\"],[0.5555555555555556,\"#d8576b\"],[0.6666666666666666,\"#ed7953\"],[0.7777777777777778,\"#fb9f3a\"],[0.8888888888888888,\"#fdca26\"],[1.0,\"#f0f921\"]],\"type\":\"heatmapgl\"}],\"histogram\":[{\"marker\":{\"pattern\":{\"fillmode\":\"overlay\",\"size\":10,\"solidity\":0.2}},\"type\":\"histogram\"}],\"histogram2d\":[{\"colorbar\":{\"outlinewidth\":0,\"ticks\":\"\"},\"colorscale\":[[0.0,\"#0d0887\"],[0.1111111111111111,\"#46039f\"],[0.2222222222222222,\"#7201a8\"],[0.3333333333333333,\"#9c179e\"],[0.4444444444444444,\"#bd3786\"],[0.5555555555555556,\"#d8576b\"],[0.6666666666666666,\"#ed7953\"],[0.7777777777777778,\"#fb9f3a\"],[0.8888888888888888,\"#fdca26\"],[1.0,\"#f0f921\"]],\"type\":\"histogram2d\"}],\"histogram2dcontour\":[{\"colorbar\":{\"outlinewidth\":0,\"ticks\":\"\"},\"colorscale\":[[0.0,\"#0d0887\"],[0.1111111111111111,\"#46039f\"],[0.2222222222222222,\"#7201a8\"],[0.3333333333333333,\"#9c179e\"],[0.4444444444444444,\"#bd3786\"],[0.5555555555555556,\"#d8576b\"],[0.6666666666666666,\"#ed7953\"],[0.7777777777777778,\"#fb9f3a\"],[0.8888888888888888,\"#fdca26\"],[1.0,\"#f0f921\"]],\"type\":\"histogram2dcontour\"}],\"mesh3d\":[{\"colorbar\":{\"outlinewidth\":0,\"ticks\":\"\"},\"type\":\"mesh3d\"}],\"parcoords\":[{\"line\":{\"colorbar\":{\"outlinewidth\":0,\"ticks\":\"\"}},\"type\":\"parcoords\"}],\"pie\":[{\"automargin\":true,\"type\":\"pie\"}],\"scatter\":[{\"marker\":{\"colorbar\":{\"outlinewidth\":0,\"ticks\":\"\"}},\"type\":\"scatter\"}],\"scatter3d\":[{\"line\":{\"colorbar\":{\"outlinewidth\":0,\"ticks\":\"\"}},\"marker\":{\"colorbar\":{\"outlinewidth\":0,\"ticks\":\"\"}},\"type\":\"scatter3d\"}],\"scattercarpet\":[{\"marker\":{\"colorbar\":{\"outlinewidth\":0,\"ticks\":\"\"}},\"type\":\"scattercarpet\"}],\"scattergeo\":[{\"marker\":{\"colorbar\":{\"outlinewidth\":0,\"ticks\":\"\"}},\"type\":\"scattergeo\"}],\"scattergl\":[{\"marker\":{\"colorbar\":{\"outlinewidth\":0,\"ticks\":\"\"}},\"type\":\"scattergl\"}],\"scattermapbox\":[{\"marker\":{\"colorbar\":{\"outlinewidth\":0,\"ticks\":\"\"}},\"type\":\"scattermapbox\"}],\"scatterpolar\":[{\"marker\":{\"colorbar\":{\"outlinewidth\":0,\"ticks\":\"\"}},\"type\":\"scatterpolar\"}],\"scatterpolargl\":[{\"marker\":{\"colorbar\":{\"outlinewidth\":0,\"ticks\":\"\"}},\"type\":\"scatterpolargl\"}],\"scatterternary\":[{\"marker\":{\"colorbar\":{\"outlinewidth\":0,\"ticks\":\"\"}},\"type\":\"scatterternary\"}],\"surface\":[{\"colorbar\":{\"outlinewidth\":0,\"ticks\":\"\"},\"colorscale\":[[0.0,\"#0d0887\"],[0.1111111111111111,\"#46039f\"],[0.2222222222222222,\"#7201a8\"],[0.3333333333333333,\"#9c179e\"],[0.4444444444444444,\"#bd3786\"],[0.5555555555555556,\"#d8576b\"],[0.6666666666666666,\"#ed7953\"],[0.7777777777777778,\"#fb9f3a\"],[0.8888888888888888,\"#fdca26\"],[1.0,\"#f0f921\"]],\"type\":\"surface\"}],\"table\":[{\"cells\":{\"fill\":{\"color\":\"#EBF0F8\"},\"line\":{\"color\":\"white\"}},\"header\":{\"fill\":{\"color\":\"#C8D4E3\"},\"line\":{\"color\":\"white\"}},\"type\":\"table\"}]},\"layout\":{\"annotationdefaults\":{\"arrowcolor\":\"#2a3f5f\",\"arrowhead\":0,\"arrowwidth\":1},\"autotypenumbers\":\"strict\",\"coloraxis\":{\"colorbar\":{\"outlinewidth\":0,\"ticks\":\"\"}},\"colorscale\":{\"diverging\":[[0,\"#8e0152\"],[0.1,\"#c51b7d\"],[0.2,\"#de77ae\"],[0.3,\"#f1b6da\"],[0.4,\"#fde0ef\"],[0.5,\"#f7f7f7\"],[0.6,\"#e6f5d0\"],[0.7,\"#b8e186\"],[0.8,\"#7fbc41\"],[0.9,\"#4d9221\"],[1,\"#276419\"]],\"sequential\":[[0.0,\"#0d0887\"],[0.1111111111111111,\"#46039f\"],[0.2222222222222222,\"#7201a8\"],[0.3333333333333333,\"#9c179e\"],[0.4444444444444444,\"#bd3786\"],[0.5555555555555556,\"#d8576b\"],[0.6666666666666666,\"#ed7953\"],[0.7777777777777778,\"#fb9f3a\"],[0.8888888888888888,\"#fdca26\"],[1.0,\"#f0f921\"]],\"sequentialminus\":[[0.0,\"#0d0887\"],[0.1111111111111111,\"#46039f\"],[0.2222222222222222,\"#7201a8\"],[0.3333333333333333,\"#9c179e\"],[0.4444444444444444,\"#bd3786\"],[0.5555555555555556,\"#d8576b\"],[0.6666666666666666,\"#ed7953\"],[0.7777777777777778,\"#fb9f3a\"],[0.8888888888888888,\"#fdca26\"],[1.0,\"#f0f921\"]]},\"colorway\":[\"#636efa\",\"#EF553B\",\"#00cc96\",\"#ab63fa\",\"#FFA15A\",\"#19d3f3\",\"#FF6692\",\"#B6E880\",\"#FF97FF\",\"#FECB52\"],\"font\":{\"color\":\"#2a3f5f\"},\"geo\":{\"bgcolor\":\"white\",\"lakecolor\":\"white\",\"landcolor\":\"#E5ECF6\",\"showlakes\":true,\"showland\":true,\"subunitcolor\":\"white\"},\"hoverlabel\":{\"align\":\"left\"},\"hovermode\":\"closest\",\"mapbox\":{\"style\":\"light\"},\"paper_bgcolor\":\"white\",\"plot_bgcolor\":\"#E5ECF6\",\"polar\":{\"angularaxis\":{\"gridcolor\":\"white\",\"linecolor\":\"white\",\"ticks\":\"\"},\"bgcolor\":\"#E5ECF6\",\"radialaxis\":{\"gridcolor\":\"white\",\"linecolor\":\"white\",\"ticks\":\"\"}},\"scene\":{\"xaxis\":{\"backgroundcolor\":\"#E5ECF6\",\"gridcolor\":\"white\",\"gridwidth\":2,\"linecolor\":\"white\",\"showbackground\":true,\"ticks\":\"\",\"zerolinecolor\":\"white\"},\"yaxis\":{\"backgroundcolor\":\"#E5ECF6\",\"gridcolor\":\"white\",\"gridwidth\":2,\"linecolor\":\"white\",\"showbackground\":true,\"ticks\":\"\",\"zerolinecolor\":\"white\"},\"zaxis\":{\"backgroundcolor\":\"#E5ECF6\",\"gridcolor\":\"white\",\"gridwidth\":2,\"linecolor\":\"white\",\"showbackground\":true,\"ticks\":\"\",\"zerolinecolor\":\"white\"}},\"shapedefaults\":{\"line\":{\"color\":\"#2a3f5f\"}},\"ternary\":{\"aaxis\":{\"gridcolor\":\"white\",\"linecolor\":\"white\",\"ticks\":\"\"},\"baxis\":{\"gridcolor\":\"white\",\"linecolor\":\"white\",\"ticks\":\"\"},\"bgcolor\":\"#E5ECF6\",\"caxis\":{\"gridcolor\":\"white\",\"linecolor\":\"white\",\"ticks\":\"\"}},\"title\":{\"x\":0.05},\"xaxis\":{\"automargin\":true,\"gridcolor\":\"white\",\"linecolor\":\"white\",\"ticks\":\"\",\"title\":{\"standoff\":15},\"zerolinecolor\":\"white\",\"zerolinewidth\":2},\"yaxis\":{\"automargin\":true,\"gridcolor\":\"white\",\"linecolor\":\"white\",\"ticks\":\"\",\"title\":{\"standoff\":15},\"zerolinecolor\":\"white\",\"zerolinewidth\":2}}},\"xaxis\":{\"anchor\":\"y\",\"domain\":[0.0,1.0],\"title\":{\"text\":\"step\"}},\"yaxis\":{\"anchor\":\"x\",\"domain\":[0.0,1.0],\"title\":{\"text\":\"acc\"}},\"legend\":{\"tracegroupgap\":0},\"margin\":{\"t\":60}},                        {\"responsive\": true}                    ).then(function(){\n",
              "                            \n",
              "var gd = document.getElementById('537ccf1d-acad-443f-bc1c-2f9c7f2adb89');\n",
              "var x = new MutationObserver(function (mutations, observer) {{\n",
              "        var display = window.getComputedStyle(gd).display;\n",
              "        if (!display || display === 'none') {{\n",
              "            console.log([gd, 'removed!']);\n",
              "            Plotly.purge(gd);\n",
              "            observer.disconnect();\n",
              "        }}\n",
              "}});\n",
              "\n",
              "// Listen for the removal of the full notebook cells\n",
              "var notebookContainer = gd.closest('#notebook-container');\n",
              "if (notebookContainer) {{\n",
              "    x.observe(notebookContainer, {childList: true});\n",
              "}}\n",
              "\n",
              "// Listen for the clearing of the current output cell\n",
              "var outputEl = gd.closest('.output');\n",
              "if (outputEl) {{\n",
              "    x.observe(outputEl, {childList: true});\n",
              "}}\n",
              "\n",
              "                        })                };                            </script>        </div>\n",
              "</body>\n",
              "</html>"
            ]
          },
          "metadata": {}
        }
      ]
    },
    {
      "cell_type": "code",
      "source": [
        "df =deepdriver.DataFrame(columns=[\"step\",\"loss\"], data=[ [idx, loss] for idx, loss in enumerate(train_loss)])"
      ],
      "metadata": {
        "id": "Ra8OrrynpSp_"
      },
      "execution_count": null,
      "outputs": []
    },
    {
      "cell_type": "code",
      "source": [
        "line =deepdriver.line(df,\"step\",\"loss\")"
      ],
      "metadata": {
        "id": "GYjqzZZdn9a3"
      },
      "execution_count": null,
      "outputs": []
    },
    {
      "cell_type": "code",
      "source": [
        "deepdriver.visualize(line)"
      ],
      "metadata": {
        "id": "juUxt1qOn9K4",
        "outputId": "22664831-1af7-4809-e597-0e16c5543805",
        "colab": {
          "base_uri": "https://localhost:8080/"
        }
      },
      "execution_count": null,
      "outputs": [
        {
          "output_type": "display_data",
          "data": {
            "text/html": [
              "<html>\n",
              "<head><meta charset=\"utf-8\" /></head>\n",
              "<body>\n",
              "    <div>            <script src=\"https://cdnjs.cloudflare.com/ajax/libs/mathjax/2.7.5/MathJax.js?config=TeX-AMS-MML_SVG\"></script><script type=\"text/javascript\">if (window.MathJax) {MathJax.Hub.Config({SVG: {font: \"STIX-Web\"}});}</script>                <script type=\"text/javascript\">window.PlotlyConfig = {MathJaxConfig: 'local'};</script>\n",
              "        <script src=\"https://cdn.plot.ly/plotly-2.8.3.min.js\"></script>                <div id=\"27fd36ed-48f3-4d3d-9d7e-2ceedce3ac38\" class=\"plotly-graph-div\" style=\"height:525px; width:100%;\"></div>            <script type=\"text/javascript\">                                    window.PLOTLYENV=window.PLOTLYENV || {};                                    if (document.getElementById(\"27fd36ed-48f3-4d3d-9d7e-2ceedce3ac38\")) {                    Plotly.newPlot(                        \"27fd36ed-48f3-4d3d-9d7e-2ceedce3ac38\",                        [{\"hovertemplate\":\"step=%{x}<br>loss=%{y}<extra></extra>\",\"legendgroup\":\"\",\"line\":{\"color\":\"#636efa\",\"dash\":\"solid\"},\"marker\":{\"symbol\":\"circle\"},\"mode\":\"lines\",\"name\":\"\",\"orientation\":\"v\",\"showlegend\":false,\"x\":[0,1,2,3,4,5,6,7,8,9],\"xaxis\":\"x\",\"y\":[0.1485602604721751,0.17126438098145164,0.17280395297191062,0.12942075382987114,0.14223195576092845,0.13597808287818508,0.12349016423498177,0.12057542419792605,0.11699056478682697,0.10223114769927441],\"yaxis\":\"y\",\"type\":\"scatter\"}],                        {\"template\":{\"data\":{\"bar\":[{\"error_x\":{\"color\":\"#2a3f5f\"},\"error_y\":{\"color\":\"#2a3f5f\"},\"marker\":{\"line\":{\"color\":\"#E5ECF6\",\"width\":0.5},\"pattern\":{\"fillmode\":\"overlay\",\"size\":10,\"solidity\":0.2}},\"type\":\"bar\"}],\"barpolar\":[{\"marker\":{\"line\":{\"color\":\"#E5ECF6\",\"width\":0.5},\"pattern\":{\"fillmode\":\"overlay\",\"size\":10,\"solidity\":0.2}},\"type\":\"barpolar\"}],\"carpet\":[{\"aaxis\":{\"endlinecolor\":\"#2a3f5f\",\"gridcolor\":\"white\",\"linecolor\":\"white\",\"minorgridcolor\":\"white\",\"startlinecolor\":\"#2a3f5f\"},\"baxis\":{\"endlinecolor\":\"#2a3f5f\",\"gridcolor\":\"white\",\"linecolor\":\"white\",\"minorgridcolor\":\"white\",\"startlinecolor\":\"#2a3f5f\"},\"type\":\"carpet\"}],\"choropleth\":[{\"colorbar\":{\"outlinewidth\":0,\"ticks\":\"\"},\"type\":\"choropleth\"}],\"contour\":[{\"colorbar\":{\"outlinewidth\":0,\"ticks\":\"\"},\"colorscale\":[[0.0,\"#0d0887\"],[0.1111111111111111,\"#46039f\"],[0.2222222222222222,\"#7201a8\"],[0.3333333333333333,\"#9c179e\"],[0.4444444444444444,\"#bd3786\"],[0.5555555555555556,\"#d8576b\"],[0.6666666666666666,\"#ed7953\"],[0.7777777777777778,\"#fb9f3a\"],[0.8888888888888888,\"#fdca26\"],[1.0,\"#f0f921\"]],\"type\":\"contour\"}],\"contourcarpet\":[{\"colorbar\":{\"outlinewidth\":0,\"ticks\":\"\"},\"type\":\"contourcarpet\"}],\"heatmap\":[{\"colorbar\":{\"outlinewidth\":0,\"ticks\":\"\"},\"colorscale\":[[0.0,\"#0d0887\"],[0.1111111111111111,\"#46039f\"],[0.2222222222222222,\"#7201a8\"],[0.3333333333333333,\"#9c179e\"],[0.4444444444444444,\"#bd3786\"],[0.5555555555555556,\"#d8576b\"],[0.6666666666666666,\"#ed7953\"],[0.7777777777777778,\"#fb9f3a\"],[0.8888888888888888,\"#fdca26\"],[1.0,\"#f0f921\"]],\"type\":\"heatmap\"}],\"heatmapgl\":[{\"colorbar\":{\"outlinewidth\":0,\"ticks\":\"\"},\"colorscale\":[[0.0,\"#0d0887\"],[0.1111111111111111,\"#46039f\"],[0.2222222222222222,\"#7201a8\"],[0.3333333333333333,\"#9c179e\"],[0.4444444444444444,\"#bd3786\"],[0.5555555555555556,\"#d8576b\"],[0.6666666666666666,\"#ed7953\"],[0.7777777777777778,\"#fb9f3a\"],[0.8888888888888888,\"#fdca26\"],[1.0,\"#f0f921\"]],\"type\":\"heatmapgl\"}],\"histogram\":[{\"marker\":{\"pattern\":{\"fillmode\":\"overlay\",\"size\":10,\"solidity\":0.2}},\"type\":\"histogram\"}],\"histogram2d\":[{\"colorbar\":{\"outlinewidth\":0,\"ticks\":\"\"},\"colorscale\":[[0.0,\"#0d0887\"],[0.1111111111111111,\"#46039f\"],[0.2222222222222222,\"#7201a8\"],[0.3333333333333333,\"#9c179e\"],[0.4444444444444444,\"#bd3786\"],[0.5555555555555556,\"#d8576b\"],[0.6666666666666666,\"#ed7953\"],[0.7777777777777778,\"#fb9f3a\"],[0.8888888888888888,\"#fdca26\"],[1.0,\"#f0f921\"]],\"type\":\"histogram2d\"}],\"histogram2dcontour\":[{\"colorbar\":{\"outlinewidth\":0,\"ticks\":\"\"},\"colorscale\":[[0.0,\"#0d0887\"],[0.1111111111111111,\"#46039f\"],[0.2222222222222222,\"#7201a8\"],[0.3333333333333333,\"#9c179e\"],[0.4444444444444444,\"#bd3786\"],[0.5555555555555556,\"#d8576b\"],[0.6666666666666666,\"#ed7953\"],[0.7777777777777778,\"#fb9f3a\"],[0.8888888888888888,\"#fdca26\"],[1.0,\"#f0f921\"]],\"type\":\"histogram2dcontour\"}],\"mesh3d\":[{\"colorbar\":{\"outlinewidth\":0,\"ticks\":\"\"},\"type\":\"mesh3d\"}],\"parcoords\":[{\"line\":{\"colorbar\":{\"outlinewidth\":0,\"ticks\":\"\"}},\"type\":\"parcoords\"}],\"pie\":[{\"automargin\":true,\"type\":\"pie\"}],\"scatter\":[{\"marker\":{\"colorbar\":{\"outlinewidth\":0,\"ticks\":\"\"}},\"type\":\"scatter\"}],\"scatter3d\":[{\"line\":{\"colorbar\":{\"outlinewidth\":0,\"ticks\":\"\"}},\"marker\":{\"colorbar\":{\"outlinewidth\":0,\"ticks\":\"\"}},\"type\":\"scatter3d\"}],\"scattercarpet\":[{\"marker\":{\"colorbar\":{\"outlinewidth\":0,\"ticks\":\"\"}},\"type\":\"scattercarpet\"}],\"scattergeo\":[{\"marker\":{\"colorbar\":{\"outlinewidth\":0,\"ticks\":\"\"}},\"type\":\"scattergeo\"}],\"scattergl\":[{\"marker\":{\"colorbar\":{\"outlinewidth\":0,\"ticks\":\"\"}},\"type\":\"scattergl\"}],\"scattermapbox\":[{\"marker\":{\"colorbar\":{\"outlinewidth\":0,\"ticks\":\"\"}},\"type\":\"scattermapbox\"}],\"scatterpolar\":[{\"marker\":{\"colorbar\":{\"outlinewidth\":0,\"ticks\":\"\"}},\"type\":\"scatterpolar\"}],\"scatterpolargl\":[{\"marker\":{\"colorbar\":{\"outlinewidth\":0,\"ticks\":\"\"}},\"type\":\"scatterpolargl\"}],\"scatterternary\":[{\"marker\":{\"colorbar\":{\"outlinewidth\":0,\"ticks\":\"\"}},\"type\":\"scatterternary\"}],\"surface\":[{\"colorbar\":{\"outlinewidth\":0,\"ticks\":\"\"},\"colorscale\":[[0.0,\"#0d0887\"],[0.1111111111111111,\"#46039f\"],[0.2222222222222222,\"#7201a8\"],[0.3333333333333333,\"#9c179e\"],[0.4444444444444444,\"#bd3786\"],[0.5555555555555556,\"#d8576b\"],[0.6666666666666666,\"#ed7953\"],[0.7777777777777778,\"#fb9f3a\"],[0.8888888888888888,\"#fdca26\"],[1.0,\"#f0f921\"]],\"type\":\"surface\"}],\"table\":[{\"cells\":{\"fill\":{\"color\":\"#EBF0F8\"},\"line\":{\"color\":\"white\"}},\"header\":{\"fill\":{\"color\":\"#C8D4E3\"},\"line\":{\"color\":\"white\"}},\"type\":\"table\"}]},\"layout\":{\"annotationdefaults\":{\"arrowcolor\":\"#2a3f5f\",\"arrowhead\":0,\"arrowwidth\":1},\"autotypenumbers\":\"strict\",\"coloraxis\":{\"colorbar\":{\"outlinewidth\":0,\"ticks\":\"\"}},\"colorscale\":{\"diverging\":[[0,\"#8e0152\"],[0.1,\"#c51b7d\"],[0.2,\"#de77ae\"],[0.3,\"#f1b6da\"],[0.4,\"#fde0ef\"],[0.5,\"#f7f7f7\"],[0.6,\"#e6f5d0\"],[0.7,\"#b8e186\"],[0.8,\"#7fbc41\"],[0.9,\"#4d9221\"],[1,\"#276419\"]],\"sequential\":[[0.0,\"#0d0887\"],[0.1111111111111111,\"#46039f\"],[0.2222222222222222,\"#7201a8\"],[0.3333333333333333,\"#9c179e\"],[0.4444444444444444,\"#bd3786\"],[0.5555555555555556,\"#d8576b\"],[0.6666666666666666,\"#ed7953\"],[0.7777777777777778,\"#fb9f3a\"],[0.8888888888888888,\"#fdca26\"],[1.0,\"#f0f921\"]],\"sequentialminus\":[[0.0,\"#0d0887\"],[0.1111111111111111,\"#46039f\"],[0.2222222222222222,\"#7201a8\"],[0.3333333333333333,\"#9c179e\"],[0.4444444444444444,\"#bd3786\"],[0.5555555555555556,\"#d8576b\"],[0.6666666666666666,\"#ed7953\"],[0.7777777777777778,\"#fb9f3a\"],[0.8888888888888888,\"#fdca26\"],[1.0,\"#f0f921\"]]},\"colorway\":[\"#636efa\",\"#EF553B\",\"#00cc96\",\"#ab63fa\",\"#FFA15A\",\"#19d3f3\",\"#FF6692\",\"#B6E880\",\"#FF97FF\",\"#FECB52\"],\"font\":{\"color\":\"#2a3f5f\"},\"geo\":{\"bgcolor\":\"white\",\"lakecolor\":\"white\",\"landcolor\":\"#E5ECF6\",\"showlakes\":true,\"showland\":true,\"subunitcolor\":\"white\"},\"hoverlabel\":{\"align\":\"left\"},\"hovermode\":\"closest\",\"mapbox\":{\"style\":\"light\"},\"paper_bgcolor\":\"white\",\"plot_bgcolor\":\"#E5ECF6\",\"polar\":{\"angularaxis\":{\"gridcolor\":\"white\",\"linecolor\":\"white\",\"ticks\":\"\"},\"bgcolor\":\"#E5ECF6\",\"radialaxis\":{\"gridcolor\":\"white\",\"linecolor\":\"white\",\"ticks\":\"\"}},\"scene\":{\"xaxis\":{\"backgroundcolor\":\"#E5ECF6\",\"gridcolor\":\"white\",\"gridwidth\":2,\"linecolor\":\"white\",\"showbackground\":true,\"ticks\":\"\",\"zerolinecolor\":\"white\"},\"yaxis\":{\"backgroundcolor\":\"#E5ECF6\",\"gridcolor\":\"white\",\"gridwidth\":2,\"linecolor\":\"white\",\"showbackground\":true,\"ticks\":\"\",\"zerolinecolor\":\"white\"},\"zaxis\":{\"backgroundcolor\":\"#E5ECF6\",\"gridcolor\":\"white\",\"gridwidth\":2,\"linecolor\":\"white\",\"showbackground\":true,\"ticks\":\"\",\"zerolinecolor\":\"white\"}},\"shapedefaults\":{\"line\":{\"color\":\"#2a3f5f\"}},\"ternary\":{\"aaxis\":{\"gridcolor\":\"white\",\"linecolor\":\"white\",\"ticks\":\"\"},\"baxis\":{\"gridcolor\":\"white\",\"linecolor\":\"white\",\"ticks\":\"\"},\"bgcolor\":\"#E5ECF6\",\"caxis\":{\"gridcolor\":\"white\",\"linecolor\":\"white\",\"ticks\":\"\"}},\"title\":{\"x\":0.05},\"xaxis\":{\"automargin\":true,\"gridcolor\":\"white\",\"linecolor\":\"white\",\"ticks\":\"\",\"title\":{\"standoff\":15},\"zerolinecolor\":\"white\",\"zerolinewidth\":2},\"yaxis\":{\"automargin\":true,\"gridcolor\":\"white\",\"linecolor\":\"white\",\"ticks\":\"\",\"title\":{\"standoff\":15},\"zerolinecolor\":\"white\",\"zerolinewidth\":2}}},\"xaxis\":{\"anchor\":\"y\",\"domain\":[0.0,1.0],\"title\":{\"text\":\"step\"}},\"yaxis\":{\"anchor\":\"x\",\"domain\":[0.0,1.0],\"title\":{\"text\":\"loss\"}},\"legend\":{\"tracegroupgap\":0},\"margin\":{\"t\":60}},                        {\"responsive\": true}                    ).then(function(){\n",
              "                            \n",
              "var gd = document.getElementById('27fd36ed-48f3-4d3d-9d7e-2ceedce3ac38');\n",
              "var x = new MutationObserver(function (mutations, observer) {{\n",
              "        var display = window.getComputedStyle(gd).display;\n",
              "        if (!display || display === 'none') {{\n",
              "            console.log([gd, 'removed!']);\n",
              "            Plotly.purge(gd);\n",
              "            observer.disconnect();\n",
              "        }}\n",
              "}});\n",
              "\n",
              "// Listen for the removal of the full notebook cells\n",
              "var notebookContainer = gd.closest('#notebook-container');\n",
              "if (notebookContainer) {{\n",
              "    x.observe(notebookContainer, {childList: true});\n",
              "}}\n",
              "\n",
              "// Listen for the clearing of the current output cell\n",
              "var outputEl = gd.closest('.output');\n",
              "if (outputEl) {{\n",
              "    x.observe(outputEl, {childList: true});\n",
              "}}\n",
              "\n",
              "                        })                };                            </script>        </div>\n",
              "</body>\n",
              "</html>"
            ]
          },
          "metadata": {}
        }
      ]
    },
    {
      "cell_type": "code",
      "source": [
        "df =deepdriver.DataFrame(columns=[\"step\",\"acc\"], data=[ [idx, acc] for idx, acc in enumerate(accuracy)])"
      ],
      "metadata": {
        "id": "sNOLcvqvpgM-"
      },
      "execution_count": null,
      "outputs": []
    },
    {
      "cell_type": "code",
      "source": [
        "historgram = deepdriver.histogram(df,\"step\",\"acc\")"
      ],
      "metadata": {
        "id": "zWMgBuS9Oasd"
      },
      "execution_count": null,
      "outputs": []
    },
    {
      "cell_type": "code",
      "source": [
        "deepdriver.visualize(historgram)"
      ],
      "metadata": {
        "id": "twbFind_OjLe",
        "outputId": "4f107acf-d017-4290-f70d-d3ad321a32c9",
        "colab": {
          "base_uri": "https://localhost:8080/"
        }
      },
      "execution_count": null,
      "outputs": [
        {
          "output_type": "display_data",
          "data": {
            "text/html": [
              "<html>\n",
              "<head><meta charset=\"utf-8\" /></head>\n",
              "<body>\n",
              "    <div>            <script src=\"https://cdnjs.cloudflare.com/ajax/libs/mathjax/2.7.5/MathJax.js?config=TeX-AMS-MML_SVG\"></script><script type=\"text/javascript\">if (window.MathJax) {MathJax.Hub.Config({SVG: {font: \"STIX-Web\"}});}</script>                <script type=\"text/javascript\">window.PlotlyConfig = {MathJaxConfig: 'local'};</script>\n",
              "        <script src=\"https://cdn.plot.ly/plotly-2.8.3.min.js\"></script>                <div id=\"fb715620-a40d-4e8a-8176-b38b865ff088\" class=\"plotly-graph-div\" style=\"height:525px; width:100%;\"></div>            <script type=\"text/javascript\">                                    window.PLOTLYENV=window.PLOTLYENV || {};                                    if (document.getElementById(\"fb715620-a40d-4e8a-8176-b38b865ff088\")) {                    Plotly.newPlot(                        \"fb715620-a40d-4e8a-8176-b38b865ff088\",                        [{\"alignmentgroup\":\"True\",\"bingroup\":\"x\",\"histfunc\":\"sum\",\"hovertemplate\":\"step=%{x}<br>sum of acc=%{y}<extra></extra>\",\"legendgroup\":\"\",\"marker\":{\"color\":\"#636efa\",\"pattern\":{\"shape\":\"\"}},\"name\":\"\",\"offsetgroup\":\"\",\"orientation\":\"v\",\"showlegend\":false,\"x\":[0,1,2,3,4,5,6,7,8,9],\"xaxis\":\"x\",\"y\":[0.9347855593723267,0.9501102541563891,0.9948180921403273,0.852002695665684,0.9992796481198516,0.8247691343989634,0.8201582492811135,0.8564450937641692,0.9848465290304723,0.9392001052922492],\"yaxis\":\"y\",\"type\":\"histogram\"}],                        {\"template\":{\"data\":{\"bar\":[{\"error_x\":{\"color\":\"#2a3f5f\"},\"error_y\":{\"color\":\"#2a3f5f\"},\"marker\":{\"line\":{\"color\":\"#E5ECF6\",\"width\":0.5},\"pattern\":{\"fillmode\":\"overlay\",\"size\":10,\"solidity\":0.2}},\"type\":\"bar\"}],\"barpolar\":[{\"marker\":{\"line\":{\"color\":\"#E5ECF6\",\"width\":0.5},\"pattern\":{\"fillmode\":\"overlay\",\"size\":10,\"solidity\":0.2}},\"type\":\"barpolar\"}],\"carpet\":[{\"aaxis\":{\"endlinecolor\":\"#2a3f5f\",\"gridcolor\":\"white\",\"linecolor\":\"white\",\"minorgridcolor\":\"white\",\"startlinecolor\":\"#2a3f5f\"},\"baxis\":{\"endlinecolor\":\"#2a3f5f\",\"gridcolor\":\"white\",\"linecolor\":\"white\",\"minorgridcolor\":\"white\",\"startlinecolor\":\"#2a3f5f\"},\"type\":\"carpet\"}],\"choropleth\":[{\"colorbar\":{\"outlinewidth\":0,\"ticks\":\"\"},\"type\":\"choropleth\"}],\"contour\":[{\"colorbar\":{\"outlinewidth\":0,\"ticks\":\"\"},\"colorscale\":[[0.0,\"#0d0887\"],[0.1111111111111111,\"#46039f\"],[0.2222222222222222,\"#7201a8\"],[0.3333333333333333,\"#9c179e\"],[0.4444444444444444,\"#bd3786\"],[0.5555555555555556,\"#d8576b\"],[0.6666666666666666,\"#ed7953\"],[0.7777777777777778,\"#fb9f3a\"],[0.8888888888888888,\"#fdca26\"],[1.0,\"#f0f921\"]],\"type\":\"contour\"}],\"contourcarpet\":[{\"colorbar\":{\"outlinewidth\":0,\"ticks\":\"\"},\"type\":\"contourcarpet\"}],\"heatmap\":[{\"colorbar\":{\"outlinewidth\":0,\"ticks\":\"\"},\"colorscale\":[[0.0,\"#0d0887\"],[0.1111111111111111,\"#46039f\"],[0.2222222222222222,\"#7201a8\"],[0.3333333333333333,\"#9c179e\"],[0.4444444444444444,\"#bd3786\"],[0.5555555555555556,\"#d8576b\"],[0.6666666666666666,\"#ed7953\"],[0.7777777777777778,\"#fb9f3a\"],[0.8888888888888888,\"#fdca26\"],[1.0,\"#f0f921\"]],\"type\":\"heatmap\"}],\"heatmapgl\":[{\"colorbar\":{\"outlinewidth\":0,\"ticks\":\"\"},\"colorscale\":[[0.0,\"#0d0887\"],[0.1111111111111111,\"#46039f\"],[0.2222222222222222,\"#7201a8\"],[0.3333333333333333,\"#9c179e\"],[0.4444444444444444,\"#bd3786\"],[0.5555555555555556,\"#d8576b\"],[0.6666666666666666,\"#ed7953\"],[0.7777777777777778,\"#fb9f3a\"],[0.8888888888888888,\"#fdca26\"],[1.0,\"#f0f921\"]],\"type\":\"heatmapgl\"}],\"histogram\":[{\"marker\":{\"pattern\":{\"fillmode\":\"overlay\",\"size\":10,\"solidity\":0.2}},\"type\":\"histogram\"}],\"histogram2d\":[{\"colorbar\":{\"outlinewidth\":0,\"ticks\":\"\"},\"colorscale\":[[0.0,\"#0d0887\"],[0.1111111111111111,\"#46039f\"],[0.2222222222222222,\"#7201a8\"],[0.3333333333333333,\"#9c179e\"],[0.4444444444444444,\"#bd3786\"],[0.5555555555555556,\"#d8576b\"],[0.6666666666666666,\"#ed7953\"],[0.7777777777777778,\"#fb9f3a\"],[0.8888888888888888,\"#fdca26\"],[1.0,\"#f0f921\"]],\"type\":\"histogram2d\"}],\"histogram2dcontour\":[{\"colorbar\":{\"outlinewidth\":0,\"ticks\":\"\"},\"colorscale\":[[0.0,\"#0d0887\"],[0.1111111111111111,\"#46039f\"],[0.2222222222222222,\"#7201a8\"],[0.3333333333333333,\"#9c179e\"],[0.4444444444444444,\"#bd3786\"],[0.5555555555555556,\"#d8576b\"],[0.6666666666666666,\"#ed7953\"],[0.7777777777777778,\"#fb9f3a\"],[0.8888888888888888,\"#fdca26\"],[1.0,\"#f0f921\"]],\"type\":\"histogram2dcontour\"}],\"mesh3d\":[{\"colorbar\":{\"outlinewidth\":0,\"ticks\":\"\"},\"type\":\"mesh3d\"}],\"parcoords\":[{\"line\":{\"colorbar\":{\"outlinewidth\":0,\"ticks\":\"\"}},\"type\":\"parcoords\"}],\"pie\":[{\"automargin\":true,\"type\":\"pie\"}],\"scatter\":[{\"marker\":{\"colorbar\":{\"outlinewidth\":0,\"ticks\":\"\"}},\"type\":\"scatter\"}],\"scatter3d\":[{\"line\":{\"colorbar\":{\"outlinewidth\":0,\"ticks\":\"\"}},\"marker\":{\"colorbar\":{\"outlinewidth\":0,\"ticks\":\"\"}},\"type\":\"scatter3d\"}],\"scattercarpet\":[{\"marker\":{\"colorbar\":{\"outlinewidth\":0,\"ticks\":\"\"}},\"type\":\"scattercarpet\"}],\"scattergeo\":[{\"marker\":{\"colorbar\":{\"outlinewidth\":0,\"ticks\":\"\"}},\"type\":\"scattergeo\"}],\"scattergl\":[{\"marker\":{\"colorbar\":{\"outlinewidth\":0,\"ticks\":\"\"}},\"type\":\"scattergl\"}],\"scattermapbox\":[{\"marker\":{\"colorbar\":{\"outlinewidth\":0,\"ticks\":\"\"}},\"type\":\"scattermapbox\"}],\"scatterpolar\":[{\"marker\":{\"colorbar\":{\"outlinewidth\":0,\"ticks\":\"\"}},\"type\":\"scatterpolar\"}],\"scatterpolargl\":[{\"marker\":{\"colorbar\":{\"outlinewidth\":0,\"ticks\":\"\"}},\"type\":\"scatterpolargl\"}],\"scatterternary\":[{\"marker\":{\"colorbar\":{\"outlinewidth\":0,\"ticks\":\"\"}},\"type\":\"scatterternary\"}],\"surface\":[{\"colorbar\":{\"outlinewidth\":0,\"ticks\":\"\"},\"colorscale\":[[0.0,\"#0d0887\"],[0.1111111111111111,\"#46039f\"],[0.2222222222222222,\"#7201a8\"],[0.3333333333333333,\"#9c179e\"],[0.4444444444444444,\"#bd3786\"],[0.5555555555555556,\"#d8576b\"],[0.6666666666666666,\"#ed7953\"],[0.7777777777777778,\"#fb9f3a\"],[0.8888888888888888,\"#fdca26\"],[1.0,\"#f0f921\"]],\"type\":\"surface\"}],\"table\":[{\"cells\":{\"fill\":{\"color\":\"#EBF0F8\"},\"line\":{\"color\":\"white\"}},\"header\":{\"fill\":{\"color\":\"#C8D4E3\"},\"line\":{\"color\":\"white\"}},\"type\":\"table\"}]},\"layout\":{\"annotationdefaults\":{\"arrowcolor\":\"#2a3f5f\",\"arrowhead\":0,\"arrowwidth\":1},\"autotypenumbers\":\"strict\",\"coloraxis\":{\"colorbar\":{\"outlinewidth\":0,\"ticks\":\"\"}},\"colorscale\":{\"diverging\":[[0,\"#8e0152\"],[0.1,\"#c51b7d\"],[0.2,\"#de77ae\"],[0.3,\"#f1b6da\"],[0.4,\"#fde0ef\"],[0.5,\"#f7f7f7\"],[0.6,\"#e6f5d0\"],[0.7,\"#b8e186\"],[0.8,\"#7fbc41\"],[0.9,\"#4d9221\"],[1,\"#276419\"]],\"sequential\":[[0.0,\"#0d0887\"],[0.1111111111111111,\"#46039f\"],[0.2222222222222222,\"#7201a8\"],[0.3333333333333333,\"#9c179e\"],[0.4444444444444444,\"#bd3786\"],[0.5555555555555556,\"#d8576b\"],[0.6666666666666666,\"#ed7953\"],[0.7777777777777778,\"#fb9f3a\"],[0.8888888888888888,\"#fdca26\"],[1.0,\"#f0f921\"]],\"sequentialminus\":[[0.0,\"#0d0887\"],[0.1111111111111111,\"#46039f\"],[0.2222222222222222,\"#7201a8\"],[0.3333333333333333,\"#9c179e\"],[0.4444444444444444,\"#bd3786\"],[0.5555555555555556,\"#d8576b\"],[0.6666666666666666,\"#ed7953\"],[0.7777777777777778,\"#fb9f3a\"],[0.8888888888888888,\"#fdca26\"],[1.0,\"#f0f921\"]]},\"colorway\":[\"#636efa\",\"#EF553B\",\"#00cc96\",\"#ab63fa\",\"#FFA15A\",\"#19d3f3\",\"#FF6692\",\"#B6E880\",\"#FF97FF\",\"#FECB52\"],\"font\":{\"color\":\"#2a3f5f\"},\"geo\":{\"bgcolor\":\"white\",\"lakecolor\":\"white\",\"landcolor\":\"#E5ECF6\",\"showlakes\":true,\"showland\":true,\"subunitcolor\":\"white\"},\"hoverlabel\":{\"align\":\"left\"},\"hovermode\":\"closest\",\"mapbox\":{\"style\":\"light\"},\"paper_bgcolor\":\"white\",\"plot_bgcolor\":\"#E5ECF6\",\"polar\":{\"angularaxis\":{\"gridcolor\":\"white\",\"linecolor\":\"white\",\"ticks\":\"\"},\"bgcolor\":\"#E5ECF6\",\"radialaxis\":{\"gridcolor\":\"white\",\"linecolor\":\"white\",\"ticks\":\"\"}},\"scene\":{\"xaxis\":{\"backgroundcolor\":\"#E5ECF6\",\"gridcolor\":\"white\",\"gridwidth\":2,\"linecolor\":\"white\",\"showbackground\":true,\"ticks\":\"\",\"zerolinecolor\":\"white\"},\"yaxis\":{\"backgroundcolor\":\"#E5ECF6\",\"gridcolor\":\"white\",\"gridwidth\":2,\"linecolor\":\"white\",\"showbackground\":true,\"ticks\":\"\",\"zerolinecolor\":\"white\"},\"zaxis\":{\"backgroundcolor\":\"#E5ECF6\",\"gridcolor\":\"white\",\"gridwidth\":2,\"linecolor\":\"white\",\"showbackground\":true,\"ticks\":\"\",\"zerolinecolor\":\"white\"}},\"shapedefaults\":{\"line\":{\"color\":\"#2a3f5f\"}},\"ternary\":{\"aaxis\":{\"gridcolor\":\"white\",\"linecolor\":\"white\",\"ticks\":\"\"},\"baxis\":{\"gridcolor\":\"white\",\"linecolor\":\"white\",\"ticks\":\"\"},\"bgcolor\":\"#E5ECF6\",\"caxis\":{\"gridcolor\":\"white\",\"linecolor\":\"white\",\"ticks\":\"\"}},\"title\":{\"x\":0.05},\"xaxis\":{\"automargin\":true,\"gridcolor\":\"white\",\"linecolor\":\"white\",\"ticks\":\"\",\"title\":{\"standoff\":15},\"zerolinecolor\":\"white\",\"zerolinewidth\":2},\"yaxis\":{\"automargin\":true,\"gridcolor\":\"white\",\"linecolor\":\"white\",\"ticks\":\"\",\"title\":{\"standoff\":15},\"zerolinecolor\":\"white\",\"zerolinewidth\":2}}},\"xaxis\":{\"anchor\":\"y\",\"domain\":[0.0,1.0],\"title\":{\"text\":\"step\"}},\"yaxis\":{\"anchor\":\"x\",\"domain\":[0.0,1.0],\"title\":{\"text\":\"sum of acc\"}},\"legend\":{\"tracegroupgap\":0},\"margin\":{\"t\":60},\"barmode\":\"relative\"},                        {\"responsive\": true}                    ).then(function(){\n",
              "                            \n",
              "var gd = document.getElementById('fb715620-a40d-4e8a-8176-b38b865ff088');\n",
              "var x = new MutationObserver(function (mutations, observer) {{\n",
              "        var display = window.getComputedStyle(gd).display;\n",
              "        if (!display || display === 'none') {{\n",
              "            console.log([gd, 'removed!']);\n",
              "            Plotly.purge(gd);\n",
              "            observer.disconnect();\n",
              "        }}\n",
              "}});\n",
              "\n",
              "// Listen for the removal of the full notebook cells\n",
              "var notebookContainer = gd.closest('#notebook-container');\n",
              "if (notebookContainer) {{\n",
              "    x.observe(notebookContainer, {childList: true});\n",
              "}}\n",
              "\n",
              "// Listen for the clearing of the current output cell\n",
              "var outputEl = gd.closest('.output');\n",
              "if (outputEl) {{\n",
              "    x.observe(outputEl, {childList: true});\n",
              "}}\n",
              "\n",
              "                        })                };                            </script>        </div>\n",
              "</body>\n",
              "</html>"
            ]
          },
          "metadata": {}
        }
      ]
    },
    {
      "cell_type": "code",
      "source": [
        "scatter = deepdriver.scatter(df,\"step\",\"acc\")"
      ],
      "metadata": {
        "id": "NLiHuvyDOpaN"
      },
      "execution_count": null,
      "outputs": []
    },
    {
      "cell_type": "code",
      "source": [
        "deepdriver.visualize(scatter)"
      ],
      "metadata": {
        "id": "KO-QuvIOOpyI",
        "outputId": "4a1cb368-ed9d-4328-d649-cca61cdbca2b",
        "colab": {
          "base_uri": "https://localhost:8080/"
        }
      },
      "execution_count": null,
      "outputs": [
        {
          "output_type": "display_data",
          "data": {
            "text/html": [
              "<html>\n",
              "<head><meta charset=\"utf-8\" /></head>\n",
              "<body>\n",
              "    <div>            <script src=\"https://cdnjs.cloudflare.com/ajax/libs/mathjax/2.7.5/MathJax.js?config=TeX-AMS-MML_SVG\"></script><script type=\"text/javascript\">if (window.MathJax) {MathJax.Hub.Config({SVG: {font: \"STIX-Web\"}});}</script>                <script type=\"text/javascript\">window.PlotlyConfig = {MathJaxConfig: 'local'};</script>\n",
              "        <script src=\"https://cdn.plot.ly/plotly-2.8.3.min.js\"></script>                <div id=\"0692c63a-910e-4270-9af6-ecd08a55f742\" class=\"plotly-graph-div\" style=\"height:525px; width:100%;\"></div>            <script type=\"text/javascript\">                                    window.PLOTLYENV=window.PLOTLYENV || {};                                    if (document.getElementById(\"0692c63a-910e-4270-9af6-ecd08a55f742\")) {                    Plotly.newPlot(                        \"0692c63a-910e-4270-9af6-ecd08a55f742\",                        [{\"hovertemplate\":\"step=%{x}<br>acc=%{y}<extra></extra>\",\"legendgroup\":\"\",\"marker\":{\"color\":\"#636efa\",\"symbol\":\"circle\"},\"mode\":\"markers\",\"name\":\"\",\"orientation\":\"v\",\"showlegend\":false,\"x\":[0,1,2,3,4,5,6,7,8,9],\"xaxis\":\"x\",\"y\":[0.9347855593723267,0.9501102541563891,0.9948180921403273,0.852002695665684,0.9992796481198516,0.8247691343989634,0.8201582492811135,0.8564450937641692,0.9848465290304723,0.9392001052922492],\"yaxis\":\"y\",\"type\":\"scatter\"}],                        {\"template\":{\"data\":{\"bar\":[{\"error_x\":{\"color\":\"#2a3f5f\"},\"error_y\":{\"color\":\"#2a3f5f\"},\"marker\":{\"line\":{\"color\":\"#E5ECF6\",\"width\":0.5},\"pattern\":{\"fillmode\":\"overlay\",\"size\":10,\"solidity\":0.2}},\"type\":\"bar\"}],\"barpolar\":[{\"marker\":{\"line\":{\"color\":\"#E5ECF6\",\"width\":0.5},\"pattern\":{\"fillmode\":\"overlay\",\"size\":10,\"solidity\":0.2}},\"type\":\"barpolar\"}],\"carpet\":[{\"aaxis\":{\"endlinecolor\":\"#2a3f5f\",\"gridcolor\":\"white\",\"linecolor\":\"white\",\"minorgridcolor\":\"white\",\"startlinecolor\":\"#2a3f5f\"},\"baxis\":{\"endlinecolor\":\"#2a3f5f\",\"gridcolor\":\"white\",\"linecolor\":\"white\",\"minorgridcolor\":\"white\",\"startlinecolor\":\"#2a3f5f\"},\"type\":\"carpet\"}],\"choropleth\":[{\"colorbar\":{\"outlinewidth\":0,\"ticks\":\"\"},\"type\":\"choropleth\"}],\"contour\":[{\"colorbar\":{\"outlinewidth\":0,\"ticks\":\"\"},\"colorscale\":[[0.0,\"#0d0887\"],[0.1111111111111111,\"#46039f\"],[0.2222222222222222,\"#7201a8\"],[0.3333333333333333,\"#9c179e\"],[0.4444444444444444,\"#bd3786\"],[0.5555555555555556,\"#d8576b\"],[0.6666666666666666,\"#ed7953\"],[0.7777777777777778,\"#fb9f3a\"],[0.8888888888888888,\"#fdca26\"],[1.0,\"#f0f921\"]],\"type\":\"contour\"}],\"contourcarpet\":[{\"colorbar\":{\"outlinewidth\":0,\"ticks\":\"\"},\"type\":\"contourcarpet\"}],\"heatmap\":[{\"colorbar\":{\"outlinewidth\":0,\"ticks\":\"\"},\"colorscale\":[[0.0,\"#0d0887\"],[0.1111111111111111,\"#46039f\"],[0.2222222222222222,\"#7201a8\"],[0.3333333333333333,\"#9c179e\"],[0.4444444444444444,\"#bd3786\"],[0.5555555555555556,\"#d8576b\"],[0.6666666666666666,\"#ed7953\"],[0.7777777777777778,\"#fb9f3a\"],[0.8888888888888888,\"#fdca26\"],[1.0,\"#f0f921\"]],\"type\":\"heatmap\"}],\"heatmapgl\":[{\"colorbar\":{\"outlinewidth\":0,\"ticks\":\"\"},\"colorscale\":[[0.0,\"#0d0887\"],[0.1111111111111111,\"#46039f\"],[0.2222222222222222,\"#7201a8\"],[0.3333333333333333,\"#9c179e\"],[0.4444444444444444,\"#bd3786\"],[0.5555555555555556,\"#d8576b\"],[0.6666666666666666,\"#ed7953\"],[0.7777777777777778,\"#fb9f3a\"],[0.8888888888888888,\"#fdca26\"],[1.0,\"#f0f921\"]],\"type\":\"heatmapgl\"}],\"histogram\":[{\"marker\":{\"pattern\":{\"fillmode\":\"overlay\",\"size\":10,\"solidity\":0.2}},\"type\":\"histogram\"}],\"histogram2d\":[{\"colorbar\":{\"outlinewidth\":0,\"ticks\":\"\"},\"colorscale\":[[0.0,\"#0d0887\"],[0.1111111111111111,\"#46039f\"],[0.2222222222222222,\"#7201a8\"],[0.3333333333333333,\"#9c179e\"],[0.4444444444444444,\"#bd3786\"],[0.5555555555555556,\"#d8576b\"],[0.6666666666666666,\"#ed7953\"],[0.7777777777777778,\"#fb9f3a\"],[0.8888888888888888,\"#fdca26\"],[1.0,\"#f0f921\"]],\"type\":\"histogram2d\"}],\"histogram2dcontour\":[{\"colorbar\":{\"outlinewidth\":0,\"ticks\":\"\"},\"colorscale\":[[0.0,\"#0d0887\"],[0.1111111111111111,\"#46039f\"],[0.2222222222222222,\"#7201a8\"],[0.3333333333333333,\"#9c179e\"],[0.4444444444444444,\"#bd3786\"],[0.5555555555555556,\"#d8576b\"],[0.6666666666666666,\"#ed7953\"],[0.7777777777777778,\"#fb9f3a\"],[0.8888888888888888,\"#fdca26\"],[1.0,\"#f0f921\"]],\"type\":\"histogram2dcontour\"}],\"mesh3d\":[{\"colorbar\":{\"outlinewidth\":0,\"ticks\":\"\"},\"type\":\"mesh3d\"}],\"parcoords\":[{\"line\":{\"colorbar\":{\"outlinewidth\":0,\"ticks\":\"\"}},\"type\":\"parcoords\"}],\"pie\":[{\"automargin\":true,\"type\":\"pie\"}],\"scatter\":[{\"marker\":{\"colorbar\":{\"outlinewidth\":0,\"ticks\":\"\"}},\"type\":\"scatter\"}],\"scatter3d\":[{\"line\":{\"colorbar\":{\"outlinewidth\":0,\"ticks\":\"\"}},\"marker\":{\"colorbar\":{\"outlinewidth\":0,\"ticks\":\"\"}},\"type\":\"scatter3d\"}],\"scattercarpet\":[{\"marker\":{\"colorbar\":{\"outlinewidth\":0,\"ticks\":\"\"}},\"type\":\"scattercarpet\"}],\"scattergeo\":[{\"marker\":{\"colorbar\":{\"outlinewidth\":0,\"ticks\":\"\"}},\"type\":\"scattergeo\"}],\"scattergl\":[{\"marker\":{\"colorbar\":{\"outlinewidth\":0,\"ticks\":\"\"}},\"type\":\"scattergl\"}],\"scattermapbox\":[{\"marker\":{\"colorbar\":{\"outlinewidth\":0,\"ticks\":\"\"}},\"type\":\"scattermapbox\"}],\"scatterpolar\":[{\"marker\":{\"colorbar\":{\"outlinewidth\":0,\"ticks\":\"\"}},\"type\":\"scatterpolar\"}],\"scatterpolargl\":[{\"marker\":{\"colorbar\":{\"outlinewidth\":0,\"ticks\":\"\"}},\"type\":\"scatterpolargl\"}],\"scatterternary\":[{\"marker\":{\"colorbar\":{\"outlinewidth\":0,\"ticks\":\"\"}},\"type\":\"scatterternary\"}],\"surface\":[{\"colorbar\":{\"outlinewidth\":0,\"ticks\":\"\"},\"colorscale\":[[0.0,\"#0d0887\"],[0.1111111111111111,\"#46039f\"],[0.2222222222222222,\"#7201a8\"],[0.3333333333333333,\"#9c179e\"],[0.4444444444444444,\"#bd3786\"],[0.5555555555555556,\"#d8576b\"],[0.6666666666666666,\"#ed7953\"],[0.7777777777777778,\"#fb9f3a\"],[0.8888888888888888,\"#fdca26\"],[1.0,\"#f0f921\"]],\"type\":\"surface\"}],\"table\":[{\"cells\":{\"fill\":{\"color\":\"#EBF0F8\"},\"line\":{\"color\":\"white\"}},\"header\":{\"fill\":{\"color\":\"#C8D4E3\"},\"line\":{\"color\":\"white\"}},\"type\":\"table\"}]},\"layout\":{\"annotationdefaults\":{\"arrowcolor\":\"#2a3f5f\",\"arrowhead\":0,\"arrowwidth\":1},\"autotypenumbers\":\"strict\",\"coloraxis\":{\"colorbar\":{\"outlinewidth\":0,\"ticks\":\"\"}},\"colorscale\":{\"diverging\":[[0,\"#8e0152\"],[0.1,\"#c51b7d\"],[0.2,\"#de77ae\"],[0.3,\"#f1b6da\"],[0.4,\"#fde0ef\"],[0.5,\"#f7f7f7\"],[0.6,\"#e6f5d0\"],[0.7,\"#b8e186\"],[0.8,\"#7fbc41\"],[0.9,\"#4d9221\"],[1,\"#276419\"]],\"sequential\":[[0.0,\"#0d0887\"],[0.1111111111111111,\"#46039f\"],[0.2222222222222222,\"#7201a8\"],[0.3333333333333333,\"#9c179e\"],[0.4444444444444444,\"#bd3786\"],[0.5555555555555556,\"#d8576b\"],[0.6666666666666666,\"#ed7953\"],[0.7777777777777778,\"#fb9f3a\"],[0.8888888888888888,\"#fdca26\"],[1.0,\"#f0f921\"]],\"sequentialminus\":[[0.0,\"#0d0887\"],[0.1111111111111111,\"#46039f\"],[0.2222222222222222,\"#7201a8\"],[0.3333333333333333,\"#9c179e\"],[0.4444444444444444,\"#bd3786\"],[0.5555555555555556,\"#d8576b\"],[0.6666666666666666,\"#ed7953\"],[0.7777777777777778,\"#fb9f3a\"],[0.8888888888888888,\"#fdca26\"],[1.0,\"#f0f921\"]]},\"colorway\":[\"#636efa\",\"#EF553B\",\"#00cc96\",\"#ab63fa\",\"#FFA15A\",\"#19d3f3\",\"#FF6692\",\"#B6E880\",\"#FF97FF\",\"#FECB52\"],\"font\":{\"color\":\"#2a3f5f\"},\"geo\":{\"bgcolor\":\"white\",\"lakecolor\":\"white\",\"landcolor\":\"#E5ECF6\",\"showlakes\":true,\"showland\":true,\"subunitcolor\":\"white\"},\"hoverlabel\":{\"align\":\"left\"},\"hovermode\":\"closest\",\"mapbox\":{\"style\":\"light\"},\"paper_bgcolor\":\"white\",\"plot_bgcolor\":\"#E5ECF6\",\"polar\":{\"angularaxis\":{\"gridcolor\":\"white\",\"linecolor\":\"white\",\"ticks\":\"\"},\"bgcolor\":\"#E5ECF6\",\"radialaxis\":{\"gridcolor\":\"white\",\"linecolor\":\"white\",\"ticks\":\"\"}},\"scene\":{\"xaxis\":{\"backgroundcolor\":\"#E5ECF6\",\"gridcolor\":\"white\",\"gridwidth\":2,\"linecolor\":\"white\",\"showbackground\":true,\"ticks\":\"\",\"zerolinecolor\":\"white\"},\"yaxis\":{\"backgroundcolor\":\"#E5ECF6\",\"gridcolor\":\"white\",\"gridwidth\":2,\"linecolor\":\"white\",\"showbackground\":true,\"ticks\":\"\",\"zerolinecolor\":\"white\"},\"zaxis\":{\"backgroundcolor\":\"#E5ECF6\",\"gridcolor\":\"white\",\"gridwidth\":2,\"linecolor\":\"white\",\"showbackground\":true,\"ticks\":\"\",\"zerolinecolor\":\"white\"}},\"shapedefaults\":{\"line\":{\"color\":\"#2a3f5f\"}},\"ternary\":{\"aaxis\":{\"gridcolor\":\"white\",\"linecolor\":\"white\",\"ticks\":\"\"},\"baxis\":{\"gridcolor\":\"white\",\"linecolor\":\"white\",\"ticks\":\"\"},\"bgcolor\":\"#E5ECF6\",\"caxis\":{\"gridcolor\":\"white\",\"linecolor\":\"white\",\"ticks\":\"\"}},\"title\":{\"x\":0.05},\"xaxis\":{\"automargin\":true,\"gridcolor\":\"white\",\"linecolor\":\"white\",\"ticks\":\"\",\"title\":{\"standoff\":15},\"zerolinecolor\":\"white\",\"zerolinewidth\":2},\"yaxis\":{\"automargin\":true,\"gridcolor\":\"white\",\"linecolor\":\"white\",\"ticks\":\"\",\"title\":{\"standoff\":15},\"zerolinecolor\":\"white\",\"zerolinewidth\":2}}},\"xaxis\":{\"anchor\":\"y\",\"domain\":[0.0,1.0],\"title\":{\"text\":\"step\"}},\"yaxis\":{\"anchor\":\"x\",\"domain\":[0.0,1.0],\"title\":{\"text\":\"acc\"}},\"legend\":{\"tracegroupgap\":0},\"margin\":{\"t\":60}},                        {\"responsive\": true}                    ).then(function(){\n",
              "                            \n",
              "var gd = document.getElementById('0692c63a-910e-4270-9af6-ecd08a55f742');\n",
              "var x = new MutationObserver(function (mutations, observer) {{\n",
              "        var display = window.getComputedStyle(gd).display;\n",
              "        if (!display || display === 'none') {{\n",
              "            console.log([gd, 'removed!']);\n",
              "            Plotly.purge(gd);\n",
              "            observer.disconnect();\n",
              "        }}\n",
              "}});\n",
              "\n",
              "// Listen for the removal of the full notebook cells\n",
              "var notebookContainer = gd.closest('#notebook-container');\n",
              "if (notebookContainer) {{\n",
              "    x.observe(notebookContainer, {childList: true});\n",
              "}}\n",
              "\n",
              "// Listen for the clearing of the current output cell\n",
              "var outputEl = gd.closest('.output');\n",
              "if (outputEl) {{\n",
              "    x.observe(outputEl, {childList: true});\n",
              "}}\n",
              "\n",
              "                        })                };                            </script>        </div>\n",
              "</body>\n",
              "</html>"
            ]
          },
          "metadata": {}
        }
      ]
    },
    {
      "cell_type": "markdown",
      "source": [
        "#9. 📈 send log for chart & table"
      ],
      "metadata": {
        "id": "Bt14nGlofIP_"
      }
    },
    {
      "cell_type": "code",
      "source": [
        "df =deepdriver.DataFrame(columns=[\"step\",\"loss\"], data=[ [idx, loss] for idx, loss in enumerate(train_loss)])\n",
        "line =deepdriver.line(df,\"step\",\"loss\")\n",
        "deepdriver.log({\"my_line_chart\":line})"
      ],
      "metadata": {
        "id": "XzVJH3-dfIv_",
        "outputId": "c39cd615-08b8-4530-e45c-28fd71a1440f",
        "colab": {
          "base_uri": "https://localhost:8080/"
        }
      },
      "execution_count": null,
      "outputs": [
        {
          "output_type": "stream",
          "name": "stdout",
          "text": [
            "Uploading: [./deepdriver/run/1/chart/my_line_chart.CHART.json] |██████████████████████████████| [100.0%] [1/1]"
          ]
        },
        {
          "output_type": "execute_result",
          "data": {
            "text/plain": [
              "True"
            ]
          },
          "metadata": {},
          "execution_count": 59
        }
      ]
    },
    {
      "cell_type": "code",
      "source": [
        "df =deepdriver.DataFrame(columns=[\"step\",\"acc\"], data=[ [idx, acc] for idx, acc in enumerate(accuracy)])\n",
        "historgram = deepdriver.histogram(df,\"step\",\"acc\")\n",
        "deepdriver.log({\"my_histogram_chart\":historgram})"
      ],
      "metadata": {
        "id": "XjbhxkZhgttT",
        "outputId": "13771192-6051-4528-c531-1502fa44533d",
        "colab": {
          "base_uri": "https://localhost:8080/"
        }
      },
      "execution_count": null,
      "outputs": [
        {
          "output_type": "stream",
          "name": "stdout",
          "text": [
            "Uploading: [./deepdriver/run/1/chart/my_histogram_chart.CHART.json] |██████████████████████████████| [100.0%] [1/1]"
          ]
        },
        {
          "output_type": "execute_result",
          "data": {
            "text/plain": [
              "True"
            ]
          },
          "metadata": {},
          "execution_count": 60
        }
      ]
    },
    {
      "cell_type": "code",
      "source": [
        "df =deepdriver.DataFrame(columns=[\"step\",\"acc\"], data=[ [idx, acc] for idx, acc in enumerate(accuracy)])\n",
        "scatter = deepdriver.scatter(df,\"step\",\"acc\")\n",
        "deepdriver.log({\"my_scatter_chart\":scatter})"
      ],
      "metadata": {
        "id": "kDqJp1ArgwXq",
        "outputId": "28f7c559-7fc1-4a3d-b12f-e298de84c9c6",
        "colab": {
          "base_uri": "https://localhost:8080/"
        }
      },
      "execution_count": null,
      "outputs": [
        {
          "output_type": "stream",
          "name": "stdout",
          "text": [
            "Uploading: [./deepdriver/run/1/chart/my_scatter_chart.CHART.json] |██████████████████████████████| [100.0%] [1/1]"
          ]
        },
        {
          "output_type": "execute_result",
          "data": {
            "text/plain": [
              "True"
            ]
          },
          "metadata": {},
          "execution_count": 61
        }
      ]
    },
    {
      "cell_type": "markdown",
      "source": [
        "#10. 🔚 finish run"
      ],
      "metadata": {
        "id": "EJ0akeCJR-Ym"
      }
    },
    {
      "cell_type": "code",
      "source": [
        "# finish experiment\n",
        "deepdriver.finish()"
      ],
      "metadata": {
        "id": "EM3BKiqzs1TX",
        "outputId": "a83cd782-18c1-4946-fe2a-9011abd2491b",
        "colab": {
          "base_uri": "https://localhost:8080/"
        }
      },
      "execution_count": null,
      "outputs": [
        {
          "output_type": "execute_result",
          "data": {
            "text/plain": [
              "True"
            ]
          },
          "metadata": {},
          "execution_count": 62
        }
      ]
    },
    {
      "cell_type": "code",
      "source": [],
      "metadata": {
        "id": "sog_PjbhMJui"
      },
      "execution_count": null,
      "outputs": []
    }
  ]
}