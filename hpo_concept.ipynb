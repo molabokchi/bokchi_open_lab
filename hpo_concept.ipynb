{
  "nbformat": 4,
  "nbformat_minor": 0,
  "metadata": {
    "colab": {
      "provenance": [],
      "authorship_tag": "ABX9TyNnadCb8AkqBXrdTdHloD0k",
      "include_colab_link": true
    },
    "kernelspec": {
      "name": "python3",
      "display_name": "Python 3"
    },
    "language_info": {
      "name": "python"
    }
  },
  "cells": [
    {
      "cell_type": "markdown",
      "metadata": {
        "id": "view-in-github",
        "colab_type": "text"
      },
      "source": [
        "<a href=\"https://colab.research.google.com/github/molabokchi/bokchi_open_lab/blob/main/hpo_concept.ipynb\" target=\"_parent\"><img src=\"https://colab.research.google.com/assets/colab-badge.svg\" alt=\"Open In Colab\"/></a>"
      ]
    },
    {
      "cell_type": "markdown",
      "source": [
        "#1.deepdriver 및 optuna 설치"
      ],
      "metadata": {
        "id": "iZozBPJDACPM"
      }
    },
    {
      "cell_type": "code",
      "source": [
        "pip install deepdriver"
      ],
      "metadata": {
        "colab": {
          "base_uri": "https://localhost:8080/"
        },
        "id": "RC0Ryf-z_9p8",
        "outputId": "fdc4243f-ba84-46d6-f9e9-2cab6d43c241"
      },
      "execution_count": 2,
      "outputs": [
        {
          "output_type": "stream",
          "name": "stdout",
          "text": [
            "Looking in indexes: https://pypi.org/simple, https://us-python.pkg.dev/colab-wheels/public/simple/\n",
            "Collecting deepdriver\n",
            "  Downloading deepdriver-0.3.13-py3-none-any.whl (34 kB)\n",
            "Requirement already satisfied: Pillow in /usr/local/lib/python3.8/dist-packages (from deepdriver) (7.1.2)\n",
            "Requirement already satisfied: psutil in /usr/local/lib/python3.8/dist-packages (from deepdriver) (5.4.8)\n",
            "Requirement already satisfied: pandas in /usr/local/lib/python3.8/dist-packages (from deepdriver) (1.3.5)\n",
            "Requirement already satisfied: wheel in /usr/local/lib/python3.8/dist-packages (from deepdriver) (0.38.4)\n",
            "Collecting pynvml\n",
            "  Downloading pynvml-11.4.1-py3-none-any.whl (46 kB)\n",
            "\u001b[2K     \u001b[90m━━━━━━━━━━━━━━━━━━━━━━━━━━━━━━━━━━━━━━━━\u001b[0m \u001b[32m47.0/47.0 KB\u001b[0m \u001b[31m5.5 MB/s\u001b[0m eta \u001b[36m0:00:00\u001b[0m\n",
            "\u001b[?25hCollecting grpcio-tools\n",
            "  Downloading grpcio_tools-1.51.1-cp38-cp38-manylinux_2_17_x86_64.manylinux2014_x86_64.whl (2.4 MB)\n",
            "\u001b[2K     \u001b[90m━━━━━━━━━━━━━━━━━━━━━━━━━━━━━━━━━━━━━━━━\u001b[0m \u001b[32m2.4/2.4 MB\u001b[0m \u001b[31m52.6 MB/s\u001b[0m eta \u001b[36m0:00:00\u001b[0m\n",
            "\u001b[?25hCollecting assertpy\n",
            "  Downloading assertpy-1.1.tar.gz (25 kB)\n",
            "  Preparing metadata (setup.py) ... \u001b[?25l\u001b[?25hdone\n",
            "Requirement already satisfied: grpcio in /usr/local/lib/python3.8/dist-packages (from deepdriver) (1.51.1)\n",
            "Requirement already satisfied: requests in /usr/local/lib/python3.8/dist-packages (from deepdriver) (2.25.1)\n",
            "Requirement already satisfied: numpy in /usr/local/lib/python3.8/dist-packages (from deepdriver) (1.21.6)\n",
            "Requirement already satisfied: plotly in /usr/local/lib/python3.8/dist-packages (from deepdriver) (5.5.0)\n",
            "Collecting protobuf<5.0dev,>=4.21.6\n",
            "  Downloading protobuf-4.21.12-cp37-abi3-manylinux2014_x86_64.whl (409 kB)\n",
            "\u001b[2K     \u001b[90m━━━━━━━━━━━━━━━━━━━━━━━━━━━━━━━━━━━━━━\u001b[0m \u001b[32m409.8/409.8 KB\u001b[0m \u001b[31m37.4 MB/s\u001b[0m eta \u001b[36m0:00:00\u001b[0m\n",
            "\u001b[?25hRequirement already satisfied: setuptools in /usr/local/lib/python3.8/dist-packages (from grpcio-tools->deepdriver) (57.4.0)\n",
            "Requirement already satisfied: pytz>=2017.3 in /usr/local/lib/python3.8/dist-packages (from pandas->deepdriver) (2022.7)\n",
            "Requirement already satisfied: python-dateutil>=2.7.3 in /usr/local/lib/python3.8/dist-packages (from pandas->deepdriver) (2.8.2)\n",
            "Requirement already satisfied: tenacity>=6.2.0 in /usr/local/lib/python3.8/dist-packages (from plotly->deepdriver) (8.1.0)\n",
            "Requirement already satisfied: six in /usr/local/lib/python3.8/dist-packages (from plotly->deepdriver) (1.15.0)\n",
            "Requirement already satisfied: chardet<5,>=3.0.2 in /usr/local/lib/python3.8/dist-packages (from requests->deepdriver) (4.0.0)\n",
            "Requirement already satisfied: certifi>=2017.4.17 in /usr/local/lib/python3.8/dist-packages (from requests->deepdriver) (2022.12.7)\n",
            "Requirement already satisfied: urllib3<1.27,>=1.21.1 in /usr/local/lib/python3.8/dist-packages (from requests->deepdriver) (1.24.3)\n",
            "Requirement already satisfied: idna<3,>=2.5 in /usr/local/lib/python3.8/dist-packages (from requests->deepdriver) (2.10)\n",
            "Building wheels for collected packages: assertpy\n",
            "  Building wheel for assertpy (setup.py) ... \u001b[?25l\u001b[?25hdone\n",
            "  Created wheel for assertpy: filename=assertpy-1.1-py3-none-any.whl size=42917 sha256=929719e0a1478fbf6fbdd138a2e5b0cf95e1f9fcb0f9bda1e4a6e9f86f491ec2\n",
            "  Stored in directory: /root/.cache/pip/wheels/57/86/c9/1310be6ddfb540daa0bf1ac204526837aa0a8b0e79f32855ff\n",
            "Successfully built assertpy\n",
            "Installing collected packages: assertpy, pynvml, protobuf, grpcio-tools, deepdriver\n",
            "  Attempting uninstall: protobuf\n",
            "    Found existing installation: protobuf 3.19.6\n",
            "    Uninstalling protobuf-3.19.6:\n",
            "      Successfully uninstalled protobuf-3.19.6\n",
            "\u001b[31mERROR: pip's dependency resolver does not currently take into account all the packages that are installed. This behaviour is the source of the following dependency conflicts.\n",
            "tensorflow 2.9.2 requires protobuf<3.20,>=3.9.2, but you have protobuf 4.21.12 which is incompatible.\n",
            "tensorflow-metadata 1.12.0 requires protobuf<4,>=3.13, but you have protobuf 4.21.12 which is incompatible.\n",
            "tensorboard 2.9.1 requires protobuf<3.20,>=3.9.2, but you have protobuf 4.21.12 which is incompatible.\u001b[0m\u001b[31m\n",
            "\u001b[0mSuccessfully installed assertpy-1.1 deepdriver-0.3.13 grpcio-tools-1.51.1 protobuf-4.21.12 pynvml-11.4.1\n"
          ]
        }
      ]
    },
    {
      "cell_type": "code",
      "source": [
        "pip install optuna"
      ],
      "metadata": {
        "colab": {
          "base_uri": "https://localhost:8080/"
        },
        "id": "J_kb80tU__UK",
        "outputId": "e9a27996-ccce-4dd8-e071-68ed3960fc55"
      },
      "execution_count": 3,
      "outputs": [
        {
          "output_type": "stream",
          "name": "stdout",
          "text": [
            "Looking in indexes: https://pypi.org/simple, https://us-python.pkg.dev/colab-wheels/public/simple/\n",
            "Collecting optuna\n",
            "  Downloading optuna-3.0.5-py3-none-any.whl (348 kB)\n",
            "\u001b[2K     \u001b[90m━━━━━━━━━━━━━━━━━━━━━━━━━━━━━━━━━━━━━━\u001b[0m \u001b[32m348.5/348.5 KB\u001b[0m \u001b[31m20.0 MB/s\u001b[0m eta \u001b[36m0:00:00\u001b[0m\n",
            "\u001b[?25hRequirement already satisfied: packaging>=20.0 in /usr/local/lib/python3.8/dist-packages (from optuna) (21.3)\n",
            "Collecting importlib-metadata<5.0.0\n",
            "  Downloading importlib_metadata-4.13.0-py3-none-any.whl (23 kB)\n",
            "Requirement already satisfied: sqlalchemy>=1.3.0 in /usr/local/lib/python3.8/dist-packages (from optuna) (1.4.45)\n",
            "Requirement already satisfied: numpy in /usr/local/lib/python3.8/dist-packages (from optuna) (1.21.6)\n",
            "Collecting cliff\n",
            "  Downloading cliff-4.1.0-py3-none-any.whl (81 kB)\n",
            "\u001b[2K     \u001b[90m━━━━━━━━━━━━━━━━━━━━━━━━━━━━━━━━━━━━━━━━\u001b[0m \u001b[32m81.0/81.0 KB\u001b[0m \u001b[31m9.9 MB/s\u001b[0m eta \u001b[36m0:00:00\u001b[0m\n",
            "\u001b[?25hRequirement already satisfied: PyYAML in /usr/local/lib/python3.8/dist-packages (from optuna) (6.0)\n",
            "Collecting colorlog\n",
            "  Downloading colorlog-6.7.0-py2.py3-none-any.whl (11 kB)\n",
            "Collecting alembic>=1.5.0\n",
            "  Downloading alembic-1.9.1-py3-none-any.whl (210 kB)\n",
            "\u001b[2K     \u001b[90m━━━━━━━━━━━━━━━━━━━━━━━━━━━━━━━━━━━━━━\u001b[0m \u001b[32m210.4/210.4 KB\u001b[0m \u001b[31m24.4 MB/s\u001b[0m eta \u001b[36m0:00:00\u001b[0m\n",
            "\u001b[?25hRequirement already satisfied: tqdm in /usr/local/lib/python3.8/dist-packages (from optuna) (4.64.1)\n",
            "Requirement already satisfied: scipy<1.9.0,>=1.7.0 in /usr/local/lib/python3.8/dist-packages (from optuna) (1.7.3)\n",
            "Collecting cmaes>=0.8.2\n",
            "  Downloading cmaes-0.9.0-py3-none-any.whl (23 kB)\n",
            "Collecting Mako\n",
            "  Downloading Mako-1.2.4-py3-none-any.whl (78 kB)\n",
            "\u001b[2K     \u001b[90m━━━━━━━━━━━━━━━━━━━━━━━━━━━━━━━━━━━━━━━━\u001b[0m \u001b[32m78.7/78.7 KB\u001b[0m \u001b[31m9.1 MB/s\u001b[0m eta \u001b[36m0:00:00\u001b[0m\n",
            "\u001b[?25hRequirement already satisfied: importlib-resources in /usr/local/lib/python3.8/dist-packages (from alembic>=1.5.0->optuna) (5.10.1)\n",
            "Requirement already satisfied: zipp>=0.5 in /usr/local/lib/python3.8/dist-packages (from importlib-metadata<5.0.0->optuna) (3.11.0)\n",
            "Requirement already satisfied: pyparsing!=3.0.5,>=2.0.2 in /usr/local/lib/python3.8/dist-packages (from packaging>=20.0->optuna) (3.0.9)\n",
            "Requirement already satisfied: greenlet!=0.4.17 in /usr/local/lib/python3.8/dist-packages (from sqlalchemy>=1.3.0->optuna) (2.0.1)\n",
            "Collecting stevedore>=2.0.1\n",
            "  Downloading stevedore-4.1.1-py3-none-any.whl (50 kB)\n",
            "\u001b[2K     \u001b[90m━━━━━━━━━━━━━━━━━━━━━━━━━━━━━━━━━━━━━━━━\u001b[0m \u001b[32m50.0/50.0 KB\u001b[0m \u001b[31m6.3 MB/s\u001b[0m eta \u001b[36m0:00:00\u001b[0m\n",
            "\u001b[?25hCollecting cmd2>=1.0.0\n",
            "  Downloading cmd2-2.4.2-py3-none-any.whl (147 kB)\n",
            "\u001b[2K     \u001b[90m━━━━━━━━━━━━━━━━━━━━━━━━━━━━━━━━━━━━━━\u001b[0m \u001b[32m147.1/147.1 KB\u001b[0m \u001b[31m15.7 MB/s\u001b[0m eta \u001b[36m0:00:00\u001b[0m\n",
            "\u001b[?25hCollecting autopage>=0.4.0\n",
            "  Downloading autopage-0.5.1-py3-none-any.whl (29 kB)\n",
            "Requirement already satisfied: PrettyTable>=0.7.2 in /usr/local/lib/python3.8/dist-packages (from cliff->optuna) (3.5.0)\n",
            "Requirement already satisfied: wcwidth>=0.1.7 in /usr/local/lib/python3.8/dist-packages (from cmd2>=1.0.0->cliff->optuna) (0.2.5)\n",
            "Collecting pyperclip>=1.6\n",
            "  Downloading pyperclip-1.8.2.tar.gz (20 kB)\n",
            "  Preparing metadata (setup.py) ... \u001b[?25l\u001b[?25hdone\n",
            "Requirement already satisfied: attrs>=16.3.0 in /usr/local/lib/python3.8/dist-packages (from cmd2>=1.0.0->cliff->optuna) (22.2.0)\n",
            "Collecting pbr!=2.1.0,>=2.0.0\n",
            "  Downloading pbr-5.11.0-py2.py3-none-any.whl (112 kB)\n",
            "\u001b[2K     \u001b[90m━━━━━━━━━━━━━━━━━━━━━━━━━━━━━━━━━━━━━━\u001b[0m \u001b[32m112.6/112.6 KB\u001b[0m \u001b[31m11.7 MB/s\u001b[0m eta \u001b[36m0:00:00\u001b[0m\n",
            "\u001b[?25hRequirement already satisfied: MarkupSafe>=0.9.2 in /usr/local/lib/python3.8/dist-packages (from Mako->alembic>=1.5.0->optuna) (2.0.1)\n",
            "Building wheels for collected packages: pyperclip\n",
            "  Building wheel for pyperclip (setup.py) ... \u001b[?25l\u001b[?25hdone\n",
            "  Created wheel for pyperclip: filename=pyperclip-1.8.2-py3-none-any.whl size=11136 sha256=fa844a9918d1329add86df3bde8339328d266f23e21a78492c71dd51e5dddc35\n",
            "  Stored in directory: /root/.cache/pip/wheels/7f/1a/65/84ff8c386bec21fca6d220ea1f5498a0367883a78dd5ba6122\n",
            "Successfully built pyperclip\n",
            "Installing collected packages: pyperclip, pbr, Mako, importlib-metadata, colorlog, cmd2, cmaes, autopage, stevedore, alembic, cliff, optuna\n",
            "  Attempting uninstall: importlib-metadata\n",
            "    Found existing installation: importlib-metadata 5.2.0\n",
            "    Uninstalling importlib-metadata-5.2.0:\n",
            "      Successfully uninstalled importlib-metadata-5.2.0\n",
            "Successfully installed Mako-1.2.4 alembic-1.9.1 autopage-0.5.1 cliff-4.1.0 cmaes-0.9.0 cmd2-2.4.2 colorlog-6.7.0 importlib-metadata-4.13.0 optuna-3.0.5 pbr-5.11.0 pyperclip-1.8.2 stevedore-4.1.1\n"
          ]
        }
      ]
    },
    {
      "cell_type": "markdown",
      "source": [
        " # 2. deepdriver import"
      ],
      "metadata": {
        "id": "oB7me9UE_qhH"
      }
    },
    {
      "cell_type": "code",
      "execution_count": 4,
      "metadata": {
        "id": "ZmyjlhrD_dpa"
      },
      "outputs": [],
      "source": [
        "import deepdriver"
      ]
    },
    {
      "cell_type": "markdown",
      "source": [
        "# 3. 추후 deepdriver에 반영될 소스 "
      ],
      "metadata": {
        "id": "1dxUdjW9_inH"
      }
    },
    {
      "cell_type": "code",
      "source": [
        "import optuna\n",
        "from urllib.parse import quote_plus\n",
        "from optuna.exceptions import DuplicatedStudyError\n",
        "\n",
        "def create_hpo(exp_name):\n",
        "    try:\n",
        "        #to-do: /api/client/experiment/create/hpo 호출\n",
        "        optuna.create_study(study_name=exp_name,\n",
        "                            storage=\"postgresql://bokchi1:%s@ce-postg.bokchi.com:5432/hpo\" % quote_plus(\"eiljbagADSfdsiles!@#gd3fds324234dgfsdg\"),\n",
        "                            direction='minimize')\n",
        "\n",
        "    except DuplicatedStudyError:\n",
        "        print(\"aleady exist !\")\n",
        "    else:\n",
        "        print(\"please check url\")\n",
        "\n",
        "def objective(trial, exp_name, func, config):\n",
        "    deepdriver.init(exp_name= exp_name)\n",
        "    get_config(trial,config)\n",
        "    y= func()\n",
        "    deepdriver.log({\"x\":deepdriver.config.x,\"y\":y})\n",
        "    deepdriver.finish()\n",
        "\n",
        "    return y\n",
        "\n",
        "def get_config(trial, config):\n",
        "    #to-do config dict의 내용을 조건에  따라 하기와 같은 코드로 변환\n",
        "    deepdriver.config.x = trial.suggest_float(\"x\", -10, 10)\n",
        "\n",
        "def get_hpo(exp_name):\n",
        "    #to-do : 조건 서버에서 가져와서 파싱하기 /api/client/experiment/get/hpo\n",
        "    config = [ {\"key\": \"x\" , \"value\" : {\"range\":[0.01,0.001]} }]\n",
        "    return config\n",
        "\n",
        "def get_wrapped_func(exp_name, func, config):\n",
        "    return lambda trial: objective(trial, exp_name, func, config)\n",
        "\n",
        "def load_hpo(exp_name):\n",
        "    study = optuna.load_study(\n",
        "        study_name=exp_name,\n",
        "        storage=\"postgresql://bokchi1:%s@ce-postg.bokchi.com:5432/hpo\" % quote_plus(\n",
        "            \"eiljbagADSfdsiles!@#gd3fds324234dgfsdg\"))\n",
        "    return study\n",
        "\n",
        "def run_optimize(study,exp_name,func,config, count):\n",
        "    study.optimize(get_wrapped_func(exp_name, func, config), n_trials=count)\n",
        "\n",
        "def run_hpo( exp_name, func, count):\n",
        "    config = get_hpo(exp_name)\n",
        "    study = load_hpo(exp_name)\n",
        "    run_optimize(study, exp_name,func,config, count)"
      ],
      "metadata": {
        "id": "TCwwD43__fcl"
      },
      "execution_count": 5,
      "outputs": []
    },
    {
      "cell_type": "markdown",
      "source": [
        "# 4. 딥드라이버 셋팅 & 로그인 & hpo 생성 및 실행 "
      ],
      "metadata": {
        "id": "ySZJZ4VpAgbr"
      }
    },
    {
      "cell_type": "code",
      "source": [
        "exp_name = \"exp_hpo8\"\n",
        "deepdriver.setting(http_host=\"54.180.86.146:9011\", grpc_host=\"54.180.86.146:19051\")\n",
        "deepdriver.login(key=\"ZmIyNWQxNGJkMzUxYTVjODQ2NjM5NTgzOTM0YTM2OGE2ZmJiY2M2MWMwOWQ0OWFkNjU2YzNkM2UxMjA0YTVkZg==\")\n",
        "\n",
        "create_hpo(exp_name) #추후 deepdriver.create_hpo로\n",
        "\n",
        "\n",
        "def func():\n",
        "    x = deepdriver.config.x\n",
        "    y = (x - 2) ** 2\n",
        "    return y\n",
        "\n",
        "run_hpo(exp_name, func, 50) #추후 deepdriver.run_hpo로"
      ],
      "metadata": {
        "colab": {
          "base_uri": "https://localhost:8080/"
        },
        "id": "AQh4_oUU_y1Q",
        "outputId": "4497be83-792d-4058-ea42-e3d733fcdebe"
      },
      "execution_count": null,
      "outputs": [
        {
          "output_type": "stream",
          "name": "stderr",
          "text": [
            "\u001b[32m[I 2023-01-04 09:01:46,316]\u001b[0m A new study created in RDB with name: exp_hpo8\u001b[0m\n"
          ]
        },
        {
          "output_type": "stream",
          "name": "stdout",
          "text": [
            "please check url\n",
            "2023-01-04 09:02:01,059 INFO [deepdriver] [experiment.py:25] - DeepDriver initialized\n",
            "Team Name=molamola.python\n",
            "Exp Name=exp_hpo8\n",
            "Run Name=run-1\n",
            "Run URL=http://54.180.86.146:9111/experi/molamola.python/exp_hpo8/run-1/run/chart\n"
          ]
        },
        {
          "output_type": "stream",
          "name": "stderr",
          "text": [
            "INFO:deepdriver:DeepDriver initialized\n",
            "Team Name=molamola.python\n",
            "Exp Name=exp_hpo8\n",
            "Run Name=run-1\n",
            "Run URL=http://54.180.86.146:9111/experi/molamola.python/exp_hpo8/run-1/run/chart\n",
            "\u001b[32m[I 2023-01-04 09:02:09,965]\u001b[0m Trial 0 finished with value: 36.83275537395124 and parameters: {'x': -4.068999536492917}. Best is trial 0 with value: 36.83275537395124.\u001b[0m\n"
          ]
        },
        {
          "output_type": "stream",
          "name": "stdout",
          "text": [
            "2023-01-04 09:02:13,043 INFO [deepdriver] [experiment.py:25] - DeepDriver initialized\n",
            "Team Name=molamola.python\n",
            "Exp Name=exp_hpo8\n",
            "Run Name=run-2\n",
            "Run URL=http://54.180.86.146:9111/experi/molamola.python/exp_hpo8/run-2/run/chart\n"
          ]
        },
        {
          "output_type": "stream",
          "name": "stderr",
          "text": [
            "INFO:deepdriver:DeepDriver initialized\n",
            "Team Name=molamola.python\n",
            "Exp Name=exp_hpo8\n",
            "Run Name=run-2\n",
            "Run URL=http://54.180.86.146:9111/experi/molamola.python/exp_hpo8/run-2/run/chart\n",
            "\u001b[32m[I 2023-01-04 09:02:21,041]\u001b[0m Trial 1 finished with value: 62.53911162742245 and parameters: {'x': 9.908167400063206}. Best is trial 0 with value: 36.83275537395124.\u001b[0m\n"
          ]
        },
        {
          "output_type": "stream",
          "name": "stdout",
          "text": [
            "2023-01-04 09:02:24,108 INFO [deepdriver] [experiment.py:25] - DeepDriver initialized\n",
            "Team Name=molamola.python\n",
            "Exp Name=exp_hpo8\n",
            "Run Name=run-3\n",
            "Run URL=http://54.180.86.146:9111/experi/molamola.python/exp_hpo8/run-3/run/chart\n"
          ]
        },
        {
          "output_type": "stream",
          "name": "stderr",
          "text": [
            "INFO:deepdriver:DeepDriver initialized\n",
            "Team Name=molamola.python\n",
            "Exp Name=exp_hpo8\n",
            "Run Name=run-3\n",
            "Run URL=http://54.180.86.146:9111/experi/molamola.python/exp_hpo8/run-3/run/chart\n",
            "\u001b[32m[I 2023-01-04 09:02:32,129]\u001b[0m Trial 2 finished with value: 7.079016714223757 and parameters: {'x': -0.6606421620022029}. Best is trial 2 with value: 7.079016714223757.\u001b[0m\n"
          ]
        },
        {
          "output_type": "stream",
          "name": "stdout",
          "text": [
            "2023-01-04 09:02:35,239 INFO [deepdriver] [experiment.py:25] - DeepDriver initialized\n",
            "Team Name=molamola.python\n",
            "Exp Name=exp_hpo8\n",
            "Run Name=run-4\n",
            "Run URL=http://54.180.86.146:9111/experi/molamola.python/exp_hpo8/run-4/run/chart\n"
          ]
        },
        {
          "output_type": "stream",
          "name": "stderr",
          "text": [
            "INFO:deepdriver:DeepDriver initialized\n",
            "Team Name=molamola.python\n",
            "Exp Name=exp_hpo8\n",
            "Run Name=run-4\n",
            "Run URL=http://54.180.86.146:9111/experi/molamola.python/exp_hpo8/run-4/run/chart\n",
            "\u001b[32m[I 2023-01-04 09:02:43,296]\u001b[0m Trial 3 finished with value: 72.59268291273186 and parameters: {'x': -6.5201339726985434}. Best is trial 2 with value: 7.079016714223757.\u001b[0m\n"
          ]
        },
        {
          "output_type": "stream",
          "name": "stdout",
          "text": [
            "2023-01-04 09:02:46,386 INFO [deepdriver] [experiment.py:25] - DeepDriver initialized\n",
            "Team Name=molamola.python\n",
            "Exp Name=exp_hpo8\n",
            "Run Name=run-5\n",
            "Run URL=http://54.180.86.146:9111/experi/molamola.python/exp_hpo8/run-5/run/chart\n"
          ]
        },
        {
          "output_type": "stream",
          "name": "stderr",
          "text": [
            "INFO:deepdriver:DeepDriver initialized\n",
            "Team Name=molamola.python\n",
            "Exp Name=exp_hpo8\n",
            "Run Name=run-5\n",
            "Run URL=http://54.180.86.146:9111/experi/molamola.python/exp_hpo8/run-5/run/chart\n",
            "\u001b[32m[I 2023-01-04 09:02:54,398]\u001b[0m Trial 4 finished with value: 4.388404814112846 and parameters: {'x': -0.09485197904597698}. Best is trial 4 with value: 4.388404814112846.\u001b[0m\n"
          ]
        },
        {
          "output_type": "stream",
          "name": "stdout",
          "text": [
            "2023-01-04 09:02:57,481 INFO [deepdriver] [experiment.py:25] - DeepDriver initialized\n",
            "Team Name=molamola.python\n",
            "Exp Name=exp_hpo8\n",
            "Run Name=run-6\n",
            "Run URL=http://54.180.86.146:9111/experi/molamola.python/exp_hpo8/run-6/run/chart\n"
          ]
        },
        {
          "output_type": "stream",
          "name": "stderr",
          "text": [
            "INFO:deepdriver:DeepDriver initialized\n",
            "Team Name=molamola.python\n",
            "Exp Name=exp_hpo8\n",
            "Run Name=run-6\n",
            "Run URL=http://54.180.86.146:9111/experi/molamola.python/exp_hpo8/run-6/run/chart\n",
            "\u001b[32m[I 2023-01-04 09:03:05,461]\u001b[0m Trial 5 finished with value: 4.250146746286816 and parameters: {'x': -0.061588403704002204}. Best is trial 5 with value: 4.250146746286816.\u001b[0m\n"
          ]
        },
        {
          "output_type": "stream",
          "name": "stdout",
          "text": [
            "2023-01-04 09:03:08,545 INFO [deepdriver] [experiment.py:25] - DeepDriver initialized\n",
            "Team Name=molamola.python\n",
            "Exp Name=exp_hpo8\n",
            "Run Name=run-7\n",
            "Run URL=http://54.180.86.146:9111/experi/molamola.python/exp_hpo8/run-7/run/chart\n"
          ]
        },
        {
          "output_type": "stream",
          "name": "stderr",
          "text": [
            "INFO:deepdriver:DeepDriver initialized\n",
            "Team Name=molamola.python\n",
            "Exp Name=exp_hpo8\n",
            "Run Name=run-7\n",
            "Run URL=http://54.180.86.146:9111/experi/molamola.python/exp_hpo8/run-7/run/chart\n",
            "\u001b[32m[I 2023-01-04 09:03:16,547]\u001b[0m Trial 6 finished with value: 24.783275910890715 and parameters: {'x': 6.978280417060766}. Best is trial 5 with value: 4.250146746286816.\u001b[0m\n"
          ]
        },
        {
          "output_type": "stream",
          "name": "stdout",
          "text": [
            "2023-01-04 09:03:19,652 INFO [deepdriver] [experiment.py:25] - DeepDriver initialized\n",
            "Team Name=molamola.python\n",
            "Exp Name=exp_hpo8\n",
            "Run Name=run-8\n",
            "Run URL=http://54.180.86.146:9111/experi/molamola.python/exp_hpo8/run-8/run/chart\n"
          ]
        },
        {
          "output_type": "stream",
          "name": "stderr",
          "text": [
            "INFO:deepdriver:DeepDriver initialized\n",
            "Team Name=molamola.python\n",
            "Exp Name=exp_hpo8\n",
            "Run Name=run-8\n",
            "Run URL=http://54.180.86.146:9111/experi/molamola.python/exp_hpo8/run-8/run/chart\n",
            "\u001b[32m[I 2023-01-04 09:03:27,659]\u001b[0m Trial 7 finished with value: 80.33224805608504 and parameters: {'x': -6.96282589678529}. Best is trial 5 with value: 4.250146746286816.\u001b[0m\n"
          ]
        },
        {
          "output_type": "stream",
          "name": "stdout",
          "text": [
            "2023-01-04 09:03:30,741 INFO [deepdriver] [experiment.py:25] - DeepDriver initialized\n",
            "Team Name=molamola.python\n",
            "Exp Name=exp_hpo8\n",
            "Run Name=run-9\n",
            "Run URL=http://54.180.86.146:9111/experi/molamola.python/exp_hpo8/run-9/run/chart\n"
          ]
        },
        {
          "output_type": "stream",
          "name": "stderr",
          "text": [
            "INFO:deepdriver:DeepDriver initialized\n",
            "Team Name=molamola.python\n",
            "Exp Name=exp_hpo8\n",
            "Run Name=run-9\n",
            "Run URL=http://54.180.86.146:9111/experi/molamola.python/exp_hpo8/run-9/run/chart\n",
            "\u001b[32m[I 2023-01-04 09:03:38,743]\u001b[0m Trial 8 finished with value: 22.17507435550752 and parameters: {'x': -2.7090417661672443}. Best is trial 5 with value: 4.250146746286816.\u001b[0m\n"
          ]
        },
        {
          "output_type": "stream",
          "name": "stdout",
          "text": [
            "2023-01-04 09:03:41,836 INFO [deepdriver] [experiment.py:25] - DeepDriver initialized\n",
            "Team Name=molamola.python\n",
            "Exp Name=exp_hpo8\n",
            "Run Name=run-10\n",
            "Run URL=http://54.180.86.146:9111/experi/molamola.python/exp_hpo8/run-10/run/chart\n"
          ]
        },
        {
          "output_type": "stream",
          "name": "stderr",
          "text": [
            "INFO:deepdriver:DeepDriver initialized\n",
            "Team Name=molamola.python\n",
            "Exp Name=exp_hpo8\n",
            "Run Name=run-10\n",
            "Run URL=http://54.180.86.146:9111/experi/molamola.python/exp_hpo8/run-10/run/chart\n",
            "\u001b[32m[I 2023-01-04 09:03:49,819]\u001b[0m Trial 9 finished with value: 62.79973418572213 and parameters: {'x': 9.924628331077876}. Best is trial 5 with value: 4.250146746286816.\u001b[0m\n"
          ]
        },
        {
          "output_type": "stream",
          "name": "stdout",
          "text": [
            "2023-01-04 09:03:52,880 INFO [deepdriver] [experiment.py:25] - DeepDriver initialized\n",
            "Team Name=molamola.python\n",
            "Exp Name=exp_hpo8\n",
            "Run Name=run-11\n",
            "Run URL=http://54.180.86.146:9111/experi/molamola.python/exp_hpo8/run-11/run/chart\n"
          ]
        },
        {
          "output_type": "stream",
          "name": "stderr",
          "text": [
            "INFO:deepdriver:DeepDriver initialized\n",
            "Team Name=molamola.python\n",
            "Exp Name=exp_hpo8\n",
            "Run Name=run-11\n",
            "Run URL=http://54.180.86.146:9111/experi/molamola.python/exp_hpo8/run-11/run/chart\n",
            "\u001b[32m[I 2023-01-04 09:04:00,906]\u001b[0m Trial 10 finished with value: 8.547962109470106 and parameters: {'x': 4.923689810747732}. Best is trial 5 with value: 4.250146746286816.\u001b[0m\n"
          ]
        },
        {
          "output_type": "stream",
          "name": "stdout",
          "text": [
            "2023-01-04 09:04:04,016 INFO [deepdriver] [experiment.py:25] - DeepDriver initialized\n",
            "Team Name=molamola.python\n",
            "Exp Name=exp_hpo8\n",
            "Run Name=run-12\n",
            "Run URL=http://54.180.86.146:9111/experi/molamola.python/exp_hpo8/run-12/run/chart\n"
          ]
        },
        {
          "output_type": "stream",
          "name": "stderr",
          "text": [
            "INFO:deepdriver:DeepDriver initialized\n",
            "Team Name=molamola.python\n",
            "Exp Name=exp_hpo8\n",
            "Run Name=run-12\n",
            "Run URL=http://54.180.86.146:9111/experi/molamola.python/exp_hpo8/run-12/run/chart\n",
            "\u001b[32m[I 2023-01-04 09:04:12,017]\u001b[0m Trial 11 finished with value: 0.05896072435360541 and parameters: {'x': 2.2428182949318387}. Best is trial 11 with value: 0.05896072435360541.\u001b[0m\n"
          ]
        },
        {
          "output_type": "stream",
          "name": "stdout",
          "text": [
            "2023-01-04 09:04:15,121 INFO [deepdriver] [experiment.py:25] - DeepDriver initialized\n",
            "Team Name=molamola.python\n",
            "Exp Name=exp_hpo8\n",
            "Run Name=run-13\n",
            "Run URL=http://54.180.86.146:9111/experi/molamola.python/exp_hpo8/run-13/run/chart\n"
          ]
        },
        {
          "output_type": "stream",
          "name": "stderr",
          "text": [
            "INFO:deepdriver:DeepDriver initialized\n",
            "Team Name=molamola.python\n",
            "Exp Name=exp_hpo8\n",
            "Run Name=run-13\n",
            "Run URL=http://54.180.86.146:9111/experi/molamola.python/exp_hpo8/run-13/run/chart\n",
            "\u001b[32m[I 2023-01-04 09:04:23,133]\u001b[0m Trial 12 finished with value: 1.6390535307483927 and parameters: {'x': 3.2802552599963777}. Best is trial 11 with value: 0.05896072435360541.\u001b[0m\n"
          ]
        },
        {
          "output_type": "stream",
          "name": "stdout",
          "text": [
            "2023-01-04 09:04:26,194 INFO [deepdriver] [experiment.py:25] - DeepDriver initialized\n",
            "Team Name=molamola.python\n",
            "Exp Name=exp_hpo8\n",
            "Run Name=run-14\n",
            "Run URL=http://54.180.86.146:9111/experi/molamola.python/exp_hpo8/run-14/run/chart\n"
          ]
        },
        {
          "output_type": "stream",
          "name": "stderr",
          "text": [
            "INFO:deepdriver:DeepDriver initialized\n",
            "Team Name=molamola.python\n",
            "Exp Name=exp_hpo8\n",
            "Run Name=run-14\n",
            "Run URL=http://54.180.86.146:9111/experi/molamola.python/exp_hpo8/run-14/run/chart\n"
          ]
        }
      ]
    },
    {
      "cell_type": "code",
      "source": [],
      "metadata": {
        "id": "tpLHu6-pA7MM"
      },
      "execution_count": null,
      "outputs": []
    }
  ]
}