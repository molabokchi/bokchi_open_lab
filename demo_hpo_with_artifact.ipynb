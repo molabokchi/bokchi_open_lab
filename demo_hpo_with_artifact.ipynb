{
  "nbformat": 4,
  "nbformat_minor": 0,
  "metadata": {
    "colab": {
      "provenance": [],
      "include_colab_link": true
    },
    "kernelspec": {
      "name": "python3",
      "display_name": "Python 3"
    },
    "language_info": {
      "name": "python"
    },
    "accelerator": "GPU",
    "gpuClass": "standard"
  },
  "cells": [
    {
      "cell_type": "markdown",
      "metadata": {
        "id": "view-in-github",
        "colab_type": "text"
      },
      "source": [
        "<a href=\"https://colab.research.google.com/github/molabokchi/bokchi_open_lab/blob/main/demo_hpo_with_artifact.ipynb\" target=\"_parent\"><img src=\"https://colab.research.google.com/assets/colab-badge.svg\" alt=\"Open In Colab\"/></a>"
      ]
    },
    {
      "cell_type": "markdown",
      "source": [
        "# ![다운로드.png](data:image/png;base64,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) deepdriver hpo quickstart!"
      ],
      "metadata": {
        "id": "ccBiuOu0rtin"
      }
    },
    {
      "cell_type": "markdown",
      "source": [
        "welecome to deepdriver! 😀"
      ],
      "metadata": {
        "id": "ZGV9WnWBrvb_"
      }
    },
    {
      "cell_type": "markdown",
      "source": [
        "You can refer to the guide document.\n",
        "https://bokchi.gitbook.io/deepdriver-ce/"
      ],
      "metadata": {
        "id": "RuepMN3Yyuu9"
      }
    },
    {
      "cell_type": "markdown",
      "source": [
        "# 0. 💻 install deepdriver & requirement package for train"
      ],
      "metadata": {
        "id": "HBGoGa3yQ1TO"
      }
    },
    {
      "cell_type": "code",
      "source": [
        "pip install tensorflow"
      ],
      "metadata": {
        "colab": {
          "base_uri": "https://localhost:8080/"
        },
        "id": "IQnFbnHdSWLN",
        "outputId": "1fb53dbf-45e1-4d90-d67e-08b869b69fbb"
      },
      "execution_count": 1,
      "outputs": [
        {
          "output_type": "stream",
          "name": "stdout",
          "text": [
            "Looking in indexes: https://pypi.org/simple, https://us-python.pkg.dev/colab-wheels/public/simple/\n",
            "Requirement already satisfied: tensorflow in /usr/local/lib/python3.8/dist-packages (2.9.2)\n",
            "Requirement already satisfied: absl-py>=1.0.0 in /usr/local/lib/python3.8/dist-packages (from tensorflow) (1.3.0)\n",
            "Requirement already satisfied: gast<=0.4.0,>=0.2.1 in /usr/local/lib/python3.8/dist-packages (from tensorflow) (0.4.0)\n",
            "Requirement already satisfied: keras-preprocessing>=1.1.1 in /usr/local/lib/python3.8/dist-packages (from tensorflow) (1.1.2)\n",
            "Requirement already satisfied: tensorflow-estimator<2.10.0,>=2.9.0rc0 in /usr/local/lib/python3.8/dist-packages (from tensorflow) (2.9.0)\n",
            "Requirement already satisfied: astunparse>=1.6.0 in /usr/local/lib/python3.8/dist-packages (from tensorflow) (1.6.3)\n",
            "Requirement already satisfied: h5py>=2.9.0 in /usr/local/lib/python3.8/dist-packages (from tensorflow) (3.1.0)\n",
            "Requirement already satisfied: termcolor>=1.1.0 in /usr/local/lib/python3.8/dist-packages (from tensorflow) (2.2.0)\n",
            "Requirement already satisfied: tensorboard<2.10,>=2.9 in /usr/local/lib/python3.8/dist-packages (from tensorflow) (2.9.1)\n",
            "Requirement already satisfied: packaging in /usr/local/lib/python3.8/dist-packages (from tensorflow) (21.3)\n",
            "Requirement already satisfied: typing-extensions>=3.6.6 in /usr/local/lib/python3.8/dist-packages (from tensorflow) (4.4.0)\n",
            "Requirement already satisfied: setuptools in /usr/local/lib/python3.8/dist-packages (from tensorflow) (57.4.0)\n",
            "Requirement already satisfied: grpcio<2.0,>=1.24.3 in /usr/local/lib/python3.8/dist-packages (from tensorflow) (1.51.1)\n",
            "Requirement already satisfied: protobuf<3.20,>=3.9.2 in /usr/local/lib/python3.8/dist-packages (from tensorflow) (3.19.6)\n",
            "Requirement already satisfied: tensorflow-io-gcs-filesystem>=0.23.1 in /usr/local/lib/python3.8/dist-packages (from tensorflow) (0.29.0)\n",
            "Requirement already satisfied: numpy>=1.20 in /usr/local/lib/python3.8/dist-packages (from tensorflow) (1.21.6)\n",
            "Requirement already satisfied: flatbuffers<2,>=1.12 in /usr/local/lib/python3.8/dist-packages (from tensorflow) (1.12)\n",
            "Requirement already satisfied: libclang>=13.0.0 in /usr/local/lib/python3.8/dist-packages (from tensorflow) (15.0.6.1)\n",
            "Requirement already satisfied: google-pasta>=0.1.1 in /usr/local/lib/python3.8/dist-packages (from tensorflow) (0.2.0)\n",
            "Requirement already satisfied: wrapt>=1.11.0 in /usr/local/lib/python3.8/dist-packages (from tensorflow) (1.14.1)\n",
            "Requirement already satisfied: opt-einsum>=2.3.2 in /usr/local/lib/python3.8/dist-packages (from tensorflow) (3.3.0)\n",
            "Requirement already satisfied: six>=1.12.0 in /usr/local/lib/python3.8/dist-packages (from tensorflow) (1.15.0)\n",
            "Requirement already satisfied: keras<2.10.0,>=2.9.0rc0 in /usr/local/lib/python3.8/dist-packages (from tensorflow) (2.9.0)\n",
            "Requirement already satisfied: wheel<1.0,>=0.23.0 in /usr/local/lib/python3.8/dist-packages (from astunparse>=1.6.0->tensorflow) (0.38.4)\n",
            "Requirement already satisfied: requests<3,>=2.21.0 in /usr/local/lib/python3.8/dist-packages (from tensorboard<2.10,>=2.9->tensorflow) (2.25.1)\n",
            "Requirement already satisfied: tensorboard-plugin-wit>=1.6.0 in /usr/local/lib/python3.8/dist-packages (from tensorboard<2.10,>=2.9->tensorflow) (1.8.1)\n",
            "Requirement already satisfied: markdown>=2.6.8 in /usr/local/lib/python3.8/dist-packages (from tensorboard<2.10,>=2.9->tensorflow) (3.4.1)\n",
            "Requirement already satisfied: tensorboard-data-server<0.7.0,>=0.6.0 in /usr/local/lib/python3.8/dist-packages (from tensorboard<2.10,>=2.9->tensorflow) (0.6.1)\n",
            "Requirement already satisfied: google-auth<3,>=1.6.3 in /usr/local/lib/python3.8/dist-packages (from tensorboard<2.10,>=2.9->tensorflow) (2.16.0)\n",
            "Requirement already satisfied: werkzeug>=1.0.1 in /usr/local/lib/python3.8/dist-packages (from tensorboard<2.10,>=2.9->tensorflow) (1.0.1)\n",
            "Requirement already satisfied: google-auth-oauthlib<0.5,>=0.4.1 in /usr/local/lib/python3.8/dist-packages (from tensorboard<2.10,>=2.9->tensorflow) (0.4.6)\n",
            "Requirement already satisfied: pyparsing!=3.0.5,>=2.0.2 in /usr/local/lib/python3.8/dist-packages (from packaging->tensorflow) (3.0.9)\n",
            "Requirement already satisfied: cachetools<6.0,>=2.0.0 in /usr/local/lib/python3.8/dist-packages (from google-auth<3,>=1.6.3->tensorboard<2.10,>=2.9->tensorflow) (5.2.1)\n",
            "Requirement already satisfied: rsa<5,>=3.1.4 in /usr/local/lib/python3.8/dist-packages (from google-auth<3,>=1.6.3->tensorboard<2.10,>=2.9->tensorflow) (4.9)\n",
            "Requirement already satisfied: pyasn1-modules>=0.2.1 in /usr/local/lib/python3.8/dist-packages (from google-auth<3,>=1.6.3->tensorboard<2.10,>=2.9->tensorflow) (0.2.8)\n",
            "Requirement already satisfied: requests-oauthlib>=0.7.0 in /usr/local/lib/python3.8/dist-packages (from google-auth-oauthlib<0.5,>=0.4.1->tensorboard<2.10,>=2.9->tensorflow) (1.3.1)\n",
            "Requirement already satisfied: importlib-metadata>=4.4 in /usr/local/lib/python3.8/dist-packages (from markdown>=2.6.8->tensorboard<2.10,>=2.9->tensorflow) (6.0.0)\n",
            "Requirement already satisfied: urllib3<1.27,>=1.21.1 in /usr/local/lib/python3.8/dist-packages (from requests<3,>=2.21.0->tensorboard<2.10,>=2.9->tensorflow) (1.24.3)\n",
            "Requirement already satisfied: certifi>=2017.4.17 in /usr/local/lib/python3.8/dist-packages (from requests<3,>=2.21.0->tensorboard<2.10,>=2.9->tensorflow) (2022.12.7)\n",
            "Requirement already satisfied: idna<3,>=2.5 in /usr/local/lib/python3.8/dist-packages (from requests<3,>=2.21.0->tensorboard<2.10,>=2.9->tensorflow) (2.10)\n",
            "Requirement already satisfied: chardet<5,>=3.0.2 in /usr/local/lib/python3.8/dist-packages (from requests<3,>=2.21.0->tensorboard<2.10,>=2.9->tensorflow) (4.0.0)\n",
            "Requirement already satisfied: zipp>=0.5 in /usr/local/lib/python3.8/dist-packages (from importlib-metadata>=4.4->markdown>=2.6.8->tensorboard<2.10,>=2.9->tensorflow) (3.11.0)\n",
            "Requirement already satisfied: pyasn1<0.5.0,>=0.4.6 in /usr/local/lib/python3.8/dist-packages (from pyasn1-modules>=0.2.1->google-auth<3,>=1.6.3->tensorboard<2.10,>=2.9->tensorflow) (0.4.8)\n",
            "Requirement already satisfied: oauthlib>=3.0.0 in /usr/local/lib/python3.8/dist-packages (from requests-oauthlib>=0.7.0->google-auth-oauthlib<0.5,>=0.4.1->tensorboard<2.10,>=2.9->tensorflow) (3.2.2)\n"
          ]
        }
      ]
    },
    {
      "cell_type": "code",
      "source": [
        "pip install deepdriver==0.5.3"
      ],
      "metadata": {
        "id": "ep81qe8Cs3oZ",
        "outputId": "5c709f02-4d16-4971-9f67-572020399b12",
        "colab": {
          "base_uri": "https://localhost:8080/"
        }
      },
      "execution_count": 2,
      "outputs": [
        {
          "output_type": "stream",
          "name": "stdout",
          "text": [
            "Looking in indexes: https://pypi.org/simple, https://us-python.pkg.dev/colab-wheels/public/simple/\n",
            "Collecting deepdriver==0.5.3\n",
            "  Downloading deepdriver-0.5.3-py3-none-any.whl (39 kB)\n",
            "Requirement already satisfied: pandas in /usr/local/lib/python3.8/dist-packages (from deepdriver==0.5.3) (1.3.5)\n",
            "Requirement already satisfied: psycopg2 in /usr/local/lib/python3.8/dist-packages (from deepdriver==0.5.3) (2.9.5)\n",
            "Collecting pynvml\n",
            "  Downloading pynvml-11.4.1-py3-none-any.whl (46 kB)\n",
            "\u001b[2K     \u001b[90m━━━━━━━━━━━━━━━━━━━━━━━━━━━━━━━━━━━━━━━━\u001b[0m \u001b[32m47.0/47.0 KB\u001b[0m \u001b[31m2.6 MB/s\u001b[0m eta \u001b[36m0:00:00\u001b[0m\n",
            "\u001b[?25hRequirement already satisfied: requests in /usr/local/lib/python3.8/dist-packages (from deepdriver==0.5.3) (2.25.1)\n",
            "Requirement already satisfied: wheel in /usr/local/lib/python3.8/dist-packages (from deepdriver==0.5.3) (0.38.4)\n",
            "Requirement already satisfied: Pillow in /usr/local/lib/python3.8/dist-packages (from deepdriver==0.5.3) (7.1.2)\n",
            "Collecting optuna\n",
            "  Downloading optuna-3.1.0-py3-none-any.whl (365 kB)\n",
            "\u001b[2K     \u001b[90m━━━━━━━━━━━━━━━━━━━━━━━━━━━━━━━━━━━━━━\u001b[0m \u001b[32m365.3/365.3 KB\u001b[0m \u001b[31m13.9 MB/s\u001b[0m eta \u001b[36m0:00:00\u001b[0m\n",
            "\u001b[?25hRequirement already satisfied: psutil in /usr/local/lib/python3.8/dist-packages (from deepdriver==0.5.3) (5.4.8)\n",
            "Requirement already satisfied: grpcio in /usr/local/lib/python3.8/dist-packages (from deepdriver==0.5.3) (1.51.1)\n",
            "Collecting grpcio-tools\n",
            "  Downloading grpcio_tools-1.51.1-cp38-cp38-manylinux_2_17_x86_64.manylinux2014_x86_64.whl (2.4 MB)\n",
            "\u001b[2K     \u001b[90m━━━━━━━━━━━━━━━━━━━━━━━━━━━━━━━━━━━━━━━━\u001b[0m \u001b[32m2.4/2.4 MB\u001b[0m \u001b[31m18.9 MB/s\u001b[0m eta \u001b[36m0:00:00\u001b[0m\n",
            "\u001b[?25hRequirement already satisfied: plotly in /usr/local/lib/python3.8/dist-packages (from deepdriver==0.5.3) (5.5.0)\n",
            "Collecting assertpy\n",
            "  Downloading assertpy-1.1.tar.gz (25 kB)\n",
            "  Preparing metadata (setup.py) ... \u001b[?25l\u001b[?25hdone\n",
            "Requirement already satisfied: numpy in /usr/local/lib/python3.8/dist-packages (from deepdriver==0.5.3) (1.21.6)\n",
            "Requirement already satisfied: setuptools in /usr/local/lib/python3.8/dist-packages (from grpcio-tools->deepdriver==0.5.3) (57.4.0)\n",
            "Collecting protobuf<5.0dev,>=4.21.6\n",
            "  Downloading protobuf-4.21.12-cp37-abi3-manylinux2014_x86_64.whl (409 kB)\n",
            "\u001b[2K     \u001b[90m━━━━━━━━━━━━━━━━━━━━━━━━━━━━━━━━━━━━━━\u001b[0m \u001b[32m409.8/409.8 KB\u001b[0m \u001b[31m42.6 MB/s\u001b[0m eta \u001b[36m0:00:00\u001b[0m\n",
            "\u001b[?25hCollecting alembic>=1.5.0\n",
            "  Downloading alembic-1.9.2-py3-none-any.whl (210 kB)\n",
            "\u001b[2K     \u001b[90m━━━━━━━━━━━━━━━━━━━━━━━━━━━━━━━━━━━━━━\u001b[0m \u001b[32m210.6/210.6 KB\u001b[0m \u001b[31m24.4 MB/s\u001b[0m eta \u001b[36m0:00:00\u001b[0m\n",
            "\u001b[?25hRequirement already satisfied: sqlalchemy>=1.3.0 in /usr/local/lib/python3.8/dist-packages (from optuna->deepdriver==0.5.3) (1.4.46)\n",
            "Requirement already satisfied: tqdm in /usr/local/lib/python3.8/dist-packages (from optuna->deepdriver==0.5.3) (4.64.1)\n",
            "Collecting cmaes>=0.9.1\n",
            "  Downloading cmaes-0.9.1-py3-none-any.whl (21 kB)\n",
            "Collecting colorlog\n",
            "  Downloading colorlog-6.7.0-py2.py3-none-any.whl (11 kB)\n",
            "Requirement already satisfied: PyYAML in /usr/local/lib/python3.8/dist-packages (from optuna->deepdriver==0.5.3) (6.0)\n",
            "Requirement already satisfied: packaging>=20.0 in /usr/local/lib/python3.8/dist-packages (from optuna->deepdriver==0.5.3) (21.3)\n",
            "Requirement already satisfied: pytz>=2017.3 in /usr/local/lib/python3.8/dist-packages (from pandas->deepdriver==0.5.3) (2022.7)\n",
            "Requirement already satisfied: python-dateutil>=2.7.3 in /usr/local/lib/python3.8/dist-packages (from pandas->deepdriver==0.5.3) (2.8.2)\n",
            "Requirement already satisfied: six in /usr/local/lib/python3.8/dist-packages (from plotly->deepdriver==0.5.3) (1.15.0)\n",
            "Requirement already satisfied: tenacity>=6.2.0 in /usr/local/lib/python3.8/dist-packages (from plotly->deepdriver==0.5.3) (8.1.0)\n",
            "Requirement already satisfied: certifi>=2017.4.17 in /usr/local/lib/python3.8/dist-packages (from requests->deepdriver==0.5.3) (2022.12.7)\n",
            "Requirement already satisfied: idna<3,>=2.5 in /usr/local/lib/python3.8/dist-packages (from requests->deepdriver==0.5.3) (2.10)\n",
            "Requirement already satisfied: chardet<5,>=3.0.2 in /usr/local/lib/python3.8/dist-packages (from requests->deepdriver==0.5.3) (4.0.0)\n",
            "Requirement already satisfied: urllib3<1.27,>=1.21.1 in /usr/local/lib/python3.8/dist-packages (from requests->deepdriver==0.5.3) (1.24.3)\n",
            "Collecting Mako\n",
            "  Downloading Mako-1.2.4-py3-none-any.whl (78 kB)\n",
            "\u001b[2K     \u001b[90m━━━━━━━━━━━━━━━━━━━━━━━━━━━━━━━━━━━━━━━━\u001b[0m \u001b[32m78.7/78.7 KB\u001b[0m \u001b[31m10.7 MB/s\u001b[0m eta \u001b[36m0:00:00\u001b[0m\n",
            "\u001b[?25hRequirement already satisfied: importlib-metadata in /usr/local/lib/python3.8/dist-packages (from alembic>=1.5.0->optuna->deepdriver==0.5.3) (6.0.0)\n",
            "Requirement already satisfied: importlib-resources in /usr/local/lib/python3.8/dist-packages (from alembic>=1.5.0->optuna->deepdriver==0.5.3) (5.10.2)\n",
            "Requirement already satisfied: pyparsing!=3.0.5,>=2.0.2 in /usr/local/lib/python3.8/dist-packages (from packaging>=20.0->optuna->deepdriver==0.5.3) (3.0.9)\n",
            "Requirement already satisfied: greenlet!=0.4.17 in /usr/local/lib/python3.8/dist-packages (from sqlalchemy>=1.3.0->optuna->deepdriver==0.5.3) (2.0.1)\n",
            "Requirement already satisfied: zipp>=0.5 in /usr/local/lib/python3.8/dist-packages (from importlib-metadata->alembic>=1.5.0->optuna->deepdriver==0.5.3) (3.11.0)\n",
            "Requirement already satisfied: MarkupSafe>=0.9.2 in /usr/local/lib/python3.8/dist-packages (from Mako->alembic>=1.5.0->optuna->deepdriver==0.5.3) (2.0.1)\n",
            "Building wheels for collected packages: assertpy\n",
            "  Building wheel for assertpy (setup.py) ... \u001b[?25l\u001b[?25hdone\n",
            "  Created wheel for assertpy: filename=assertpy-1.1-py3-none-any.whl size=42917 sha256=4f65b6e8cadfe1e1302de365bfc426d8d5bd2855bdb822527dbb47c86d2d34be\n",
            "  Stored in directory: /root/.cache/pip/wheels/57/86/c9/1310be6ddfb540daa0bf1ac204526837aa0a8b0e79f32855ff\n",
            "Successfully built assertpy\n",
            "Installing collected packages: assertpy, pynvml, protobuf, Mako, colorlog, cmaes, grpcio-tools, alembic, optuna, deepdriver\n",
            "  Attempting uninstall: protobuf\n",
            "    Found existing installation: protobuf 3.19.6\n",
            "    Uninstalling protobuf-3.19.6:\n",
            "      Successfully uninstalled protobuf-3.19.6\n",
            "\u001b[31mERROR: pip's dependency resolver does not currently take into account all the packages that are installed. This behaviour is the source of the following dependency conflicts.\n",
            "tensorflow 2.9.2 requires protobuf<3.20,>=3.9.2, but you have protobuf 4.21.12 which is incompatible.\n",
            "tensorflow-metadata 1.12.0 requires protobuf<4,>=3.13, but you have protobuf 4.21.12 which is incompatible.\n",
            "tensorboard 2.9.1 requires protobuf<3.20,>=3.9.2, but you have protobuf 4.21.12 which is incompatible.\u001b[0m\u001b[31m\n",
            "\u001b[0mSuccessfully installed Mako-1.2.4 alembic-1.9.2 assertpy-1.1 cmaes-0.9.1 colorlog-6.7.0 deepdriver-0.5.3 grpcio-tools-1.51.1 optuna-3.1.0 protobuf-4.21.12 pynvml-11.4.1\n"
          ]
        }
      ]
    },
    {
      "cell_type": "code",
      "source": [
        "pip install protobuf==3.20.0"
      ],
      "metadata": {
        "colab": {
          "base_uri": "https://localhost:8080/"
        },
        "id": "zPlF7uZyT6LN",
        "outputId": "8cbb36f8-cdb2-4350-a7c9-635f9321211b"
      },
      "execution_count": 3,
      "outputs": [
        {
          "output_type": "stream",
          "name": "stdout",
          "text": [
            "Looking in indexes: https://pypi.org/simple, https://us-python.pkg.dev/colab-wheels/public/simple/\n",
            "Collecting protobuf==3.20.0\n",
            "  Downloading protobuf-3.20.0-cp38-cp38-manylinux_2_5_x86_64.manylinux1_x86_64.whl (1.0 MB)\n",
            "\u001b[2K     \u001b[90m━━━━━━━━━━━━━━━━━━━━━━━━━━━━━━━━━━━━━━━━\u001b[0m \u001b[32m1.0/1.0 MB\u001b[0m \u001b[31m30.8 MB/s\u001b[0m eta \u001b[36m0:00:00\u001b[0m\n",
            "\u001b[?25hInstalling collected packages: protobuf\n",
            "  Attempting uninstall: protobuf\n",
            "    Found existing installation: protobuf 4.21.12\n",
            "    Uninstalling protobuf-4.21.12:\n",
            "      Successfully uninstalled protobuf-4.21.12\n",
            "\u001b[31mERROR: pip's dependency resolver does not currently take into account all the packages that are installed. This behaviour is the source of the following dependency conflicts.\n",
            "tensorflow 2.9.2 requires protobuf<3.20,>=3.9.2, but you have protobuf 3.20.0 which is incompatible.\n",
            "tensorboard 2.9.1 requires protobuf<3.20,>=3.9.2, but you have protobuf 3.20.0 which is incompatible.\n",
            "grpcio-tools 1.51.1 requires protobuf<5.0dev,>=4.21.6, but you have protobuf 3.20.0 which is incompatible.\n",
            "googleapis-common-protos 1.58.0 requires protobuf!=3.20.0,!=3.20.1,!=4.21.1,!=4.21.2,!=4.21.3,!=4.21.4,!=4.21.5,<5.0.0dev,>=3.19.5, but you have protobuf 3.20.0 which is incompatible.\n",
            "google-cloud-translate 3.8.4 requires protobuf!=3.20.0,!=3.20.1,!=4.21.0,!=4.21.1,!=4.21.2,!=4.21.3,!=4.21.4,!=4.21.5,<5.0.0dev,>=3.19.5, but you have protobuf 3.20.0 which is incompatible.\n",
            "google-cloud-language 2.6.1 requires protobuf!=3.20.0,!=3.20.1,!=4.21.0,!=4.21.1,!=4.21.2,!=4.21.3,!=4.21.4,!=4.21.5,<5.0.0dev,>=3.19.5, but you have protobuf 3.20.0 which is incompatible.\n",
            "google-cloud-firestore 2.7.3 requires protobuf!=3.20.0,!=3.20.1,!=4.21.0,!=4.21.1,!=4.21.2,!=4.21.3,!=4.21.4,!=4.21.5,<5.0.0dev,>=3.19.5, but you have protobuf 3.20.0 which is incompatible.\n",
            "google-cloud-datastore 2.11.1 requires protobuf!=3.20.0,!=3.20.1,!=4.21.0,!=4.21.1,!=4.21.2,!=4.21.3,!=4.21.4,!=4.21.5,<5.0.0dev,>=3.19.5, but you have protobuf 3.20.0 which is incompatible.\n",
            "google-cloud-bigquery 3.4.1 requires protobuf!=3.20.0,!=3.20.1,!=4.21.0,!=4.21.1,!=4.21.2,!=4.21.3,!=4.21.4,!=4.21.5,<5.0.0dev,>=3.19.5, but you have protobuf 3.20.0 which is incompatible.\n",
            "google-cloud-bigquery-storage 2.17.0 requires protobuf!=3.20.0,!=3.20.1,!=4.21.0,!=4.21.1,!=4.21.2,!=4.21.3,!=4.21.4,!=4.21.5,<5.0.0dev,>=3.19.5, but you have protobuf 3.20.0 which is incompatible.\n",
            "google-api-core 2.11.0 requires protobuf!=3.20.0,!=3.20.1,!=4.21.0,!=4.21.1,!=4.21.2,!=4.21.3,!=4.21.4,!=4.21.5,<5.0.0dev,>=3.19.5, but you have protobuf 3.20.0 which is incompatible.\u001b[0m\u001b[31m\n",
            "\u001b[0mSuccessfully installed protobuf-3.20.0\n"
          ]
        }
      ]
    },
    {
      "cell_type": "markdown",
      "source": [
        "#1. ➕ import deepdriver & deeplearnig framework\n",
        "\n"
      ],
      "metadata": {
        "id": "XHyfUGRdRGJC"
      }
    },
    {
      "cell_type": "code",
      "source": [
        "import tensorflow as tf"
      ],
      "metadata": {
        "id": "t2G8rFYSMxe8"
      },
      "execution_count": 4,
      "outputs": []
    },
    {
      "cell_type": "code",
      "source": [
        "import deepdriver"
      ],
      "metadata": {
        "id": "nMIZhc0aye6k"
      },
      "execution_count": 5,
      "outputs": []
    },
    {
      "cell_type": "markdown",
      "source": [
        "#2. prepare dataset"
      ],
      "metadata": {
        "id": "bW1624UeFQS_"
      }
    },
    {
      "cell_type": "code",
      "source": [
        "!wget --no-check-certificate \\\n",
        "https://storage.googleapis.com/mledu-datasets/cats_and_dogs_filtered.zip \\\n",
        "-O /tmp/cats_and_dogs_filtered.zip"
      ],
      "metadata": {
        "colab": {
          "base_uri": "https://localhost:8080/"
        },
        "id": "1p64rEhWJI01",
        "outputId": "5314b72f-209a-44f7-8c3a-ba51857aedd2"
      },
      "execution_count": null,
      "outputs": [
        {
          "output_type": "stream",
          "name": "stdout",
          "text": [
            "--2023-01-12 07:40:17--  https://storage.googleapis.com/mledu-datasets/cats_and_dogs_filtered.zip\n",
            "Resolving storage.googleapis.com (storage.googleapis.com)... 142.251.12.128, 172.217.194.128, 74.125.200.128, ...\n",
            "Connecting to storage.googleapis.com (storage.googleapis.com)|142.251.12.128|:443... connected.\n",
            "HTTP request sent, awaiting response... 200 OK\n",
            "Length: 68606236 (65M) [application/zip]\n",
            "Saving to: ‘/tmp/cats_and_dogs_filtered.zip’\n",
            "\n",
            "/tmp/cats_and_dogs_ 100%[===================>]  65.43M  20.9MB/s    in 3.8s    \n",
            "\n",
            "2023-01-12 07:40:21 (17.2 MB/s) - ‘/tmp/cats_and_dogs_filtered.zip’ saved [68606236/68606236]\n",
            "\n"
          ]
        }
      ]
    },
    {
      "cell_type": "code",
      "source": [
        "import os\n",
        "import zipfile\n",
        "import shutil\n",
        "\n",
        "train_dir = '/content/cat_dog/'\n",
        "if os.path.isdir(train_dir):\n",
        "  shutil.rmtree(train_dir)\n",
        "  os.mkdir(train_dir)\n",
        "else:\n",
        "  os.mkdir(train_dir)\n",
        "\n",
        "model_dir = '/content/model'\n",
        "\n",
        "if os.path.isdir(model_dir):\n",
        "  shutil.rmtree(model_dir)\n",
        "  os.mkdir(model_dir)\n",
        "else:\n",
        "  os.mkdir(model_dir)\n",
        "local_zip = '/tmp/cats_and_dogs_filtered.zip'\n",
        "data_dir ='/tmp/cats_and_dogs_filtered/train'\n",
        "data_doc_dir='/tmp/cats_and_dogs_filtered/train/dogs'\n",
        "data_cat_dir='/tmp/cats_and_dogs_filtered/train/cats'\n",
        "valid_dir ='/tmp/cats_and_dogs_filtered/validation'\n",
        "data_dog_valid_dir='/tmp/cats_and_dogs_filtered/validation/dogs'\n",
        "data_cat_valid_dir='/tmp/cats_and_dogs_filtered/validation/cats'\n",
        "zip_ref = zipfile.ZipFile(local_zip, 'r')\n",
        "\n",
        "zip_ref.extractall('/tmp')\n",
        "zip_ref.close()"
      ],
      "metadata": {
        "id": "zhLshy2aFOtU"
      },
      "execution_count": null,
      "outputs": []
    },
    {
      "cell_type": "code",
      "source": [
        "# train용 폴더 생성\n",
        "train_set_dir = os.path.join(train_dir, 'train_set')\n",
        "os.mkdir(train_set_dir)\n",
        "train_dog_dir = os.path.join(train_set_dir, 'dog')\n",
        "os.mkdir(train_dog_dir)\n",
        "train_cat_dir = os.path.join(train_set_dir, 'cat')\n",
        "os.mkdir(train_cat_dir)\n",
        "# valid용 폴더 생성\n",
        "valid_set_dir = os.path.join(train_dir, 'valid_set')\n",
        "os.mkdir(valid_set_dir)\n",
        "valid_dog_dir = os.path.join(valid_set_dir, 'dog')\n",
        "os.mkdir(valid_dog_dir)\n",
        "valid_cat_dir = os.path.join(valid_set_dir, 'cat')\n",
        "os.mkdir(valid_cat_dir)\n",
        "# test용 폴더 생성\n",
        "test_set_dir = os.path.join(train_dir, 'test_set')\n",
        "os.mkdir(test_set_dir)\n",
        "test_dog_dir = os.path.join(test_set_dir, 'dog')\n",
        "os.mkdir(test_dog_dir)\n",
        "test_cat_dir = os.path.join(test_set_dir, 'cat')\n",
        "os.mkdir(test_cat_dir)"
      ],
      "metadata": {
        "id": "v2zaZn9DJXgL"
      },
      "execution_count": null,
      "outputs": []
    },
    {
      "cell_type": "code",
      "source": [
        "# image file name list 생성\n",
        "import shutil\n",
        "total_data_count =1000\n",
        "train_data_count =int(total_data_count*0.8)\n",
        "test_data_count = int(total_data_count*0.1)\n",
        "valid_data_count =total_data_count - train_data_count -test_data_count\n",
        "dog_files = [f'dog.{i}.jpg' for i in range(total_data_count)]\n",
        "cat_files = [f'cat.{i}.jpg' for i in range(total_data_count)]\n",
        "\n",
        " \n",
        "# 각 폴더로 image 이동\n",
        "for file in dog_files[:train_data_count]:\n",
        "    src = os.path.join(data_doc_dir, file)\n",
        "    dst = os.path.join(train_dog_dir, file)\n",
        "    shutil.move(src, dst)\n",
        "    \n",
        "for file in dog_files[train_data_count:train_data_count+test_data_count]:\n",
        "    src = os.path.join(data_doc_dir, file)\n",
        "    dst = os.path.join(valid_dog_dir, file)\n",
        "    shutil.move(src, dst)\n",
        " \n",
        "for file in dog_files[train_data_count+test_data_count:total_data_count]:\n",
        "    src = os.path.join(data_doc_dir, file)\n",
        "    dst = os.path.join(test_dog_dir, file)\n",
        "    shutil.move(src, dst)\n",
        " \n",
        "for file in cat_files[:train_data_count]:\n",
        "    src = os.path.join(data_cat_dir, file)\n",
        "    dst = os.path.join(train_cat_dir, file)\n",
        "    shutil.move(src, dst)\n",
        "    \n",
        "for file in cat_files[train_data_count:train_data_count+test_data_count]:\n",
        "    src = os.path.join(data_cat_dir, file)\n",
        "    dst = os.path.join(valid_cat_dir, file)\n",
        "    shutil.move(src, dst)\n",
        " \n",
        "for file in cat_files[train_data_count+test_data_count:total_data_count]:\n",
        "    src = os.path.join(data_cat_dir, file)\n",
        "    dst = os.path.join(test_cat_dir, file)\n",
        "    shutil.move(src, dst)"
      ],
      "metadata": {
        "id": "jtZQt0odOq_U"
      },
      "execution_count": null,
      "outputs": []
    },
    {
      "cell_type": "code",
      "source": [
        "train_cat_fnames = os.listdir( train_cat_dir )\n",
        "train_dog_fnames = os.listdir( train_dog_dir )"
      ],
      "metadata": {
        "id": "zwuVLt8dRf4q"
      },
      "execution_count": null,
      "outputs": []
    },
    {
      "cell_type": "code",
      "source": [
        "print('Total training cat images :', len(os.listdir(train_cat_dir)))\n",
        "print('Total training dog images :', len(os.listdir(train_dog_dir)))\n",
        "\n",
        "print('Total validation cat images :', len(os.listdir(valid_cat_dir)))\n",
        "print('Total validation dog images :', len(os.listdir(valid_dog_dir)))\n",
        "\n",
        "\n",
        "print('Total test cat images :', len(os.listdir(test_cat_dir)))\n",
        "print('Total test dog images :', len(os.listdir(test_dog_dir)))"
      ],
      "metadata": {
        "colab": {
          "base_uri": "https://localhost:8080/"
        },
        "id": "cWtzjLavRlLj",
        "outputId": "f3140557-7fc5-49ce-c364-d9de0bcfedf0"
      },
      "execution_count": null,
      "outputs": [
        {
          "output_type": "stream",
          "name": "stdout",
          "text": [
            "Total training cat images : 800\n",
            "Total training dog images : 800\n",
            "Total validation cat images : 100\n",
            "Total validation dog images : 100\n",
            "Total test cat images : 100\n",
            "Total test dog images : 100\n"
          ]
        }
      ]
    },
    {
      "cell_type": "markdown",
      "source": [
        "#2. ⚙ deepdriver server setting"
      ],
      "metadata": {
        "id": "FG0DGtb2VhXU"
      }
    },
    {
      "cell_type": "code",
      "source": [
        "deepdriver.setting(http_host=\"54.180.86.146:9011\" ,grpc_host=\"54.180.86.146:19051\")"
      ],
      "metadata": {
        "id": "XDfF___IVcC2"
      },
      "execution_count": 6,
      "outputs": []
    },
    {
      "cell_type": "markdown",
      "source": [
        "#3. 🔌 log in to deepdriver"
      ],
      "metadata": {
        "id": "36Y_KWmfRYwQ"
      }
    },
    {
      "cell_type": "code",
      "source": [
        "deepdriver.login(key=\"ZmIyNWQxNGJkMzUxYTVjODQ2NjM5NTgzOTM0YTM2OGE2ZmJiY2M2MWMwOWQ0OWFkNjU2YzNkM2UxMjA0YTVkZg==\")"
      ],
      "metadata": {
        "id": "hF3GenoNsaBQ",
        "outputId": "dcc804cf-9bc5-4e76-9216-9bbf251ffaba",
        "colab": {
          "base_uri": "https://localhost:8080/"
        }
      },
      "execution_count": 7,
      "outputs": [
        {
          "output_type": "execute_result",
          "data": {
            "text/plain": [
              "True"
            ]
          },
          "metadata": {},
          "execution_count": 7
        }
      ]
    },
    {
      "cell_type": "code",
      "source": [],
      "metadata": {
        "id": "qTfhH_Gx5Mvr"
      },
      "execution_count": null,
      "outputs": []
    },
    {
      "cell_type": "markdown",
      "source": [
        "#4. 🥼 create hpo"
      ],
      "metadata": {
        "id": "gWafO8QnRpc1"
      }
    },
    {
      "cell_type": "code",
      "source": [
        "experiment_name=\"cat_dog_cnn_hpo_exp4\""
      ],
      "metadata": {
        "id": "6dW_6K0Pq2xm"
      },
      "execution_count": 8,
      "outputs": []
    },
    {
      "cell_type": "code",
      "source": [
        "hpo_configuration = {\n",
        "    \"metric\": {\"name\": \"accuracy\", \"goal\": \"maximize\"},\n",
        "    \"method\": \"grid\",\n",
        "    \"parameters\": {\n",
        "        \"batch_size\": {\n",
        "            \"values\": [32,64,128]\n",
        "        },\n",
        "        \"learning_rate\": {\n",
        "            \"values\": [10e-1,10e-2,10e-3,10e-4,10e-5]\n",
        "        },\n",
        "        \"hidden_layer\":{\n",
        "            \"values\": [32,64,128]\n",
        "        },\n",
        "        \"epoch\" :{\n",
        "            \"values\": [10]\n",
        "        }\n",
        "\n",
        "    }\n",
        "}"
      ],
      "metadata": {
        "id": "Mm23Iq3NXa7x"
      },
      "execution_count": 9,
      "outputs": []
    },
    {
      "cell_type": "code",
      "source": [
        "# experiment init & config hyperparam\n",
        "deepdriver.create_hpo(exp_name= experiment_name,hpo_config= hpo_configuration)"
      ],
      "metadata": {
        "id": "z93NrRBUsvDm",
        "outputId": "716345c6-8dab-463f-9152-2e76d7c3caa2",
        "colab": {
          "base_uri": "https://localhost:8080/"
        }
      },
      "execution_count": 10,
      "outputs": [
        {
          "output_type": "stream",
          "name": "stdout",
          "text": [
            "HPO initialized\n",
            "Team Name=molamola.python\n",
            "Exp Name=cat_dog_cnn_hpo_exp4\n",
            "Exp Url=/experi/molamola.python/cat_dog_cnn_hpo_exp4/exp/chart\n",
            "optuna study aleady exist !\n"
          ]
        },
        {
          "output_type": "execute_result",
          "data": {
            "text/plain": [
              "('success', 526)"
            ]
          },
          "metadata": {},
          "execution_count": 10
        }
      ]
    },
    {
      "cell_type": "markdown",
      "source": [
        "#5. 📚 train your code and send log"
      ],
      "metadata": {
        "id": "CNDciDDURuZ6"
      }
    },
    {
      "cell_type": "markdown",
      "source": [
        "make model"
      ],
      "metadata": {
        "id": "wbFA68eYps1D"
      }
    },
    {
      "cell_type": "code",
      "source": [
        "def define_model(hidden_layer, learning_rate):\n",
        "\n",
        "  model = tf.keras.models.Sequential([\n",
        "    tf.keras.layers.Conv2D(16, (3,3), activation='relu', input_shape=(150, 150, 3)),\n",
        "    tf.keras.layers.MaxPooling2D(2,2),\n",
        "    tf.keras.layers.Conv2D(32, (3,3), activation='relu'),\n",
        "    tf.keras.layers.MaxPooling2D(2,2),\n",
        "    tf.keras.layers.Conv2D(64, (3,3), activation='relu'),\n",
        "    tf.keras.layers.MaxPooling2D(2,2),\n",
        "    tf.keras.layers.Flatten(),\n",
        "    tf.keras.layers.Dense(hidden_layer, activation='relu'),\n",
        "    tf.keras.layers.Dense(1, activation='sigmoid')\n",
        "  ])\n",
        "  from tensorflow.keras.optimizers import RMSprop\n",
        "\n",
        "  model.compile(optimizer=RMSprop(lr=learning_rate),\n",
        "            loss='binary_crossentropy',\n",
        "            metrics = ['accuracy'])\n",
        "  return model"
      ],
      "metadata": {
        "id": "335yovudanHT"
      },
      "execution_count": 11,
      "outputs": []
    },
    {
      "cell_type": "code",
      "source": [
        "def prepare_data(batch_size):\n",
        "  from tensorflow.keras.preprocessing.image import ImageDataGenerator\n",
        "\n",
        "  train_datagen = ImageDataGenerator( rescale = 1.0/255. )\n",
        "  test_datagen  = ImageDataGenerator( rescale = 1.0/255. )\n",
        "  valid_datagen  = ImageDataGenerator( rescale = 1.0/255. )\n",
        "\n",
        "  train_generator = train_datagen.flow_from_directory(train_set_dir,\n",
        "                                                    batch_size=batch_size,\n",
        "                                                    class_mode='binary',\n",
        "                                                    target_size=(150, 150))\n",
        "  validation_generator =  valid_datagen.flow_from_directory(valid_set_dir,\n",
        "                                                        batch_size=batch_size,\n",
        "                                                        class_mode  = 'binary',\n",
        "                                                        target_size = (150, 150))\n",
        "\n",
        "  test_generator =  test_datagen.flow_from_directory(test_set_dir,\n",
        "                                                        batch_size=batch_size,\n",
        "                                                        class_mode  = 'binary',\n",
        "                                                        target_size = (150, 150))\n",
        "  return train_generator, validation_generator, test_generator"
      ],
      "metadata": {
        "id": "beFx8bZya61B"
      },
      "execution_count": 12,
      "outputs": []
    },
    {
      "cell_type": "code",
      "source": [
        "def train():\n",
        "  import tensorflow as tf \n",
        "  print(deepdriver.config.Items())\n",
        "  model = define_model(deepdriver.config.hidden_layer, deepdriver.config.learning_rate)\n",
        "  \n",
        "  train_generator, validation_generator, test_generator = prepare_data(deepdriver.config.batch_size)\n",
        "\n",
        "  class CustomCallback(tf.keras.callbacks.Callback):\n",
        "\n",
        "    # def on_train_end(self, logs=None):\n",
        "    #     keys = list(logs.keys())\n",
        "    #     deepdriver.finish()\n",
        "\n",
        "    def on_epoch_end(self, epoch, logs=None):\n",
        "        keys = list(logs.keys())\n",
        "        deepdriver.log({\"acc\": logs[\"accuracy\"], \"loss\": logs[\"loss\"], \"val_acc\": logs[\"val_accuracy\"], \"val_loss\": logs[\"val_loss\"]})\n",
        "        #deepdriver.log(logs)\n",
        "\n",
        "  steps_per_epoch = train_generator.n//deepdriver.config.batch_size\n",
        "  validation_steps = validation_generator.n//deepdriver.config.batch_size\n",
        "\n",
        "  history = model.fit(train_generator,\n",
        "                    validation_data=validation_generator,\n",
        "                    steps_per_epoch=steps_per_epoch,\n",
        "                    epochs=deepdriver.config.epoch,\n",
        "                    validation_steps=validation_steps ,\n",
        "                    callbacks=[CustomCallback()],\n",
        "                    verbose=2)\n",
        "  result = model.evaluate(test_generator)\n",
        "  result_dict =dict(zip(model.metrics_names, result))\n",
        "  print(result_dict)\n",
        "  return result_dict[\"accuracy\"]\n"
      ],
      "metadata": {
        "id": "I817oYvyaNWv"
      },
      "execution_count": null,
      "outputs": []
    },
    {
      "cell_type": "code",
      "source": [
        " deepdriver.run_hpo(exp_name=experiment_name, func=train, count=10)"
      ],
      "metadata": {
        "colab": {
          "base_uri": "https://localhost:8080/"
        },
        "id": "f4GuWFXW1rHX",
        "outputId": "cfcd41fb-1b4b-419e-e8c5-5f724582cf02"
      },
      "execution_count": null,
      "outputs": [
        {
          "output_type": "stream",
          "name": "stdout",
          "text": [
            "DeepDriver initialized\n",
            "Team Name=molamola.python\n",
            "Exp Name=cat_dog_cnn_hpo_exp4\n",
            "Run Name=run-1\n",
            "Run URL=http://54.180.86.146:9111/experi/molamola.python/cat_dog_cnn_hpo_exp4/run-1/run/chart\n",
            "[('batch_size', 128), ('learning_rate', 0.1), ('hidden_layer', 128), ('epoch', 10)]\n",
            "Found 1600 images belonging to 2 classes.\n",
            "Found 200 images belonging to 2 classes.\n",
            "Found 200 images belonging to 2 classes.\n"
          ]
        },
        {
          "output_type": "stream",
          "name": "stderr",
          "text": [
            "/usr/local/lib/python3.8/dist-packages/keras/optimizers/optimizer_v2/rmsprop.py:135: UserWarning: The `lr` argument is deprecated, use `learning_rate` instead.\n",
            "  super(RMSprop, self).__init__(name, **kwargs)\n"
          ]
        },
        {
          "output_type": "stream",
          "name": "stdout",
          "text": [
            "Epoch 1/10\n",
            "12/12 - 7s - loss: 2976978.5000 - accuracy: 0.4891 - val_loss: 0.7512 - val_accuracy: 0.4688 - 7s/epoch - 543ms/step\n",
            "Epoch 2/10\n",
            "12/12 - 5s - loss: 0.7249 - accuracy: 0.4851 - val_loss: 0.7153 - val_accuracy: 0.4609 - 5s/epoch - 438ms/step\n",
            "Epoch 3/10\n",
            "12/12 - 5s - loss: 0.7190 - accuracy: 0.4925 - val_loss: 0.7246 - val_accuracy: 0.5078 - 5s/epoch - 433ms/step\n",
            "Epoch 4/10\n",
            "12/12 - 5s - loss: 0.7510 - accuracy: 0.5027 - val_loss: 0.7255 - val_accuracy: 0.4922 - 5s/epoch - 429ms/step\n",
            "Epoch 5/10\n",
            "12/12 - 5s - loss: 0.7293 - accuracy: 0.5170 - val_loss: 0.7244 - val_accuracy: 0.5156 - 5s/epoch - 436ms/step\n",
            "Epoch 6/10\n",
            "12/12 - 5s - loss: 0.7351 - accuracy: 0.4939 - val_loss: 0.7380 - val_accuracy: 0.4922 - 5s/epoch - 444ms/step\n",
            "Epoch 7/10\n",
            "12/12 - 5s - loss: 0.7107 - accuracy: 0.5061 - val_loss: 0.7746 - val_accuracy: 0.4297 - 5s/epoch - 434ms/step\n",
            "Epoch 8/10\n",
            "12/12 - 5s - loss: 0.7312 - accuracy: 0.4966 - val_loss: 0.7871 - val_accuracy: 0.4766 - 5s/epoch - 435ms/step\n",
            "Epoch 9/10\n",
            "12/12 - 5s - loss: 0.7462 - accuracy: 0.4667 - val_loss: 0.7938 - val_accuracy: 0.5078 - 5s/epoch - 441ms/step\n",
            "Epoch 10/10\n",
            "12/12 - 5s - loss: 0.7638 - accuracy: 0.4759 - val_loss: 0.7598 - val_accuracy: 0.4766 - 5s/epoch - 437ms/step\n",
            "2/2 [==============================] - 1s 199ms/step - loss: 0.7440 - accuracy: 0.5000\n",
            "{'loss': 0.7439706325531006, 'accuracy': 0.5}\n"
          ]
        },
        {
          "output_type": "stream",
          "name": "stderr",
          "text": [
            "\u001b[32m[I 2023-01-12 07:42:00,624]\u001b[0m Trial 0 finished with value: 0.5 and parameters: {'batch_size': 128, 'learning_rate': 0.1, 'hidden_layer': 128, 'epoch': 10}. Best is trial 0 with value: 0.5.\u001b[0m\n"
          ]
        },
        {
          "output_type": "stream",
          "name": "stdout",
          "text": [
            "DeepDriver initialized\n",
            "Team Name=molamola.python\n",
            "Exp Name=cat_dog_cnn_hpo_exp4\n",
            "Run Name=run-2\n",
            "Run URL=http://54.180.86.146:9111/experi/molamola.python/cat_dog_cnn_hpo_exp4/run-2/run/chart\n",
            "[('batch_size', 128), ('learning_rate', 1.0), ('hidden_layer', 128), ('epoch', 10)]\n",
            "Found 1600 images belonging to 2 classes.\n",
            "Found 200 images belonging to 2 classes.\n",
            "Found 200 images belonging to 2 classes.\n",
            "Epoch 1/10\n",
            "12/12 - 6s - loss: 74789634048.0000 - accuracy: 0.5156 - val_loss: 47.8825 - val_accuracy: 0.4531 - 6s/epoch - 536ms/step\n",
            "Epoch 2/10\n",
            "12/12 - 5s - loss: 904.0599 - accuracy: 0.5115 - val_loss: 23.3131 - val_accuracy: 0.5078 - 5s/epoch - 431ms/step\n",
            "Epoch 3/10\n",
            "12/12 - 5s - loss: 723.1649 - accuracy: 0.5183 - val_loss: 0.7111 - val_accuracy: 0.4922 - 5s/epoch - 433ms/step\n",
            "Epoch 4/10\n",
            "12/12 - 5s - loss: 487.0511 - accuracy: 0.5027 - val_loss: 1.8769 - val_accuracy: 0.5312 - 5s/epoch - 438ms/step\n",
            "Epoch 5/10\n",
            "12/12 - 5s - loss: 172.6395 - accuracy: 0.5163 - val_loss: 27.5390 - val_accuracy: 0.4609 - 5s/epoch - 432ms/step\n",
            "Epoch 6/10\n",
            "12/12 - 5s - loss: 16.0784 - accuracy: 0.5048 - val_loss: 8.6389 - val_accuracy: 0.4844 - 5s/epoch - 439ms/step\n",
            "Epoch 7/10\n",
            "12/12 - 5s - loss: 12.3926 - accuracy: 0.5143 - val_loss: 9.5489 - val_accuracy: 0.5078 - 5s/epoch - 438ms/step\n",
            "Epoch 8/10\n",
            "12/12 - 5s - loss: 10.7241 - accuracy: 0.5109 - val_loss: 14.6317 - val_accuracy: 0.5078 - 5s/epoch - 436ms/step\n",
            "Epoch 9/10\n",
            "12/12 - 5s - loss: 9.7923 - accuracy: 0.5095 - val_loss: 13.8171 - val_accuracy: 0.5234 - 5s/epoch - 430ms/step\n",
            "Epoch 10/10\n",
            "12/12 - 5s - loss: 9.4536 - accuracy: 0.5095 - val_loss: 11.4319 - val_accuracy: 0.5078 - 5s/epoch - 430ms/step\n",
            "2/2 [==============================] - 1s 197ms/step - loss: 4410.7993 - accuracy: 0.5000\n",
            "{'loss': 4410.79931640625, 'accuracy': 0.5}\n"
          ]
        },
        {
          "output_type": "stream",
          "name": "stderr",
          "text": [
            "\u001b[32m[I 2023-01-12 07:43:28,240]\u001b[0m Trial 1 finished with value: 0.5 and parameters: {'batch_size': 128, 'learning_rate': 1.0, 'hidden_layer': 128, 'epoch': 10}. Best is trial 0 with value: 0.5.\u001b[0m\n"
          ]
        },
        {
          "output_type": "stream",
          "name": "stdout",
          "text": [
            "DeepDriver initialized\n",
            "Team Name=molamola.python\n",
            "Exp Name=cat_dog_cnn_hpo_exp4\n",
            "Run Name=run-3\n",
            "Run URL=http://54.180.86.146:9111/experi/molamola.python/cat_dog_cnn_hpo_exp4/run-3/run/chart\n",
            "[('batch_size', 32), ('learning_rate', 0.1), ('hidden_layer', 32), ('epoch', 10)]\n",
            "Found 1600 images belonging to 2 classes.\n",
            "Found 200 images belonging to 2 classes.\n",
            "Found 200 images belonging to 2 classes.\n",
            "Epoch 1/10\n",
            "50/50 - 6s - loss: 194482.9219 - accuracy: 0.4837 - val_loss: 0.6931 - val_accuracy: 0.5104 - 6s/epoch - 126ms/step\n",
            "Epoch 2/10\n",
            "50/50 - 5s - loss: 0.6939 - accuracy: 0.5250 - val_loss: 0.7252 - val_accuracy: 0.4948 - 5s/epoch - 108ms/step\n",
            "Epoch 3/10\n",
            "50/50 - 5s - loss: 0.7008 - accuracy: 0.4800 - val_loss: 0.6935 - val_accuracy: 0.5000 - 5s/epoch - 109ms/step\n",
            "Epoch 4/10\n",
            "50/50 - 5s - loss: 0.6957 - accuracy: 0.5213 - val_loss: 0.6974 - val_accuracy: 0.4948 - 5s/epoch - 109ms/step\n",
            "Epoch 5/10\n",
            "50/50 - 5s - loss: 0.6970 - accuracy: 0.4913 - val_loss: 0.6930 - val_accuracy: 0.5104 - 5s/epoch - 110ms/step\n",
            "Epoch 6/10\n",
            "50/50 - 5s - loss: 0.6982 - accuracy: 0.4913 - val_loss: 0.6942 - val_accuracy: 0.5052 - 5s/epoch - 108ms/step\n",
            "Epoch 7/10\n",
            "50/50 - 5s - loss: 0.6987 - accuracy: 0.4863 - val_loss: 0.6934 - val_accuracy: 0.4948 - 5s/epoch - 108ms/step\n",
            "Epoch 8/10\n",
            "50/50 - 5s - loss: 0.6956 - accuracy: 0.4913 - val_loss: 0.6938 - val_accuracy: 0.5104 - 5s/epoch - 108ms/step\n",
            "Epoch 9/10\n",
            "50/50 - 8s - loss: 0.6959 - accuracy: 0.4988 - val_loss: 0.6934 - val_accuracy: 0.5104 - 8s/epoch - 154ms/step\n",
            "Epoch 10/10\n",
            "50/50 - 5s - loss: 0.6956 - accuracy: 0.4850 - val_loss: 0.6932 - val_accuracy: 0.5052 - 5s/epoch - 107ms/step\n",
            "7/7 [==============================] - 1s 83ms/step - loss: 0.6935 - accuracy: 0.5000\n",
            "{'loss': 0.6935267448425293, 'accuracy': 0.5}\n"
          ]
        },
        {
          "output_type": "stream",
          "name": "stderr",
          "text": [
            "\u001b[32m[I 2023-01-12 07:44:44,053]\u001b[0m Trial 2 finished with value: 0.5 and parameters: {'batch_size': 32, 'learning_rate': 0.1, 'hidden_layer': 32, 'epoch': 10}. Best is trial 0 with value: 0.5.\u001b[0m\n"
          ]
        },
        {
          "output_type": "stream",
          "name": "stdout",
          "text": [
            "DeepDriver initialized\n",
            "Team Name=molamola.python\n",
            "Exp Name=cat_dog_cnn_hpo_exp4\n",
            "Run Name=run-4\n",
            "Run URL=http://54.180.86.146:9111/experi/molamola.python/cat_dog_cnn_hpo_exp4/run-4/run/chart\n",
            "[('batch_size', 128), ('learning_rate', 0.001), ('hidden_layer', 64), ('epoch', 10)]\n",
            "Found 1600 images belonging to 2 classes.\n",
            "Found 200 images belonging to 2 classes.\n",
            "Found 200 images belonging to 2 classes.\n",
            "Epoch 1/10\n",
            "12/12 - 6s - loss: 0.9484 - accuracy: 0.5027 - val_loss: 0.6731 - val_accuracy: 0.5703 - 6s/epoch - 526ms/step\n",
            "Epoch 2/10\n",
            "12/12 - 5s - loss: 0.6837 - accuracy: 0.5530 - val_loss: 0.6772 - val_accuracy: 0.6328 - 5s/epoch - 428ms/step\n",
            "Epoch 3/10\n",
            "12/12 - 5s - loss: 0.6657 - accuracy: 0.6264 - val_loss: 0.6531 - val_accuracy: 0.6328 - 5s/epoch - 431ms/step\n",
            "Epoch 4/10\n",
            "12/12 - 5s - loss: 0.6597 - accuracy: 0.6182 - val_loss: 0.6361 - val_accuracy: 0.7266 - 5s/epoch - 437ms/step\n",
            "Epoch 5/10\n",
            "12/12 - 5s - loss: 0.6361 - accuracy: 0.6488 - val_loss: 0.6374 - val_accuracy: 0.6328 - 5s/epoch - 438ms/step\n",
            "Epoch 6/10\n",
            "12/12 - 5s - loss: 0.6019 - accuracy: 0.6841 - val_loss: 0.6109 - val_accuracy: 0.6328 - 5s/epoch - 431ms/step\n",
            "Epoch 7/10\n",
            "12/12 - 5s - loss: 0.5791 - accuracy: 0.6990 - val_loss: 0.5953 - val_accuracy: 0.6641 - 5s/epoch - 432ms/step\n",
            "Epoch 8/10\n",
            "12/12 - 5s - loss: 0.6009 - accuracy: 0.6977 - val_loss: 0.5707 - val_accuracy: 0.7031 - 5s/epoch - 431ms/step\n",
            "Epoch 9/10\n",
            "12/12 - 5s - loss: 0.5448 - accuracy: 0.7174 - val_loss: 0.5273 - val_accuracy: 0.7266 - 5s/epoch - 430ms/step\n",
            "Epoch 10/10\n",
            "12/12 - 5s - loss: 0.5201 - accuracy: 0.7371 - val_loss: 0.5803 - val_accuracy: 0.6719 - 5s/epoch - 431ms/step\n",
            "2/2 [==============================] - 1s 197ms/step - loss: 0.5759 - accuracy: 0.7050\n",
            "{'loss': 0.5759001970291138, 'accuracy': 0.7049999833106995}\n"
          ]
        },
        {
          "output_type": "stream",
          "name": "stderr",
          "text": [
            "\u001b[32m[I 2023-01-12 07:46:06,559]\u001b[0m Trial 3 finished with value: 0.7049999833106995 and parameters: {'batch_size': 128, 'learning_rate': 0.001, 'hidden_layer': 64, 'epoch': 10}. Best is trial 3 with value: 0.7049999833106995.\u001b[0m\n"
          ]
        },
        {
          "output_type": "stream",
          "name": "stdout",
          "text": [
            "DeepDriver initialized\n",
            "Team Name=molamola.python\n",
            "Exp Name=cat_dog_cnn_hpo_exp4\n",
            "Run Name=run-5\n",
            "Run URL=http://54.180.86.146:9111/experi/molamola.python/cat_dog_cnn_hpo_exp4/run-5/run/chart\n",
            "[('batch_size', 32), ('learning_rate', 1.0), ('hidden_layer', 128), ('epoch', 10)]\n",
            "Found 1600 images belonging to 2 classes.\n",
            "Found 200 images belonging to 2 classes.\n",
            "Found 200 images belonging to 2 classes.\n",
            "Epoch 1/10\n",
            "50/50 - 6s - loss: 11231314944.0000 - accuracy: 0.5088 - val_loss: 0.6920 - val_accuracy: 0.5052 - 6s/epoch - 128ms/step\n",
            "Epoch 2/10\n",
            "50/50 - 5s - loss: 14123.1240 - accuracy: 0.4731 - val_loss: 0.7523 - val_accuracy: 0.4948 - 5s/epoch - 109ms/step\n",
            "Epoch 3/10\n",
            "50/50 - 5s - loss: 0.7335 - accuracy: 0.4944 - val_loss: 0.7301 - val_accuracy: 0.5000 - 5s/epoch - 108ms/step\n",
            "Epoch 4/10\n",
            "50/50 - 5s - loss: 0.7384 - accuracy: 0.4988 - val_loss: 0.7071 - val_accuracy: 0.5052 - 5s/epoch - 107ms/step\n",
            "Epoch 5/10\n",
            "50/50 - 5s - loss: 0.7326 - accuracy: 0.4950 - val_loss: 0.7812 - val_accuracy: 0.5052 - 5s/epoch - 108ms/step\n",
            "Epoch 6/10\n",
            "50/50 - 5s - loss: 0.7318 - accuracy: 0.5025 - val_loss: 0.6930 - val_accuracy: 0.5104 - 5s/epoch - 109ms/step\n",
            "Epoch 7/10\n",
            "50/50 - 5s - loss: 0.7410 - accuracy: 0.4837 - val_loss: 0.7647 - val_accuracy: 0.5052 - 5s/epoch - 109ms/step\n",
            "Epoch 8/10\n",
            "50/50 - 5s - loss: 0.7231 - accuracy: 0.5194 - val_loss: 0.7662 - val_accuracy: 0.5000 - 5s/epoch - 109ms/step\n",
            "Epoch 9/10\n",
            "50/50 - 6s - loss: 0.7328 - accuracy: 0.5019 - val_loss: 0.7583 - val_accuracy: 0.5156 - 6s/epoch - 110ms/step\n",
            "Epoch 10/10\n",
            "50/50 - 5s - loss: 0.7314 - accuracy: 0.5113 - val_loss: 0.7335 - val_accuracy: 0.5000 - 5s/epoch - 109ms/step\n",
            "7/7 [==============================] - 1s 81ms/step - loss: 0.7335 - accuracy: 0.5000\n",
            "{'loss': 0.7335252165794373, 'accuracy': 0.5}\n"
          ]
        },
        {
          "output_type": "stream",
          "name": "stderr",
          "text": [
            "\u001b[32m[I 2023-01-12 07:47:10,705]\u001b[0m Trial 4 finished with value: 0.5 and parameters: {'batch_size': 32, 'learning_rate': 1.0, 'hidden_layer': 128, 'epoch': 10}. Best is trial 3 with value: 0.7049999833106995.\u001b[0m\n"
          ]
        },
        {
          "output_type": "stream",
          "name": "stdout",
          "text": [
            "DeepDriver initialized\n",
            "Team Name=molamola.python\n",
            "Exp Name=cat_dog_cnn_hpo_exp4\n",
            "Run Name=run-6\n",
            "Run URL=http://54.180.86.146:9111/experi/molamola.python/cat_dog_cnn_hpo_exp4/run-6/run/chart\n",
            "[('batch_size', 128), ('learning_rate', 1.0), ('hidden_layer', 128), ('epoch', 10)]\n",
            "Found 1600 images belonging to 2 classes.\n",
            "Found 200 images belonging to 2 classes.\n",
            "Found 200 images belonging to 2 classes.\n",
            "Epoch 1/10\n",
            "12/12 - 6s - loss: 45290471424.0000 - accuracy: 0.4823 - val_loss: 5582.3403 - val_accuracy: 0.4453 - 6s/epoch - 530ms/step\n",
            "Epoch 2/10\n",
            "12/12 - 5s - loss: 1205.0889 - accuracy: 0.4823 - val_loss: 333.0693 - val_accuracy: 0.4922 - 5s/epoch - 432ms/step\n",
            "Epoch 3/10\n",
            "12/12 - 5s - loss: 75.8510 - accuracy: 0.5156 - val_loss: 0.6954 - val_accuracy: 0.4922 - 5s/epoch - 435ms/step\n",
            "Epoch 4/10\n",
            "12/12 - 5s - loss: 708.8008 - accuracy: 0.5034 - val_loss: 2.4356 - val_accuracy: 0.4766 - 5s/epoch - 435ms/step\n",
            "Epoch 5/10\n",
            "12/12 - 5s - loss: 1.0348 - accuracy: 0.5068 - val_loss: 0.6928 - val_accuracy: 0.5156 - 5s/epoch - 437ms/step\n",
            "Epoch 6/10\n",
            "12/12 - 5s - loss: 0.7030 - accuracy: 0.4891 - val_loss: 0.6966 - val_accuracy: 0.4922 - 5s/epoch - 435ms/step\n",
            "Epoch 7/10\n",
            "12/12 - 5s - loss: 0.7288 - accuracy: 0.4783 - val_loss: 0.7664 - val_accuracy: 0.4688 - 5s/epoch - 435ms/step\n",
            "Epoch 8/10\n",
            "12/12 - 5s - loss: 0.7230 - accuracy: 0.4939 - val_loss: 0.7003 - val_accuracy: 0.5078 - 5s/epoch - 440ms/step\n",
            "Epoch 9/10\n",
            "12/12 - 5s - loss: 0.7195 - accuracy: 0.5000 - val_loss: 0.6972 - val_accuracy: 0.5312 - 5s/epoch - 435ms/step\n",
            "Epoch 10/10\n",
            "12/12 - 5s - loss: 0.7228 - accuracy: 0.4952 - val_loss: 0.7622 - val_accuracy: 0.4688 - 5s/epoch - 432ms/step\n",
            "2/2 [==============================] - 1s 207ms/step - loss: 0.7424 - accuracy: 0.5000\n",
            "{'loss': 0.7423913478851318, 'accuracy': 0.5}\n"
          ]
        },
        {
          "output_type": "stream",
          "name": "stderr",
          "text": [
            "\u001b[32m[I 2023-01-12 07:48:48,013]\u001b[0m Trial 5 finished with value: 0.5 and parameters: {'batch_size': 128, 'learning_rate': 1.0, 'hidden_layer': 128, 'epoch': 10}. Best is trial 3 with value: 0.7049999833106995.\u001b[0m\n"
          ]
        },
        {
          "output_type": "stream",
          "name": "stdout",
          "text": [
            "DeepDriver initialized\n",
            "Team Name=molamola.python\n",
            "Exp Name=cat_dog_cnn_hpo_exp4\n",
            "Run Name=run-7\n",
            "Run URL=http://54.180.86.146:9111/experi/molamola.python/cat_dog_cnn_hpo_exp4/run-7/run/chart\n",
            "[('batch_size', 64), ('learning_rate', 0.01), ('hidden_layer', 128), ('epoch', 10)]\n",
            "Found 1600 images belonging to 2 classes.\n",
            "Found 200 images belonging to 2 classes.\n",
            "Found 200 images belonging to 2 classes.\n",
            "Epoch 1/10\n",
            "25/25 - 6s - loss: 10.3975 - accuracy: 0.5175 - val_loss: 0.6877 - val_accuracy: 0.5312 - 6s/epoch - 257ms/step\n",
            "Epoch 2/10\n",
            "25/25 - 5s - loss: 0.7245 - accuracy: 0.5275 - val_loss: 1.2091 - val_accuracy: 0.4896 - 5s/epoch - 215ms/step\n",
            "Epoch 3/10\n",
            "25/25 - 5s - loss: 0.7314 - accuracy: 0.4969 - val_loss: 0.6949 - val_accuracy: 0.5052 - 5s/epoch - 215ms/step\n",
            "Epoch 4/10\n",
            "25/25 - 5s - loss: 0.8560 - accuracy: 0.5175 - val_loss: 0.6962 - val_accuracy: 0.4948 - 5s/epoch - 216ms/step\n",
            "Epoch 5/10\n",
            "25/25 - 5s - loss: 0.6946 - accuracy: 0.4981 - val_loss: 0.6935 - val_accuracy: 0.5000 - 5s/epoch - 217ms/step\n",
            "Epoch 6/10\n",
            "25/25 - 5s - loss: 0.7032 - accuracy: 0.5144 - val_loss: 0.6929 - val_accuracy: 0.5104 - 5s/epoch - 219ms/step\n",
            "Epoch 7/10\n",
            "25/25 - 6s - loss: 0.6977 - accuracy: 0.5000 - val_loss: 0.6933 - val_accuracy: 0.5000 - 6s/epoch - 251ms/step\n",
            "Epoch 8/10\n",
            "25/25 - 5s - loss: 0.7393 - accuracy: 0.5106 - val_loss: 0.6932 - val_accuracy: 0.5000 - 5s/epoch - 218ms/step\n",
            "Epoch 9/10\n",
            "25/25 - 5s - loss: 0.7319 - accuracy: 0.5100 - val_loss: 3.1389 - val_accuracy: 0.5156 - 5s/epoch - 219ms/step\n",
            "Epoch 10/10\n",
            "25/25 - 5s - loss: 0.8013 - accuracy: 0.4956 - val_loss: 0.6935 - val_accuracy: 0.4896 - 5s/epoch - 219ms/step\n",
            "4/4 [==============================] - 1s 137ms/step - loss: 0.6932 - accuracy: 0.5000\n",
            "{'loss': 0.6931877732276917, 'accuracy': 0.5}\n"
          ]
        },
        {
          "output_type": "stream",
          "name": "stderr",
          "text": [
            "\u001b[32m[I 2023-01-12 07:49:57,861]\u001b[0m Trial 6 finished with value: 0.5 and parameters: {'batch_size': 64, 'learning_rate': 0.01, 'hidden_layer': 128, 'epoch': 10}. Best is trial 3 with value: 0.7049999833106995.\u001b[0m\n"
          ]
        },
        {
          "output_type": "stream",
          "name": "stdout",
          "text": [
            "DeepDriver initialized\n",
            "Team Name=molamola.python\n",
            "Exp Name=cat_dog_cnn_hpo_exp4\n",
            "Run Name=run-8\n",
            "Run URL=http://54.180.86.146:9111/experi/molamola.python/cat_dog_cnn_hpo_exp4/run-8/run/chart\n",
            "[('batch_size', 64), ('learning_rate', 0.0001), ('hidden_layer', 32), ('epoch', 10)]\n",
            "Found 1600 images belonging to 2 classes.\n",
            "Found 200 images belonging to 2 classes.\n",
            "Found 200 images belonging to 2 classes.\n",
            "Epoch 1/10\n",
            "25/25 - 6s - loss: 0.6967 - accuracy: 0.5088 - val_loss: 0.6885 - val_accuracy: 0.5729 - 6s/epoch - 257ms/step\n",
            "Epoch 2/10\n",
            "25/25 - 5s - loss: 0.6855 - accuracy: 0.5675 - val_loss: 0.6827 - val_accuracy: 0.5625 - 5s/epoch - 215ms/step\n",
            "Epoch 3/10\n",
            "25/25 - 5s - loss: 0.6714 - accuracy: 0.5850 - val_loss: 0.6708 - val_accuracy: 0.5729 - 5s/epoch - 219ms/step\n",
            "Epoch 4/10\n",
            "25/25 - 5s - loss: 0.6571 - accuracy: 0.6175 - val_loss: 0.6685 - val_accuracy: 0.5885 - 5s/epoch - 216ms/step\n",
            "Epoch 5/10\n",
            "25/25 - 5s - loss: 0.6373 - accuracy: 0.6606 - val_loss: 0.6813 - val_accuracy: 0.5573 - 5s/epoch - 217ms/step\n",
            "Epoch 6/10\n",
            "25/25 - 5s - loss: 0.6243 - accuracy: 0.6637 - val_loss: 0.6427 - val_accuracy: 0.5990 - 5s/epoch - 216ms/step\n",
            "Epoch 7/10\n",
            "25/25 - 5s - loss: 0.6019 - accuracy: 0.6988 - val_loss: 0.6342 - val_accuracy: 0.6302 - 5s/epoch - 219ms/step\n",
            "Epoch 8/10\n",
            "25/25 - 5s - loss: 0.5950 - accuracy: 0.6913 - val_loss: 0.6193 - val_accuracy: 0.6302 - 5s/epoch - 218ms/step\n",
            "Epoch 9/10\n",
            "25/25 - 5s - loss: 0.5755 - accuracy: 0.7100 - val_loss: 0.6581 - val_accuracy: 0.5938 - 5s/epoch - 216ms/step\n",
            "Epoch 10/10\n",
            "25/25 - 5s - loss: 0.5570 - accuracy: 0.7319 - val_loss: 0.6216 - val_accuracy: 0.6458 - 5s/epoch - 217ms/step\n",
            "4/4 [==============================] - 1s 131ms/step - loss: 0.6386 - accuracy: 0.6500\n",
            "{'loss': 0.6386473178863525, 'accuracy': 0.6499999761581421}\n"
          ]
        },
        {
          "output_type": "stream",
          "name": "stderr",
          "text": [
            "\u001b[32m[I 2023-01-12 07:51:07,374]\u001b[0m Trial 7 finished with value: 0.6499999761581421 and parameters: {'batch_size': 64, 'learning_rate': 0.0001, 'hidden_layer': 32, 'epoch': 10}. Best is trial 3 with value: 0.7049999833106995.\u001b[0m\n"
          ]
        },
        {
          "output_type": "stream",
          "name": "stdout",
          "text": [
            "DeepDriver initialized\n",
            "Team Name=molamola.python\n",
            "Exp Name=cat_dog_cnn_hpo_exp4\n",
            "Run Name=run-9\n",
            "Run URL=http://54.180.86.146:9111/experi/molamola.python/cat_dog_cnn_hpo_exp4/run-9/run/chart\n",
            "[('batch_size', 128), ('learning_rate', 1.0), ('hidden_layer', 64), ('epoch', 10)]\n",
            "Found 1600 images belonging to 2 classes.\n",
            "Found 200 images belonging to 2 classes.\n",
            "Found 200 images belonging to 2 classes.\n",
            "Epoch 1/10\n",
            "12/12 - 6s - loss: 41330098176.0000 - accuracy: 0.4898 - val_loss: 1603032.5000 - val_accuracy: 0.4766 - 6s/epoch - 532ms/step\n",
            "Epoch 2/10\n",
            "12/12 - 5s - loss: 201669.5938 - accuracy: 0.4878 - val_loss: 4185.8594 - val_accuracy: 0.4844 - 5s/epoch - 430ms/step\n",
            "Epoch 3/10\n",
            "12/12 - 5s - loss: 1564.4374 - accuracy: 0.5102 - val_loss: 3643.4443 - val_accuracy: 0.4766 - 5s/epoch - 434ms/step\n",
            "Epoch 4/10\n",
            "12/12 - 5s - loss: 708.3522 - accuracy: 0.5442 - val_loss: 2384.3811 - val_accuracy: 0.4688 - 5s/epoch - 430ms/step\n",
            "Epoch 5/10\n",
            "12/12 - 5s - loss: 294.0309 - accuracy: 0.5401 - val_loss: 1025.6267 - val_accuracy: 0.5312 - 5s/epoch - 433ms/step\n",
            "Epoch 6/10\n",
            "12/12 - 5s - loss: 221.3324 - accuracy: 0.5340 - val_loss: 1255.8409 - val_accuracy: 0.5703 - 5s/epoch - 437ms/step\n",
            "Epoch 7/10\n",
            "12/12 - 5s - loss: 235.3900 - accuracy: 0.5740 - val_loss: 1072.6747 - val_accuracy: 0.4844 - 5s/epoch - 432ms/step\n",
            "Epoch 8/10\n",
            "12/12 - 5s - loss: 57.9560 - accuracy: 0.5564 - val_loss: 4020.5554 - val_accuracy: 0.5156 - 5s/epoch - 431ms/step\n",
            "Epoch 9/10\n",
            "12/12 - 5s - loss: 1138.9390 - accuracy: 0.5245 - val_loss: 213.0659 - val_accuracy: 0.4609 - 5s/epoch - 434ms/step\n",
            "Epoch 10/10\n",
            "12/12 - 5s - loss: 55.9760 - accuracy: 0.5340 - val_loss: 151.6855 - val_accuracy: 0.4609 - 5s/epoch - 432ms/step\n",
            "2/2 [==============================] - 1s 202ms/step - loss: 68.4965 - accuracy: 0.5000\n",
            "{'loss': 68.49646759033203, 'accuracy': 0.5}\n"
          ]
        },
        {
          "output_type": "stream",
          "name": "stderr",
          "text": [
            "\u001b[32m[I 2023-01-12 07:52:34,458]\u001b[0m Trial 8 finished with value: 0.5 and parameters: {'batch_size': 128, 'learning_rate': 1.0, 'hidden_layer': 64, 'epoch': 10}. Best is trial 3 with value: 0.7049999833106995.\u001b[0m\n"
          ]
        },
        {
          "output_type": "stream",
          "name": "stdout",
          "text": [
            "DeepDriver initialized\n",
            "Team Name=molamola.python\n",
            "Exp Name=cat_dog_cnn_hpo_exp4\n",
            "Run Name=run-10\n",
            "Run URL=http://54.180.86.146:9111/experi/molamola.python/cat_dog_cnn_hpo_exp4/run-10/run/chart\n",
            "[('batch_size', 32), ('learning_rate', 0.001), ('hidden_layer', 64), ('epoch', 10)]\n",
            "Found 1600 images belonging to 2 classes.\n",
            "Found 200 images belonging to 2 classes.\n",
            "Found 200 images belonging to 2 classes.\n",
            "Epoch 1/10\n",
            "50/50 - 6s - loss: 0.7204 - accuracy: 0.5537 - val_loss: 0.6678 - val_accuracy: 0.5938 - 6s/epoch - 129ms/step\n",
            "Epoch 2/10\n",
            "50/50 - 6s - loss: 0.6457 - accuracy: 0.6381 - val_loss: 0.6188 - val_accuracy: 0.6354 - 6s/epoch - 110ms/step\n",
            "Epoch 3/10\n",
            "50/50 - 5s - loss: 0.5679 - accuracy: 0.7069 - val_loss: 0.5838 - val_accuracy: 0.6562 - 5s/epoch - 109ms/step\n",
            "Epoch 4/10\n",
            "50/50 - 6s - loss: 0.5183 - accuracy: 0.7387 - val_loss: 0.5678 - val_accuracy: 0.6823 - 6s/epoch - 112ms/step\n",
            "Epoch 5/10\n",
            "50/50 - 5s - loss: 0.4678 - accuracy: 0.7775 - val_loss: 0.5597 - val_accuracy: 0.6927 - 5s/epoch - 109ms/step\n",
            "Epoch 6/10\n",
            "50/50 - 6s - loss: 0.4209 - accuracy: 0.8037 - val_loss: 0.5636 - val_accuracy: 0.7292 - 6s/epoch - 110ms/step\n",
            "Epoch 7/10\n",
            "50/50 - 6s - loss: 0.3833 - accuracy: 0.8300 - val_loss: 0.5757 - val_accuracy: 0.7240 - 6s/epoch - 110ms/step\n",
            "Epoch 8/10\n",
            "50/50 - 5s - loss: 0.3289 - accuracy: 0.8581 - val_loss: 0.6699 - val_accuracy: 0.6667 - 5s/epoch - 110ms/step\n",
            "Epoch 9/10\n",
            "50/50 - 5s - loss: 0.2804 - accuracy: 0.8825 - val_loss: 0.6833 - val_accuracy: 0.6719 - 5s/epoch - 109ms/step\n",
            "Epoch 10/10\n",
            "50/50 - 5s - loss: 0.2157 - accuracy: 0.9081 - val_loss: 0.7451 - val_accuracy: 0.6771 - 5s/epoch - 108ms/step\n",
            "7/7 [==============================] - 1s 82ms/step - loss: 0.7821 - accuracy: 0.6850\n",
            "{'loss': 0.7821053266525269, 'accuracy': 0.6850000023841858}\n"
          ]
        },
        {
          "output_type": "stream",
          "name": "stderr",
          "text": [
            "\u001b[32m[I 2023-01-12 07:53:44,064]\u001b[0m Trial 9 finished with value: 0.6850000023841858 and parameters: {'batch_size': 32, 'learning_rate': 0.001, 'hidden_layer': 64, 'epoch': 10}. Best is trial 3 with value: 0.7049999833106995.\u001b[0m\n"
          ]
        },
        {
          "output_type": "execute_result",
          "data": {
            "text/plain": [
              "True"
            ]
          },
          "metadata": {},
          "execution_count": 105
        }
      ]
    },
    {
      "cell_type": "code",
      "source": [],
      "metadata": {
        "id": "dn_UkcTT2kvY"
      },
      "execution_count": null,
      "outputs": []
    }
  ]
}