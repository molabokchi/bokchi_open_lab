{
  "nbformat": 4,
  "nbformat_minor": 0,
  "metadata": {
    "colab": {
      "provenance": [],
      "include_colab_link": true
    },
    "kernelspec": {
      "name": "python3",
      "display_name": "Python 3"
    },
    "language_info": {
      "name": "python"
    },
    "accelerator": "GPU",
    "gpuClass": "standard"
  },
  "cells": [
    {
      "cell_type": "markdown",
      "metadata": {
        "id": "view-in-github",
        "colab_type": "text"
      },
      "source": [
        "<a href=\"https://colab.research.google.com/github/molabokchi/bokchi_open_lab/blob/main/demo_hpo_with_artifact.ipynb\" target=\"_parent\"><img src=\"https://colab.research.google.com/assets/colab-badge.svg\" alt=\"Open In Colab\"/></a>"
      ]
    },
    {
      "cell_type": "markdown",
      "source": [
        "# ![다운로드.png](data:image/png;base64,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) deepdriver hpo quickstart!"
      ],
      "metadata": {
        "id": "ccBiuOu0rtin"
      }
    },
    {
      "cell_type": "markdown",
      "source": [
        "welecome to deepdriver! 😀"
      ],
      "metadata": {
        "id": "ZGV9WnWBrvb_"
      }
    },
    {
      "cell_type": "markdown",
      "source": [
        "You can refer to the guide document.\n",
        "https://bokchi.gitbook.io/deepdriver-ce/"
      ],
      "metadata": {
        "id": "RuepMN3Yyuu9"
      }
    },
    {
      "cell_type": "markdown",
      "source": [
        "# 0. 💻 install deepdriver & requirement package for train"
      ],
      "metadata": {
        "id": "HBGoGa3yQ1TO"
      }
    },
    {
      "cell_type": "code",
      "source": [
        "pip install tensorflow"
      ],
      "metadata": {
        "colab": {
          "base_uri": "https://localhost:8080/"
        },
        "id": "IQnFbnHdSWLN",
        "outputId": "03742be6-631b-4755-f0b7-7f94e7faa1a8"
      },
      "execution_count": 1,
      "outputs": [
        {
          "output_type": "stream",
          "name": "stdout",
          "text": [
            "Looking in indexes: https://pypi.org/simple, https://us-python.pkg.dev/colab-wheels/public/simple/\n",
            "Requirement already satisfied: tensorflow in /usr/local/lib/python3.8/dist-packages (2.9.2)\n",
            "Requirement already satisfied: google-pasta>=0.1.1 in /usr/local/lib/python3.8/dist-packages (from tensorflow) (0.2.0)\n",
            "Requirement already satisfied: libclang>=13.0.0 in /usr/local/lib/python3.8/dist-packages (from tensorflow) (15.0.6.1)\n",
            "Requirement already satisfied: flatbuffers<2,>=1.12 in /usr/local/lib/python3.8/dist-packages (from tensorflow) (1.12)\n",
            "Requirement already satisfied: absl-py>=1.0.0 in /usr/local/lib/python3.8/dist-packages (from tensorflow) (1.3.0)\n",
            "Requirement already satisfied: astunparse>=1.6.0 in /usr/local/lib/python3.8/dist-packages (from tensorflow) (1.6.3)\n",
            "Requirement already satisfied: keras<2.10.0,>=2.9.0rc0 in /usr/local/lib/python3.8/dist-packages (from tensorflow) (2.9.0)\n",
            "Requirement already satisfied: six>=1.12.0 in /usr/local/lib/python3.8/dist-packages (from tensorflow) (1.15.0)\n",
            "Requirement already satisfied: wrapt>=1.11.0 in /usr/local/lib/python3.8/dist-packages (from tensorflow) (1.14.1)\n",
            "Requirement already satisfied: gast<=0.4.0,>=0.2.1 in /usr/local/lib/python3.8/dist-packages (from tensorflow) (0.4.0)\n",
            "Requirement already satisfied: protobuf<3.20,>=3.9.2 in /usr/local/lib/python3.8/dist-packages (from tensorflow) (3.19.6)\n",
            "Requirement already satisfied: tensorboard<2.10,>=2.9 in /usr/local/lib/python3.8/dist-packages (from tensorflow) (2.9.1)\n",
            "Requirement already satisfied: opt-einsum>=2.3.2 in /usr/local/lib/python3.8/dist-packages (from tensorflow) (3.3.0)\n",
            "Requirement already satisfied: grpcio<2.0,>=1.24.3 in /usr/local/lib/python3.8/dist-packages (from tensorflow) (1.51.1)\n",
            "Requirement already satisfied: termcolor>=1.1.0 in /usr/local/lib/python3.8/dist-packages (from tensorflow) (2.2.0)\n",
            "Requirement already satisfied: numpy>=1.20 in /usr/local/lib/python3.8/dist-packages (from tensorflow) (1.21.6)\n",
            "Requirement already satisfied: setuptools in /usr/local/lib/python3.8/dist-packages (from tensorflow) (57.4.0)\n",
            "Requirement already satisfied: keras-preprocessing>=1.1.1 in /usr/local/lib/python3.8/dist-packages (from tensorflow) (1.1.2)\n",
            "Requirement already satisfied: tensorflow-estimator<2.10.0,>=2.9.0rc0 in /usr/local/lib/python3.8/dist-packages (from tensorflow) (2.9.0)\n",
            "Requirement already satisfied: tensorflow-io-gcs-filesystem>=0.23.1 in /usr/local/lib/python3.8/dist-packages (from tensorflow) (0.29.0)\n",
            "Requirement already satisfied: h5py>=2.9.0 in /usr/local/lib/python3.8/dist-packages (from tensorflow) (3.1.0)\n",
            "Requirement already satisfied: typing-extensions>=3.6.6 in /usr/local/lib/python3.8/dist-packages (from tensorflow) (4.4.0)\n",
            "Requirement already satisfied: packaging in /usr/local/lib/python3.8/dist-packages (from tensorflow) (21.3)\n",
            "Requirement already satisfied: wheel<1.0,>=0.23.0 in /usr/local/lib/python3.8/dist-packages (from astunparse>=1.6.0->tensorflow) (0.38.4)\n",
            "Requirement already satisfied: requests<3,>=2.21.0 in /usr/local/lib/python3.8/dist-packages (from tensorboard<2.10,>=2.9->tensorflow) (2.25.1)\n",
            "Requirement already satisfied: tensorboard-data-server<0.7.0,>=0.6.0 in /usr/local/lib/python3.8/dist-packages (from tensorboard<2.10,>=2.9->tensorflow) (0.6.1)\n",
            "Requirement already satisfied: google-auth-oauthlib<0.5,>=0.4.1 in /usr/local/lib/python3.8/dist-packages (from tensorboard<2.10,>=2.9->tensorflow) (0.4.6)\n",
            "Requirement already satisfied: tensorboard-plugin-wit>=1.6.0 in /usr/local/lib/python3.8/dist-packages (from tensorboard<2.10,>=2.9->tensorflow) (1.8.1)\n",
            "Requirement already satisfied: werkzeug>=1.0.1 in /usr/local/lib/python3.8/dist-packages (from tensorboard<2.10,>=2.9->tensorflow) (1.0.1)\n",
            "Requirement already satisfied: google-auth<3,>=1.6.3 in /usr/local/lib/python3.8/dist-packages (from tensorboard<2.10,>=2.9->tensorflow) (2.16.0)\n",
            "Requirement already satisfied: markdown>=2.6.8 in /usr/local/lib/python3.8/dist-packages (from tensorboard<2.10,>=2.9->tensorflow) (3.4.1)\n",
            "Requirement already satisfied: pyparsing!=3.0.5,>=2.0.2 in /usr/local/lib/python3.8/dist-packages (from packaging->tensorflow) (3.0.9)\n",
            "Requirement already satisfied: cachetools<6.0,>=2.0.0 in /usr/local/lib/python3.8/dist-packages (from google-auth<3,>=1.6.3->tensorboard<2.10,>=2.9->tensorflow) (5.2.1)\n",
            "Requirement already satisfied: rsa<5,>=3.1.4 in /usr/local/lib/python3.8/dist-packages (from google-auth<3,>=1.6.3->tensorboard<2.10,>=2.9->tensorflow) (4.9)\n",
            "Requirement already satisfied: pyasn1-modules>=0.2.1 in /usr/local/lib/python3.8/dist-packages (from google-auth<3,>=1.6.3->tensorboard<2.10,>=2.9->tensorflow) (0.2.8)\n",
            "Requirement already satisfied: requests-oauthlib>=0.7.0 in /usr/local/lib/python3.8/dist-packages (from google-auth-oauthlib<0.5,>=0.4.1->tensorboard<2.10,>=2.9->tensorflow) (1.3.1)\n",
            "Requirement already satisfied: importlib-metadata>=4.4 in /usr/local/lib/python3.8/dist-packages (from markdown>=2.6.8->tensorboard<2.10,>=2.9->tensorflow) (6.0.0)\n",
            "Requirement already satisfied: idna<3,>=2.5 in /usr/local/lib/python3.8/dist-packages (from requests<3,>=2.21.0->tensorboard<2.10,>=2.9->tensorflow) (2.10)\n",
            "Requirement already satisfied: chardet<5,>=3.0.2 in /usr/local/lib/python3.8/dist-packages (from requests<3,>=2.21.0->tensorboard<2.10,>=2.9->tensorflow) (4.0.0)\n",
            "Requirement already satisfied: urllib3<1.27,>=1.21.1 in /usr/local/lib/python3.8/dist-packages (from requests<3,>=2.21.0->tensorboard<2.10,>=2.9->tensorflow) (1.24.3)\n",
            "Requirement already satisfied: certifi>=2017.4.17 in /usr/local/lib/python3.8/dist-packages (from requests<3,>=2.21.0->tensorboard<2.10,>=2.9->tensorflow) (2022.12.7)\n",
            "Requirement already satisfied: zipp>=0.5 in /usr/local/lib/python3.8/dist-packages (from importlib-metadata>=4.4->markdown>=2.6.8->tensorboard<2.10,>=2.9->tensorflow) (3.11.0)\n",
            "Requirement already satisfied: pyasn1<0.5.0,>=0.4.6 in /usr/local/lib/python3.8/dist-packages (from pyasn1-modules>=0.2.1->google-auth<3,>=1.6.3->tensorboard<2.10,>=2.9->tensorflow) (0.4.8)\n",
            "Requirement already satisfied: oauthlib>=3.0.0 in /usr/local/lib/python3.8/dist-packages (from requests-oauthlib>=0.7.0->google-auth-oauthlib<0.5,>=0.4.1->tensorboard<2.10,>=2.9->tensorflow) (3.2.2)\n"
          ]
        }
      ]
    },
    {
      "cell_type": "code",
      "source": [
        "pip install deepdriver==0.7.6"
      ],
      "metadata": {
        "id": "ep81qe8Cs3oZ",
        "outputId": "529d1600-39a7-4773-fd9a-0e57415bff64",
        "colab": {
          "base_uri": "https://localhost:8080/"
        }
      },
      "execution_count": 2,
      "outputs": [
        {
          "output_type": "stream",
          "name": "stdout",
          "text": [
            "Looking in indexes: https://pypi.org/simple, https://us-python.pkg.dev/colab-wheels/public/simple/\n",
            "Collecting deepdriver==0.7.6\n",
            "  Downloading deepdriver-0.7.6-py3-none-any.whl (40 kB)\n",
            "\u001b[2K     \u001b[90m━━━━━━━━━━━━━━━━━━━━━━━━━━━━━━━━━━━━━━━\u001b[0m \u001b[32m40.3/40.3 KB\u001b[0m \u001b[31m972.4 kB/s\u001b[0m eta \u001b[36m0:00:00\u001b[0m\n",
            "\u001b[?25hCollecting assertpy\n",
            "  Downloading assertpy-1.1.tar.gz (25 kB)\n",
            "  Preparing metadata (setup.py) ... \u001b[?25l\u001b[?25hdone\n",
            "Requirement already satisfied: plotly in /usr/local/lib/python3.8/dist-packages (from deepdriver==0.7.6) (5.5.0)\n",
            "Collecting grpcio-tools\n",
            "  Downloading grpcio_tools-1.51.1-cp38-cp38-manylinux_2_17_x86_64.manylinux2014_x86_64.whl (2.4 MB)\n",
            "\u001b[2K     \u001b[90m━━━━━━━━━━━━━━━━━━━━━━━━━━━━━━━━━━━━━━━━\u001b[0m \u001b[32m2.4/2.4 MB\u001b[0m \u001b[31m12.0 MB/s\u001b[0m eta \u001b[36m0:00:00\u001b[0m\n",
            "\u001b[?25hRequirement already satisfied: wheel in /usr/local/lib/python3.8/dist-packages (from deepdriver==0.7.6) (0.38.4)\n",
            "Collecting optuna\n",
            "  Downloading optuna-3.1.0-py3-none-any.whl (365 kB)\n",
            "\u001b[2K     \u001b[90m━━━━━━━━━━━━━━━━━━━━━━━━━━━━━━━━━━━━━━\u001b[0m \u001b[32m365.3/365.3 KB\u001b[0m \u001b[31m12.0 MB/s\u001b[0m eta \u001b[36m0:00:00\u001b[0m\n",
            "\u001b[?25hRequirement already satisfied: numpy in /usr/local/lib/python3.8/dist-packages (from deepdriver==0.7.6) (1.21.6)\n",
            "Requirement already satisfied: psutil in /usr/local/lib/python3.8/dist-packages (from deepdriver==0.7.6) (5.4.8)\n",
            "Requirement already satisfied: requests in /usr/local/lib/python3.8/dist-packages (from deepdriver==0.7.6) (2.25.1)\n",
            "Requirement already satisfied: pandas in /usr/local/lib/python3.8/dist-packages (from deepdriver==0.7.6) (1.3.5)\n",
            "Requirement already satisfied: Pillow in /usr/local/lib/python3.8/dist-packages (from deepdriver==0.7.6) (7.1.2)\n",
            "Requirement already satisfied: grpcio in /usr/local/lib/python3.8/dist-packages (from deepdriver==0.7.6) (1.51.1)\n",
            "Collecting pynvml\n",
            "  Downloading pynvml-11.4.1-py3-none-any.whl (46 kB)\n",
            "\u001b[2K     \u001b[90m━━━━━━━━━━━━━━━━━━━━━━━━━━━━━━━━━━━━━━━━\u001b[0m \u001b[32m47.0/47.0 KB\u001b[0m \u001b[31m2.1 MB/s\u001b[0m eta \u001b[36m0:00:00\u001b[0m\n",
            "\u001b[?25hRequirement already satisfied: psycopg2 in /usr/local/lib/python3.8/dist-packages (from deepdriver==0.7.6) (2.9.5)\n",
            "Requirement already satisfied: setuptools in /usr/local/lib/python3.8/dist-packages (from grpcio-tools->deepdriver==0.7.6) (57.4.0)\n",
            "Collecting protobuf<5.0dev,>=4.21.6\n",
            "  Downloading protobuf-4.21.12-cp37-abi3-manylinux2014_x86_64.whl (409 kB)\n",
            "\u001b[2K     \u001b[90m━━━━━━━━━━━━━━━━━━━━━━━━━━━━━━━━━━━━━━\u001b[0m \u001b[32m409.8/409.8 KB\u001b[0m \u001b[31m12.6 MB/s\u001b[0m eta \u001b[36m0:00:00\u001b[0m\n",
            "\u001b[?25hRequirement already satisfied: tqdm in /usr/local/lib/python3.8/dist-packages (from optuna->deepdriver==0.7.6) (4.64.1)\n",
            "Collecting cmaes>=0.9.1\n",
            "  Downloading cmaes-0.9.1-py3-none-any.whl (21 kB)\n",
            "Requirement already satisfied: PyYAML in /usr/local/lib/python3.8/dist-packages (from optuna->deepdriver==0.7.6) (6.0)\n",
            "Requirement already satisfied: packaging>=20.0 in /usr/local/lib/python3.8/dist-packages (from optuna->deepdriver==0.7.6) (21.3)\n",
            "Collecting alembic>=1.5.0\n",
            "  Downloading alembic-1.9.2-py3-none-any.whl (210 kB)\n",
            "\u001b[2K     \u001b[90m━━━━━━━━━━━━━━━━━━━━━━━━━━━━━━━━━━━━━━\u001b[0m \u001b[32m210.6/210.6 KB\u001b[0m \u001b[31m19.2 MB/s\u001b[0m eta \u001b[36m0:00:00\u001b[0m\n",
            "\u001b[?25hRequirement already satisfied: sqlalchemy>=1.3.0 in /usr/local/lib/python3.8/dist-packages (from optuna->deepdriver==0.7.6) (1.4.46)\n",
            "Collecting colorlog\n",
            "  Downloading colorlog-6.7.0-py2.py3-none-any.whl (11 kB)\n",
            "Requirement already satisfied: python-dateutil>=2.7.3 in /usr/local/lib/python3.8/dist-packages (from pandas->deepdriver==0.7.6) (2.8.2)\n",
            "Requirement already satisfied: pytz>=2017.3 in /usr/local/lib/python3.8/dist-packages (from pandas->deepdriver==0.7.6) (2022.7)\n",
            "Requirement already satisfied: tenacity>=6.2.0 in /usr/local/lib/python3.8/dist-packages (from plotly->deepdriver==0.7.6) (8.1.0)\n",
            "Requirement already satisfied: six in /usr/local/lib/python3.8/dist-packages (from plotly->deepdriver==0.7.6) (1.15.0)\n",
            "Requirement already satisfied: idna<3,>=2.5 in /usr/local/lib/python3.8/dist-packages (from requests->deepdriver==0.7.6) (2.10)\n",
            "Requirement already satisfied: chardet<5,>=3.0.2 in /usr/local/lib/python3.8/dist-packages (from requests->deepdriver==0.7.6) (4.0.0)\n",
            "Requirement already satisfied: certifi>=2017.4.17 in /usr/local/lib/python3.8/dist-packages (from requests->deepdriver==0.7.6) (2022.12.7)\n",
            "Requirement already satisfied: urllib3<1.27,>=1.21.1 in /usr/local/lib/python3.8/dist-packages (from requests->deepdriver==0.7.6) (1.24.3)\n",
            "Collecting Mako\n",
            "  Downloading Mako-1.2.4-py3-none-any.whl (78 kB)\n",
            "\u001b[2K     \u001b[90m━━━━━━━━━━━━━━━━━━━━━━━━━━━━━━━━━━━━━━━━\u001b[0m \u001b[32m78.7/78.7 KB\u001b[0m \u001b[31m7.8 MB/s\u001b[0m eta \u001b[36m0:00:00\u001b[0m\n",
            "\u001b[?25hRequirement already satisfied: importlib-resources in /usr/local/lib/python3.8/dist-packages (from alembic>=1.5.0->optuna->deepdriver==0.7.6) (5.10.2)\n",
            "Requirement already satisfied: importlib-metadata in /usr/local/lib/python3.8/dist-packages (from alembic>=1.5.0->optuna->deepdriver==0.7.6) (6.0.0)\n",
            "Requirement already satisfied: pyparsing!=3.0.5,>=2.0.2 in /usr/local/lib/python3.8/dist-packages (from packaging>=20.0->optuna->deepdriver==0.7.6) (3.0.9)\n",
            "Requirement already satisfied: greenlet!=0.4.17 in /usr/local/lib/python3.8/dist-packages (from sqlalchemy>=1.3.0->optuna->deepdriver==0.7.6) (2.0.1)\n",
            "Requirement already satisfied: zipp>=0.5 in /usr/local/lib/python3.8/dist-packages (from importlib-metadata->alembic>=1.5.0->optuna->deepdriver==0.7.6) (3.11.0)\n",
            "Requirement already satisfied: MarkupSafe>=0.9.2 in /usr/local/lib/python3.8/dist-packages (from Mako->alembic>=1.5.0->optuna->deepdriver==0.7.6) (2.0.1)\n",
            "Building wheels for collected packages: assertpy\n",
            "  Building wheel for assertpy (setup.py) ... \u001b[?25l\u001b[?25hdone\n",
            "  Created wheel for assertpy: filename=assertpy-1.1-py3-none-any.whl size=42917 sha256=2b36f486a20db962124889e15a71c91e9edd8fc886f78f12e568897542730080\n",
            "  Stored in directory: /root/.cache/pip/wheels/57/86/c9/1310be6ddfb540daa0bf1ac204526837aa0a8b0e79f32855ff\n",
            "Successfully built assertpy\n",
            "Installing collected packages: assertpy, pynvml, protobuf, Mako, colorlog, cmaes, grpcio-tools, alembic, optuna, deepdriver\n",
            "  Attempting uninstall: protobuf\n",
            "    Found existing installation: protobuf 3.19.6\n",
            "    Uninstalling protobuf-3.19.6:\n",
            "      Successfully uninstalled protobuf-3.19.6\n",
            "\u001b[31mERROR: pip's dependency resolver does not currently take into account all the packages that are installed. This behaviour is the source of the following dependency conflicts.\n",
            "tensorflow 2.9.2 requires protobuf<3.20,>=3.9.2, but you have protobuf 4.21.12 which is incompatible.\n",
            "tensorflow-metadata 1.12.0 requires protobuf<4,>=3.13, but you have protobuf 4.21.12 which is incompatible.\n",
            "tensorboard 2.9.1 requires protobuf<3.20,>=3.9.2, but you have protobuf 4.21.12 which is incompatible.\u001b[0m\u001b[31m\n",
            "\u001b[0mSuccessfully installed Mako-1.2.4 alembic-1.9.2 assertpy-1.1 cmaes-0.9.1 colorlog-6.7.0 deepdriver-0.7.6 grpcio-tools-1.51.1 optuna-3.1.0 protobuf-4.21.12 pynvml-11.4.1\n"
          ]
        }
      ]
    },
    {
      "cell_type": "code",
      "source": [
        "pip install protobuf==3.20.0"
      ],
      "metadata": {
        "colab": {
          "base_uri": "https://localhost:8080/"
        },
        "id": "zPlF7uZyT6LN",
        "outputId": "a7f9342b-c7c9-4232-9d8f-47456a27d7e0"
      },
      "execution_count": 3,
      "outputs": [
        {
          "output_type": "stream",
          "name": "stdout",
          "text": [
            "Looking in indexes: https://pypi.org/simple, https://us-python.pkg.dev/colab-wheels/public/simple/\n",
            "Collecting protobuf==3.20.0\n",
            "  Downloading protobuf-3.20.0-cp38-cp38-manylinux_2_5_x86_64.manylinux1_x86_64.whl (1.0 MB)\n",
            "\u001b[2K     \u001b[90m━━━━━━━━━━━━━━━━━━━━━━━━━━━━━━━━━━━━━━━━\u001b[0m \u001b[32m1.0/1.0 MB\u001b[0m \u001b[31m33.6 MB/s\u001b[0m eta \u001b[36m0:00:00\u001b[0m\n",
            "\u001b[?25hInstalling collected packages: protobuf\n",
            "  Attempting uninstall: protobuf\n",
            "    Found existing installation: protobuf 4.21.12\n",
            "    Uninstalling protobuf-4.21.12:\n",
            "      Successfully uninstalled protobuf-4.21.12\n",
            "\u001b[31mERROR: pip's dependency resolver does not currently take into account all the packages that are installed. This behaviour is the source of the following dependency conflicts.\n",
            "tensorflow 2.9.2 requires protobuf<3.20,>=3.9.2, but you have protobuf 3.20.0 which is incompatible.\n",
            "tensorboard 2.9.1 requires protobuf<3.20,>=3.9.2, but you have protobuf 3.20.0 which is incompatible.\n",
            "grpcio-tools 1.51.1 requires protobuf<5.0dev,>=4.21.6, but you have protobuf 3.20.0 which is incompatible.\n",
            "googleapis-common-protos 1.58.0 requires protobuf!=3.20.0,!=3.20.1,!=4.21.1,!=4.21.2,!=4.21.3,!=4.21.4,!=4.21.5,<5.0.0dev,>=3.19.5, but you have protobuf 3.20.0 which is incompatible.\n",
            "google-cloud-translate 3.8.4 requires protobuf!=3.20.0,!=3.20.1,!=4.21.0,!=4.21.1,!=4.21.2,!=4.21.3,!=4.21.4,!=4.21.5,<5.0.0dev,>=3.19.5, but you have protobuf 3.20.0 which is incompatible.\n",
            "google-cloud-language 2.6.1 requires protobuf!=3.20.0,!=3.20.1,!=4.21.0,!=4.21.1,!=4.21.2,!=4.21.3,!=4.21.4,!=4.21.5,<5.0.0dev,>=3.19.5, but you have protobuf 3.20.0 which is incompatible.\n",
            "google-cloud-firestore 2.7.3 requires protobuf!=3.20.0,!=3.20.1,!=4.21.0,!=4.21.1,!=4.21.2,!=4.21.3,!=4.21.4,!=4.21.5,<5.0.0dev,>=3.19.5, but you have protobuf 3.20.0 which is incompatible.\n",
            "google-cloud-datastore 2.11.1 requires protobuf!=3.20.0,!=3.20.1,!=4.21.0,!=4.21.1,!=4.21.2,!=4.21.3,!=4.21.4,!=4.21.5,<5.0.0dev,>=3.19.5, but you have protobuf 3.20.0 which is incompatible.\n",
            "google-cloud-bigquery 3.4.1 requires protobuf!=3.20.0,!=3.20.1,!=4.21.0,!=4.21.1,!=4.21.2,!=4.21.3,!=4.21.4,!=4.21.5,<5.0.0dev,>=3.19.5, but you have protobuf 3.20.0 which is incompatible.\n",
            "google-cloud-bigquery-storage 2.17.0 requires protobuf!=3.20.0,!=3.20.1,!=4.21.0,!=4.21.1,!=4.21.2,!=4.21.3,!=4.21.4,!=4.21.5,<5.0.0dev,>=3.19.5, but you have protobuf 3.20.0 which is incompatible.\n",
            "google-api-core 2.11.0 requires protobuf!=3.20.0,!=3.20.1,!=4.21.0,!=4.21.1,!=4.21.2,!=4.21.3,!=4.21.4,!=4.21.5,<5.0.0dev,>=3.19.5, but you have protobuf 3.20.0 which is incompatible.\u001b[0m\u001b[31m\n",
            "\u001b[0mSuccessfully installed protobuf-3.20.0\n"
          ]
        }
      ]
    },
    {
      "cell_type": "code",
      "source": [],
      "metadata": {
        "id": "bfcPYMuKmwab"
      },
      "execution_count": null,
      "outputs": []
    },
    {
      "cell_type": "markdown",
      "source": [
        "#1. ➕ import deepdriver & deeplearnig framework\n",
        "\n"
      ],
      "metadata": {
        "id": "XHyfUGRdRGJC"
      }
    },
    {
      "cell_type": "code",
      "source": [
        "import tensorflow as tf"
      ],
      "metadata": {
        "id": "t2G8rFYSMxe8"
      },
      "execution_count": 4,
      "outputs": []
    },
    {
      "cell_type": "code",
      "source": [
        "import deepdriver"
      ],
      "metadata": {
        "id": "nMIZhc0aye6k"
      },
      "execution_count": 5,
      "outputs": []
    },
    {
      "cell_type": "markdown",
      "source": [
        "#2. ⚙ deepdriver server setting"
      ],
      "metadata": {
        "id": "FG0DGtb2VhXU"
      }
    },
    {
      "cell_type": "code",
      "source": [
        "deepdriver.setting(http_host=\"54.180.86.146:9011\" ,grpc_host=\"54.180.86.146:19051\")"
      ],
      "metadata": {
        "id": "XDfF___IVcC2"
      },
      "execution_count": 6,
      "outputs": []
    },
    {
      "cell_type": "markdown",
      "source": [
        "#3. 🔌 log in to deepdriver"
      ],
      "metadata": {
        "id": "36Y_KWmfRYwQ"
      }
    },
    {
      "cell_type": "code",
      "source": [
        "deepdriver.login(key=\"ZmIyNWQxNGJkMzUxYTVjODQ2NjM5NTgzOTM0YTM2OGE2ZmJiY2M2MWMwOWQ0OWFkNjU2YzNkM2UxMjA0YTVkZg==\")"
      ],
      "metadata": {
        "id": "hF3GenoNsaBQ",
        "outputId": "91abc38f-63e0-4903-8ac3-c3537ebb9719",
        "colab": {
          "base_uri": "https://localhost:8080/"
        }
      },
      "execution_count": 7,
      "outputs": [
        {
          "output_type": "execute_result",
          "data": {
            "text/plain": [
              "True"
            ]
          },
          "metadata": {},
          "execution_count": 7
        }
      ]
    },
    {
      "cell_type": "markdown",
      "source": [
        "#4. ⌨ upload data & code ( if you upload aleady, skip)"
      ],
      "metadata": {
        "id": "R5Mb2C2docNz"
      }
    },
    {
      "cell_type": "code",
      "source": [
        "!wget --no-check-certificate https://raw.githubusercontent.com/molabokchi/bokchi_open_lab/main/main.py -O main.py"
      ],
      "metadata": {
        "colab": {
          "base_uri": "https://localhost:8080/"
        },
        "id": "C84yhBQ2UMuX",
        "outputId": "d7b4de25-9b7c-4493-e27b-83ee3e6917b4"
      },
      "execution_count": 8,
      "outputs": [
        {
          "output_type": "stream",
          "name": "stdout",
          "text": [
            "--2023-01-27 01:53:10--  https://raw.githubusercontent.com/molabokchi/bokchi_open_lab/main/main.py\n",
            "Resolving raw.githubusercontent.com (raw.githubusercontent.com)... 185.199.111.133, 185.199.109.133, 185.199.110.133, ...\n",
            "Connecting to raw.githubusercontent.com (raw.githubusercontent.com)|185.199.111.133|:443... connected.\n",
            "HTTP request sent, awaiting response... 200 OK\n",
            "Length: 3671 (3.6K) [text/plain]\n",
            "Saving to: ‘main.py’\n",
            "\n",
            "\rmain.py               0%[                    ]       0  --.-KB/s               \rmain.py             100%[===================>]   3.58K  --.-KB/s    in 0s      \n",
            "\n",
            "2023-01-27 01:53:10 (53.2 MB/s) - ‘main.py’ saved [3671/3671]\n",
            "\n"
          ]
        }
      ]
    },
    {
      "cell_type": "code",
      "source": [
        "deepdriver.init(exp_name=\"upload_data_code\")"
      ],
      "metadata": {
        "id": "Hl44wF5Wn3Ii",
        "outputId": "4a0fb551-06ae-4f1f-e848-6dc716517737",
        "colab": {
          "base_uri": "https://localhost:8080/"
        }
      },
      "execution_count": 9,
      "outputs": [
        {
          "output_type": "stream",
          "name": "stdout",
          "text": [
            "DeepDriver initialized\n",
            "Team Name=molamola.python\n",
            "Exp Name=upload_data_code\n",
            "Run Name=run-22\n",
            "Run URL=http://54.180.86.146:9111/experi/molamola.python/upload_data_code/run-22/run/chart\n"
          ]
        },
        {
          "output_type": "execute_result",
          "data": {
            "text/plain": [
              "<deepdriver.sdk.data_types.run.Run at 0x7eff0d11c130>"
            ]
          },
          "metadata": {},
          "execution_count": 9
        }
      ]
    },
    {
      "cell_type": "code",
      "source": [
        "deepdriver.upload_code(name=\"cnn_image_5\",type=\"CODE\",path=\"./\")"
      ],
      "metadata": {
        "id": "qTfhH_Gx5Mvr",
        "outputId": "5a1f881f-80de-4854-a4d5-6d1cf8e876fe",
        "colab": {
          "base_uri": "https://localhost:8080/"
        }
      },
      "execution_count": 10,
      "outputs": [
        {
          "output_type": "stream",
          "name": "stdout",
          "text": [
            "artifact is created!\n",
            "Uploading: [./main.py] |██████████████████████████████| [100.0%] [1/1]"
          ]
        }
      ]
    },
    {
      "cell_type": "code",
      "source": [
        "!wget --no-check-certificate \\\n",
        "https://storage.googleapis.com/mledu-datasets/cats_and_dogs_filtered.zip \\\n",
        "-O /tmp/cats_and_dogs_filtered.zip"
      ],
      "metadata": {
        "id": "YMzMv1F6qBs8",
        "outputId": "95c7c6cf-c43e-4061-f260-7c34cec26aed",
        "colab": {
          "base_uri": "https://localhost:8080/"
        }
      },
      "execution_count": null,
      "outputs": [
        {
          "output_type": "stream",
          "name": "stdout",
          "text": [
            "--2023-01-27 00:36:14--  https://storage.googleapis.com/mledu-datasets/cats_and_dogs_filtered.zip\n",
            "Resolving storage.googleapis.com (storage.googleapis.com)... 173.194.194.128, 173.194.196.128, 173.194.197.128, ...\n",
            "Connecting to storage.googleapis.com (storage.googleapis.com)|173.194.194.128|:443... connected.\n",
            "HTTP request sent, awaiting response... 200 OK\n",
            "Length: 68606236 (65M) [application/zip]\n",
            "Saving to: ‘/tmp/cats_and_dogs_filtered.zip’\n",
            "\n",
            "/tmp/cats_and_dogs_ 100%[===================>]  65.43M   184MB/s    in 0.4s    \n",
            "\n",
            "2023-01-27 00:36:14 (184 MB/s) - ‘/tmp/cats_and_dogs_filtered.zip’ saved [68606236/68606236]\n",
            "\n"
          ]
        }
      ]
    },
    {
      "cell_type": "code",
      "source": [
        "import os\n",
        "import zipfile\n",
        "import shutil\n",
        "\n",
        "train_dir = '/content/cat_dog/'\n",
        "if os.path.isdir(train_dir):\n",
        "  shutil.rmtree(train_dir)\n",
        "  os.mkdir(train_dir)\n",
        "else:\n",
        "  os.mkdir(train_dir)\n",
        "\n",
        "model_dir = '/content/model'\n",
        "\n",
        "if os.path.isdir(model_dir):\n",
        "  shutil.rmtree(model_dir)\n",
        "  os.mkdir(model_dir)\n",
        "else:\n",
        "  os.mkdir(model_dir)\n",
        "local_zip = '/tmp/cats_and_dogs_filtered.zip'\n",
        "data_dir ='/tmp/cats_and_dogs_filtered/train'\n",
        "data_doc_dir='/tmp/cats_and_dogs_filtered/train/dogs'\n",
        "data_cat_dir='/tmp/cats_and_dogs_filtered/train/cats'\n",
        "valid_dir ='/tmp/cats_and_dogs_filtered/validation'\n",
        "data_dog_valid_dir='/tmp/cats_and_dogs_filtered/validation/dogs'\n",
        "data_cat_valid_dir='/tmp/cats_and_dogs_filtered/validation/cats'\n",
        "zip_ref = zipfile.ZipFile(local_zip, 'r')\n",
        "\n",
        "zip_ref.extractall('/tmp')\n",
        "zip_ref.close()"
      ],
      "metadata": {
        "id": "H3GCfqYLqnMF"
      },
      "execution_count": null,
      "outputs": []
    },
    {
      "cell_type": "code",
      "source": [
        "# train용 폴더 생성\n",
        "train_set_dir = os.path.join(train_dir, 'train_set')\n",
        "os.mkdir(train_set_dir)\n",
        "train_dog_dir = os.path.join(train_set_dir, 'dog')\n",
        "os.mkdir(train_dog_dir)\n",
        "train_cat_dir = os.path.join(train_set_dir, 'cat')\n",
        "os.mkdir(train_cat_dir)\n",
        "# valid용 폴더 생성\n",
        "valid_set_dir = os.path.join(train_dir, 'valid_set')\n",
        "os.mkdir(valid_set_dir)\n",
        "valid_dog_dir = os.path.join(valid_set_dir, 'dog')\n",
        "os.mkdir(valid_dog_dir)\n",
        "valid_cat_dir = os.path.join(valid_set_dir, 'cat')\n",
        "os.mkdir(valid_cat_dir)\n",
        "# test용 폴더 생성\n",
        "test_set_dir = os.path.join(train_dir, 'test_set')\n",
        "os.mkdir(test_set_dir)\n",
        "test_dog_dir = os.path.join(test_set_dir, 'dog')\n",
        "os.mkdir(test_dog_dir)\n",
        "test_cat_dir = os.path.join(test_set_dir, 'cat')\n",
        "os.mkdir(test_cat_dir)"
      ],
      "metadata": {
        "id": "96f2QcacqptF"
      },
      "execution_count": null,
      "outputs": []
    },
    {
      "cell_type": "code",
      "source": [
        "# image file name list 생성\n",
        "import shutil\n",
        "total_data_count =1000\n",
        "train_data_count =int(total_data_count*0.8)\n",
        "test_data_count = int(total_data_count*0.1)\n",
        "valid_data_count =total_data_count - train_data_count -test_data_count\n",
        "dog_files = [f'dog.{i}.jpg' for i in range(total_data_count)]\n",
        "cat_files = [f'cat.{i}.jpg' for i in range(total_data_count)]\n",
        "\n",
        " \n",
        "# 각 폴더로 image 이동\n",
        "for file in dog_files[:train_data_count]:\n",
        "    src = os.path.join(data_doc_dir, file)\n",
        "    dst = os.path.join(train_dog_dir, file)\n",
        "    shutil.move(src, dst)\n",
        "    \n",
        "for file in dog_files[train_data_count:train_data_count+test_data_count]:\n",
        "    src = os.path.join(data_doc_dir, file)\n",
        "    dst = os.path.join(valid_dog_dir, file)\n",
        "    shutil.move(src, dst)\n",
        " \n",
        "for file in dog_files[train_data_count+test_data_count:total_data_count]:\n",
        "    src = os.path.join(data_doc_dir, file)\n",
        "    dst = os.path.join(test_dog_dir, file)\n",
        "    shutil.move(src, dst)\n",
        " \n",
        "for file in cat_files[:train_data_count]:\n",
        "    src = os.path.join(data_cat_dir, file)\n",
        "    dst = os.path.join(train_cat_dir, file)\n",
        "    shutil.move(src, dst)\n",
        "    \n",
        "for file in cat_files[train_data_count:train_data_count+test_data_count]:\n",
        "    src = os.path.join(data_cat_dir, file)\n",
        "    dst = os.path.join(valid_cat_dir, file)\n",
        "    shutil.move(src, dst)\n",
        " \n",
        "for file in cat_files[train_data_count+test_data_count:total_data_count]:\n",
        "    src = os.path.join(data_cat_dir, file)\n",
        "    dst = os.path.join(test_cat_dir, file)"
      ],
      "metadata": {
        "id": "jfUgp1olqtW3"
      },
      "execution_count": null,
      "outputs": []
    },
    {
      "cell_type": "code",
      "source": [
        "arti =deepdriver.Artifacts(name=\"cat_dog\",type=\"DATASET\")"
      ],
      "metadata": {
        "id": "OaxyQJYNqwSt"
      },
      "execution_count": null,
      "outputs": []
    },
    {
      "cell_type": "code",
      "source": [
        "arti.add(\"./cat_dog\")"
      ],
      "metadata": {
        "id": "n6wSWFGhq_07"
      },
      "execution_count": null,
      "outputs": []
    },
    {
      "cell_type": "code",
      "source": [
        "deepdriver.upload_artifact(arti)"
      ],
      "metadata": {
        "id": "a2-Vkpu4qG8X",
        "outputId": "2c029a47-01c7-41c2-ad45-4baeb12342af",
        "colab": {
          "base_uri": "https://localhost:8080/"
        }
      },
      "execution_count": null,
      "outputs": [
        {
          "output_type": "stream",
          "name": "stdout",
          "text": [
            "Uploading: [./cat_dog/test_set/dog/dog.920.jpg] |██████████████████████████████| [100.0%] [1900/1900]"
          ]
        },
        {
          "output_type": "execute_result",
          "data": {
            "text/plain": [
              "True"
            ]
          },
          "metadata": {},
          "execution_count": 24
        }
      ]
    },
    {
      "cell_type": "code",
      "source": [],
      "metadata": {
        "id": "4IkvhPhjxSs-"
      },
      "execution_count": null,
      "outputs": []
    },
    {
      "cell_type": "markdown",
      "source": [
        "#5. 🥼 create hpo"
      ],
      "metadata": {
        "id": "gWafO8QnRpc1"
      }
    },
    {
      "cell_type": "code",
      "source": [
        "experiment_name=\"cat_dog_cnn_hpo_with_artifact_exp5\""
      ],
      "metadata": {
        "id": "6dW_6K0Pq2xm"
      },
      "execution_count": 11,
      "outputs": []
    },
    {
      "cell_type": "code",
      "source": [
        "hpo_configuration = {\n",
        "    \"metric\": {\"name\": \"accuracy\", \"goal\": \"maximize\"},\n",
        "    \"method\": \"grid\",\n",
        "    \"parameters\": {\n",
        "        \"batch_size\": {\n",
        "            \"values\": [32,64,128]\n",
        "        },\n",
        "        \"learning_rate\": {\n",
        "            \"values\": [10e-2,10e-3,10e-4,10e-5]\n",
        "        },\n",
        "        \"hidden_layer\":{\n",
        "            \"values\": [32,64,128]\n",
        "        },\n",
        "        \"epoch\" :{\n",
        "            \"values\": [10]\n",
        "        }\n",
        "\n",
        "    }\n",
        "}"
      ],
      "metadata": {
        "id": "Mm23Iq3NXa7x"
      },
      "execution_count": 12,
      "outputs": []
    },
    {
      "cell_type": "code",
      "source": [
        "# experiment init & config hyperparam\n",
        "deepdriver.create_hpo(exp_name= experiment_name,hpo_config= hpo_configuration)"
      ],
      "metadata": {
        "id": "z93NrRBUsvDm",
        "outputId": "fe99840d-6158-490f-90a6-a8c5622b13f7",
        "colab": {
          "base_uri": "https://localhost:8080/"
        }
      },
      "execution_count": 13,
      "outputs": [
        {
          "output_type": "stream",
          "name": "stdout",
          "text": [
            "HPO initialized\n",
            "Team Name=molamola.python\n",
            "Exp Name=cat_dog_cnn_hpo_with_artifact_exp5\n",
            "Exp Url=/experi/molamola.python/cat_dog_cnn_hpo_with_artifact_exp5/exp/chart\n",
            "optuna study aleady exist !\n"
          ]
        },
        {
          "output_type": "execute_result",
          "data": {
            "text/plain": [
              "('success', 574)"
            ]
          },
          "metadata": {},
          "execution_count": 13
        }
      ]
    },
    {
      "cell_type": "markdown",
      "source": [
        "#5. 📚 train your code and send log"
      ],
      "metadata": {
        "id": "CNDciDDURuZ6"
      }
    },
    {
      "cell_type": "markdown",
      "source": [
        "make model"
      ],
      "metadata": {
        "id": "wbFA68eYps1D"
      }
    },
    {
      "cell_type": "code",
      "source": [
        "artifact={ \n",
        "   \"dataset\":{\n",
        "       \"exp_name\": \"upload_data_code\",\n",
        "        \"type\" : \"DATASET\", \n",
        "        \"name\" : \"cat_dog\", \n",
        "   }, \n",
        "    \"code\" :\n",
        "    { \n",
        "        \"exp_name\": \"upload_data_code\",\n",
        "        \"type\" : \"CODE\", \n",
        "        \"name\" : \"cnn_image_5\", \n",
        "        \"file\": \"main.py\", \n",
        "        \"fun\": \"train\"\n",
        "   }\n",
        "\n",
        "}\n"
      ],
      "metadata": {
        "id": "guYZyGrpuOQf"
      },
      "execution_count": 14,
      "outputs": []
    },
    {
      "cell_type": "code",
      "source": [
        " deepdriver.run_hpo(exp_name=experiment_name, artifact= artifact, count=10)"
      ],
      "metadata": {
        "colab": {
          "base_uri": "https://localhost:8080/"
        },
        "id": "f4GuWFXW1rHX",
        "outputId": "d7dca2c1-6719-4215-813d-c1dddfd5e00e"
      },
      "execution_count": 15,
      "outputs": [
        {
          "output_type": "stream",
          "name": "stdout",
          "text": [
            "artifact is got! \n",
            " artifact id :{441}\n",
            "Downloading: [./deepdriver/artifact/441/V3/valid_set/dog/dog.899.jpg] |██████████████████████████████| [100.0%] [1900/1900]artifact is got! \n",
            " artifact id :{496}\n",
            "Downloading: [./deepdriver/artifact/496/V1/main.py] |██████████████████████████████| [100.0%] [1/1]DeepDriver initialized\n",
            "Team Name=molamola.python\n",
            "Exp Name=cat_dog_cnn_hpo_with_artifact_exp5\n",
            "Run Name=run-2\n",
            "Run URL=http://54.180.86.146:9111/experi/molamola.python/cat_dog_cnn_hpo_with_artifact_exp5/run-2/run/chart\n",
            "[('dataset_path', './deepdriver/artifact/441/V3'), ('code_path', './deepdriver/artifact/496/V1'), ('batch_size', 32), ('learning_rate', 0.0001), ('hidden_layer', 128), ('epoch', 10)]\n"
          ]
        },
        {
          "output_type": "stream",
          "name": "stderr",
          "text": [
            "/usr/local/lib/python3.8/dist-packages/keras/optimizers/optimizer_v2/rmsprop.py:135: UserWarning: The `lr` argument is deprecated, use `learning_rate` instead.\n",
            "  super(RMSprop, self).__init__(name, **kwargs)\n"
          ]
        },
        {
          "output_type": "stream",
          "name": "stdout",
          "text": [
            "Found 1600 images belonging to 2 classes.\n",
            "Found 200 images belonging to 2 classes.\n",
            "Found 100 images belonging to 1 classes.\n",
            "Epoch 1/10\n",
            "50/50 - 15s - loss: 0.6824 - accuracy: 0.5562 - val_loss: 0.6687 - val_accuracy: 0.5052 - 15s/epoch - 291ms/step\n",
            "Epoch 2/10\n",
            "50/50 - 5s - loss: 0.6418 - accuracy: 0.6269 - val_loss: 0.6447 - val_accuracy: 0.6250 - 5s/epoch - 104ms/step\n",
            "Epoch 3/10\n",
            "50/50 - 5s - loss: 0.6223 - accuracy: 0.6675 - val_loss: 0.6215 - val_accuracy: 0.5990 - 5s/epoch - 102ms/step\n",
            "Epoch 4/10\n",
            "50/50 - 5s - loss: 0.5882 - accuracy: 0.6950 - val_loss: 0.7120 - val_accuracy: 0.5312 - 5s/epoch - 100ms/step\n",
            "Epoch 5/10\n",
            "50/50 - 5s - loss: 0.5650 - accuracy: 0.7013 - val_loss: 0.6043 - val_accuracy: 0.6250 - 5s/epoch - 102ms/step\n",
            "Epoch 6/10\n",
            "50/50 - 5s - loss: 0.5330 - accuracy: 0.7469 - val_loss: 0.5960 - val_accuracy: 0.6510 - 5s/epoch - 104ms/step\n",
            "Epoch 7/10\n",
            "50/50 - 5s - loss: 0.5115 - accuracy: 0.7600 - val_loss: 0.5772 - val_accuracy: 0.6823 - 5s/epoch - 102ms/step\n",
            "Epoch 8/10\n",
            "50/50 - 5s - loss: 0.4918 - accuracy: 0.7663 - val_loss: 0.5702 - val_accuracy: 0.6667 - 5s/epoch - 102ms/step\n",
            "Epoch 9/10\n",
            "50/50 - 5s - loss: 0.4651 - accuracy: 0.7931 - val_loss: 0.5824 - val_accuracy: 0.6458 - 5s/epoch - 102ms/step\n",
            "Epoch 10/10\n",
            "50/50 - 5s - loss: 0.4518 - accuracy: 0.7987 - val_loss: 0.6046 - val_accuracy: 0.6354 - 5s/epoch - 104ms/step\n",
            "4/4 [==============================] - 0s 97ms/step - loss: 1.6288 - accuracy: 0.1300\n",
            "{'loss': 1.6288490295410156, 'accuracy': 0.12999999523162842}\n"
          ]
        },
        {
          "output_type": "stream",
          "name": "stderr",
          "text": [
            "\u001b[32m[I 2023-01-27 02:04:26,078]\u001b[0m Trial 1 finished with value: 0.12999999523162842 and parameters: {'batch_size': 32, 'learning_rate': 0.0001, 'hidden_layer': 128, 'epoch': 10}. Best is trial 1 with value: 0.12999999523162842.\u001b[0m\n"
          ]
        },
        {
          "output_type": "stream",
          "name": "stdout",
          "text": [
            "DeepDriver initialized\n",
            "Team Name=molamola.python\n",
            "Exp Name=cat_dog_cnn_hpo_with_artifact_exp5\n",
            "Run Name=run-3\n",
            "Run URL=http://54.180.86.146:9111/experi/molamola.python/cat_dog_cnn_hpo_with_artifact_exp5/run-3/run/chart\n",
            "[('dataset_path', './deepdriver/artifact/441/V3'), ('code_path', './deepdriver/artifact/496/V1'), ('batch_size', 32), ('learning_rate', 0.0001), ('hidden_layer', 64), ('epoch', 10)]\n",
            "Found 1600 images belonging to 2 classes.\n",
            "Found 200 images belonging to 2 classes.\n",
            "Found 100 images belonging to 1 classes.\n",
            "Epoch 1/10\n",
            "50/50 - 6s - loss: 0.6912 - accuracy: 0.5350 - val_loss: 0.6826 - val_accuracy: 0.4948 - 6s/epoch - 116ms/step\n",
            "Epoch 2/10\n",
            "50/50 - 5s - loss: 0.6692 - accuracy: 0.5900 - val_loss: 0.7005 - val_accuracy: 0.5573 - 5s/epoch - 101ms/step\n",
            "Epoch 3/10\n",
            "50/50 - 5s - loss: 0.6545 - accuracy: 0.6250 - val_loss: 0.6687 - val_accuracy: 0.5260 - 5s/epoch - 100ms/step\n",
            "Epoch 4/10\n",
            "50/50 - 5s - loss: 0.6318 - accuracy: 0.6450 - val_loss: 0.6740 - val_accuracy: 0.5417 - 5s/epoch - 101ms/step\n",
            "Epoch 5/10\n",
            "50/50 - 5s - loss: 0.6205 - accuracy: 0.6544 - val_loss: 0.6320 - val_accuracy: 0.5990 - 5s/epoch - 100ms/step\n",
            "Epoch 6/10\n",
            "50/50 - 5s - loss: 0.5957 - accuracy: 0.6725 - val_loss: 0.6314 - val_accuracy: 0.5990 - 5s/epoch - 99ms/step\n",
            "Epoch 7/10\n",
            "50/50 - 5s - loss: 0.5742 - accuracy: 0.7056 - val_loss: 0.6146 - val_accuracy: 0.6094 - 5s/epoch - 99ms/step\n",
            "Epoch 8/10\n",
            "50/50 - 5s - loss: 0.5595 - accuracy: 0.7244 - val_loss: 0.6197 - val_accuracy: 0.6198 - 5s/epoch - 108ms/step\n",
            "Epoch 9/10\n",
            "50/50 - 5s - loss: 0.5366 - accuracy: 0.7262 - val_loss: 0.6069 - val_accuracy: 0.6094 - 5s/epoch - 99ms/step\n",
            "Epoch 10/10\n",
            "50/50 - 5s - loss: 0.5240 - accuracy: 0.7487 - val_loss: 0.5935 - val_accuracy: 0.6354 - 5s/epoch - 102ms/step\n",
            "4/4 [==============================] - 0s 62ms/step - loss: 0.8949 - accuracy: 0.4700\n",
            "{'loss': 0.8948575854301453, 'accuracy': 0.4699999988079071}\n"
          ]
        },
        {
          "output_type": "stream",
          "name": "stderr",
          "text": [
            "\u001b[32m[I 2023-01-27 02:05:46,887]\u001b[0m Trial 2 finished with value: 0.4699999988079071 and parameters: {'batch_size': 32, 'learning_rate': 0.0001, 'hidden_layer': 64, 'epoch': 10}. Best is trial 2 with value: 0.4699999988079071.\u001b[0m\n"
          ]
        },
        {
          "output_type": "stream",
          "name": "stdout",
          "text": [
            "DeepDriver initialized\n",
            "Team Name=molamola.python\n",
            "Exp Name=cat_dog_cnn_hpo_with_artifact_exp5\n",
            "Run Name=run-4\n",
            "Run URL=http://54.180.86.146:9111/experi/molamola.python/cat_dog_cnn_hpo_with_artifact_exp5/run-4/run/chart\n",
            "[('dataset_path', './deepdriver/artifact/441/V3'), ('code_path', './deepdriver/artifact/496/V1'), ('batch_size', 32), ('learning_rate', 0.001), ('hidden_layer', 64), ('epoch', 10)]\n",
            "Found 1600 images belonging to 2 classes.\n",
            "Found 200 images belonging to 2 classes.\n",
            "Found 100 images belonging to 1 classes.\n",
            "Epoch 1/10\n",
            "50/50 - 6s - loss: 0.7049 - accuracy: 0.5462 - val_loss: 0.6627 - val_accuracy: 0.6250 - 6s/epoch - 115ms/step\n",
            "Epoch 2/10\n",
            "50/50 - 5s - loss: 0.6501 - accuracy: 0.6294 - val_loss: 0.6731 - val_accuracy: 0.5312 - 5s/epoch - 99ms/step\n",
            "Epoch 3/10\n",
            "50/50 - 5s - loss: 0.5964 - accuracy: 0.6919 - val_loss: 0.5972 - val_accuracy: 0.6667 - 5s/epoch - 101ms/step\n",
            "Epoch 4/10\n",
            "50/50 - 5s - loss: 0.5358 - accuracy: 0.7344 - val_loss: 0.5524 - val_accuracy: 0.7292 - 5s/epoch - 98ms/step\n",
            "Epoch 5/10\n",
            "50/50 - 5s - loss: 0.5041 - accuracy: 0.7644 - val_loss: 0.5506 - val_accuracy: 0.7396 - 5s/epoch - 100ms/step\n",
            "Epoch 6/10\n",
            "50/50 - 5s - loss: 0.4431 - accuracy: 0.7900 - val_loss: 0.5721 - val_accuracy: 0.6979 - 5s/epoch - 105ms/step\n",
            "Epoch 7/10\n",
            "50/50 - 5s - loss: 0.3864 - accuracy: 0.8281 - val_loss: 0.5031 - val_accuracy: 0.7396 - 5s/epoch - 101ms/step\n",
            "Epoch 8/10\n",
            "50/50 - 5s - loss: 0.3494 - accuracy: 0.8487 - val_loss: 0.5336 - val_accuracy: 0.7344 - 5s/epoch - 99ms/step\n",
            "Epoch 9/10\n",
            "50/50 - 5s - loss: 0.2871 - accuracy: 0.8838 - val_loss: 0.6320 - val_accuracy: 0.7031 - 5s/epoch - 101ms/step\n",
            "Epoch 10/10\n",
            "50/50 - 5s - loss: 0.2490 - accuracy: 0.8950 - val_loss: 0.5793 - val_accuracy: 0.7240 - 5s/epoch - 102ms/step\n",
            "4/4 [==============================] - 0s 67ms/step - loss: 2.1098 - accuracy: 0.2400\n",
            "{'loss': 2.109781503677368, 'accuracy': 0.23999999463558197}\n"
          ]
        },
        {
          "output_type": "stream",
          "name": "stderr",
          "text": [
            "\u001b[32m[I 2023-01-27 02:07:02,563]\u001b[0m Trial 3 finished with value: 0.23999999463558197 and parameters: {'batch_size': 32, 'learning_rate': 0.001, 'hidden_layer': 64, 'epoch': 10}. Best is trial 2 with value: 0.4699999988079071.\u001b[0m\n"
          ]
        },
        {
          "output_type": "stream",
          "name": "stdout",
          "text": [
            "DeepDriver initialized\n",
            "Team Name=molamola.python\n",
            "Exp Name=cat_dog_cnn_hpo_with_artifact_exp5\n",
            "Run Name=run-5\n",
            "Run URL=http://54.180.86.146:9111/experi/molamola.python/cat_dog_cnn_hpo_with_artifact_exp5/run-5/run/chart\n",
            "[('dataset_path', './deepdriver/artifact/441/V3'), ('code_path', './deepdriver/artifact/496/V1'), ('batch_size', 128), ('learning_rate', 0.001), ('hidden_layer', 64), ('epoch', 10)]\n",
            "Found 1600 images belonging to 2 classes.\n",
            "Found 200 images belonging to 2 classes.\n",
            "Found 100 images belonging to 1 classes.\n",
            "Epoch 1/10\n",
            "12/12 - 7s - loss: 0.9015 - accuracy: 0.5020 - val_loss: 0.6913 - val_accuracy: 0.5000 - 7s/epoch - 543ms/step\n",
            "Epoch 2/10\n",
            "12/12 - 5s - loss: 0.6816 - accuracy: 0.5537 - val_loss: 0.6724 - val_accuracy: 0.5625 - 5s/epoch - 422ms/step\n",
            "Epoch 3/10\n",
            "12/12 - 5s - loss: 0.6693 - accuracy: 0.6175 - val_loss: 0.7663 - val_accuracy: 0.5234 - 5s/epoch - 393ms/step\n",
            "Epoch 4/10\n",
            "12/12 - 5s - loss: 0.6614 - accuracy: 0.6168 - val_loss: 0.6613 - val_accuracy: 0.5625 - 5s/epoch - 402ms/step\n",
            "Epoch 5/10\n",
            "12/12 - 5s - loss: 0.6544 - accuracy: 0.6168 - val_loss: 0.6361 - val_accuracy: 0.6484 - 5s/epoch - 421ms/step\n",
            "Epoch 6/10\n",
            "12/12 - 5s - loss: 0.6044 - accuracy: 0.6823 - val_loss: 0.5674 - val_accuracy: 0.7109 - 5s/epoch - 414ms/step\n",
            "Epoch 7/10\n",
            "12/12 - 5s - loss: 0.5683 - accuracy: 0.6902 - val_loss: 0.6451 - val_accuracy: 0.6562 - 5s/epoch - 399ms/step\n",
            "Epoch 8/10\n",
            "12/12 - 6s - loss: 0.6176 - accuracy: 0.6678 - val_loss: 0.5772 - val_accuracy: 0.6719 - 6s/epoch - 485ms/step\n",
            "Epoch 9/10\n",
            "12/12 - 5s - loss: 0.5482 - accuracy: 0.7296 - val_loss: 0.6128 - val_accuracy: 0.6641 - 5s/epoch - 403ms/step\n",
            "Epoch 10/10\n",
            "12/12 - 5s - loss: 0.5797 - accuracy: 0.7215 - val_loss: 0.6224 - val_accuracy: 0.6328 - 5s/epoch - 397ms/step\n",
            "1/1 [==============================] - 1s 588ms/step - loss: 0.5250 - accuracy: 0.8200\n",
            "{'loss': 0.5250062942504883, 'accuracy': 0.8199999928474426}\n"
          ]
        },
        {
          "output_type": "stream",
          "name": "stderr",
          "text": [
            "\u001b[32m[I 2023-01-27 02:08:29,098]\u001b[0m Trial 4 finished with value: 0.8199999928474426 and parameters: {'batch_size': 128, 'learning_rate': 0.001, 'hidden_layer': 64, 'epoch': 10}. Best is trial 4 with value: 0.8199999928474426.\u001b[0m\n"
          ]
        },
        {
          "output_type": "stream",
          "name": "stdout",
          "text": [
            "DeepDriver initialized\n",
            "Team Name=molamola.python\n",
            "Exp Name=cat_dog_cnn_hpo_with_artifact_exp5\n",
            "Run Name=run-6\n",
            "Run URL=http://54.180.86.146:9111/experi/molamola.python/cat_dog_cnn_hpo_with_artifact_exp5/run-6/run/chart\n",
            "[('dataset_path', './deepdriver/artifact/441/V3'), ('code_path', './deepdriver/artifact/496/V1'), ('batch_size', 128), ('learning_rate', 0.001), ('hidden_layer', 64), ('epoch', 10)]\n",
            "Found 1600 images belonging to 2 classes.\n",
            "Found 200 images belonging to 2 classes.\n",
            "Found 100 images belonging to 1 classes.\n",
            "Epoch 1/10\n",
            "12/12 - 6s - loss: 0.8755 - accuracy: 0.5115 - val_loss: 0.6867 - val_accuracy: 0.5312 - 6s/epoch - 480ms/step\n",
            "Epoch 2/10\n",
            "12/12 - 5s - loss: 0.6886 - accuracy: 0.5530 - val_loss: 0.6752 - val_accuracy: 0.6406 - 5s/epoch - 396ms/step\n",
            "Epoch 3/10\n",
            "12/12 - 5s - loss: 0.6762 - accuracy: 0.6012 - val_loss: 0.6925 - val_accuracy: 0.5234 - 5s/epoch - 396ms/step\n",
            "Epoch 4/10\n",
            "12/12 - 5s - loss: 0.6712 - accuracy: 0.6264 - val_loss: 0.6482 - val_accuracy: 0.6562 - 5s/epoch - 394ms/step\n",
            "Epoch 5/10\n",
            "12/12 - 5s - loss: 0.6353 - accuracy: 0.6461 - val_loss: 0.6321 - val_accuracy: 0.6641 - 5s/epoch - 397ms/step\n",
            "Epoch 6/10\n",
            "12/12 - 5s - loss: 0.6288 - accuracy: 0.6699 - val_loss: 0.6570 - val_accuracy: 0.6094 - 5s/epoch - 401ms/step\n",
            "Epoch 7/10\n",
            "12/12 - 5s - loss: 0.5768 - accuracy: 0.7038 - val_loss: 0.5897 - val_accuracy: 0.6641 - 5s/epoch - 392ms/step\n",
            "Epoch 8/10\n",
            "12/12 - 5s - loss: 0.5706 - accuracy: 0.6889 - val_loss: 0.6430 - val_accuracy: 0.6562 - 5s/epoch - 391ms/step\n",
            "Epoch 9/10\n",
            "12/12 - 5s - loss: 0.5655 - accuracy: 0.7283 - val_loss: 0.5514 - val_accuracy: 0.7422 - 5s/epoch - 397ms/step\n",
            "Epoch 10/10\n",
            "12/12 - 5s - loss: 0.4944 - accuracy: 0.7575 - val_loss: 0.6013 - val_accuracy: 0.6641 - 5s/epoch - 394ms/step\n",
            "1/1 [==============================] - 0s 295ms/step - loss: 1.1705 - accuracy: 0.2100\n",
            "{'loss': 1.1704716682434082, 'accuracy': 0.20999999344348907}\n"
          ]
        },
        {
          "output_type": "stream",
          "name": "stderr",
          "text": [
            "\u001b[32m[I 2023-01-27 02:09:49,735]\u001b[0m Trial 5 finished with value: 0.20999999344348907 and parameters: {'batch_size': 128, 'learning_rate': 0.001, 'hidden_layer': 64, 'epoch': 10}. Best is trial 4 with value: 0.8199999928474426.\u001b[0m\n"
          ]
        },
        {
          "output_type": "stream",
          "name": "stdout",
          "text": [
            "DeepDriver initialized\n",
            "Team Name=molamola.python\n",
            "Exp Name=cat_dog_cnn_hpo_with_artifact_exp5\n",
            "Run Name=run-7\n",
            "Run URL=http://54.180.86.146:9111/experi/molamola.python/cat_dog_cnn_hpo_with_artifact_exp5/run-7/run/chart\n",
            "[('dataset_path', './deepdriver/artifact/441/V3'), ('code_path', './deepdriver/artifact/496/V1'), ('batch_size', 64), ('learning_rate', 0.0001), ('hidden_layer', 32), ('epoch', 10)]\n",
            "Found 1600 images belonging to 2 classes.\n",
            "Found 200 images belonging to 2 classes.\n",
            "Found 100 images belonging to 1 classes.\n",
            "Epoch 1/10\n",
            "25/25 - 6s - loss: 0.6939 - accuracy: 0.5113 - val_loss: 0.6897 - val_accuracy: 0.4948 - 6s/epoch - 230ms/step\n",
            "Epoch 2/10\n",
            "25/25 - 5s - loss: 0.6822 - accuracy: 0.5519 - val_loss: 0.7034 - val_accuracy: 0.4948 - 5s/epoch - 194ms/step\n",
            "Epoch 3/10\n",
            "25/25 - 5s - loss: 0.6681 - accuracy: 0.5813 - val_loss: 0.6705 - val_accuracy: 0.5573 - 5s/epoch - 196ms/step\n",
            "Epoch 4/10\n",
            "25/25 - 5s - loss: 0.6598 - accuracy: 0.5975 - val_loss: 0.6728 - val_accuracy: 0.5885 - 5s/epoch - 197ms/step\n",
            "Epoch 5/10\n",
            "25/25 - 5s - loss: 0.6413 - accuracy: 0.6300 - val_loss: 0.7279 - val_accuracy: 0.5104 - 5s/epoch - 200ms/step\n",
            "Epoch 6/10\n",
            "25/25 - 5s - loss: 0.6339 - accuracy: 0.6413 - val_loss: 0.6547 - val_accuracy: 0.5990 - 5s/epoch - 200ms/step\n",
            "Epoch 7/10\n",
            "25/25 - 5s - loss: 0.6216 - accuracy: 0.6575 - val_loss: 0.6520 - val_accuracy: 0.5990 - 5s/epoch - 197ms/step\n",
            "Epoch 8/10\n",
            "25/25 - 6s - loss: 0.6125 - accuracy: 0.6706 - val_loss: 0.6654 - val_accuracy: 0.5625 - 6s/epoch - 237ms/step\n",
            "Epoch 9/10\n",
            "25/25 - 5s - loss: 0.6015 - accuracy: 0.6787 - val_loss: 0.6378 - val_accuracy: 0.6250 - 5s/epoch - 197ms/step\n",
            "Epoch 10/10\n",
            "25/25 - 5s - loss: 0.5876 - accuracy: 0.6856 - val_loss: 0.6373 - val_accuracy: 0.6146 - 5s/epoch - 195ms/step\n",
            "2/2 [==============================] - 0s 240ms/step - loss: 0.9258 - accuracy: 0.3400\n",
            "{'loss': 0.9258349537849426, 'accuracy': 0.3400000035762787}\n"
          ]
        },
        {
          "output_type": "stream",
          "name": "stderr",
          "text": [
            "\u001b[32m[I 2023-01-27 02:11:06,075]\u001b[0m Trial 6 finished with value: 0.3400000035762787 and parameters: {'batch_size': 64, 'learning_rate': 0.0001, 'hidden_layer': 32, 'epoch': 10}. Best is trial 4 with value: 0.8199999928474426.\u001b[0m\n"
          ]
        },
        {
          "output_type": "stream",
          "name": "stdout",
          "text": [
            "DeepDriver initialized\n",
            "Team Name=molamola.python\n",
            "Exp Name=cat_dog_cnn_hpo_with_artifact_exp5\n",
            "Run Name=run-8\n",
            "Run URL=http://54.180.86.146:9111/experi/molamola.python/cat_dog_cnn_hpo_with_artifact_exp5/run-8/run/chart\n",
            "[('dataset_path', './deepdriver/artifact/441/V3'), ('code_path', './deepdriver/artifact/496/V1'), ('batch_size', 128), ('learning_rate', 0.001), ('hidden_layer', 32), ('epoch', 10)]\n",
            "Found 1600 images belonging to 2 classes.\n",
            "Found 200 images belonging to 2 classes.\n",
            "Found 100 images belonging to 1 classes.\n",
            "Epoch 1/10\n",
            "12/12 - 6s - loss: 0.8299 - accuracy: 0.5136 - val_loss: 0.7073 - val_accuracy: 0.5156 - 6s/epoch - 483ms/step\n",
            "Epoch 2/10\n",
            "12/12 - 5s - loss: 0.6924 - accuracy: 0.5605 - val_loss: 0.7244 - val_accuracy: 0.5000 - 5s/epoch - 404ms/step\n",
            "Epoch 3/10\n",
            "12/12 - 5s - loss: 0.6931 - accuracy: 0.5890 - val_loss: 0.6869 - val_accuracy: 0.6094 - 5s/epoch - 390ms/step\n",
            "Epoch 4/10\n",
            "12/12 - 5s - loss: 0.6681 - accuracy: 0.6073 - val_loss: 0.6845 - val_accuracy: 0.5078 - 5s/epoch - 397ms/step\n",
            "Epoch 5/10\n",
            "12/12 - 5s - loss: 0.6862 - accuracy: 0.6168 - val_loss: 0.6802 - val_accuracy: 0.5469 - 5s/epoch - 397ms/step\n",
            "Epoch 6/10\n",
            "12/12 - 5s - loss: 0.6481 - accuracy: 0.6399 - val_loss: 0.6590 - val_accuracy: 0.5703 - 5s/epoch - 396ms/step\n",
            "Epoch 7/10\n",
            "12/12 - 5s - loss: 0.6364 - accuracy: 0.6841 - val_loss: 0.6306 - val_accuracy: 0.6719 - 5s/epoch - 395ms/step\n",
            "Epoch 8/10\n",
            "12/12 - 5s - loss: 0.5990 - accuracy: 0.6726 - val_loss: 0.6170 - val_accuracy: 0.6328 - 5s/epoch - 402ms/step\n",
            "Epoch 9/10\n",
            "12/12 - 5s - loss: 0.6304 - accuracy: 0.6889 - val_loss: 0.7936 - val_accuracy: 0.5625 - 5s/epoch - 391ms/step\n",
            "Epoch 10/10\n",
            "12/12 - 5s - loss: 0.5727 - accuracy: 0.6970 - val_loss: 0.6112 - val_accuracy: 0.6172 - 5s/epoch - 398ms/step\n",
            "1/1 [==============================] - 0s 284ms/step - loss: 1.2163 - accuracy: 0.2300\n",
            "{'loss': 1.2163208723068237, 'accuracy': 0.23000000417232513}\n"
          ]
        },
        {
          "output_type": "stream",
          "name": "stderr",
          "text": [
            "\u001b[32m[I 2023-01-27 02:12:26,484]\u001b[0m Trial 7 finished with value: 0.23000000417232513 and parameters: {'batch_size': 128, 'learning_rate': 0.001, 'hidden_layer': 32, 'epoch': 10}. Best is trial 4 with value: 0.8199999928474426.\u001b[0m\n"
          ]
        },
        {
          "output_type": "stream",
          "name": "stdout",
          "text": [
            "DeepDriver initialized\n",
            "Team Name=molamola.python\n",
            "Exp Name=cat_dog_cnn_hpo_with_artifact_exp5\n",
            "Run Name=run-9\n",
            "Run URL=http://54.180.86.146:9111/experi/molamola.python/cat_dog_cnn_hpo_with_artifact_exp5/run-9/run/chart\n",
            "[('dataset_path', './deepdriver/artifact/441/V3'), ('code_path', './deepdriver/artifact/496/V1'), ('batch_size', 128), ('learning_rate', 0.1), ('hidden_layer', 128), ('epoch', 10)]\n",
            "Found 1600 images belonging to 2 classes.\n",
            "Found 200 images belonging to 2 classes.\n",
            "Found 100 images belonging to 1 classes.\n",
            "Epoch 1/10\n",
            "12/12 - 6s - loss: 803862.0000 - accuracy: 0.5136 - val_loss: 1.0699 - val_accuracy: 0.5234 - 6s/epoch - 492ms/step\n",
            "Epoch 2/10\n",
            "12/12 - 5s - loss: 0.8892 - accuracy: 0.5611 - val_loss: 0.7170 - val_accuracy: 0.5781 - 5s/epoch - 394ms/step\n",
            "Epoch 3/10\n",
            "12/12 - 5s - loss: 0.6598 - accuracy: 0.6121 - val_loss: 1.0731 - val_accuracy: 0.4688 - 5s/epoch - 394ms/step\n",
            "Epoch 4/10\n",
            "12/12 - 5s - loss: 0.6214 - accuracy: 0.6216 - val_loss: 0.9373 - val_accuracy: 0.4766 - 5s/epoch - 403ms/step\n",
            "Epoch 5/10\n",
            "12/12 - 5s - loss: 0.6270 - accuracy: 0.6243 - val_loss: 0.7569 - val_accuracy: 0.6016 - 5s/epoch - 409ms/step\n",
            "Epoch 6/10\n",
            "12/12 - 5s - loss: 0.6517 - accuracy: 0.6264 - val_loss: 0.9016 - val_accuracy: 0.5078 - 5s/epoch - 403ms/step\n",
            "Epoch 7/10\n",
            "12/12 - 5s - loss: 0.7052 - accuracy: 0.5598 - val_loss: 0.7948 - val_accuracy: 0.5078 - 5s/epoch - 403ms/step\n",
            "Epoch 8/10\n",
            "12/12 - 5s - loss: 0.7075 - accuracy: 0.5183 - val_loss: 1.1051 - val_accuracy: 0.5000 - 5s/epoch - 397ms/step\n",
            "Epoch 9/10\n",
            "12/12 - 6s - loss: 0.7438 - accuracy: 0.5163 - val_loss: 0.7061 - val_accuracy: 0.4844 - 6s/epoch - 468ms/step\n",
            "Epoch 10/10\n",
            "12/12 - 5s - loss: 0.7303 - accuracy: 0.4701 - val_loss: 0.7579 - val_accuracy: 0.4844 - 5s/epoch - 405ms/step\n",
            "1/1 [==============================] - 0s 296ms/step - loss: 0.4118 - accuracy: 1.0000\n",
            "{'loss': 0.4117652475833893, 'accuracy': 1.0}\n"
          ]
        },
        {
          "output_type": "stream",
          "name": "stderr",
          "text": [
            "\u001b[32m[I 2023-01-27 02:13:47,599]\u001b[0m Trial 8 finished with value: 1.0 and parameters: {'batch_size': 128, 'learning_rate': 0.1, 'hidden_layer': 128, 'epoch': 10}. Best is trial 8 with value: 1.0.\u001b[0m\n"
          ]
        },
        {
          "output_type": "stream",
          "name": "stdout",
          "text": [
            "DeepDriver initialized\n",
            "Team Name=molamola.python\n",
            "Exp Name=cat_dog_cnn_hpo_with_artifact_exp5\n",
            "Run Name=run-10\n",
            "Run URL=http://54.180.86.146:9111/experi/molamola.python/cat_dog_cnn_hpo_with_artifact_exp5/run-10/run/chart\n",
            "[('dataset_path', './deepdriver/artifact/441/V3'), ('code_path', './deepdriver/artifact/496/V1'), ('batch_size', 32), ('learning_rate', 0.01), ('hidden_layer', 128), ('epoch', 10)]\n",
            "Found 1600 images belonging to 2 classes.\n",
            "Found 200 images belonging to 2 classes.\n",
            "Found 100 images belonging to 1 classes.\n",
            "Epoch 1/10\n",
            "50/50 - 6s - loss: 4.8422 - accuracy: 0.5263 - val_loss: 0.6929 - val_accuracy: 0.5052 - 6s/epoch - 118ms/step\n",
            "Epoch 2/10\n",
            "50/50 - 5s - loss: 0.8796 - accuracy: 0.5144 - val_loss: 0.7237 - val_accuracy: 0.4948 - 5s/epoch - 100ms/step\n",
            "Epoch 3/10\n",
            "50/50 - 5s - loss: 0.6982 - accuracy: 0.5125 - val_loss: 0.6942 - val_accuracy: 0.5104 - 5s/epoch - 101ms/step\n",
            "Epoch 4/10\n",
            "50/50 - 5s - loss: 0.7217 - accuracy: 0.5081 - val_loss: 0.6915 - val_accuracy: 0.5521 - 5s/epoch - 99ms/step\n",
            "Epoch 5/10\n",
            "50/50 - 5s - loss: 0.7014 - accuracy: 0.5219 - val_loss: 0.6965 - val_accuracy: 0.4844 - 5s/epoch - 102ms/step\n",
            "Epoch 6/10\n",
            "50/50 - 5s - loss: 0.6965 - accuracy: 0.5419 - val_loss: 0.6811 - val_accuracy: 0.5260 - 5s/epoch - 100ms/step\n",
            "Epoch 7/10\n",
            "50/50 - 5s - loss: 0.6965 - accuracy: 0.5469 - val_loss: 0.6912 - val_accuracy: 0.5104 - 5s/epoch - 100ms/step\n",
            "Epoch 8/10\n",
            "50/50 - 5s - loss: 0.7182 - accuracy: 0.5587 - val_loss: 0.6589 - val_accuracy: 0.5938 - 5s/epoch - 102ms/step\n",
            "Epoch 9/10\n",
            "50/50 - 5s - loss: 0.6562 - accuracy: 0.6094 - val_loss: 0.6634 - val_accuracy: 0.6250 - 5s/epoch - 99ms/step\n",
            "Epoch 10/10\n",
            "50/50 - 5s - loss: 0.6605 - accuracy: 0.6681 - val_loss: 0.8219 - val_accuracy: 0.5833 - 5s/epoch - 99ms/step\n",
            "4/4 [==============================] - 0s 58ms/step - loss: 1.2197 - accuracy: 0.5000\n",
            "{'loss': 1.219712734222412, 'accuracy': 0.5}\n"
          ]
        },
        {
          "output_type": "stream",
          "name": "stderr",
          "text": [
            "\u001b[32m[I 2023-01-27 02:15:03,133]\u001b[0m Trial 9 finished with value: 0.5 and parameters: {'batch_size': 32, 'learning_rate': 0.01, 'hidden_layer': 128, 'epoch': 10}. Best is trial 8 with value: 1.0.\u001b[0m\n"
          ]
        },
        {
          "output_type": "stream",
          "name": "stdout",
          "text": [
            "DeepDriver initialized\n",
            "Team Name=molamola.python\n",
            "Exp Name=cat_dog_cnn_hpo_with_artifact_exp5\n",
            "Run Name=run-11\n",
            "Run URL=http://54.180.86.146:9111/experi/molamola.python/cat_dog_cnn_hpo_with_artifact_exp5/run-11/run/chart\n",
            "[('dataset_path', './deepdriver/artifact/441/V3'), ('code_path', './deepdriver/artifact/496/V1'), ('batch_size', 64), ('learning_rate', 0.0001), ('hidden_layer', 64), ('epoch', 10)]\n",
            "Found 1600 images belonging to 2 classes.\n",
            "Found 200 images belonging to 2 classes.\n",
            "Found 100 images belonging to 1 classes.\n",
            "Epoch 1/10\n",
            "25/25 - 6s - loss: 0.7120 - accuracy: 0.5231 - val_loss: 0.6918 - val_accuracy: 0.5000 - 6s/epoch - 232ms/step\n",
            "Epoch 2/10\n",
            "25/25 - 5s - loss: 0.6816 - accuracy: 0.5744 - val_loss: 0.6704 - val_accuracy: 0.5938 - 5s/epoch - 197ms/step\n",
            "Epoch 3/10\n",
            "25/25 - 5s - loss: 0.6635 - accuracy: 0.6094 - val_loss: 0.6663 - val_accuracy: 0.5833 - 5s/epoch - 196ms/step\n",
            "Epoch 4/10\n",
            "25/25 - 5s - loss: 0.6485 - accuracy: 0.6175 - val_loss: 0.6775 - val_accuracy: 0.5521 - 5s/epoch - 198ms/step\n",
            "Epoch 5/10\n",
            "25/25 - 5s - loss: 0.6349 - accuracy: 0.6363 - val_loss: 0.6499 - val_accuracy: 0.6146 - 5s/epoch - 203ms/step\n",
            "Epoch 6/10\n",
            "25/25 - 5s - loss: 0.6234 - accuracy: 0.6506 - val_loss: 0.6611 - val_accuracy: 0.6042 - 5s/epoch - 199ms/step\n",
            "Epoch 7/10\n",
            "25/25 - 5s - loss: 0.5978 - accuracy: 0.7081 - val_loss: 0.6533 - val_accuracy: 0.6198 - 5s/epoch - 198ms/step\n",
            "Epoch 8/10\n",
            "25/25 - 5s - loss: 0.5834 - accuracy: 0.7044 - val_loss: 0.6272 - val_accuracy: 0.5938 - 5s/epoch - 198ms/step\n",
            "Epoch 9/10\n",
            "25/25 - 5s - loss: 0.5649 - accuracy: 0.7294 - val_loss: 0.6332 - val_accuracy: 0.6042 - 5s/epoch - 195ms/step\n",
            "Epoch 10/10\n",
            "25/25 - 6s - loss: 0.5616 - accuracy: 0.7188 - val_loss: 0.6213 - val_accuracy: 0.6198 - 6s/epoch - 232ms/step\n",
            "2/2 [==============================] - 0s 101ms/step - loss: 1.0216 - accuracy: 0.2600\n",
            "{'loss': 1.0215520858764648, 'accuracy': 0.25999999046325684}\n"
          ]
        },
        {
          "output_type": "stream",
          "name": "stderr",
          "text": [
            "\u001b[32m[I 2023-01-27 02:16:23,668]\u001b[0m Trial 10 finished with value: 0.25999999046325684 and parameters: {'batch_size': 64, 'learning_rate': 0.0001, 'hidden_layer': 64, 'epoch': 10}. Best is trial 8 with value: 1.0.\u001b[0m\n"
          ]
        },
        {
          "output_type": "execute_result",
          "data": {
            "text/plain": [
              "True"
            ]
          },
          "metadata": {},
          "execution_count": 15
        }
      ]
    },
    {
      "cell_type": "code",
      "source": [],
      "metadata": {
        "id": "dn_UkcTT2kvY"
      },
      "execution_count": null,
      "outputs": []
    }
  ]
}