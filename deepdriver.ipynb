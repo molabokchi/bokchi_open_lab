{
  "nbformat": 4,
  "nbformat_minor": 0,
  "metadata": {
    "colab": {
      "provenance": [],
      "collapsed_sections": [],
      "authorship_tag": "ABX9TyNftWUoj3HCmFkLnjkvXuq2",
      "include_colab_link": true
    },
    "kernelspec": {
      "name": "python3",
      "display_name": "Python 3"
    },
    "language_info": {
      "name": "python"
    }
  },
  "cells": [
    {
      "cell_type": "markdown",
      "metadata": {
        "id": "view-in-github",
        "colab_type": "text"
      },
      "source": [
        "<a href=\"https://colab.research.google.com/github/molabokchi/bokchi_open_lab/blob/main/deepdriver.ipynb\" target=\"_parent\"><img src=\"https://colab.research.google.com/assets/colab-badge.svg\" alt=\"Open In Colab\"/></a>"
      ]
    },
    {
      "cell_type": "markdown",
      "source": [
        "**deepdriver 체험하기**"
      ],
      "metadata": {
        "id": "ccBiuOu0rtin"
      }
    },
    {
      "cell_type": "markdown",
      "source": [],
      "metadata": {
        "id": "ZGV9WnWBrvb_"
      }
    },
    {
      "cell_type": "code",
      "source": [
        "pip install deepdriver"
      ],
      "metadata": {
        "id": "ep81qe8Cs3oZ",
        "outputId": "07d38e4c-4e36-4025-9745-c1987ef2e038",
        "colab": {
          "base_uri": "https://localhost:8080/"
        }
      },
      "execution_count": 1,
      "outputs": [
        {
          "output_type": "stream",
          "name": "stdout",
          "text": [
            "Looking in indexes: https://pypi.org/simple, https://us-python.pkg.dev/colab-wheels/public/simple/\n",
            "Collecting deepdriver\n",
            "  Downloading deepdriver-0.0.1-py3-none-any.whl (2.9 kB)\n",
            "Installing collected packages: deepdriver\n",
            "Successfully installed deepdriver-0.0.1\n"
          ]
        }
      ]
    },
    {
      "cell_type": "code",
      "source": [
        "from deepdriver import deepdriver"
      ],
      "metadata": {
        "id": "scJNgIKwsX_i"
      },
      "execution_count": 4,
      "outputs": []
    },
    {
      "cell_type": "code",
      "source": [
        "deepdriver.login()"
      ],
      "metadata": {
        "id": "hF3GenoNsaBQ",
        "outputId": "9ebd4de7-5516-443b-9197-d08e3e12d285",
        "colab": {
          "base_uri": "https://localhost:8080/"
        }
      },
      "execution_count": 5,
      "outputs": [
        {
          "output_type": "stream",
          "name": "stdout",
          "text": [
            "login success\n"
          ]
        },
        {
          "output_type": "execute_result",
          "data": {
            "text/plain": [
              "True"
            ]
          },
          "metadata": {},
          "execution_count": 5
        }
      ]
    },
    {
      "cell_type": "code",
      "source": [
        "epoch =10"
      ],
      "metadata": {
        "id": "DTesRmDMsp29"
      },
      "execution_count": 6,
      "outputs": []
    },
    {
      "cell_type": "code",
      "source": [
        "# experiment init & config hyperparam\n",
        "deepdriver.init(project= \"my-bokchi-project\", \n",
        "                config={ 'epoch': epoch, 'batch_size': 64, 'hidden_layer':128})"
      ],
      "metadata": {
        "id": "z93NrRBUsvDm",
        "outputId": "3a94c7fb-555e-49d5-aceb-437e77941594",
        "colab": {
          "base_uri": "https://localhost:8080/"
        }
      },
      "execution_count": 7,
      "outputs": [
        {
          "output_type": "stream",
          "name": "stdout",
          "text": [
            "my-bokchi-project\n"
          ]
        }
      ]
    },
    {
      "cell_type": "code",
      "source": [
        "# train code ... \n",
        "accuracy = [ 0.1*i for i in range(epoch) ] \n",
        "train_loss = [ ( 0.1*i) for i in range(epoch-1, -1, -1) ] "
      ],
      "metadata": {
        "id": "JAJliSOasttF"
      },
      "execution_count": 8,
      "outputs": []
    },
    {
      "cell_type": "code",
      "source": [
        "for i in range(epoch):\n",
        "    # send train log\n",
        "    deepdriver.log({'acc': accuracy[i], 'loss': train_loss[i]})"
      ],
      "metadata": {
        "id": "xu0cqS5JsyUb"
      },
      "execution_count": 9,
      "outputs": []
    },
    {
      "cell_type": "code",
      "source": [
        "# show train result & link to deepdriver dashboard page    \n",
        "deepdriver.result()"
      ],
      "metadata": {
        "id": "bQN24JZ5s0Aa",
        "outputId": "30f72e41-b6e2-4bfc-8a7f-a0c6bdc116e0",
        "colab": {
          "base_uri": "https://localhost:8080/"
        }
      },
      "execution_count": 10,
      "outputs": [
        {
          "output_type": "stream",
          "name": "stdout",
          "text": [
            "show result...\n",
            "\t hyper param\n",
            "\t\t epoch 10\n",
            "\t\t batch_size 64\n",
            "\t\t hidden_layer 128\n",
            "\t train log\n",
            "\t\t acc [0.0, 0.1, 0.2, 0.3, 0.4, 0.5, 0.6, 0.7, 0.8, 0.9]\n",
            "\t\t loss [0.9, 0.8, 0.7, 0.6, 0.5, 0.4, 0.3, 0.2, 0.1, 0.0]\n",
            "\t cost\n",
            "\t\ttime       gpu type   gpu count  cost      \n",
            "\t\t1.2 hour   T4         2          0.24 USD  \n",
            "\t dashboad link\n",
            "\t\t https://deepdriver.bokchi.com/my-bokchi-project/0\n"
          ]
        },
        {
          "output_type": "execute_result",
          "data": {
            "text/plain": [
              "True"
            ]
          },
          "metadata": {},
          "execution_count": 10
        }
      ]
    },
    {
      "cell_type": "code",
      "source": [
        "# finish experiment\n",
        "deepdriver.finish()"
      ],
      "metadata": {
        "id": "EM3BKiqzs1TX",
        "outputId": "92d835ed-21a0-401f-b7e1-71eef9fcc9de",
        "colab": {
          "base_uri": "https://localhost:8080/"
        }
      },
      "execution_count": 11,
      "outputs": [
        {
          "output_type": "stream",
          "name": "stdout",
          "text": [
            "finish logging...\n"
          ]
        },
        {
          "output_type": "execute_result",
          "data": {
            "text/plain": [
              "True"
            ]
          },
          "metadata": {},
          "execution_count": 11
        }
      ]
    },
    {
      "cell_type": "code",
      "source": [],
      "metadata": {
        "id": "_emMxW65OCGH"
      },
      "execution_count": null,
      "outputs": []
    }
  ]
}